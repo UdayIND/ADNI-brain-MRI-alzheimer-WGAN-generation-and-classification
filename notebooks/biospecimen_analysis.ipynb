{
 "cells": [
  {
   "cell_type": "code",
   "execution_count": 1,
   "metadata": {},
   "outputs": [],
   "source": [
    "import pandas as pd\n",
    "import re\n",
    "import numpy as np\n",
    "import matplotlib.pyplot as plt\n",
    "import seaborn as sns\n",
    "import os\n",
    "\n",
    "from IPython.display import Image"
   ]
  },
  {
   "attachments": {},
   "cell_type": "markdown",
   "metadata": {},
   "source": [
    "# Import subjects"
   ]
  },
  {
   "cell_type": "code",
   "execution_count": 2,
   "metadata": {},
   "outputs": [],
   "source": [
    "def get_subject_number(subject_code):\n",
    "    return str(int(subject_code.split(\"_\")[-1]))\n",
    "\n",
    "def get_diag_value(file_name):\n",
    "    if file_name.endswith(\"_ad.txt\"):\n",
    "        return \"AD\"\n",
    "    elif file_name.endswith(\"_nor.txt\"):\n",
    "        return \"CN\"\n",
    "    elif file_name.endswith(\"_mci.txt\"):\n",
    "        return \"MCI\"\n",
    "    else:\n",
    "        return None\n",
    "    \n",
    "data = []\n",
    "\n",
    "folder_path = \"..\\\\adni-images-Full-resized160x192\\\\metadata\"\n",
    "for file_name in os.listdir(folder_path):\n",
    "    if file_name.endswith(\"new.txt\"):\n",
    "        continue\n",
    "    if file_name.endswith(\".txt\"):\n",
    "        file_path = os.path.join(folder_path, file_name)\n",
    "        diag = get_diag_value(file_name)\n",
    "        \n",
    "        with open(file_path, \"r\") as file:\n",
    "            for line in file:\n",
    "                subj = line.strip()\n",
    "                subj_number = get_subject_number(subj)\n",
    "                data.append((subj, subj_number, diag))\n",
    "                \n",
    "df = pd.DataFrame(data, columns=[\"subj\", \"RID\", \"diag\"])"
   ]
  },
  {
   "cell_type": "code",
   "execution_count": 3,
   "metadata": {},
   "outputs": [
    {
     "data": {
      "text/plain": [
       "subj    object\n",
       "RID     object\n",
       "diag    object\n",
       "dtype: object"
      ]
     },
     "execution_count": 3,
     "metadata": {},
     "output_type": "execute_result"
    }
   ],
   "source": [
    "df.dtypes"
   ]
  },
  {
   "cell_type": "code",
   "execution_count": 4,
   "metadata": {},
   "outputs": [
    {
     "name": "stdout",
     "output_type": "stream",
     "text": [
      "MCI    317\n",
      "CN     179\n",
      "AD     152\n",
      "Name: diag, dtype: int64\n"
     ]
    }
   ],
   "source": [
    "print(df[\"diag\"].value_counts())"
   ]
  },
  {
   "attachments": {},
   "cell_type": "markdown",
   "metadata": {},
   "source": [
    "# TAU"
   ]
  },
  {
   "attachments": {},
   "cell_type": "markdown",
   "metadata": {},
   "source": [
    "Importo le misurazioni delle misurazioni pg/Ml di phosporilated-tau-181 in plasma dei soggetti da diversi studi:\n",
    "- https://adni.bitbucket.io/reference/blennowplasmatau.html\n",
    "- https://adni.bitbucket.io/reference/ugotptau181.html\n",
    "- del terzo non abbiamo file che spiegano"
   ]
  },
  {
   "cell_type": "code",
   "execution_count": 39,
   "metadata": {},
   "outputs": [],
   "source": [
    "folder_path  = \"..\\\\adni-images-Full-resized160x192\\\\biospecimen\\\\\"\n",
    "\n",
    "# Importa il primo file CSV\n",
    "file_path1 = os.path.join(folder_path, \"tau_plasma_BLENNOWPLASMATAU_10Jun2023.csv\")\n",
    "df1 = pd.read_csv(file_path1, usecols=[\"RID\", \"PLASMATAU\"], dtype={\"RID\": object, \"PLASMATAU\": float})\n",
    "df1.loc[df1[\"PLASMATAU\"] == -4, \"PLASMATAU\"] = float(\"nan\")\n",
    "\n",
    "# Importa il secondo file CSV\n",
    "file_path2 = os.path.join(folder_path, \"tau_plasma_FNIH_PLASMA_PTAU181_PROJECT_10Jun2023.csv\")\n",
    "df2 = pd.read_csv(file_path2, usecols=[\"RID\", \"PTAU_181\"], dtype={\"RID\": object, \"PTAU_181\": float})\n",
    "df2.loc[df2[\"PTAU_181\"] == -4, \"PTAU_181\"] = float(\"nan\")\n",
    "df2.rename(columns={\"PTAU_181\": \"PLASMATAU\"}, inplace=True)\n",
    "\n",
    "# Importa il terzo file CSV\n",
    "file_path3 = os.path.join(folder_path, \"tau_plasma_UGOTPTAU181_06_18_20_10Jun2023.csv\")\n",
    "df3 = pd.read_csv(file_path3, usecols=[\"RID\", \"PLASMAPTAU181\"], dtype={\"RID\": object, \"PLASMAPTAU181\": float})\n",
    "df3.loc[df3[\"PLASMAPTAU181\"] == -4, \"PLASMAPTAU181\"] = float(\"nan\")\n",
    "df3.rename(columns={\"PLASMAPTAU181\": \"PLASMATAU\"}, inplace=True)"
   ]
  },
  {
   "cell_type": "code",
   "execution_count": 40,
   "metadata": {},
   "outputs": [],
   "source": [
    "df_tau = pd.concat([df1, df2, df3], ignore_index=True)"
   ]
  },
  {
   "cell_type": "code",
   "execution_count": 58,
   "metadata": {},
   "outputs": [],
   "source": [
    "df_tau = df1"
   ]
  },
  {
   "cell_type": "code",
   "execution_count": 59,
   "metadata": {},
   "outputs": [
    {
     "data": {
      "text/html": [
       "<div>\n",
       "<style scoped>\n",
       "    .dataframe tbody tr th:only-of-type {\n",
       "        vertical-align: middle;\n",
       "    }\n",
       "\n",
       "    .dataframe tbody tr th {\n",
       "        vertical-align: top;\n",
       "    }\n",
       "\n",
       "    .dataframe thead th {\n",
       "        text-align: right;\n",
       "    }\n",
       "</style>\n",
       "<table border=\"1\" class=\"dataframe\">\n",
       "  <thead>\n",
       "    <tr style=\"text-align: right;\">\n",
       "      <th></th>\n",
       "      <th>RID</th>\n",
       "      <th>PLASMATAU</th>\n",
       "    </tr>\n",
       "  </thead>\n",
       "  <tbody>\n",
       "    <tr>\n",
       "      <th>0</th>\n",
       "      <td>2</td>\n",
       "      <td>2.41</td>\n",
       "    </tr>\n",
       "    <tr>\n",
       "      <th>1</th>\n",
       "      <td>3</td>\n",
       "      <td>3.84</td>\n",
       "    </tr>\n",
       "    <tr>\n",
       "      <th>2</th>\n",
       "      <td>4</td>\n",
       "      <td>3.76</td>\n",
       "    </tr>\n",
       "    <tr>\n",
       "      <th>3</th>\n",
       "      <td>5</td>\n",
       "      <td>3.81</td>\n",
       "    </tr>\n",
       "    <tr>\n",
       "      <th>4</th>\n",
       "      <td>6</td>\n",
       "      <td>2.86</td>\n",
       "    </tr>\n",
       "  </tbody>\n",
       "</table>\n",
       "</div>"
      ],
      "text/plain": [
       "  RID  PLASMATAU\n",
       "0   2       2.41\n",
       "1   3       3.84\n",
       "2   4       3.76\n",
       "3   5       3.81\n",
       "4   6       2.86"
      ]
     },
     "execution_count": 59,
     "metadata": {},
     "output_type": "execute_result"
    }
   ],
   "source": [
    "df_tau.head()"
   ]
  },
  {
   "cell_type": "code",
   "execution_count": 60,
   "metadata": {},
   "outputs": [
    {
     "data": {
      "text/plain": [
       "581"
      ]
     },
     "execution_count": 60,
     "metadata": {},
     "output_type": "execute_result"
    }
   ],
   "source": [
    "len(df_tau)"
   ]
  },
  {
   "cell_type": "code",
   "execution_count": 61,
   "metadata": {},
   "outputs": [
    {
     "data": {
      "text/plain": [
       "581"
      ]
     },
     "execution_count": 61,
     "metadata": {},
     "output_type": "execute_result"
    }
   ],
   "source": [
    "len(df_tau[\"RID\"].value_counts())"
   ]
  },
  {
   "attachments": {},
   "cell_type": "markdown",
   "metadata": {},
   "source": [
    "## Merging with users"
   ]
  },
  {
   "cell_type": "code",
   "execution_count": 62,
   "metadata": {},
   "outputs": [],
   "source": [
    "df_tau_merged = df.merge(df_tau, on=\"RID\", how=\"inner\")\n"
   ]
  },
  {
   "cell_type": "code",
   "execution_count": 63,
   "metadata": {},
   "outputs": [
    {
     "name": "stdout",
     "output_type": "stream",
     "text": [
      "938     1\n",
      "21      1\n",
      "899     1\n",
      "883     1\n",
      "97      1\n",
      "       ..\n",
      "1152    1\n",
      "1137    1\n",
      "1024    1\n",
      "852     1\n",
      "86      1\n",
      "Name: RID, Length: 442, dtype: int64\n",
      "442\n",
      "442\n"
     ]
    }
   ],
   "source": [
    "rid_counts = df_tau_merged[\"RID\"].value_counts()\n",
    "print(rid_counts)\n",
    "print(len(rid_counts))\n",
    "print(sum(rid_counts))\n"
   ]
  },
  {
   "cell_type": "code",
   "execution_count": 64,
   "metadata": {},
   "outputs": [
    {
     "name": "stdout",
     "output_type": "stream",
     "text": [
      "MCI    150\n",
      "CN     148\n",
      "AD     144\n",
      "Name: diag, dtype: int64\n"
     ]
    }
   ],
   "source": [
    "print(df_tau_merged[\"diag\"].value_counts())"
   ]
  },
  {
   "cell_type": "code",
   "execution_count": 65,
   "metadata": {},
   "outputs": [
    {
     "data": {
      "text/html": [
       "<div>\n",
       "<style scoped>\n",
       "    .dataframe tbody tr th:only-of-type {\n",
       "        vertical-align: middle;\n",
       "    }\n",
       "\n",
       "    .dataframe tbody tr th {\n",
       "        vertical-align: top;\n",
       "    }\n",
       "\n",
       "    .dataframe thead th {\n",
       "        text-align: right;\n",
       "    }\n",
       "</style>\n",
       "<table border=\"1\" class=\"dataframe\">\n",
       "  <thead>\n",
       "    <tr style=\"text-align: right;\">\n",
       "      <th></th>\n",
       "      <th>subj</th>\n",
       "      <th>RID</th>\n",
       "      <th>diag</th>\n",
       "      <th>PLASMATAU</th>\n",
       "    </tr>\n",
       "  </thead>\n",
       "  <tbody>\n",
       "    <tr>\n",
       "      <th>0</th>\n",
       "      <td>002_S_0938</td>\n",
       "      <td>938</td>\n",
       "      <td>AD</td>\n",
       "      <td>2.64</td>\n",
       "    </tr>\n",
       "    <tr>\n",
       "      <th>1</th>\n",
       "      <td>005_S_0221</td>\n",
       "      <td>221</td>\n",
       "      <td>AD</td>\n",
       "      <td>1.74</td>\n",
       "    </tr>\n",
       "    <tr>\n",
       "      <th>2</th>\n",
       "      <td>011_S_0010</td>\n",
       "      <td>10</td>\n",
       "      <td>AD</td>\n",
       "      <td>2.74</td>\n",
       "    </tr>\n",
       "    <tr>\n",
       "      <th>3</th>\n",
       "      <td>023_S_1289</td>\n",
       "      <td>1289</td>\n",
       "      <td>AD</td>\n",
       "      <td>4.58</td>\n",
       "    </tr>\n",
       "    <tr>\n",
       "      <th>4</th>\n",
       "      <td>027_S_0850</td>\n",
       "      <td>850</td>\n",
       "      <td>AD</td>\n",
       "      <td>4.37</td>\n",
       "    </tr>\n",
       "  </tbody>\n",
       "</table>\n",
       "</div>"
      ],
      "text/plain": [
       "         subj   RID diag  PLASMATAU\n",
       "0  002_S_0938   938   AD       2.64\n",
       "1  005_S_0221   221   AD       1.74\n",
       "2  011_S_0010    10   AD       2.74\n",
       "3  023_S_1289  1289   AD       4.58\n",
       "4  027_S_0850   850   AD       4.37"
      ]
     },
     "execution_count": 65,
     "metadata": {},
     "output_type": "execute_result"
    }
   ],
   "source": [
    "df_tau_merged.head()"
   ]
  },
  {
   "attachments": {},
   "cell_type": "markdown",
   "metadata": {},
   "source": [
    "Raggruppa per soggetto"
   ]
  },
  {
   "cell_type": "code",
   "execution_count": 66,
   "metadata": {},
   "outputs": [],
   "source": [
    "df_tau_merged_grouped = df_tau_merged.groupby(['RID', 'diag']).agg({'PLASMATAU': 'mean'}).reset_index()"
   ]
  },
  {
   "cell_type": "code",
   "execution_count": 67,
   "metadata": {},
   "outputs": [
    {
     "data": {
      "text/html": [
       "<div>\n",
       "<style scoped>\n",
       "    .dataframe tbody tr th:only-of-type {\n",
       "        vertical-align: middle;\n",
       "    }\n",
       "\n",
       "    .dataframe tbody tr th {\n",
       "        vertical-align: top;\n",
       "    }\n",
       "\n",
       "    .dataframe thead th {\n",
       "        text-align: right;\n",
       "    }\n",
       "</style>\n",
       "<table border=\"1\" class=\"dataframe\">\n",
       "  <thead>\n",
       "    <tr style=\"text-align: right;\">\n",
       "      <th></th>\n",
       "      <th>RID</th>\n",
       "      <th>diag</th>\n",
       "      <th>PLASMATAU</th>\n",
       "    </tr>\n",
       "  </thead>\n",
       "  <tbody>\n",
       "    <tr>\n",
       "      <th>0</th>\n",
       "      <td>10</td>\n",
       "      <td>AD</td>\n",
       "      <td>2.74</td>\n",
       "    </tr>\n",
       "    <tr>\n",
       "      <th>1</th>\n",
       "      <td>1001</td>\n",
       "      <td>AD</td>\n",
       "      <td>4.16</td>\n",
       "    </tr>\n",
       "    <tr>\n",
       "      <th>2</th>\n",
       "      <td>1002</td>\n",
       "      <td>CN</td>\n",
       "      <td>2.15</td>\n",
       "    </tr>\n",
       "    <tr>\n",
       "      <th>3</th>\n",
       "      <td>101</td>\n",
       "      <td>MCI</td>\n",
       "      <td>1.83</td>\n",
       "    </tr>\n",
       "    <tr>\n",
       "      <th>4</th>\n",
       "      <td>1010</td>\n",
       "      <td>MCI</td>\n",
       "      <td>2.83</td>\n",
       "    </tr>\n",
       "  </tbody>\n",
       "</table>\n",
       "</div>"
      ],
      "text/plain": [
       "    RID diag  PLASMATAU\n",
       "0    10   AD       2.74\n",
       "1  1001   AD       4.16\n",
       "2  1002   CN       2.15\n",
       "3   101  MCI       1.83\n",
       "4  1010  MCI       2.83"
      ]
     },
     "execution_count": 67,
     "metadata": {},
     "output_type": "execute_result"
    }
   ],
   "source": [
    "df_tau_merged_grouped.head()"
   ]
  },
  {
   "cell_type": "code",
   "execution_count": 68,
   "metadata": {},
   "outputs": [
    {
     "name": "stdout",
     "output_type": "stream",
     "text": [
      "MCI    150\n",
      "CN     148\n",
      "AD     144\n",
      "Name: diag, dtype: int64\n"
     ]
    }
   ],
   "source": [
    "print(df_tau_merged_grouped[\"diag\"].value_counts())"
   ]
  },
  {
   "attachments": {},
   "cell_type": "markdown",
   "metadata": {},
   "source": [
    "Grafico"
   ]
  },
  {
   "cell_type": "code",
   "execution_count": 69,
   "metadata": {},
   "outputs": [
    {
     "data": {
      "text/plain": [
       "True"
      ]
     },
     "execution_count": 69,
     "metadata": {},
     "output_type": "execute_result"
    }
   ],
   "source": [
    "df_tau_merged['PLASMATAU'].isna().any()"
   ]
  },
  {
   "cell_type": "code",
   "execution_count": 70,
   "metadata": {},
   "outputs": [
    {
     "data": {
      "text/plain": [
       "False"
      ]
     },
     "execution_count": 70,
     "metadata": {},
     "output_type": "execute_result"
    }
   ],
   "source": [
    "np.isinf(df_tau_merged['PLASMATAU']).any()"
   ]
  },
  {
   "cell_type": "code",
   "execution_count": 71,
   "metadata": {},
   "outputs": [
    {
     "data": {
      "text/html": [
       "<div>\n",
       "<style scoped>\n",
       "    .dataframe tbody tr th:only-of-type {\n",
       "        vertical-align: middle;\n",
       "    }\n",
       "\n",
       "    .dataframe tbody tr th {\n",
       "        vertical-align: top;\n",
       "    }\n",
       "\n",
       "    .dataframe thead th {\n",
       "        text-align: right;\n",
       "    }\n",
       "</style>\n",
       "<table border=\"1\" class=\"dataframe\">\n",
       "  <thead>\n",
       "    <tr style=\"text-align: right;\">\n",
       "      <th></th>\n",
       "      <th>subj</th>\n",
       "      <th>RID</th>\n",
       "      <th>diag</th>\n",
       "      <th>PLASMATAU</th>\n",
       "    </tr>\n",
       "  </thead>\n",
       "  <tbody>\n",
       "    <tr>\n",
       "      <th>0</th>\n",
       "      <td>002_S_0938</td>\n",
       "      <td>938</td>\n",
       "      <td>AD</td>\n",
       "      <td>2.64</td>\n",
       "    </tr>\n",
       "    <tr>\n",
       "      <th>1</th>\n",
       "      <td>005_S_0221</td>\n",
       "      <td>221</td>\n",
       "      <td>AD</td>\n",
       "      <td>1.74</td>\n",
       "    </tr>\n",
       "    <tr>\n",
       "      <th>2</th>\n",
       "      <td>011_S_0010</td>\n",
       "      <td>10</td>\n",
       "      <td>AD</td>\n",
       "      <td>2.74</td>\n",
       "    </tr>\n",
       "    <tr>\n",
       "      <th>3</th>\n",
       "      <td>023_S_1289</td>\n",
       "      <td>1289</td>\n",
       "      <td>AD</td>\n",
       "      <td>4.58</td>\n",
       "    </tr>\n",
       "    <tr>\n",
       "      <th>4</th>\n",
       "      <td>027_S_0850</td>\n",
       "      <td>850</td>\n",
       "      <td>AD</td>\n",
       "      <td>4.37</td>\n",
       "    </tr>\n",
       "  </tbody>\n",
       "</table>\n",
       "</div>"
      ],
      "text/plain": [
       "         subj   RID diag  PLASMATAU\n",
       "0  002_S_0938   938   AD       2.64\n",
       "1  005_S_0221   221   AD       1.74\n",
       "2  011_S_0010    10   AD       2.74\n",
       "3  023_S_1289  1289   AD       4.58\n",
       "4  027_S_0850   850   AD       4.37"
      ]
     },
     "execution_count": 71,
     "metadata": {},
     "output_type": "execute_result"
    }
   ],
   "source": [
    "df_tau_merged.head()"
   ]
  },
  {
   "cell_type": "code",
   "execution_count": 75,
   "metadata": {},
   "outputs": [
    {
     "data": {
      "image/png": "[encoded data removed]",
      "text/plain": [
       "<Figure size 640x480 with 1 Axes>"
      ]
     },
     "metadata": {},
     "output_type": "display_data"
    }
   ],
   "source": [
    "plt.xlim(0, 15)\n",
    "\n",
    "fig = sns.kdeplot(df_tau_merged[(df_tau_merged['diag'] == 'CN') & (~df_tau_merged['PLASMATAU'].isna())]['PLASMATAU'], fill = True, color='#74c476')\n",
    "fig = sns.kdeplot(df_tau_merged[(df_tau_merged['diag'] == 'MCI') & (~df_tau_merged['PLASMATAU'].isna())]['PLASMATAU'], fill = True, color='#fecc5c')\n",
    "fig = sns.kdeplot(df_tau_merged[(df_tau_merged['diag'] == 'AD') & (~df_tau_merged['PLASMATAU'].isna())]['PLASMATAU'], fill = True, color='#fc9272')\n",
    "\n",
    "plt.legend(['CN', 'MCI', 'AD'], loc='upper right')\n",
    "\n",
    "fig.set(ylabel='Subject density', xlabel='Phosphorylated Tau 181 Concentration (pg/mL)', title='Phosphorylated Tau 181 Concentration in Plasma');"
   ]
  },
  {
   "cell_type": "code",
   "execution_count": 73,
   "metadata": {},
   "outputs": [
    {
     "data": {
      "image/png": "[encoded data removed]",
      "text/plain": [
       "<Figure size 640x480 with 1 Axes>"
      ]
     },
     "metadata": {},
     "output_type": "display_data"
    }
   ],
   "source": [
    "plt.xlim(0, 15)\n",
    "plt.rcParams.update({'font.size': 13})\n",
    "colors = ['#74c476', '#fecc5c', '#fc9272']\n",
    "fig = sns.kdeplot(data = df_tau_merged_grouped[~df_tau_merged_grouped['PLASMATAU'].isna()].reset_index(drop=True), hue = 'diag', x='PLASMATAU', fill = True, palette= colors)\n",
    "#fig = sns.kdeplot(df_tau_merged[(df_tau_merged['diag'] == 'MCI') & (~df_tau_merged['PLASMATAU'].isna())]['PLASMATAU'], color='#fecc5c')\n",
    "#fig = sns.kdeplot(df_tau_merged[(df_tau_merged['diag'] == 'AD') & (~df_tau_merged['PLASMATAU'].isna())]['PLASMATAU'], color='#fc9272')\n",
    "\n",
    "plt.legend(['CN', 'MCI', 'AD'], loc='upper right')\n",
    "\n",
    "fig.set(ylabel='Subject density', xlabel='Phosphorylated Tau 181 Concentration (pg/mL)', title='Phosphorylated Tau 181 Concentration in Plasma');"
   ]
  },
  {
   "attachments": {},
   "cell_type": "markdown",
   "metadata": {},
   "source": [
    "# Beta-Amyloid (CSF)"
   ]
  },
  {
   "attachments": {},
   "cell_type": "markdown",
   "metadata": {},
   "source": [
    "Importo le misurazioni delle misurazioni pg/ml di beta-amyloid in CSF dei soggetti da diversi studi:\n",
    "- https://adni.bitbucket.io/reference/euroimmun.html\n",
    "- https://adni.bitbucket.io/reference/fujirebioabeta.html\n",
    "\n",
    "In particolare importo\n",
    "- pg/mL Beta-Amyloid 1-42\n",
    "- pg/mL Beta-Amyloid 1-40\n",
    "- Beta-Amyloid 1-42/1-40 ratio"
   ]
  },
  {
   "cell_type": "code",
   "execution_count": 110,
   "metadata": {},
   "outputs": [],
   "source": [
    "folder_path  = \"..\\\\adni-images-Full-resized160x192\\\\biospecimen\\\\\"\n",
    "\n",
    "# Importa il primo file CSV\n",
    "file_path1 = os.path.join(folder_path, \"amyloid_csf_ADNI_EUROIMMUN_10Jun2023.csv\")\n",
    "df4 = pd.read_csv(file_path1, usecols=[\"RID\", \"BETA_AMYLOID_1_40\", \"BETA_AMYLOID_1_42\", \"BETA_AMYLOID_42_40\"], dtype={\"RID\": object, \"BETA_AMYLOID_1_40\": float, \"BETA_AMYLOID_1_42\": float, \"BETA_AMYLOID_42_40\": float})\n",
    "df4.loc[df4[\"BETA_AMYLOID_1_40\"] == -4, \"BETA_AMYLOID_1_40\"] = float(\"nan\")\n",
    "df4.loc[df4[\"BETA_AMYLOID_1_42\"] == -4, \"BETA_AMYLOID_1_42\"] = float(\"nan\")\n",
    "df4.loc[df4[\"BETA_AMYLOID_42_40\"] == -4, \"BETA_AMYLOID_42_40\"] = float(\"nan\")\n",
    "\n",
    "# Importa il secondo file CSV\n",
    "file_path2 = os.path.join(folder_path, \"amyloid_csf_FUJIREBIOABETA_10Jun2023.csv\")\n",
    "df5 = pd.read_csv(file_path2, usecols=[\"RID\", \"ABETA42\", \"ABETA40\", \"ABETA42_40\"], dtype={\"RID\": object, \"ABETA42\": float, \"ABETA40\": float, \"ABETA42_40\": float})\n",
    "df5.loc[df5[\"ABETA42\"] == -4, \"ABETA42\"] = float(\"nan\")\n",
    "df5.loc[df5[\"ABETA40\"] == -4, \"ABETA40\"] = float(\"nan\")\n",
    "df5.loc[df5[\"ABETA42_40\"] == -4, \"ABETA42_40\"] = float(\"nan\")\n",
    "df5.rename(columns={\"ABETA42\": \"BETA_AMYLOID_1_42\", \"ABETA40\": \"BETA_AMYLOID_1_40\", \"ABETA42_40\": \"BETA_AMYLOID_42_40\"}, inplace=True)"
   ]
  },
  {
   "cell_type": "code",
   "execution_count": 111,
   "metadata": {},
   "outputs": [],
   "source": [
    "df_csf_amyloid = pd.concat([df4, df5], ignore_index=True)"
   ]
  },
  {
   "cell_type": "code",
   "execution_count": 112,
   "metadata": {},
   "outputs": [
    {
     "data": {
      "text/html": [
       "<div>\n",
       "<style scoped>\n",
       "    .dataframe tbody tr th:only-of-type {\n",
       "        vertical-align: middle;\n",
       "    }\n",
       "\n",
       "    .dataframe tbody tr th {\n",
       "        vertical-align: top;\n",
       "    }\n",
       "\n",
       "    .dataframe thead th {\n",
       "        text-align: right;\n",
       "    }\n",
       "</style>\n",
       "<table border=\"1\" class=\"dataframe\">\n",
       "  <thead>\n",
       "    <tr style=\"text-align: right;\">\n",
       "      <th></th>\n",
       "      <th>RID</th>\n",
       "      <th>BETA_AMYLOID_1_40</th>\n",
       "      <th>BETA_AMYLOID_1_42</th>\n",
       "      <th>BETA_AMYLOID_42_40</th>\n",
       "    </tr>\n",
       "  </thead>\n",
       "  <tbody>\n",
       "    <tr>\n",
       "      <th>0</th>\n",
       "      <td>51</td>\n",
       "      <td>7324.79</td>\n",
       "      <td>264.01</td>\n",
       "      <td>0.036043</td>\n",
       "    </tr>\n",
       "    <tr>\n",
       "      <th>1</th>\n",
       "      <td>59</td>\n",
       "      <td>8431.15</td>\n",
       "      <td>1184.28</td>\n",
       "      <td>0.140465</td>\n",
       "    </tr>\n",
       "    <tr>\n",
       "      <th>2</th>\n",
       "      <td>232</td>\n",
       "      <td>8454.41</td>\n",
       "      <td>772.85</td>\n",
       "      <td>0.091414</td>\n",
       "    </tr>\n",
       "    <tr>\n",
       "      <th>3</th>\n",
       "      <td>259</td>\n",
       "      <td>9887.33</td>\n",
       "      <td>580.35</td>\n",
       "      <td>0.058696</td>\n",
       "    </tr>\n",
       "    <tr>\n",
       "      <th>4</th>\n",
       "      <td>272</td>\n",
       "      <td>9835.15</td>\n",
       "      <td>918.71</td>\n",
       "      <td>0.093411</td>\n",
       "    </tr>\n",
       "  </tbody>\n",
       "</table>\n",
       "</div>"
      ],
      "text/plain": [
       "   RID  BETA_AMYLOID_1_40  BETA_AMYLOID_1_42  BETA_AMYLOID_42_40\n",
       "0   51            7324.79             264.01            0.036043\n",
       "1   59            8431.15            1184.28            0.140465\n",
       "2  232            8454.41             772.85            0.091414\n",
       "3  259            9887.33             580.35            0.058696\n",
       "4  272            9835.15             918.71            0.093411"
      ]
     },
     "execution_count": 112,
     "metadata": {},
     "output_type": "execute_result"
    }
   ],
   "source": [
    "df_csf_amyloid.head()"
   ]
  },
  {
   "cell_type": "code",
   "execution_count": 113,
   "metadata": {},
   "outputs": [
    {
     "data": {
      "text/plain": [
       "722"
      ]
     },
     "execution_count": 113,
     "metadata": {},
     "output_type": "execute_result"
    }
   ],
   "source": [
    "len(df_csf_amyloid)"
   ]
  },
  {
   "cell_type": "code",
   "execution_count": 114,
   "metadata": {},
   "outputs": [
    {
     "data": {
      "text/plain": [
       "510"
      ]
     },
     "execution_count": 114,
     "metadata": {},
     "output_type": "execute_result"
    }
   ],
   "source": [
    "len(df_csf_amyloid[\"RID\"].value_counts())"
   ]
  },
  {
   "attachments": {},
   "cell_type": "markdown",
   "metadata": {},
   "source": [
    "## Merging with users"
   ]
  },
  {
   "cell_type": "code",
   "execution_count": 115,
   "metadata": {},
   "outputs": [],
   "source": [
    "df_csf_amyloid_merged = df.merge(df_csf_amyloid, on=\"RID\", how=\"inner\")"
   ]
  },
  {
   "cell_type": "code",
   "execution_count": 116,
   "metadata": {},
   "outputs": [
    {
     "data": {
      "text/html": [
       "<div>\n",
       "<style scoped>\n",
       "    .dataframe tbody tr th:only-of-type {\n",
       "        vertical-align: middle;\n",
       "    }\n",
       "\n",
       "    .dataframe tbody tr th {\n",
       "        vertical-align: top;\n",
       "    }\n",
       "\n",
       "    .dataframe thead th {\n",
       "        text-align: right;\n",
       "    }\n",
       "</style>\n",
       "<table border=\"1\" class=\"dataframe\">\n",
       "  <thead>\n",
       "    <tr style=\"text-align: right;\">\n",
       "      <th></th>\n",
       "      <th>subj</th>\n",
       "      <th>RID</th>\n",
       "      <th>diag</th>\n",
       "      <th>BETA_AMYLOID_1_40</th>\n",
       "      <th>BETA_AMYLOID_1_42</th>\n",
       "      <th>BETA_AMYLOID_42_40</th>\n",
       "    </tr>\n",
       "  </thead>\n",
       "  <tbody>\n",
       "    <tr>\n",
       "      <th>0</th>\n",
       "      <td>023_S_1046</td>\n",
       "      <td>1046</td>\n",
       "      <td>MCI</td>\n",
       "      <td>5926.93</td>\n",
       "      <td>575.45</td>\n",
       "      <td>0.097091</td>\n",
       "    </tr>\n",
       "    <tr>\n",
       "      <th>1</th>\n",
       "      <td>023_S_1046</td>\n",
       "      <td>1046</td>\n",
       "      <td>MCI</td>\n",
       "      <td>5926.93</td>\n",
       "      <td>575.45</td>\n",
       "      <td>0.097091</td>\n",
       "    </tr>\n",
       "    <tr>\n",
       "      <th>2</th>\n",
       "      <td>128_S_0272</td>\n",
       "      <td>272</td>\n",
       "      <td>CN</td>\n",
       "      <td>9835.15</td>\n",
       "      <td>918.71</td>\n",
       "      <td>0.093411</td>\n",
       "    </tr>\n",
       "    <tr>\n",
       "      <th>3</th>\n",
       "      <td>128_S_0272</td>\n",
       "      <td>272</td>\n",
       "      <td>CN</td>\n",
       "      <td>9835.15</td>\n",
       "      <td>918.71</td>\n",
       "      <td>0.093411</td>\n",
       "    </tr>\n",
       "    <tr>\n",
       "      <th>4</th>\n",
       "      <td>128_S_0272</td>\n",
       "      <td>272</td>\n",
       "      <td>CN</td>\n",
       "      <td>14934.00</td>\n",
       "      <td>1018.00</td>\n",
       "      <td>0.068000</td>\n",
       "    </tr>\n",
       "  </tbody>\n",
       "</table>\n",
       "</div>"
      ],
      "text/plain": [
       "         subj   RID diag  BETA_AMYLOID_1_40  BETA_AMYLOID_1_42  \\\n",
       "0  023_S_1046  1046  MCI            5926.93             575.45   \n",
       "1  023_S_1046  1046  MCI            5926.93             575.45   \n",
       "2  128_S_0272   272   CN            9835.15             918.71   \n",
       "3  128_S_0272   272   CN            9835.15             918.71   \n",
       "4  128_S_0272   272   CN           14934.00            1018.00   \n",
       "\n",
       "   BETA_AMYLOID_42_40  \n",
       "0            0.097091  \n",
       "1            0.097091  \n",
       "2            0.093411  \n",
       "3            0.093411  \n",
       "4            0.068000  "
      ]
     },
     "execution_count": 116,
     "metadata": {},
     "output_type": "execute_result"
    }
   ],
   "source": [
    "df_csf_amyloid_merged.head()"
   ]
  },
  {
   "cell_type": "code",
   "execution_count": 117,
   "metadata": {},
   "outputs": [
    {
     "name": "stdout",
     "output_type": "stream",
     "text": [
      "48\n",
      "79\n"
     ]
    }
   ],
   "source": [
    "rid_counts = df_csf_amyloid_merged[\"RID\"].value_counts()\n",
    "#print(rid_counts)\n",
    "print(len(rid_counts))\n",
    "print(sum(rid_counts))"
   ]
  },
  {
   "cell_type": "code",
   "execution_count": 118,
   "metadata": {},
   "outputs": [
    {
     "name": "stdout",
     "output_type": "stream",
     "text": [
      "MCI    45\n",
      "CN     34\n",
      "Name: diag, dtype: int64\n"
     ]
    }
   ],
   "source": [
    "print(df_csf_amyloid_merged[\"diag\"].value_counts())"
   ]
  },
  {
   "attachments": {},
   "cell_type": "markdown",
   "metadata": {},
   "source": [
    "Raggruppa per soggetto"
   ]
  },
  {
   "cell_type": "code",
   "execution_count": 119,
   "metadata": {},
   "outputs": [],
   "source": [
    "df_csf_amyloid_merged_grouped = df_csf_amyloid_merged.groupby(['RID', 'diag']).agg({'BETA_AMYLOID_1_42': 'mean', 'BETA_AMYLOID_1_40': 'mean', 'BETA_AMYLOID_42_40': 'mean'}).reset_index()"
   ]
  },
  {
   "cell_type": "code",
   "execution_count": 120,
   "metadata": {},
   "outputs": [
    {
     "data": {
      "text/html": [
       "<div>\n",
       "<style scoped>\n",
       "    .dataframe tbody tr th:only-of-type {\n",
       "        vertical-align: middle;\n",
       "    }\n",
       "\n",
       "    .dataframe tbody tr th {\n",
       "        vertical-align: top;\n",
       "    }\n",
       "\n",
       "    .dataframe thead th {\n",
       "        text-align: right;\n",
       "    }\n",
       "</style>\n",
       "<table border=\"1\" class=\"dataframe\">\n",
       "  <thead>\n",
       "    <tr style=\"text-align: right;\">\n",
       "      <th></th>\n",
       "      <th>RID</th>\n",
       "      <th>diag</th>\n",
       "      <th>BETA_AMYLOID_1_42</th>\n",
       "      <th>BETA_AMYLOID_1_40</th>\n",
       "      <th>BETA_AMYLOID_42_40</th>\n",
       "    </tr>\n",
       "  </thead>\n",
       "  <tbody>\n",
       "    <tr>\n",
       "      <th>0</th>\n",
       "      <td>1010</td>\n",
       "      <td>MCI</td>\n",
       "      <td>398.44</td>\n",
       "      <td>6811.67</td>\n",
       "      <td>0.058494</td>\n",
       "    </tr>\n",
       "    <tr>\n",
       "      <th>1</th>\n",
       "      <td>1016</td>\n",
       "      <td>CN</td>\n",
       "      <td>408.00</td>\n",
       "      <td>1665.00</td>\n",
       "      <td>0.245000</td>\n",
       "    </tr>\n",
       "    <tr>\n",
       "      <th>2</th>\n",
       "      <td>1043</td>\n",
       "      <td>MCI</td>\n",
       "      <td>671.00</td>\n",
       "      <td>12358.00</td>\n",
       "      <td>0.054000</td>\n",
       "    </tr>\n",
       "    <tr>\n",
       "      <th>3</th>\n",
       "      <td>1045</td>\n",
       "      <td>MCI</td>\n",
       "      <td>1387.00</td>\n",
       "      <td>14216.00</td>\n",
       "      <td>0.098000</td>\n",
       "    </tr>\n",
       "    <tr>\n",
       "      <th>4</th>\n",
       "      <td>1046</td>\n",
       "      <td>MCI</td>\n",
       "      <td>575.45</td>\n",
       "      <td>5926.93</td>\n",
       "      <td>0.097091</td>\n",
       "    </tr>\n",
       "  </tbody>\n",
       "</table>\n",
       "</div>"
      ],
      "text/plain": [
       "    RID diag  BETA_AMYLOID_1_42  BETA_AMYLOID_1_40  BETA_AMYLOID_42_40\n",
       "0  1010  MCI             398.44            6811.67            0.058494\n",
       "1  1016   CN             408.00            1665.00            0.245000\n",
       "2  1043  MCI             671.00           12358.00            0.054000\n",
       "3  1045  MCI            1387.00           14216.00            0.098000\n",
       "4  1046  MCI             575.45            5926.93            0.097091"
      ]
     },
     "execution_count": 120,
     "metadata": {},
     "output_type": "execute_result"
    }
   ],
   "source": [
    "df_csf_amyloid_merged_grouped.head()"
   ]
  },
  {
   "cell_type": "code",
   "execution_count": 121,
   "metadata": {},
   "outputs": [
    {
     "name": "stdout",
     "output_type": "stream",
     "text": [
      "MCI    28\n",
      "CN     20\n",
      "Name: diag, dtype: int64\n"
     ]
    }
   ],
   "source": [
    "print(df_csf_amyloid_merged_grouped[\"diag\"].value_counts())"
   ]
  },
  {
   "cell_type": "code",
   "execution_count": 190,
   "metadata": {},
   "outputs": [
    {
     "data": {
      "image/png": "[encoded data removed]",
      "text/plain": [
       "<Figure size 640x480 with 1 Axes>"
      ]
     },
     "metadata": {},
     "output_type": "display_data"
    }
   ],
   "source": [
    "#plt.xlim(0, 15)\n",
    "\n",
    "fig = sns.kdeplot(df_csf_amyloid_merged[(df_csf_amyloid_merged['diag'] == 'CN') & (~df_csf_amyloid_merged['BETA_AMYLOID_42_40'].isna())]['BETA_AMYLOID_42_40'], color='#74c476')\n",
    "fig = sns.kdeplot(df_csf_amyloid_merged[(df_csf_amyloid_merged['diag'] == 'MCI') & (~df_csf_amyloid_merged['BETA_AMYLOID_42_40'].isna())]['BETA_AMYLOID_42_40'], color='#fecc5c')\n",
    "fig = sns.kdeplot(df_csf_amyloid_merged[(df_csf_amyloid_merged['diag'] == 'AD') & (~df_csf_amyloid_merged['BETA_AMYLOID_42_40'].isna())]['BETA_AMYLOID_42_40'], color='#fc9272')\n",
    "\n",
    "plt.legend(['CN', 'MCI', 'AD'], loc='upper left')\n",
    "\n",
    "fig.set(ylabel='Subject density');"
   ]
  },
  {
   "cell_type": "code",
   "execution_count": 127,
   "metadata": {},
   "outputs": [
    {
     "data": {
      "image/png": "[encoded data removed]",
      "text/plain": [
       "<Figure size 640x480 with 1 Axes>"
      ]
     },
     "metadata": {},
     "output_type": "display_data"
    }
   ],
   "source": [
    "#plt.xlim(0, 4)\n",
    "plt.rcParams.update({'font.size': 13})\n",
    "fig = sns.kdeplot(data = df_csf_amyloid_merged[~df_csf_amyloid_merged['BETA_AMYLOID_42_40'].isna()].reset_index(drop=True), hue = 'diag', x='BETA_AMYLOID_42_40', fill = True)\n",
    "#fig = sns.kdeplot(df_tau_merged[(df_tau_merged['diag'] == 'MCI') & (~df_tau_merged['PLASMATAU'].isna())]['PLASMATAU'], color='#fecc5c')\n",
    "#fig = sns.kdeplot(df_tau_merged[(df_tau_merged['diag'] == 'AD') & (~df_tau_merged['PLASMATAU'].isna())]['PLASMATAU'], color='#fc9272')\n",
    "\n",
    "plt.legend(['CN', 'MCI', 'AD'], loc='upper right')\n",
    "\n",
    "fig.set(ylabel='Subject Density', xlabel='CSF Beta-Amyloid 1-42/1-40 concentrations ratio', title='CSF Beta-Amyloid 1-42/1-40 concentrations ratio');"
   ]
  },
  {
   "attachments": {},
   "cell_type": "markdown",
   "metadata": {},
   "source": [
    "# Beta-Amyloid (plasma) "
   ]
  },
  {
   "attachments": {},
   "cell_type": "markdown",
   "metadata": {},
   "source": [
    "Importo le misurazioni delle misurazioni **ng/ml** di beta-amyloid in PLASMA dei soggetti da diversi studi:\n",
    "- https://adni.bitbucket.io/reference/docs/BATEMANLAB/Batemanlab_ADNI_Methods_20190612.pdf\n",
    "- https://adni.bitbucket.io/reference/fujirebioabeta.html\n",
    "- https://adni.bitbucket.io/reference/plasma_abeta_project_u_of_gothenburg.html\n",
    "- altri progetti FNIH\n",
    "\n",
    "In particolare importo\n",
    "- pg/mL Beta-Amyloid 1-42\n",
    "- pg/mL Beta-Amyloid 1-40\n",
    "- Beta-Amyloid 1-42/1-40 ratio"
   ]
  },
  {
   "cell_type": "code",
   "execution_count": 21,
   "metadata": {},
   "outputs": [],
   "source": [
    "folder_path  = \"..\\\\adni-images-Full-resized160x192\\\\biospecimen\\\\\"\n",
    "\n",
    "# Importa il primo file CSV (i valori sono in ng/mL)\n",
    "file_path1 = os.path.join(folder_path, \"amyloid_plasma_batemanlab_20221118_10Jun2023.csv\")\n",
    "df6 = pd.read_csv(file_path1, usecols=[\"RID\", \"Abeta_40_conc\", \"Abeta_42_conc\", \"Abeta_4240\"], dtype={\"RID\": object, \"Abeta_40_conc\": float, \"Abeta_42_conc\": float, \"Abeta_4240\": float})\n",
    "df6.loc[df6[\"Abeta_40_conc\"] == -4, \"Abeta_40_conc\"] = float(\"nan\")\n",
    "df6.loc[df6[\"Abeta_42_conc\"] == -4, \"Abeta_42_conc\"] = float(\"nan\")\n",
    "df6.loc[df6[\"Abeta_4240\"] == -4, \"Abeta_4240\"] = float(\"nan\")\n",
    "df6.rename(columns={\"Abeta_42_conc\": \"ABETA42\", \"Abeta_40_conc\": \"ABETA40\", \"Abeta_4240\": \"ABETA42_40\"}, inplace=True)"
   ]
  },
  {
   "cell_type": "code",
   "execution_count": 22,
   "metadata": {},
   "outputs": [
    {
     "data": {
      "text/html": [
       "<div>\n",
       "<style scoped>\n",
       "    .dataframe tbody tr th:only-of-type {\n",
       "        vertical-align: middle;\n",
       "    }\n",
       "\n",
       "    .dataframe tbody tr th {\n",
       "        vertical-align: top;\n",
       "    }\n",
       "\n",
       "    .dataframe thead th {\n",
       "        text-align: right;\n",
       "    }\n",
       "</style>\n",
       "<table border=\"1\" class=\"dataframe\">\n",
       "  <thead>\n",
       "    <tr style=\"text-align: right;\">\n",
       "      <th></th>\n",
       "      <th>RID</th>\n",
       "      <th>ABETA42</th>\n",
       "      <th>ABETA40</th>\n",
       "      <th>ABETA42_40</th>\n",
       "    </tr>\n",
       "  </thead>\n",
       "  <tbody>\n",
       "    <tr>\n",
       "      <th>0</th>\n",
       "      <td>923</td>\n",
       "      <td>0.0472</td>\n",
       "      <td>0.3580</td>\n",
       "      <td>0.131879</td>\n",
       "    </tr>\n",
       "    <tr>\n",
       "      <th>1</th>\n",
       "      <td>896</td>\n",
       "      <td>0.0271</td>\n",
       "      <td>0.2553</td>\n",
       "      <td>0.106055</td>\n",
       "    </tr>\n",
       "    <tr>\n",
       "      <th>2</th>\n",
       "      <td>5004</td>\n",
       "      <td>0.0341</td>\n",
       "      <td>0.2618</td>\n",
       "      <td>0.130302</td>\n",
       "    </tr>\n",
       "    <tr>\n",
       "      <th>3</th>\n",
       "      <td>4094</td>\n",
       "      <td>0.0392</td>\n",
       "      <td>0.2976</td>\n",
       "      <td>0.131616</td>\n",
       "    </tr>\n",
       "    <tr>\n",
       "      <th>4</th>\n",
       "      <td>5031</td>\n",
       "      <td>0.0353</td>\n",
       "      <td>0.3011</td>\n",
       "      <td>0.117094</td>\n",
       "    </tr>\n",
       "  </tbody>\n",
       "</table>\n",
       "</div>"
      ],
      "text/plain": [
       "    RID  ABETA42  ABETA40  ABETA42_40\n",
       "0   923   0.0472   0.3580    0.131879\n",
       "1   896   0.0271   0.2553    0.106055\n",
       "2  5004   0.0341   0.2618    0.130302\n",
       "3  4094   0.0392   0.2976    0.131616\n",
       "4  5031   0.0353   0.3011    0.117094"
      ]
     },
     "execution_count": 22,
     "metadata": {},
     "output_type": "execute_result"
    }
   ],
   "source": [
    "df6.head()"
   ]
  },
  {
   "cell_type": "code",
   "execution_count": 23,
   "metadata": {},
   "outputs": [],
   "source": [
    "\n",
    "# Importa il primo file CSV (i valori sono in ng/mL)\n",
    "file_path1 = os.path.join(folder_path, \"amyloid_plasma_PLASMA_ABETA_PROJECT_WASH_U_11_05_21_10Jun2023.csv\")\n",
    "df7 = pd.read_csv(file_path1, usecols=[\"RID\", \"AB40\", \"AB42\", \"PLASMAAB4240\"], dtype={\"RID\": object, \"AB40\": float, \"AB42\": float, \"PLASMAAB4240\": float})\n",
    "df7.loc[df7[\"AB40\"] == -4, \"AB40\"] = float(\"nan\")\n",
    "df7.loc[df7[\"AB42\"] == -4, \"AB42\"] = float(\"nan\")\n",
    "df7.loc[df7[\"PLASMAAB4240\"] == -4, \"PLASMAAB4240\"] = float(\"nan\")\n",
    "df7.rename(columns={\"AB42\": \"ABETA42\", \"AB40\": \"ABETA40\", \"PLASMAAB4240\": \"ABETA42_40\"}, inplace=True)\n"
   ]
  },
  {
   "cell_type": "code",
   "execution_count": 24,
   "metadata": {},
   "outputs": [
    {
     "data": {
      "text/html": [
       "<div>\n",
       "<style scoped>\n",
       "    .dataframe tbody tr th:only-of-type {\n",
       "        vertical-align: middle;\n",
       "    }\n",
       "\n",
       "    .dataframe tbody tr th {\n",
       "        vertical-align: top;\n",
       "    }\n",
       "\n",
       "    .dataframe thead th {\n",
       "        text-align: right;\n",
       "    }\n",
       "</style>\n",
       "<table border=\"1\" class=\"dataframe\">\n",
       "  <thead>\n",
       "    <tr style=\"text-align: right;\">\n",
       "      <th></th>\n",
       "      <th>RID</th>\n",
       "      <th>ABETA40</th>\n",
       "      <th>ABETA42</th>\n",
       "      <th>ABETA42_40</th>\n",
       "    </tr>\n",
       "  </thead>\n",
       "  <tbody>\n",
       "    <tr>\n",
       "      <th>0</th>\n",
       "      <td>31</td>\n",
       "      <td>0.359436</td>\n",
       "      <td>0.044527</td>\n",
       "      <td>0.123881</td>\n",
       "    </tr>\n",
       "    <tr>\n",
       "      <th>1</th>\n",
       "      <td>138</td>\n",
       "      <td>0.353607</td>\n",
       "      <td>0.042668</td>\n",
       "      <td>0.120664</td>\n",
       "    </tr>\n",
       "    <tr>\n",
       "      <th>2</th>\n",
       "      <td>150</td>\n",
       "      <td>0.299507</td>\n",
       "      <td>0.037770</td>\n",
       "      <td>0.126108</td>\n",
       "    </tr>\n",
       "    <tr>\n",
       "      <th>3</th>\n",
       "      <td>214</td>\n",
       "      <td>0.274496</td>\n",
       "      <td>0.032107</td>\n",
       "      <td>0.116968</td>\n",
       "    </tr>\n",
       "    <tr>\n",
       "      <th>4</th>\n",
       "      <td>303</td>\n",
       "      <td>0.317690</td>\n",
       "      <td>0.042056</td>\n",
       "      <td>0.132381</td>\n",
       "    </tr>\n",
       "  </tbody>\n",
       "</table>\n",
       "</div>"
      ],
      "text/plain": [
       "   RID   ABETA40   ABETA42  ABETA42_40\n",
       "0   31  0.359436  0.044527    0.123881\n",
       "1  138  0.353607  0.042668    0.120664\n",
       "2  150  0.299507  0.037770    0.126108\n",
       "3  214  0.274496  0.032107    0.116968\n",
       "4  303  0.317690  0.042056    0.132381"
      ]
     },
     "execution_count": 24,
     "metadata": {},
     "output_type": "execute_result"
    }
   ],
   "source": [
    "df7.head()"
   ]
  },
  {
   "cell_type": "code",
   "execution_count": 25,
   "metadata": {},
   "outputs": [],
   "source": [
    "# Importa il primo file CSV (i valori sono in ng/mL)\n",
    "file_path1 = os.path.join(folder_path, \"amyloid_plasma_PLASMA_ABETA_PROJECT_U_OF_GOTHENBURG_10Jun2023.csv\")\n",
    "df8 = pd.read_csv(file_path1, usecols=[\"RID\", \"AB_1_40\", \"AB_1_42\"], dtype={\"RID\": object, \"AB_1_40\": float, \"AB_1_42\": float})\n",
    "df8.loc[df8[\"AB_1_40\"] == -4, \"AB_1_40\"] = float(\"nan\")\n",
    "df8.loc[df8[\"AB_1_42\"] == -4, \"AB_1_42\"] = float(\"nan\")\n",
    "df8[\"AB_1_40\"] = df8[\"AB_1_40\"] / 1000\n",
    "df8[\"AB_1_42\"] = df8[\"AB_1_42\"] / 1000\n",
    "df8[\"PLASMAAB4240\"] = df8[\"AB_1_42\"] / df8[\"AB_1_40\"]\n",
    "df8.rename(columns={\"AB_1_42\": \"ABETA42\", \"AB_1_40\": \"ABETA40\", \"PLASMAAB4240\": \"ABETA42_40\"}, inplace=True)\n"
   ]
  },
  {
   "cell_type": "code",
   "execution_count": 26,
   "metadata": {},
   "outputs": [
    {
     "data": {
      "text/html": [
       "<div>\n",
       "<style scoped>\n",
       "    .dataframe tbody tr th:only-of-type {\n",
       "        vertical-align: middle;\n",
       "    }\n",
       "\n",
       "    .dataframe tbody tr th {\n",
       "        vertical-align: top;\n",
       "    }\n",
       "\n",
       "    .dataframe thead th {\n",
       "        text-align: right;\n",
       "    }\n",
       "</style>\n",
       "<table border=\"1\" class=\"dataframe\">\n",
       "  <thead>\n",
       "    <tr style=\"text-align: right;\">\n",
       "      <th></th>\n",
       "      <th>RID</th>\n",
       "      <th>ABETA40</th>\n",
       "      <th>ABETA42</th>\n",
       "      <th>ABETA42_40</th>\n",
       "    </tr>\n",
       "  </thead>\n",
       "  <tbody>\n",
       "    <tr>\n",
       "      <th>0</th>\n",
       "      <td>31</td>\n",
       "      <td>0.379</td>\n",
       "      <td>0.0207</td>\n",
       "      <td>0.054617</td>\n",
       "    </tr>\n",
       "    <tr>\n",
       "      <th>1</th>\n",
       "      <td>138</td>\n",
       "      <td>0.305</td>\n",
       "      <td>0.0242</td>\n",
       "      <td>0.079344</td>\n",
       "    </tr>\n",
       "    <tr>\n",
       "      <th>2</th>\n",
       "      <td>150</td>\n",
       "      <td>0.284</td>\n",
       "      <td>0.0137</td>\n",
       "      <td>0.048239</td>\n",
       "    </tr>\n",
       "    <tr>\n",
       "      <th>3</th>\n",
       "      <td>214</td>\n",
       "      <td>0.256</td>\n",
       "      <td>0.0138</td>\n",
       "      <td>0.053906</td>\n",
       "    </tr>\n",
       "    <tr>\n",
       "      <th>4</th>\n",
       "      <td>303</td>\n",
       "      <td>0.326</td>\n",
       "      <td>0.0251</td>\n",
       "      <td>0.076994</td>\n",
       "    </tr>\n",
       "  </tbody>\n",
       "</table>\n",
       "</div>"
      ],
      "text/plain": [
       "   RID  ABETA40  ABETA42  ABETA42_40\n",
       "0   31    0.379   0.0207    0.054617\n",
       "1  138    0.305   0.0242    0.079344\n",
       "2  150    0.284   0.0137    0.048239\n",
       "3  214    0.256   0.0138    0.053906\n",
       "4  303    0.326   0.0251    0.076994"
      ]
     },
     "execution_count": 26,
     "metadata": {},
     "output_type": "execute_result"
    }
   ],
   "source": [
    "df8.head()"
   ]
  },
  {
   "cell_type": "code",
   "execution_count": 27,
   "metadata": {},
   "outputs": [],
   "source": [
    "df_plasma_amyloid = pd.concat([df6, df7, df8], ignore_index=True)"
   ]
  },
  {
   "cell_type": "code",
   "execution_count": 28,
   "metadata": {},
   "outputs": [
    {
     "data": {
      "text/html": [
       "<div>\n",
       "<style scoped>\n",
       "    .dataframe tbody tr th:only-of-type {\n",
       "        vertical-align: middle;\n",
       "    }\n",
       "\n",
       "    .dataframe tbody tr th {\n",
       "        vertical-align: top;\n",
       "    }\n",
       "\n",
       "    .dataframe thead th {\n",
       "        text-align: right;\n",
       "    }\n",
       "</style>\n",
       "<table border=\"1\" class=\"dataframe\">\n",
       "  <thead>\n",
       "    <tr style=\"text-align: right;\">\n",
       "      <th></th>\n",
       "      <th>RID</th>\n",
       "      <th>ABETA42</th>\n",
       "      <th>ABETA40</th>\n",
       "      <th>ABETA42_40</th>\n",
       "    </tr>\n",
       "  </thead>\n",
       "  <tbody>\n",
       "    <tr>\n",
       "      <th>0</th>\n",
       "      <td>923</td>\n",
       "      <td>0.0472</td>\n",
       "      <td>0.3580</td>\n",
       "      <td>0.131879</td>\n",
       "    </tr>\n",
       "    <tr>\n",
       "      <th>1</th>\n",
       "      <td>896</td>\n",
       "      <td>0.0271</td>\n",
       "      <td>0.2553</td>\n",
       "      <td>0.106055</td>\n",
       "    </tr>\n",
       "    <tr>\n",
       "      <th>2</th>\n",
       "      <td>5004</td>\n",
       "      <td>0.0341</td>\n",
       "      <td>0.2618</td>\n",
       "      <td>0.130302</td>\n",
       "    </tr>\n",
       "    <tr>\n",
       "      <th>3</th>\n",
       "      <td>4094</td>\n",
       "      <td>0.0392</td>\n",
       "      <td>0.2976</td>\n",
       "      <td>0.131616</td>\n",
       "    </tr>\n",
       "    <tr>\n",
       "      <th>4</th>\n",
       "      <td>5031</td>\n",
       "      <td>0.0353</td>\n",
       "      <td>0.3011</td>\n",
       "      <td>0.117094</td>\n",
       "    </tr>\n",
       "  </tbody>\n",
       "</table>\n",
       "</div>"
      ],
      "text/plain": [
       "    RID  ABETA42  ABETA40  ABETA42_40\n",
       "0   923   0.0472   0.3580    0.131879\n",
       "1   896   0.0271   0.2553    0.106055\n",
       "2  5004   0.0341   0.2618    0.130302\n",
       "3  4094   0.0392   0.2976    0.131616\n",
       "4  5031   0.0353   0.3011    0.117094"
      ]
     },
     "execution_count": 28,
     "metadata": {},
     "output_type": "execute_result"
    }
   ],
   "source": [
    "df_plasma_amyloid.head()"
   ]
  },
  {
   "cell_type": "code",
   "execution_count": 29,
   "metadata": {},
   "outputs": [
    {
     "data": {
      "text/plain": [
       "1002"
      ]
     },
     "execution_count": 29,
     "metadata": {},
     "output_type": "execute_result"
    }
   ],
   "source": [
    "len(df_plasma_amyloid)"
   ]
  },
  {
   "cell_type": "code",
   "execution_count": 30,
   "metadata": {},
   "outputs": [
    {
     "data": {
      "text/plain": [
       "418"
      ]
     },
     "execution_count": 30,
     "metadata": {},
     "output_type": "execute_result"
    }
   ],
   "source": [
    "len(df_plasma_amyloid[\"RID\"].value_counts())"
   ]
  },
  {
   "attachments": {},
   "cell_type": "markdown",
   "metadata": {},
   "source": [
    "## Merging with users"
   ]
  },
  {
   "cell_type": "code",
   "execution_count": 31,
   "metadata": {},
   "outputs": [],
   "source": [
    "df_plasma_amyloid_merged = df.merge(df_plasma_amyloid, on=\"RID\", how=\"inner\")"
   ]
  },
  {
   "cell_type": "code",
   "execution_count": 32,
   "metadata": {},
   "outputs": [
    {
     "name": "stdout",
     "output_type": "stream",
     "text": [
      "45\n",
      "145\n"
     ]
    }
   ],
   "source": [
    "rid_counts = df_plasma_amyloid_merged[\"RID\"].value_counts()\n",
    "#print(rid_counts)\n",
    "print(len(rid_counts))\n",
    "print(sum(rid_counts))"
   ]
  },
  {
   "cell_type": "code",
   "execution_count": 33,
   "metadata": {},
   "outputs": [
    {
     "name": "stdout",
     "output_type": "stream",
     "text": [
      "CN     103\n",
      "MCI     42\n",
      "Name: diag, dtype: int64\n"
     ]
    }
   ],
   "source": [
    "print(df_plasma_amyloid_merged[\"diag\"].value_counts())"
   ]
  },
  {
   "attachments": {},
   "cell_type": "markdown",
   "metadata": {},
   "source": [
    "Raggruppa per soggetto"
   ]
  },
  {
   "cell_type": "code",
   "execution_count": 34,
   "metadata": {},
   "outputs": [],
   "source": [
    "df_plasma_amyloid_merged_grouped = df_plasma_amyloid_merged.groupby(['RID', 'diag']).agg({'ABETA42': 'mean', 'ABETA40': 'mean', 'ABETA42_40': 'mean'}).reset_index()"
   ]
  },
  {
   "cell_type": "code",
   "execution_count": 17,
   "metadata": {},
   "outputs": [
    {
     "data": {
      "text/html": [
       "<div>\n",
       "<style scoped>\n",
       "    .dataframe tbody tr th:only-of-type {\n",
       "        vertical-align: middle;\n",
       "    }\n",
       "\n",
       "    .dataframe tbody tr th {\n",
       "        vertical-align: top;\n",
       "    }\n",
       "\n",
       "    .dataframe thead th {\n",
       "        text-align: right;\n",
       "    }\n",
       "</style>\n",
       "<table border=\"1\" class=\"dataframe\">\n",
       "  <thead>\n",
       "    <tr style=\"text-align: right;\">\n",
       "      <th></th>\n",
       "      <th>RID</th>\n",
       "      <th>diag</th>\n",
       "      <th>ABETA42</th>\n",
       "      <th>ABETA40</th>\n",
       "      <th>ABETA42_40</th>\n",
       "    </tr>\n",
       "  </thead>\n",
       "  <tbody>\n",
       "    <tr>\n",
       "      <th>0</th>\n",
       "      <td>1016</td>\n",
       "      <td>CN</td>\n",
       "      <td>0.033020</td>\n",
       "      <td>0.273780</td>\n",
       "      <td>0.120559</td>\n",
       "    </tr>\n",
       "    <tr>\n",
       "      <th>1</th>\n",
       "      <td>1045</td>\n",
       "      <td>MCI</td>\n",
       "      <td>0.043900</td>\n",
       "      <td>0.315250</td>\n",
       "      <td>0.139519</td>\n",
       "    </tr>\n",
       "    <tr>\n",
       "      <th>2</th>\n",
       "      <td>1098</td>\n",
       "      <td>CN</td>\n",
       "      <td>0.028907</td>\n",
       "      <td>0.266347</td>\n",
       "      <td>0.106260</td>\n",
       "    </tr>\n",
       "    <tr>\n",
       "      <th>3</th>\n",
       "      <td>1106</td>\n",
       "      <td>MCI</td>\n",
       "      <td>0.033800</td>\n",
       "      <td>0.242400</td>\n",
       "      <td>0.139299</td>\n",
       "    </tr>\n",
       "    <tr>\n",
       "      <th>4</th>\n",
       "      <td>112</td>\n",
       "      <td>MCI</td>\n",
       "      <td>0.029700</td>\n",
       "      <td>0.240100</td>\n",
       "      <td>0.123693</td>\n",
       "    </tr>\n",
       "    <tr>\n",
       "      <th>5</th>\n",
       "      <td>1130</td>\n",
       "      <td>MCI</td>\n",
       "      <td>0.025600</td>\n",
       "      <td>0.222100</td>\n",
       "      <td>0.115110</td>\n",
       "    </tr>\n",
       "    <tr>\n",
       "      <th>6</th>\n",
       "      <td>1169</td>\n",
       "      <td>CN</td>\n",
       "      <td>0.032050</td>\n",
       "      <td>0.250125</td>\n",
       "      <td>0.127971</td>\n",
       "    </tr>\n",
       "    <tr>\n",
       "      <th>7</th>\n",
       "      <td>1187</td>\n",
       "      <td>MCI</td>\n",
       "      <td>0.046437</td>\n",
       "      <td>0.445661</td>\n",
       "      <td>0.104895</td>\n",
       "    </tr>\n",
       "    <tr>\n",
       "      <th>8</th>\n",
       "      <td>1190</td>\n",
       "      <td>CN</td>\n",
       "      <td>0.032500</td>\n",
       "      <td>0.298900</td>\n",
       "      <td>0.108597</td>\n",
       "    </tr>\n",
       "    <tr>\n",
       "      <th>9</th>\n",
       "      <td>120</td>\n",
       "      <td>CN</td>\n",
       "      <td>0.041167</td>\n",
       "      <td>0.310400</td>\n",
       "      <td>0.132554</td>\n",
       "    </tr>\n",
       "    <tr>\n",
       "      <th>10</th>\n",
       "      <td>123</td>\n",
       "      <td>CN</td>\n",
       "      <td>0.033150</td>\n",
       "      <td>0.273250</td>\n",
       "      <td>0.121058</td>\n",
       "    </tr>\n",
       "    <tr>\n",
       "      <th>11</th>\n",
       "      <td>126</td>\n",
       "      <td>MCI</td>\n",
       "      <td>0.035100</td>\n",
       "      <td>0.302800</td>\n",
       "      <td>0.115951</td>\n",
       "    </tr>\n",
       "    <tr>\n",
       "      <th>12</th>\n",
       "      <td>1261</td>\n",
       "      <td>CN</td>\n",
       "      <td>0.032700</td>\n",
       "      <td>0.272425</td>\n",
       "      <td>0.120020</td>\n",
       "    </tr>\n",
       "    <tr>\n",
       "      <th>13</th>\n",
       "      <td>1268</td>\n",
       "      <td>MCI</td>\n",
       "      <td>0.039800</td>\n",
       "      <td>0.341100</td>\n",
       "      <td>0.116588</td>\n",
       "    </tr>\n",
       "    <tr>\n",
       "      <th>14</th>\n",
       "      <td>1280</td>\n",
       "      <td>CN</td>\n",
       "      <td>0.032550</td>\n",
       "      <td>0.249050</td>\n",
       "      <td>0.130636</td>\n",
       "    </tr>\n",
       "    <tr>\n",
       "      <th>15</th>\n",
       "      <td>1352</td>\n",
       "      <td>MCI</td>\n",
       "      <td>0.031680</td>\n",
       "      <td>0.269480</td>\n",
       "      <td>0.114525</td>\n",
       "    </tr>\n",
       "    <tr>\n",
       "      <th>16</th>\n",
       "      <td>138</td>\n",
       "      <td>MCI</td>\n",
       "      <td>0.034889</td>\n",
       "      <td>0.336336</td>\n",
       "      <td>0.102629</td>\n",
       "    </tr>\n",
       "    <tr>\n",
       "      <th>17</th>\n",
       "      <td>1427</td>\n",
       "      <td>MCI</td>\n",
       "      <td>0.037828</td>\n",
       "      <td>0.334300</td>\n",
       "      <td>0.113128</td>\n",
       "    </tr>\n",
       "    <tr>\n",
       "      <th>18</th>\n",
       "      <td>166</td>\n",
       "      <td>CN</td>\n",
       "      <td>0.029000</td>\n",
       "      <td>0.251400</td>\n",
       "      <td>0.115393</td>\n",
       "    </tr>\n",
       "    <tr>\n",
       "      <th>19</th>\n",
       "      <td>173</td>\n",
       "      <td>CN</td>\n",
       "      <td>0.032400</td>\n",
       "      <td>0.268400</td>\n",
       "      <td>0.120859</td>\n",
       "    </tr>\n",
       "    <tr>\n",
       "      <th>20</th>\n",
       "      <td>260</td>\n",
       "      <td>CN</td>\n",
       "      <td>0.038114</td>\n",
       "      <td>0.290457</td>\n",
       "      <td>0.131389</td>\n",
       "    </tr>\n",
       "    <tr>\n",
       "      <th>21</th>\n",
       "      <td>285</td>\n",
       "      <td>MCI</td>\n",
       "      <td>0.023800</td>\n",
       "      <td>0.246000</td>\n",
       "      <td>0.096618</td>\n",
       "    </tr>\n",
       "    <tr>\n",
       "      <th>22</th>\n",
       "      <td>303</td>\n",
       "      <td>CN</td>\n",
       "      <td>0.033578</td>\n",
       "      <td>0.321845</td>\n",
       "      <td>0.104687</td>\n",
       "    </tr>\n",
       "    <tr>\n",
       "      <th>23</th>\n",
       "      <td>31</td>\n",
       "      <td>CN</td>\n",
       "      <td>0.035409</td>\n",
       "      <td>0.366812</td>\n",
       "      <td>0.097254</td>\n",
       "    </tr>\n",
       "    <tr>\n",
       "      <th>24</th>\n",
       "      <td>311</td>\n",
       "      <td>CN</td>\n",
       "      <td>0.033700</td>\n",
       "      <td>0.264800</td>\n",
       "      <td>0.127356</td>\n",
       "    </tr>\n",
       "    <tr>\n",
       "      <th>25</th>\n",
       "      <td>413</td>\n",
       "      <td>CN</td>\n",
       "      <td>0.034460</td>\n",
       "      <td>0.286703</td>\n",
       "      <td>0.119745</td>\n",
       "    </tr>\n",
       "    <tr>\n",
       "      <th>26</th>\n",
       "      <td>416</td>\n",
       "      <td>CN</td>\n",
       "      <td>0.040125</td>\n",
       "      <td>0.336825</td>\n",
       "      <td>0.119244</td>\n",
       "    </tr>\n",
       "    <tr>\n",
       "      <th>27</th>\n",
       "      <td>42</td>\n",
       "      <td>MCI</td>\n",
       "      <td>0.034300</td>\n",
       "      <td>0.279700</td>\n",
       "      <td>0.122664</td>\n",
       "    </tr>\n",
       "    <tr>\n",
       "      <th>28</th>\n",
       "      <td>498</td>\n",
       "      <td>CN</td>\n",
       "      <td>0.033600</td>\n",
       "      <td>0.243933</td>\n",
       "      <td>0.137519</td>\n",
       "    </tr>\n",
       "    <tr>\n",
       "      <th>29</th>\n",
       "      <td>56</td>\n",
       "      <td>CN</td>\n",
       "      <td>0.039033</td>\n",
       "      <td>0.274017</td>\n",
       "      <td>0.142062</td>\n",
       "    </tr>\n",
       "    <tr>\n",
       "      <th>30</th>\n",
       "      <td>59</td>\n",
       "      <td>CN</td>\n",
       "      <td>0.038867</td>\n",
       "      <td>0.280733</td>\n",
       "      <td>0.138475</td>\n",
       "    </tr>\n",
       "    <tr>\n",
       "      <th>31</th>\n",
       "      <td>602</td>\n",
       "      <td>CN</td>\n",
       "      <td>0.024155</td>\n",
       "      <td>0.258555</td>\n",
       "      <td>0.091989</td>\n",
       "    </tr>\n",
       "    <tr>\n",
       "      <th>32</th>\n",
       "      <td>61</td>\n",
       "      <td>CN</td>\n",
       "      <td>0.040100</td>\n",
       "      <td>0.333700</td>\n",
       "      <td>0.120133</td>\n",
       "    </tr>\n",
       "    <tr>\n",
       "      <th>33</th>\n",
       "      <td>610</td>\n",
       "      <td>CN</td>\n",
       "      <td>0.026758</td>\n",
       "      <td>0.237382</td>\n",
       "      <td>0.110963</td>\n",
       "    </tr>\n",
       "    <tr>\n",
       "      <th>34</th>\n",
       "      <td>671</td>\n",
       "      <td>MCI</td>\n",
       "      <td>0.024200</td>\n",
       "      <td>0.196800</td>\n",
       "      <td>0.123050</td>\n",
       "    </tr>\n",
       "    <tr>\n",
       "      <th>35</th>\n",
       "      <td>684</td>\n",
       "      <td>CN</td>\n",
       "      <td>0.028663</td>\n",
       "      <td>0.252966</td>\n",
       "      <td>0.113074</td>\n",
       "    </tr>\n",
       "    <tr>\n",
       "      <th>36</th>\n",
       "      <td>746</td>\n",
       "      <td>MCI</td>\n",
       "      <td>0.037480</td>\n",
       "      <td>0.279465</td>\n",
       "      <td>0.134122</td>\n",
       "    </tr>\n",
       "    <tr>\n",
       "      <th>37</th>\n",
       "      <td>89</td>\n",
       "      <td>CN</td>\n",
       "      <td>0.032460</td>\n",
       "      <td>0.261400</td>\n",
       "      <td>0.123462</td>\n",
       "    </tr>\n",
       "    <tr>\n",
       "      <th>38</th>\n",
       "      <td>896</td>\n",
       "      <td>CN</td>\n",
       "      <td>0.028668</td>\n",
       "      <td>0.265728</td>\n",
       "      <td>0.108892</td>\n",
       "    </tr>\n",
       "    <tr>\n",
       "      <th>39</th>\n",
       "      <td>906</td>\n",
       "      <td>MCI</td>\n",
       "      <td>0.035100</td>\n",
       "      <td>0.280200</td>\n",
       "      <td>0.125409</td>\n",
       "    </tr>\n",
       "    <tr>\n",
       "      <th>40</th>\n",
       "      <td>923</td>\n",
       "      <td>CN</td>\n",
       "      <td>0.047200</td>\n",
       "      <td>0.358000</td>\n",
       "      <td>0.131879</td>\n",
       "    </tr>\n",
       "    <tr>\n",
       "      <th>41</th>\n",
       "      <td>925</td>\n",
       "      <td>MCI</td>\n",
       "      <td>0.031670</td>\n",
       "      <td>0.324286</td>\n",
       "      <td>0.098533</td>\n",
       "    </tr>\n",
       "    <tr>\n",
       "      <th>42</th>\n",
       "      <td>926</td>\n",
       "      <td>CN</td>\n",
       "      <td>0.048000</td>\n",
       "      <td>0.325625</td>\n",
       "      <td>0.147529</td>\n",
       "    </tr>\n",
       "    <tr>\n",
       "      <th>43</th>\n",
       "      <td>96</td>\n",
       "      <td>CN</td>\n",
       "      <td>0.046425</td>\n",
       "      <td>0.346450</td>\n",
       "      <td>0.134769</td>\n",
       "    </tr>\n",
       "    <tr>\n",
       "      <th>44</th>\n",
       "      <td>981</td>\n",
       "      <td>CN</td>\n",
       "      <td>0.037075</td>\n",
       "      <td>0.338700</td>\n",
       "      <td>0.109286</td>\n",
       "    </tr>\n",
       "  </tbody>\n",
       "</table>\n",
       "</div>"
      ],
      "text/plain": [
       "     RID diag   ABETA42   ABETA40  ABETA42_40\n",
       "0   1016   CN  0.033020  0.273780    0.120559\n",
       "1   1045  MCI  0.043900  0.315250    0.139519\n",
       "2   1098   CN  0.028907  0.266347    0.106260\n",
       "3   1106  MCI  0.033800  0.242400    0.139299\n",
       "4    112  MCI  0.029700  0.240100    0.123693\n",
       "5   1130  MCI  0.025600  0.222100    0.115110\n",
       "6   1169   CN  0.032050  0.250125    0.127971\n",
       "7   1187  MCI  0.046437  0.445661    0.104895\n",
       "8   1190   CN  0.032500  0.298900    0.108597\n",
       "9    120   CN  0.041167  0.310400    0.132554\n",
       "10   123   CN  0.033150  0.273250    0.121058\n",
       "11   126  MCI  0.035100  0.302800    0.115951\n",
       "12  1261   CN  0.032700  0.272425    0.120020\n",
       "13  1268  MCI  0.039800  0.341100    0.116588\n",
       "14  1280   CN  0.032550  0.249050    0.130636\n",
       "15  1352  MCI  0.031680  0.269480    0.114525\n",
       "16   138  MCI  0.034889  0.336336    0.102629\n",
       "17  1427  MCI  0.037828  0.334300    0.113128\n",
       "18   166   CN  0.029000  0.251400    0.115393\n",
       "19   173   CN  0.032400  0.268400    0.120859\n",
       "20   260   CN  0.038114  0.290457    0.131389\n",
       "21   285  MCI  0.023800  0.246000    0.096618\n",
       "22   303   CN  0.033578  0.321845    0.104687\n",
       "23    31   CN  0.035409  0.366812    0.097254\n",
       "24   311   CN  0.033700  0.264800    0.127356\n",
       "25   413   CN  0.034460  0.286703    0.119745\n",
       "26   416   CN  0.040125  0.336825    0.119244\n",
       "27    42  MCI  0.034300  0.279700    0.122664\n",
       "28   498   CN  0.033600  0.243933    0.137519\n",
       "29    56   CN  0.039033  0.274017    0.142062\n",
       "30    59   CN  0.038867  0.280733    0.138475\n",
       "31   602   CN  0.024155  0.258555    0.091989\n",
       "32    61   CN  0.040100  0.333700    0.120133\n",
       "33   610   CN  0.026758  0.237382    0.110963\n",
       "34   671  MCI  0.024200  0.196800    0.123050\n",
       "35   684   CN  0.028663  0.252966    0.113074\n",
       "36   746  MCI  0.037480  0.279465    0.134122\n",
       "37    89   CN  0.032460  0.261400    0.123462\n",
       "38   896   CN  0.028668  0.265728    0.108892\n",
       "39   906  MCI  0.035100  0.280200    0.125409\n",
       "40   923   CN  0.047200  0.358000    0.131879\n",
       "41   925  MCI  0.031670  0.324286    0.098533\n",
       "42   926   CN  0.048000  0.325625    0.147529\n",
       "43    96   CN  0.046425  0.346450    0.134769\n",
       "44   981   CN  0.037075  0.338700    0.109286"
      ]
     },
     "execution_count": 17,
     "metadata": {},
     "output_type": "execute_result"
    }
   ],
   "source": [
    "df_plasma_amyloid_merged_grouped"
   ]
  },
  {
   "cell_type": "code",
   "execution_count": 18,
   "metadata": {},
   "outputs": [
    {
     "name": "stdout",
     "output_type": "stream",
     "text": [
      "CN     29\n",
      "MCI    16\n",
      "Name: diag, dtype: int64\n"
     ]
    }
   ],
   "source": [
    "print(df_plasma_amyloid_merged_grouped[\"diag\"].value_counts())"
   ]
  },
  {
   "cell_type": "code",
   "execution_count": 38,
   "metadata": {},
   "outputs": [
    {
     "data": {
      "image/png": "[encoded data removed]",
      "text/plain": [
       "<Figure size 640x480 with 1 Axes>"
      ]
     },
     "metadata": {},
     "output_type": "display_data"
    }
   ],
   "source": [
    "#plt.xlim(0, 15)\n",
    "\n",
    "fig = sns.kdeplot(df_plasma_amyloid_merged_grouped[(df_plasma_amyloid_merged_grouped['diag'] == 'CN') & (~df_plasma_amyloid_merged_grouped['ABETA42_40'].isna())]['ABETA42_40'], fill=True, color='#74c476')\n",
    "fig = sns.kdeplot(df_plasma_amyloid_merged_grouped[(df_plasma_amyloid_merged_grouped['diag'] == 'MCI') & (~df_plasma_amyloid_merged_grouped['ABETA42_40'].isna())]['ABETA42_40'], fill=True, color='#fecc5c')\n",
    "fig = sns.kdeplot(df_plasma_amyloid_merged_grouped[(df_plasma_amyloid_merged_grouped['diag'] == 'AD') & (~df_plasma_amyloid_merged_grouped['ABETA42_40'].isna())]['ABETA42_40'], fill=True, color='#fc9272')\n",
    "\n",
    "plt.legend(['CN', 'MCI', 'AD'], loc='upper left')\n",
    "\n",
    "fig.set(ylabel='Subject Density', xlabel='Plasma Beta-Amyloid 1-42/1-40 concentrations ratio', title='CSF Beta-Amyloid 1-42/1-40 concentrations ratio');"
   ]
  },
  {
   "cell_type": "code",
   "execution_count": 36,
   "metadata": {},
   "outputs": [
    {
     "data": {
      "image/png": "[encoded data removed]",
      "text/plain": [
       "<Figure size 640x480 with 1 Axes>"
      ]
     },
     "metadata": {},
     "output_type": "display_data"
    }
   ],
   "source": [
    "#plt.xlim(0, 4)\n",
    "plt.rcParams.update({'font.size': 13})\n",
    "colors = ['#74c476', '#fecc5c']\n",
    "fig = sns.kdeplot(data = df_plasma_amyloid_merged_grouped[~df_plasma_amyloid_merged_grouped['ABETA42_40'].isna()].reset_index(drop=True), hue = 'diag', x='ABETA42_40', fill = True, palette = colors)\n",
    "#fig = sns.kdeplot(df_tau_merged[(df_tau_merged['diag'] == 'MCI') & (~df_tau_merged['PLASMATAU'].isna())]['PLASMATAU'], color='#fecc5c')\n",
    "#fig = sns.kdeplot(df_tau_merged[(df_tau_merged['diag'] == 'AD') & (~df_tau_merged['PLASMATAU'].isna())]['PLASMATAU'], color='#fc9272')\n",
    "\n",
    "plt.legend(['CN', 'MCI', 'AD'], loc='upper right')\n",
    "\n",
    "fig.set(ylabel='Subject Density', xlabel='Plasma Beta-Amyloid 1-42/1-40 concentrations ratio', title='CSF Beta-Amyloid 1-42/1-40 concentrations ratio');"
   ]
  }
 ],
 "metadata": {
  "kernelspec": {
   "display_name": "tensorflow-gpu-3.8",
   "language": "python",
   "name": "python3"
  },
  "language_info": {
   "codemirror_mode": {
    "name": "ipython",
    "version": 3
   },
   "file_extension": ".py",
   "mimetype": "text/x-python",
   "name": "python",
   "nbconvert_exporter": "python",
   "pygments_lexer": "ipython3",
   "version": "3.8.16"
  },
  "orig_nbformat": 4
 },
 "nbformat": 4,
 "nbformat_minor": 2
}
