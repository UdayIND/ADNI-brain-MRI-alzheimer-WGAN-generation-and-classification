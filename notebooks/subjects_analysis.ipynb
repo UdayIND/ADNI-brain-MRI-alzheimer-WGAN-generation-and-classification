{
 "cells": [
  {
   "attachments": {},
   "cell_type": "markdown",
   "metadata": {},
   "source": [
    "**Importing libraries**"
   ]
  },
  {
   "cell_type": "code",
   "execution_count": 202,
   "metadata": {},
   "outputs": [],
   "source": [
    "import pandas as pd\n",
    "import re\n",
    "import numpy as np\n",
    "import matplotlib.pyplot as plt\n",
    "import seaborn as sns"
   ]
  },
  {
   "attachments": {},
   "cell_type": "markdown",
   "metadata": {},
   "source": [
    "**PIPELINE**\n",
    "- Get table of users we have the images of\n",
    "- Get table of users we have the demographics of\n",
    "- Preprocessing of the demographics table\n",
    "- Merge the two tables\n",
    "- Demographics analysis on the merged table"
   ]
  },
  {
   "attachments": {},
   "cell_type": "markdown",
   "metadata": {},
   "source": [
    "### 1. Get table of subjects we have the images of"
   ]
  },
  {
   "attachments": {},
   "cell_type": "markdown",
   "metadata": {},
   "source": [
    "This csv contains all the images that we are going to use with their user. It also contain a few more information about the images and the users, but not all of them (more can be obtained by linking this table to other files)"
   ]
  },
  {
   "cell_type": "code",
   "execution_count": 134,
   "metadata": {},
   "outputs": [
    {
     "data": {
      "text/html": [
       "<div>\n",
       "<style scoped>\n",
       "    .dataframe tbody tr th:only-of-type {\n",
       "        vertical-align: middle;\n",
       "    }\n",
       "\n",
       "    .dataframe tbody tr th {\n",
       "        vertical-align: top;\n",
       "    }\n",
       "\n",
       "    .dataframe thead th {\n",
       "        text-align: right;\n",
       "    }\n",
       "</style>\n",
       "<table border=\"1\" class=\"dataframe\">\n",
       "  <thead>\n",
       "    <tr style=\"text-align: right;\">\n",
       "      <th></th>\n",
       "      <th>Image Data ID</th>\n",
       "      <th>Subject</th>\n",
       "      <th>Group</th>\n",
       "      <th>Sex</th>\n",
       "      <th>Age</th>\n",
       "      <th>Visit</th>\n",
       "      <th>Modality</th>\n",
       "      <th>Description</th>\n",
       "      <th>Type</th>\n",
       "      <th>Acq Date</th>\n",
       "      <th>Format</th>\n",
       "      <th>Downloaded</th>\n",
       "    </tr>\n",
       "  </thead>\n",
       "  <tbody>\n",
       "    <tr>\n",
       "      <th>0</th>\n",
       "      <td>I63897</td>\n",
       "      <td>941_S_1363</td>\n",
       "      <td>MCI</td>\n",
       "      <td>F</td>\n",
       "      <td>70</td>\n",
       "      <td>sc</td>\n",
       "      <td>MRI</td>\n",
       "      <td>MPR; GradWarp; B1 Correction; N3; Scaled</td>\n",
       "      <td>Processed</td>\n",
       "      <td>3/12/2007</td>\n",
       "      <td>NiFTI</td>\n",
       "      <td>5/20/2023</td>\n",
       "    </tr>\n",
       "    <tr>\n",
       "      <th>1</th>\n",
       "      <td>I123812</td>\n",
       "      <td>941_S_1311</td>\n",
       "      <td>MCI</td>\n",
       "      <td>M</td>\n",
       "      <td>71</td>\n",
       "      <td>m18</td>\n",
       "      <td>MRI</td>\n",
       "      <td>MPR; GradWarp; B1 Correction; N3; Scaled</td>\n",
       "      <td>Processed</td>\n",
       "      <td>9/21/2008</td>\n",
       "      <td>NiFTI</td>\n",
       "      <td>5/20/2023</td>\n",
       "    </tr>\n",
       "    <tr>\n",
       "      <th>2</th>\n",
       "      <td>I143861</td>\n",
       "      <td>941_S_1311</td>\n",
       "      <td>MCI</td>\n",
       "      <td>M</td>\n",
       "      <td>71</td>\n",
       "      <td>m24</td>\n",
       "      <td>MRI</td>\n",
       "      <td>MPR; GradWarp; B1 Correction; N3; Scaled</td>\n",
       "      <td>Processed</td>\n",
       "      <td>3/31/2009</td>\n",
       "      <td>NiFTI</td>\n",
       "      <td>5/20/2023</td>\n",
       "    </tr>\n",
       "    <tr>\n",
       "      <th>3</th>\n",
       "      <td>I112538</td>\n",
       "      <td>941_S_1311</td>\n",
       "      <td>MCI</td>\n",
       "      <td>M</td>\n",
       "      <td>70</td>\n",
       "      <td>m12</td>\n",
       "      <td>MRI</td>\n",
       "      <td>MPR; GradWarp; B1 Correction; N3; Scaled</td>\n",
       "      <td>Processed</td>\n",
       "      <td>6/01/2008</td>\n",
       "      <td>NiFTI</td>\n",
       "      <td>5/20/2023</td>\n",
       "    </tr>\n",
       "    <tr>\n",
       "      <th>4</th>\n",
       "      <td>I97327</td>\n",
       "      <td>941_S_1311</td>\n",
       "      <td>MCI</td>\n",
       "      <td>M</td>\n",
       "      <td>69</td>\n",
       "      <td>sc</td>\n",
       "      <td>MRI</td>\n",
       "      <td>MPR; GradWarp; B1 Correction; N3; Scaled</td>\n",
       "      <td>Processed</td>\n",
       "      <td>3/02/2007</td>\n",
       "      <td>NiFTI</td>\n",
       "      <td>5/20/2023</td>\n",
       "    </tr>\n",
       "  </tbody>\n",
       "</table>\n",
       "</div>"
      ],
      "text/plain": [
       "  Image Data ID     Subject Group Sex  Age Visit Modality   \n",
       "0        I63897  941_S_1363   MCI   F   70    sc      MRI  \\\n",
       "1       I123812  941_S_1311   MCI   M   71   m18      MRI   \n",
       "2       I143861  941_S_1311   MCI   M   71   m24      MRI   \n",
       "3       I112538  941_S_1311   MCI   M   70   m12      MRI   \n",
       "4        I97327  941_S_1311   MCI   M   69    sc      MRI   \n",
       "\n",
       "                                Description       Type   Acq Date Format   \n",
       "0  MPR; GradWarp; B1 Correction; N3; Scaled  Processed  3/12/2007  NiFTI  \\\n",
       "1  MPR; GradWarp; B1 Correction; N3; Scaled  Processed  9/21/2008  NiFTI   \n",
       "2  MPR; GradWarp; B1 Correction; N3; Scaled  Processed  3/31/2009  NiFTI   \n",
       "3  MPR; GradWarp; B1 Correction; N3; Scaled  Processed  6/01/2008  NiFTI   \n",
       "4  MPR; GradWarp; B1 Correction; N3; Scaled  Processed  3/02/2007  NiFTI   \n",
       "\n",
       "  Downloaded  \n",
       "0  5/20/2023  \n",
       "1  5/20/2023  \n",
       "2  5/20/2023  \n",
       "3  5/20/2023  \n",
       "4  5/20/2023  "
      ]
     },
     "execution_count": 134,
     "metadata": {},
     "output_type": "execute_result"
    }
   ],
   "source": [
    "downladed_images_df = pd.read_csv('C:\\\\Users\\\\Emili\\\\BIOLAB_project\\\\downloaded_images_subject_list.csv')\n",
    "downladed_images_df.head()"
   ]
  },
  {
   "cell_type": "code",
   "execution_count": 135,
   "metadata": {},
   "outputs": [
    {
     "name": "stdout",
     "output_type": "stream",
     "text": [
      "Total number of images:  2495\n",
      "Total number of subjects:  648\n"
     ]
    }
   ],
   "source": [
    "print('Total number of images: ', len(downladed_images_df))\n",
    "print('Total number of subjects: ', len(downladed_images_df['Subject'].unique()))"
   ]
  },
  {
   "cell_type": "code",
   "execution_count": 136,
   "metadata": {},
   "outputs": [
    {
     "data": {
      "text/plain": [
       "0"
      ]
     },
     "execution_count": 136,
     "metadata": {},
     "output_type": "execute_result"
    }
   ],
   "source": [
    "downladed_images_df.isna().any().sum()"
   ]
  },
  {
   "attachments": {},
   "cell_type": "markdown",
   "metadata": {},
   "source": [
    "There are no missing values from this table"
   ]
  },
  {
   "attachments": {},
   "cell_type": "markdown",
   "metadata": {},
   "source": [
    "### 2. Get table of users we have the demographics of"
   ]
  },
  {
   "attachments": {},
   "cell_type": "markdown",
   "metadata": {},
   "source": [
    "Let's download now a demographic table to add more attributes to the users. The meaning of each column is explained at the following link:\n",
    "https://adni.loni.usc.edu/data-dictionary-search/\n",
    "\n",
    "In both tables, 1 record (row) corresponds to 1 image"
   ]
  },
  {
   "cell_type": "code",
   "execution_count": 137,
   "metadata": {},
   "outputs": [
    {
     "data": {
      "text/html": [
       "<div>\n",
       "<style scoped>\n",
       "    .dataframe tbody tr th:only-of-type {\n",
       "        vertical-align: middle;\n",
       "    }\n",
       "\n",
       "    .dataframe tbody tr th {\n",
       "        vertical-align: top;\n",
       "    }\n",
       "\n",
       "    .dataframe thead th {\n",
       "        text-align: right;\n",
       "    }\n",
       "</style>\n",
       "<table border=\"1\" class=\"dataframe\">\n",
       "  <thead>\n",
       "    <tr style=\"text-align: right;\">\n",
       "      <th></th>\n",
       "      <th>Phase</th>\n",
       "      <th>ID</th>\n",
       "      <th>RID</th>\n",
       "      <th>SITEID</th>\n",
       "      <th>VISCODE</th>\n",
       "      <th>VISCODE2</th>\n",
       "      <th>USERDATE</th>\n",
       "      <th>USERDATE2</th>\n",
       "      <th>PTSOURCE</th>\n",
       "      <th>PTGENDER</th>\n",
       "      <th>...</th>\n",
       "      <th>PTTLANG</th>\n",
       "      <th>PTPLANG</th>\n",
       "      <th>PTPSPEC</th>\n",
       "      <th>PTCOGBEG</th>\n",
       "      <th>PTMCIBEG</th>\n",
       "      <th>PTADBEG</th>\n",
       "      <th>PTADDX</th>\n",
       "      <th>PTETHCAT</th>\n",
       "      <th>PTRACCAT</th>\n",
       "      <th>update_stamp</th>\n",
       "    </tr>\n",
       "  </thead>\n",
       "  <tbody>\n",
       "    <tr>\n",
       "      <th>0</th>\n",
       "      <td>ADNI1</td>\n",
       "      <td>18</td>\n",
       "      <td>2</td>\n",
       "      <td>107</td>\n",
       "      <td>sc</td>\n",
       "      <td>sc</td>\n",
       "      <td>2005-08-17</td>\n",
       "      <td>NaN</td>\n",
       "      <td>1.0</td>\n",
       "      <td>1.0</td>\n",
       "      <td>...</td>\n",
       "      <td>1.0</td>\n",
       "      <td>1.0</td>\n",
       "      <td>-4</td>\n",
       "      <td>NaN</td>\n",
       "      <td>NaN</td>\n",
       "      <td>-4.0</td>\n",
       "      <td>NaN</td>\n",
       "      <td>2.0</td>\n",
       "      <td>5.0</td>\n",
       "      <td>2005-08-17 00:00:00.0</td>\n",
       "    </tr>\n",
       "    <tr>\n",
       "      <th>1</th>\n",
       "      <td>ADNI1</td>\n",
       "      <td>20</td>\n",
       "      <td>1</td>\n",
       "      <td>10</td>\n",
       "      <td>f</td>\n",
       "      <td>f</td>\n",
       "      <td>2005-08-18</td>\n",
       "      <td>NaN</td>\n",
       "      <td>1.0</td>\n",
       "      <td>2.0</td>\n",
       "      <td>...</td>\n",
       "      <td>-4.0</td>\n",
       "      <td>-4.0</td>\n",
       "      <td>-4</td>\n",
       "      <td>NaN</td>\n",
       "      <td>NaN</td>\n",
       "      <td>-4.0</td>\n",
       "      <td>NaN</td>\n",
       "      <td>-4.0</td>\n",
       "      <td>-4.0</td>\n",
       "      <td>2005-08-18 00:00:00.0</td>\n",
       "    </tr>\n",
       "    <tr>\n",
       "      <th>2</th>\n",
       "      <td>ADNI1</td>\n",
       "      <td>22</td>\n",
       "      <td>3</td>\n",
       "      <td>107</td>\n",
       "      <td>sc</td>\n",
       "      <td>sc</td>\n",
       "      <td>2005-08-18</td>\n",
       "      <td>NaN</td>\n",
       "      <td>1.0</td>\n",
       "      <td>1.0</td>\n",
       "      <td>...</td>\n",
       "      <td>1.0</td>\n",
       "      <td>1.0</td>\n",
       "      <td>-4</td>\n",
       "      <td>NaN</td>\n",
       "      <td>NaN</td>\n",
       "      <td>1999.0</td>\n",
       "      <td>NaN</td>\n",
       "      <td>2.0</td>\n",
       "      <td>5.0</td>\n",
       "      <td>2005-08-18 00:00:00.0</td>\n",
       "    </tr>\n",
       "    <tr>\n",
       "      <th>3</th>\n",
       "      <td>ADNI1</td>\n",
       "      <td>24</td>\n",
       "      <td>4</td>\n",
       "      <td>10</td>\n",
       "      <td>sc</td>\n",
       "      <td>sc</td>\n",
       "      <td>2005-08-18</td>\n",
       "      <td>NaN</td>\n",
       "      <td>1.0</td>\n",
       "      <td>1.0</td>\n",
       "      <td>...</td>\n",
       "      <td>2.0</td>\n",
       "      <td>2.0</td>\n",
       "      <td>-4</td>\n",
       "      <td>NaN</td>\n",
       "      <td>NaN</td>\n",
       "      <td>-4.0</td>\n",
       "      <td>NaN</td>\n",
       "      <td>1.0</td>\n",
       "      <td>5.0</td>\n",
       "      <td>2005-08-18 00:00:00.0</td>\n",
       "    </tr>\n",
       "    <tr>\n",
       "      <th>4</th>\n",
       "      <td>ADNI1</td>\n",
       "      <td>26</td>\n",
       "      <td>5</td>\n",
       "      <td>107</td>\n",
       "      <td>sc</td>\n",
       "      <td>sc</td>\n",
       "      <td>2005-08-23</td>\n",
       "      <td>NaN</td>\n",
       "      <td>1.0</td>\n",
       "      <td>1.0</td>\n",
       "      <td>...</td>\n",
       "      <td>1.0</td>\n",
       "      <td>1.0</td>\n",
       "      <td>-4</td>\n",
       "      <td>NaN</td>\n",
       "      <td>NaN</td>\n",
       "      <td>-4.0</td>\n",
       "      <td>NaN</td>\n",
       "      <td>2.0</td>\n",
       "      <td>5.0</td>\n",
       "      <td>2005-08-23 00:00:00.0</td>\n",
       "    </tr>\n",
       "  </tbody>\n",
       "</table>\n",
       "<p>5 rows × 32 columns</p>\n",
       "</div>"
      ],
      "text/plain": [
       "   Phase  ID  RID  SITEID VISCODE VISCODE2    USERDATE USERDATE2  PTSOURCE   \n",
       "0  ADNI1  18    2     107      sc       sc  2005-08-17       NaN       1.0  \\\n",
       "1  ADNI1  20    1      10       f        f  2005-08-18       NaN       1.0   \n",
       "2  ADNI1  22    3     107      sc       sc  2005-08-18       NaN       1.0   \n",
       "3  ADNI1  24    4      10      sc       sc  2005-08-18       NaN       1.0   \n",
       "4  ADNI1  26    5     107      sc       sc  2005-08-23       NaN       1.0   \n",
       "\n",
       "   PTGENDER  ...  PTTLANG  PTPLANG  PTPSPEC  PTCOGBEG  PTMCIBEG  PTADBEG   \n",
       "0       1.0  ...      1.0      1.0       -4       NaN       NaN     -4.0  \\\n",
       "1       2.0  ...     -4.0     -4.0       -4       NaN       NaN     -4.0   \n",
       "2       1.0  ...      1.0      1.0       -4       NaN       NaN   1999.0   \n",
       "3       1.0  ...      2.0      2.0       -4       NaN       NaN     -4.0   \n",
       "4       1.0  ...      1.0      1.0       -4       NaN       NaN     -4.0   \n",
       "\n",
       "  PTADDX PTETHCAT  PTRACCAT           update_stamp  \n",
       "0    NaN      2.0       5.0  2005-08-17 00:00:00.0  \n",
       "1    NaN     -4.0      -4.0  2005-08-18 00:00:00.0  \n",
       "2    NaN      2.0       5.0  2005-08-18 00:00:00.0  \n",
       "3    NaN      1.0       5.0  2005-08-18 00:00:00.0  \n",
       "4    NaN      2.0       5.0  2005-08-23 00:00:00.0  \n",
       "\n",
       "[5 rows x 32 columns]"
      ]
     },
     "execution_count": 137,
     "metadata": {},
     "output_type": "execute_result"
    }
   ],
   "source": [
    "demographics_df = pd.read_csv('C:\\\\Users\\\\Emili\\\\BIOLAB_project\\\\PTDEMOG_21May2023.csv')\n",
    "demographics_df.head()"
   ]
  },
  {
   "cell_type": "code",
   "execution_count": 138,
   "metadata": {},
   "outputs": [
    {
     "name": "stdout",
     "output_type": "stream",
     "text": [
      "Total number of participants: 4079\n"
     ]
    }
   ],
   "source": [
    "print('Total number of participants:', len(demographics_df['RID'].unique()))"
   ]
  },
  {
   "attachments": {},
   "cell_type": "markdown",
   "metadata": {},
   "source": [
    "### 3. Preprocessing of the demographics table"
   ]
  },
  {
   "attachments": {},
   "cell_type": "markdown",
   "metadata": {},
   "source": [
    "**Keeping only one record per user**\n",
    "\n",
    "Some people participated to more than one phase of the trials (e.g. ADNI1, ADNIGO, ADNI2, ADNI3), and we even have data of the same user for the same phase. We want to keep only one record per user, so we will keep the one with the most recent phase (the rows are already orderer in a chronologically way, meaning ADNI1 -> ADNIGO -> ADNI2 -> ADNI3)."
   ]
  },
  {
   "cell_type": "code",
   "execution_count": 139,
   "metadata": {},
   "outputs": [
    {
     "data": {
      "text/plain": [
       "Phase\n",
       "ADNI2     1665\n",
       "ADNI1     1443\n",
       "ADNI3     1096\n",
       "ADNIGO     651\n",
       "Name: count, dtype: int64"
      ]
     },
     "execution_count": 139,
     "metadata": {},
     "output_type": "execute_result"
    }
   ],
   "source": [
    "demographics_df['Phase'].value_counts()"
   ]
  },
  {
   "attachments": {},
   "cell_type": "markdown",
   "metadata": {},
   "source": [
    "As we can see from the example below, participant may have some missing values in one record and not the other. For this reason we will keep the record with the most information by keeping only one record per users after having eliminated the rows with missing values."
   ]
  },
  {
   "cell_type": "code",
   "execution_count": 140,
   "metadata": {},
   "outputs": [
    {
     "data": {
      "text/html": [
       "<div>\n",
       "<style scoped>\n",
       "    .dataframe tbody tr th:only-of-type {\n",
       "        vertical-align: middle;\n",
       "    }\n",
       "\n",
       "    .dataframe tbody tr th {\n",
       "        vertical-align: top;\n",
       "    }\n",
       "\n",
       "    .dataframe thead th {\n",
       "        text-align: right;\n",
       "    }\n",
       "</style>\n",
       "<table border=\"1\" class=\"dataframe\">\n",
       "  <thead>\n",
       "    <tr style=\"text-align: right;\">\n",
       "      <th></th>\n",
       "      <th>Phase</th>\n",
       "      <th>ID</th>\n",
       "      <th>RID</th>\n",
       "      <th>SITEID</th>\n",
       "      <th>VISCODE</th>\n",
       "      <th>VISCODE2</th>\n",
       "      <th>USERDATE</th>\n",
       "      <th>USERDATE2</th>\n",
       "      <th>PTSOURCE</th>\n",
       "      <th>PTGENDER</th>\n",
       "      <th>...</th>\n",
       "      <th>PTTLANG</th>\n",
       "      <th>PTPLANG</th>\n",
       "      <th>PTPSPEC</th>\n",
       "      <th>PTCOGBEG</th>\n",
       "      <th>PTMCIBEG</th>\n",
       "      <th>PTADBEG</th>\n",
       "      <th>PTADDX</th>\n",
       "      <th>PTETHCAT</th>\n",
       "      <th>PTRACCAT</th>\n",
       "      <th>update_stamp</th>\n",
       "    </tr>\n",
       "  </thead>\n",
       "  <tbody>\n",
       "    <tr>\n",
       "      <th>1368</th>\n",
       "      <td>ADNI1</td>\n",
       "      <td>2810</td>\n",
       "      <td>1417</td>\n",
       "      <td>41</td>\n",
       "      <td>sc</td>\n",
       "      <td>sc</td>\n",
       "      <td>2007-06-27</td>\n",
       "      <td>NaN</td>\n",
       "      <td>1.0</td>\n",
       "      <td>1.0</td>\n",
       "      <td>...</td>\n",
       "      <td>1.0</td>\n",
       "      <td>1.0</td>\n",
       "      <td>-4</td>\n",
       "      <td>NaN</td>\n",
       "      <td>NaN</td>\n",
       "      <td>-4.0</td>\n",
       "      <td>NaN</td>\n",
       "      <td>2.0</td>\n",
       "      <td>5.0</td>\n",
       "      <td>2007-06-27 00:00:00.0</td>\n",
       "    </tr>\n",
       "    <tr>\n",
       "      <th>1418</th>\n",
       "      <td>ADNI1</td>\n",
       "      <td>2936</td>\n",
       "      <td>1417</td>\n",
       "      <td>41</td>\n",
       "      <td>m12</td>\n",
       "      <td>m12</td>\n",
       "      <td>2008-07-29</td>\n",
       "      <td>NaN</td>\n",
       "      <td>1.0</td>\n",
       "      <td>-4.0</td>\n",
       "      <td>...</td>\n",
       "      <td>-4.0</td>\n",
       "      <td>-4.0</td>\n",
       "      <td>-4</td>\n",
       "      <td>NaN</td>\n",
       "      <td>NaN</td>\n",
       "      <td>-4.0</td>\n",
       "      <td>NaN</td>\n",
       "      <td>-4.0</td>\n",
       "      <td>-4.0</td>\n",
       "      <td>2008-07-29 00:00:00.0</td>\n",
       "    </tr>\n",
       "    <tr>\n",
       "      <th>1439</th>\n",
       "      <td>ADNI1</td>\n",
       "      <td>2980</td>\n",
       "      <td>1417</td>\n",
       "      <td>41</td>\n",
       "      <td>m18</td>\n",
       "      <td>m18</td>\n",
       "      <td>2013-07-08</td>\n",
       "      <td>NaN</td>\n",
       "      <td>2.0</td>\n",
       "      <td>-4.0</td>\n",
       "      <td>...</td>\n",
       "      <td>-4.0</td>\n",
       "      <td>-4.0</td>\n",
       "      <td>-4</td>\n",
       "      <td>NaN</td>\n",
       "      <td>NaN</td>\n",
       "      <td>-4.0</td>\n",
       "      <td>NaN</td>\n",
       "      <td>-4.0</td>\n",
       "      <td>-4.0</td>\n",
       "      <td>2013-07-08 00:00:00.0</td>\n",
       "    </tr>\n",
       "    <tr>\n",
       "      <th>1544</th>\n",
       "      <td>ADNIGO</td>\n",
       "      <td>250</td>\n",
       "      <td>1417</td>\n",
       "      <td>37</td>\n",
       "      <td>sc</td>\n",
       "      <td>sc</td>\n",
       "      <td>2010-09-07</td>\n",
       "      <td>NaN</td>\n",
       "      <td>1.0</td>\n",
       "      <td>1.0</td>\n",
       "      <td>...</td>\n",
       "      <td>1.0</td>\n",
       "      <td>1.0</td>\n",
       "      <td>-4</td>\n",
       "      <td>NaN</td>\n",
       "      <td>2006.0</td>\n",
       "      <td>NaN</td>\n",
       "      <td>NaN</td>\n",
       "      <td>2.0</td>\n",
       "      <td>5.0</td>\n",
       "      <td>2013-03-22 15:23:58.0</td>\n",
       "    </tr>\n",
       "    <tr>\n",
       "      <th>2074</th>\n",
       "      <td>ADNIGO</td>\n",
       "      <td>1326</td>\n",
       "      <td>1417</td>\n",
       "      <td>37</td>\n",
       "      <td>m36</td>\n",
       "      <td>m36</td>\n",
       "      <td>2011-09-01</td>\n",
       "      <td>NaN</td>\n",
       "      <td>1.0</td>\n",
       "      <td>NaN</td>\n",
       "      <td>...</td>\n",
       "      <td>NaN</td>\n",
       "      <td>NaN</td>\n",
       "      <td>-4</td>\n",
       "      <td>NaN</td>\n",
       "      <td>NaN</td>\n",
       "      <td>NaN</td>\n",
       "      <td>NaN</td>\n",
       "      <td>NaN</td>\n",
       "      <td>NaN</td>\n",
       "      <td>2012-11-16 09:42:48.0</td>\n",
       "    </tr>\n",
       "    <tr>\n",
       "      <th>2368</th>\n",
       "      <td>ADNI2</td>\n",
       "      <td>564</td>\n",
       "      <td>1417</td>\n",
       "      <td>37</td>\n",
       "      <td>v06</td>\n",
       "      <td>m48</td>\n",
       "      <td>2011-09-02</td>\n",
       "      <td>2013-07-08</td>\n",
       "      <td>1.0</td>\n",
       "      <td>1.0</td>\n",
       "      <td>...</td>\n",
       "      <td>1.0</td>\n",
       "      <td>1.0</td>\n",
       "      <td>-4</td>\n",
       "      <td>2006.0</td>\n",
       "      <td>NaN</td>\n",
       "      <td>NaN</td>\n",
       "      <td>9999.0</td>\n",
       "      <td>2.0</td>\n",
       "      <td>5.0</td>\n",
       "      <td>2013-07-08 19:18:56.0</td>\n",
       "    </tr>\n",
       "  </tbody>\n",
       "</table>\n",
       "<p>6 rows × 32 columns</p>\n",
       "</div>"
      ],
      "text/plain": [
       "       Phase    ID   RID  SITEID VISCODE VISCODE2    USERDATE   USERDATE2   \n",
       "1368   ADNI1  2810  1417      41      sc       sc  2007-06-27         NaN  \\\n",
       "1418   ADNI1  2936  1417      41     m12      m12  2008-07-29         NaN   \n",
       "1439   ADNI1  2980  1417      41     m18      m18  2013-07-08         NaN   \n",
       "1544  ADNIGO   250  1417      37      sc       sc  2010-09-07         NaN   \n",
       "2074  ADNIGO  1326  1417      37     m36      m36  2011-09-01         NaN   \n",
       "2368   ADNI2   564  1417      37     v06      m48  2011-09-02  2013-07-08   \n",
       "\n",
       "      PTSOURCE  PTGENDER  ...  PTTLANG  PTPLANG  PTPSPEC  PTCOGBEG  PTMCIBEG   \n",
       "1368       1.0       1.0  ...      1.0      1.0       -4       NaN       NaN  \\\n",
       "1418       1.0      -4.0  ...     -4.0     -4.0       -4       NaN       NaN   \n",
       "1439       2.0      -4.0  ...     -4.0     -4.0       -4       NaN       NaN   \n",
       "1544       1.0       1.0  ...      1.0      1.0       -4       NaN    2006.0   \n",
       "2074       1.0       NaN  ...      NaN      NaN       -4       NaN       NaN   \n",
       "2368       1.0       1.0  ...      1.0      1.0       -4    2006.0       NaN   \n",
       "\n",
       "      PTADBEG  PTADDX PTETHCAT  PTRACCAT           update_stamp  \n",
       "1368     -4.0     NaN      2.0       5.0  2007-06-27 00:00:00.0  \n",
       "1418     -4.0     NaN     -4.0      -4.0  2008-07-29 00:00:00.0  \n",
       "1439     -4.0     NaN     -4.0      -4.0  2013-07-08 00:00:00.0  \n",
       "1544      NaN     NaN      2.0       5.0  2013-03-22 15:23:58.0  \n",
       "2074      NaN     NaN      NaN       NaN  2012-11-16 09:42:48.0  \n",
       "2368      NaN  9999.0      2.0       5.0  2013-07-08 19:18:56.0  \n",
       "\n",
       "[6 rows x 32 columns]"
      ]
     },
     "execution_count": 140,
     "metadata": {},
     "output_type": "execute_result"
    }
   ],
   "source": [
    "demographics_df[demographics_df['RID'] == 1417]"
   ]
  },
  {
   "attachments": {},
   "cell_type": "markdown",
   "metadata": {},
   "source": [
    "**Selecting attributes**"
   ]
  },
  {
   "attachments": {},
   "cell_type": "markdown",
   "metadata": {},
   "source": [
    "- RID = Participant roster ID, ID = Record ID -> to merge the two tables\n",
    "- USERDATE = Date when record was created\n",
    "- PTSOURCE = Source of the participant (1=Participant Visit, 2=Telephone Call)\n",
    "- PTGENDER = Gender of the participant (1=Male, 2=Female, -4=Missing) -> use it to check merge\n",
    "- PTEDUCAT = Years of education of the participant (0-20, -1 or-4=Missing)\n",
    "- PTMARRY = Marital status of the participant (1=Married; 2=Widowed; 3=Divorced; 4=Never married; \n",
    "            5 or -4=Unknown)\n",
    "- PTDOBYY = Year of birth of the participant -> use it to check merge\n",
    "- PTHAND = Handedness of the participant (1=Right, 2=Left)\n",
    "- PTWORKHS = Does the participant have a work history sufficient to exclude mental retardation\n",
    "            (1=Yes, 2=No, -4=Missing)\n",
    "- PTWORK = Primary occupation during most of adult life (-4=Missing)\n",
    "- PTWRECNT = Most recent occupation (-4=Missing)\n",
    "- PTNOTRT =  Participant Retired? (1=Yes, 0=No, 2=Not applicable, -4=Missing)\n",
    "- PTRTYR = Retirement Date (-4=Missing)\n",
    "- PTHOME = Type of participant residence (1=House; 2=Condo/Co-op (owned); 3=Apartment (rented),\n",
    "           4=Mobile Home, 5=Retirement Community, 6=Assisted Living, 7=Skilled Nursing Facility,8=Other (specify), -4=Missing)\n",
    "- PTTLANG = Language to be used for testing the Participant (1=English, 2=Spanish, -4=Missing)\n",
    "- PTPLANG = Participant's Primary Language (1=English, 2=Spanish, 3=Other, -4=Missing)\n",
    "- PTCOGBEG = Year of onset of cognitive symptoms (best estimate) (9999=Missing)\n",
    "- PTMCIBEG = Year of onset of Mild Cognitive Impairment symptoms (best estimate)\n",
    "- PTADBEG = Year of onset of Alzheimer's disease symptoms (best estimate) (-1 or -4=Missing)\n",
    "- PTADDX = Year of Alzheimer's Disease diagnosis (9999=Missing)\n",
    "- PTETHCAT = Ethnicity of the participant (1=Hispanic or Latino, 2=Not Hispanic or Latino, \n",
    "             3=Other, -4=Missing)\n",
    "- PTRACCAT = Race of the participant (1=American Indian or Alaskan Native; 2=Asian; 3=Native Hawaiian \n",
    "             or Other Pacific Islander; 4=Black or African American; 5=White; 6=More than one race; 7=Unknown)"
   ]
  },
  {
   "cell_type": "code",
   "execution_count": 141,
   "metadata": {},
   "outputs": [],
   "source": [
    "selected_attributes = ['Phase', 'ID', 'RID', 'USERDATE', 'PTGENDER', 'PTEDUCAT', 'PTMARRY','PTDOBYY',\n",
    "                       'PTHAND', 'PTWORKHS', 'PTWORK', 'PTWRECNT', 'PTSOURCE', 'PTNOTRT', 'PTRTYR',\n",
    "                       'PTHOME', 'PTTLANG', 'PTPLANG', 'PTCOGBEG', 'PTMCIBEG', 'PTADBEG', 'PTADDX',\n",
    "                       'PTETHCAT', 'PTRACCAT']\n",
    "\n",
    "demographics_df = demographics_df[selected_attributes]"
   ]
  },
  {
   "cell_type": "code",
   "execution_count": 142,
   "metadata": {},
   "outputs": [
    {
     "name": "stdout",
     "output_type": "stream",
     "text": [
      "Missing values for Phase 0.0411946446961895 %\n",
      "\n",
      "\n",
      "Missing values for ID 0.0411946446961895 %\n",
      "\n",
      "\n",
      "Missing values for RID 0.0411946446961895 %\n",
      "\n",
      "\n",
      "Missing values for USERDATE 0.0411946446961895 %\n",
      "\n",
      "\n",
      "Missing values for PTGENDER 2.389289392378991 %\n",
      "\n",
      "\n",
      "Missing values for PTEDUCAT 2.389289392378991 %\n",
      "\n",
      "\n",
      "Missing values for PTMARRY 0.82389289392379 %\n",
      "\n",
      "\n",
      "Missing values for PTDOBYY 0.0411946446961895 %\n",
      "\n",
      "\n",
      "Missing values for PTHAND 2.883625128733265 %\n",
      "\n",
      "\n",
      "Missing values for PTWORKHS 59.279093717816686 %\n",
      "\n",
      "\n",
      "Missing values for PTWORK 4.07826982492276 %\n",
      "\n",
      "\n",
      "Missing values for PTWRECNT 0.82389289392379 %\n",
      "\n",
      "\n",
      "Missing values for PTSOURCE 0.0411946446961895 %\n",
      "\n",
      "\n",
      "Missing values for PTNOTRT 1.235839340885685 %\n",
      "\n",
      "\n",
      "Missing values for PTRTYR 15.798146240988672 %\n",
      "\n",
      "\n",
      "Missing values for PTHOME 1.0298661174047374 %\n",
      "\n",
      "\n",
      "Missing values for PTTLANG 3.048403707518023 %\n",
      "\n",
      "\n",
      "Missing values for PTPLANG 3.007209062821833 %\n",
      "\n",
      "\n",
      "Missing values for PTCOGBEG 22.409886714727087 %\n",
      "\n",
      "\n",
      "Missing values for PTMCIBEG 0.0411946446961895 %\n",
      "\n",
      "\n",
      "Missing values for PTADBEG 46.755921730175075 %\n",
      "\n",
      "\n",
      "Missing values for PTADDX 46.24098867147271 %\n",
      "\n",
      "\n",
      "Missing values for PTETHCAT 3.171987641606591 %\n",
      "\n",
      "\n",
      "Missing values for PTRACCAT 3.089598352214212 %\n",
      "\n",
      "\n"
     ]
    }
   ],
   "source": [
    "for attribute in selected_attributes:\n",
    "    print(f\"Missing values for {attribute}\",\n",
    "          (demographics_df['PTSOURCE'].isna().sum() +\n",
    "          len(demographics_df[demographics_df[attribute] == -4]) +\n",
    "          len(demographics_df[demographics_df[attribute] == '-4']) +\n",
    "          len(demographics_df[demographics_df[attribute] == -4]) +\n",
    "          len(demographics_df[demographics_df[attribute] == 9999]))\n",
    "          *100/len(demographics_df), '%\\n\\n')"
   ]
  },
  {
   "attachments": {},
   "cell_type": "markdown",
   "metadata": {},
   "source": [
    "The following attributes have too many missing values -> we will remove them:\n",
    "- PTWORKHS (59%)\n",
    "- PTCOGBEG (22%)\n",
    "- PTADBEG (47%)\n",
    "- PTADDX (46%)\n",
    "\n",
    "This row has 15% of missing values, but all of them are the string '-4' -> we won't drop rows with this value but we'll also keep the variable"
   ]
  },
  {
   "attachments": {},
   "cell_type": "markdown",
   "metadata": {},
   "source": [
    "At this point we decided to remove the last attribute related to cognitive symptoms and diagnosis:\n",
    "- PTMCIBEG"
   ]
  },
  {
   "cell_type": "code",
   "execution_count": 143,
   "metadata": {},
   "outputs": [],
   "source": [
    "demographics_df = demographics_df.drop(['PTWORKHS','PTCOGBEG', 'PTMCIBEG',\n",
    "                                        'PTADBEG', 'PTADDX'], axis=1)"
   ]
  },
  {
   "attachments": {},
   "cell_type": "markdown",
   "metadata": {},
   "source": [
    "Finally we'll also remove PTETHCAT, since almost every Hispanic or Latino is classified as White race-wise, and the ones that are not are classified as 'More than one race' or 'Unknown':"
   ]
  },
  {
   "cell_type": "code",
   "execution_count": 144,
   "metadata": {},
   "outputs": [
    {
     "data": {
      "text/plain": [
       "PTETHCAT\n",
       " 2.0    4410\n",
       " 1.0     214\n",
       "-4.0      76\n",
       " 3.0      34\n",
       "Name: count, dtype: int64"
      ]
     },
     "execution_count": 144,
     "metadata": {},
     "output_type": "execute_result"
    }
   ],
   "source": [
    "demographics_df['PTETHCAT'].value_counts()"
   ]
  },
  {
   "cell_type": "code",
   "execution_count": 145,
   "metadata": {},
   "outputs": [
    {
     "data": {
      "text/plain": [
       "PTRACCAT\n",
       "5.0    164\n",
       "7.0     24\n",
       "6.0     22\n",
       "4.0      3\n",
       "2.0      1\n",
       "Name: count, dtype: int64"
      ]
     },
     "execution_count": 145,
     "metadata": {},
     "output_type": "execute_result"
    }
   ],
   "source": [
    "demographics_df[demographics_df['PTETHCAT'] == 1]['PTRACCAT'].value_counts()"
   ]
  },
  {
   "cell_type": "code",
   "execution_count": 146,
   "metadata": {},
   "outputs": [],
   "source": [
    "demographics_df = demographics_df.drop(['PTETHCAT'], axis=1)"
   ]
  },
  {
   "attachments": {},
   "cell_type": "markdown",
   "metadata": {},
   "source": [
    "**Removing missing or biased values**"
   ]
  },
  {
   "cell_type": "code",
   "execution_count": 147,
   "metadata": {},
   "outputs": [
    {
     "data": {
      "text/plain": [
       "4298"
      ]
     },
     "execution_count": 147,
     "metadata": {},
     "output_type": "execute_result"
    }
   ],
   "source": [
    "demographics_df = demographics_df.dropna()\n",
    "demographics_df = demographics_df[(demographics_df != -4).all(axis=1)]\n",
    "demographics_df = demographics_df[(demographics_df != -1).all(axis=1)]\n",
    "demographics_df = demographics_df[(demographics_df != 9999).all(axis=1)]\n",
    "\n",
    "len(demographics_df)"
   ]
  },
  {
   "attachments": {},
   "cell_type": "markdown",
   "metadata": {},
   "source": [
    "Lost about **10%** of the data, but now we have no missing values. Now let's also remove instances that may be biased:"
   ]
  },
  {
   "attachments": {},
   "cell_type": "markdown",
   "metadata": {},
   "source": [
    "We'll use the variable **PTSOURCE** to remove the participants that took the test by phone because they have a higher chance of 'lying'. This will cost us few instances the classes are really imbalanced: almost every participant went to the clinic to take the test instead of doing it by phone"
   ]
  },
  {
   "cell_type": "code",
   "execution_count": 148,
   "metadata": {},
   "outputs": [
    {
     "data": {
      "text/plain": [
       "PTSOURCE\n",
       "1.0    4282\n",
       "2.0      16\n",
       "Name: count, dtype: int64"
      ]
     },
     "execution_count": 148,
     "metadata": {},
     "output_type": "execute_result"
    }
   ],
   "source": [
    "demographics_df['PTSOURCE'].value_counts()"
   ]
  },
  {
   "cell_type": "code",
   "execution_count": 149,
   "metadata": {},
   "outputs": [],
   "source": [
    "demographics_df = demographics_df[demographics_df['PTSOURCE'] == 1]\n",
    "demographics_df = demographics_df.drop(['PTSOURCE'], axis=1)"
   ]
  },
  {
   "attachments": {},
   "cell_type": "markdown",
   "metadata": {},
   "source": [
    "The variable **PTTLANG** tells us that the questionnaires are only available in English or Spanish. We can use **PTPLANG** to remove the participants that don't speak English or Spanish (they can cause bias and removing them will cost us few instances)"
   ]
  },
  {
   "cell_type": "code",
   "execution_count": 150,
   "metadata": {},
   "outputs": [
    {
     "data": {
      "text/plain": [
       "PTPLANG\n",
       "1.0    4144\n",
       "2.0      73\n",
       "3.0      65\n",
       "Name: count, dtype: int64"
      ]
     },
     "execution_count": 150,
     "metadata": {},
     "output_type": "execute_result"
    }
   ],
   "source": [
    "demographics_df['PTPLANG'].value_counts()"
   ]
  },
  {
   "cell_type": "code",
   "execution_count": 151,
   "metadata": {},
   "outputs": [],
   "source": [
    "demographics_df = demographics_df[demographics_df['PTPLANG'] != 3]\n",
    "demographics_df = demographics_df.drop(['PTPLANG'], axis=1)"
   ]
  },
  {
   "attachments": {},
   "cell_type": "markdown",
   "metadata": {},
   "source": [
    "**Keeping only the most recent record per user (now with no missing values)**"
   ]
  },
  {
   "cell_type": "code",
   "execution_count": 152,
   "metadata": {},
   "outputs": [
    {
     "data": {
      "text/plain": [
       "Phase\n",
       "ADNI2     1587\n",
       "ADNI1     1333\n",
       "ADNI3      748\n",
       "ADNIGO     549\n",
       "Name: count, dtype: int64"
      ]
     },
     "execution_count": 152,
     "metadata": {},
     "output_type": "execute_result"
    }
   ],
   "source": [
    "demographics_df['Phase'].value_counts()"
   ]
  },
  {
   "cell_type": "code",
   "execution_count": 153,
   "metadata": {},
   "outputs": [
    {
     "data": {
      "text/plain": [
       "3646"
      ]
     },
     "execution_count": 153,
     "metadata": {},
     "output_type": "execute_result"
    }
   ],
   "source": [
    "demographics_df = demographics_df.drop_duplicates(subset=['RID'], keep='last')\n",
    "len(demographics_df)"
   ]
  },
  {
   "attachments": {},
   "cell_type": "markdown",
   "metadata": {},
   "source": [
    "#### **Naming categorical values**\n",
    "\n",
    "We want to replace the categorical values of the attributes we are going to analyse with their meaning"
   ]
  },
  {
   "attachments": {},
   "cell_type": "markdown",
   "metadata": {},
   "source": [
    "**PTMARRY**:"
   ]
  },
  {
   "cell_type": "code",
   "execution_count": 154,
   "metadata": {},
   "outputs": [
    {
     "data": {
      "text/plain": [
       "PTMARRY\n",
       "Married          2705\n",
       "Widowed           415\n",
       "Divorced          353\n",
       "Never married     156\n",
       "Unknown            17\n",
       "Name: count, dtype: int64"
      ]
     },
     "execution_count": 154,
     "metadata": {},
     "output_type": "execute_result"
    }
   ],
   "source": [
    "demographics_df['PTMARRY'] = demographics_df['PTMARRY'].replace({1: 'Married', 2: 'Widowed',\n",
    "                                           3: 'Divorced', 4:'Never married', 5: 'Unknown'})\n",
    "demographics_df['PTMARRY'].value_counts()"
   ]
  },
  {
   "attachments": {},
   "cell_type": "markdown",
   "metadata": {},
   "source": [
    "**PTHAND**:"
   ]
  },
  {
   "cell_type": "code",
   "execution_count": 155,
   "metadata": {},
   "outputs": [
    {
     "data": {
      "text/plain": [
       "PTHAND\n",
       "Right    3324\n",
       "Left      322\n",
       "Name: count, dtype: int64"
      ]
     },
     "execution_count": 155,
     "metadata": {},
     "output_type": "execute_result"
    }
   ],
   "source": [
    "demographics_df['PTHAND'] = demographics_df['PTHAND'].replace({1: 'Right', 2: 'Left'})\n",
    "demographics_df['PTHAND'].value_counts()"
   ]
  },
  {
   "attachments": {},
   "cell_type": "markdown",
   "metadata": {},
   "source": [
    "**PTGENDER**:"
   ]
  },
  {
   "cell_type": "code",
   "execution_count": 156,
   "metadata": {},
   "outputs": [
    {
     "data": {
      "text/plain": [
       "PTGENDER\n",
       "Male      1919\n",
       "Female    1727\n",
       "Name: count, dtype: int64"
      ]
     },
     "execution_count": 156,
     "metadata": {},
     "output_type": "execute_result"
    }
   ],
   "source": [
    "demographics_df['PTGENDER'] = demographics_df['PTGENDER'].replace({1: 'Male', 2: 'Female'})\n",
    "demographics_df['PTGENDER'].value_counts()"
   ]
  },
  {
   "attachments": {},
   "cell_type": "markdown",
   "metadata": {},
   "source": [
    "**PTNOTRT**:"
   ]
  },
  {
   "cell_type": "code",
   "execution_count": 157,
   "metadata": {},
   "outputs": [
    {
     "data": {
      "text/plain": [
       "PTNOTRT\n",
       "Yes               3052\n",
       "No                 559\n",
       "Not Applicable      35\n",
       "Name: count, dtype: int64"
      ]
     },
     "execution_count": 157,
     "metadata": {},
     "output_type": "execute_result"
    }
   ],
   "source": [
    "demographics_df['PTNOTRT'] = demographics_df['PTNOTRT'].replace({0: 'No', 1: 'Yes',\n",
    "                                                                 2: 'Not Applicable'})\n",
    "demographics_df['PTNOTRT'].value_counts()"
   ]
  },
  {
   "attachments": {},
   "cell_type": "markdown",
   "metadata": {},
   "source": [
    "**PTHOME**:"
   ]
  },
  {
   "cell_type": "code",
   "execution_count": 158,
   "metadata": {},
   "outputs": [
    {
     "data": {
      "text/plain": [
       "PTHOME\n",
       "House                       2735\n",
       "Condo/Co-op (owned)          417\n",
       "Apartment (rented)           285\n",
       "Retirement Community         118\n",
       "Other                         35\n",
       "Mobile Home                   28\n",
       "Assisted Living               26\n",
       "Skilled Nursing Facility       2\n",
       "Name: count, dtype: int64"
      ]
     },
     "execution_count": 158,
     "metadata": {},
     "output_type": "execute_result"
    }
   ],
   "source": [
    "demographics_df['PTHOME'] = demographics_df['PTHOME'].replace({1: 'House',\n",
    "                                                               2: 'Condo/Co-op (owned)',\n",
    "                                                               3: 'Apartment (rented)',\n",
    "                                                               4: 'Mobile Home',\n",
    "                                                               5: 'Retirement Community',\n",
    "                                                               6:'Assisted Living',\n",
    "                                                               7:'Skilled Nursing Facility',\n",
    "                                                               8:'Other'})\n",
    "demographics_df['PTHOME'].value_counts()\n"
   ]
  },
  {
   "attachments": {},
   "cell_type": "markdown",
   "metadata": {},
   "source": [
    "**PTRACCAT**:"
   ]
  },
  {
   "cell_type": "code",
   "execution_count": 159,
   "metadata": {},
   "outputs": [
    {
     "data": {
      "text/plain": [
       "PTRACCAT\n",
       "White                                        3302\n",
       "Black or African American                     236\n",
       "Asian                                          52\n",
       "More than one race                             34\n",
       "Unknown                                        16\n",
       "American Indian or Alaskan Native               3\n",
       "Native Hawaiian or Other Pacific Islander       3\n",
       "Name: count, dtype: int64"
      ]
     },
     "execution_count": 159,
     "metadata": {},
     "output_type": "execute_result"
    }
   ],
   "source": [
    "demographics_df['PTRACCAT'] = demographics_df['PTRACCAT'].replace(\n",
    "    {1: 'American Indian or Alaskan Native',\n",
    "     2: 'Asian',\n",
    "     3: 'Native Hawaiian or Other Pacific Islander',\n",
    "     4: 'Black or African American',\n",
    "     5: 'White',\n",
    "     6: 'More than one race',\n",
    "     7: 'Unknown'})\n",
    "demographics_df['PTRACCAT'].value_counts()"
   ]
  },
  {
   "attachments": {},
   "cell_type": "markdown",
   "metadata": {},
   "source": [
    "### 4. Get weight table\n",
    "\n",
    "Now we are going to get the weight table by reading the csv file obtained in the get_data_from_xml.ipynb notebook. This attribute will be part of the physical analysis"
   ]
  },
  {
   "cell_type": "code",
   "execution_count": 160,
   "metadata": {},
   "outputs": [
    {
     "data": {
      "text/html": [
       "<div>\n",
       "<style scoped>\n",
       "    .dataframe tbody tr th:only-of-type {\n",
       "        vertical-align: middle;\n",
       "    }\n",
       "\n",
       "    .dataframe tbody tr th {\n",
       "        vertical-align: top;\n",
       "    }\n",
       "\n",
       "    .dataframe thead th {\n",
       "        text-align: right;\n",
       "    }\n",
       "</style>\n",
       "<table border=\"1\" class=\"dataframe\">\n",
       "  <thead>\n",
       "    <tr style=\"text-align: right;\">\n",
       "      <th></th>\n",
       "      <th>RID</th>\n",
       "      <th>Weight</th>\n",
       "    </tr>\n",
       "  </thead>\n",
       "  <tbody>\n",
       "    <tr>\n",
       "      <th>0</th>\n",
       "      <td>295</td>\n",
       "      <td>74.50</td>\n",
       "    </tr>\n",
       "    <tr>\n",
       "      <th>1</th>\n",
       "      <td>295</td>\n",
       "      <td>74.10</td>\n",
       "    </tr>\n",
       "    <tr>\n",
       "      <th>2</th>\n",
       "      <td>295</td>\n",
       "      <td>72.60</td>\n",
       "    </tr>\n",
       "    <tr>\n",
       "      <th>3</th>\n",
       "      <td>295</td>\n",
       "      <td>73.75</td>\n",
       "    </tr>\n",
       "    <tr>\n",
       "      <th>4</th>\n",
       "      <td>295</td>\n",
       "      <td>72.90</td>\n",
       "    </tr>\n",
       "  </tbody>\n",
       "</table>\n",
       "</div>"
      ],
      "text/plain": [
       "   RID  Weight\n",
       "0  295   74.50\n",
       "1  295   74.10\n",
       "2  295   72.60\n",
       "3  295   73.75\n",
       "4  295   72.90"
      ]
     },
     "execution_count": 160,
     "metadata": {},
     "output_type": "execute_result"
    }
   ],
   "source": [
    "weight_df = pd.read_csv('C:\\\\Users\\\\Emili\\\\BIOLAB_project\\\\weight.csv')\n",
    "weight_df.head()"
   ]
  },
  {
   "attachments": {},
   "cell_type": "markdown",
   "metadata": {},
   "source": [
    "### 5. Get APOE and TOMM40 tables"
   ]
  },
  {
   "attachments": {},
   "cell_type": "markdown",
   "metadata": {},
   "source": [
    "Now we are going to get the APOE and TOMM40 tables by reading the csv files obtained in the get_data_from_xml.ipynb notebook and the downloaded csv. These attributes will be part of the genetic analysis"
   ]
  },
  {
   "cell_type": "code",
   "execution_count": 161,
   "metadata": {},
   "outputs": [
    {
     "data": {
      "text/html": [
       "<div>\n",
       "<style scoped>\n",
       "    .dataframe tbody tr th:only-of-type {\n",
       "        vertical-align: middle;\n",
       "    }\n",
       "\n",
       "    .dataframe tbody tr th {\n",
       "        vertical-align: top;\n",
       "    }\n",
       "\n",
       "    .dataframe thead th {\n",
       "        text-align: right;\n",
       "    }\n",
       "</style>\n",
       "<table border=\"1\" class=\"dataframe\">\n",
       "  <thead>\n",
       "    <tr style=\"text-align: right;\">\n",
       "      <th></th>\n",
       "      <th>RID</th>\n",
       "      <th>APOE A1</th>\n",
       "      <th>APOE A2</th>\n",
       "    </tr>\n",
       "  </thead>\n",
       "  <tbody>\n",
       "    <tr>\n",
       "      <th>0</th>\n",
       "      <td>295</td>\n",
       "      <td>3</td>\n",
       "      <td>4</td>\n",
       "    </tr>\n",
       "    <tr>\n",
       "      <th>1</th>\n",
       "      <td>295</td>\n",
       "      <td>3</td>\n",
       "      <td>4</td>\n",
       "    </tr>\n",
       "    <tr>\n",
       "      <th>2</th>\n",
       "      <td>295</td>\n",
       "      <td>3</td>\n",
       "      <td>4</td>\n",
       "    </tr>\n",
       "    <tr>\n",
       "      <th>3</th>\n",
       "      <td>295</td>\n",
       "      <td>3</td>\n",
       "      <td>4</td>\n",
       "    </tr>\n",
       "    <tr>\n",
       "      <th>4</th>\n",
       "      <td>295</td>\n",
       "      <td>3</td>\n",
       "      <td>4</td>\n",
       "    </tr>\n",
       "  </tbody>\n",
       "</table>\n",
       "</div>"
      ],
      "text/plain": [
       "   RID APOE A1 APOE A2\n",
       "0  295       3       4\n",
       "1  295       3       4\n",
       "2  295       3       4\n",
       "3  295       3       4\n",
       "4  295       3       4"
      ]
     },
     "execution_count": 161,
     "metadata": {},
     "output_type": "execute_result"
    }
   ],
   "source": [
    "apoe_df = pd.read_csv('C:\\\\Users\\\\Emili\\\\BIOLAB_project\\\\apoe.csv')\n",
    "apoe_df['APOE A1'] = apoe_df['APOE A1'].astype('string')\n",
    "apoe_df['APOE A2'] = apoe_df['APOE A2'].astype('string')\n",
    "apoe_df.head()"
   ]
  },
  {
   "cell_type": "code",
   "execution_count": 162,
   "metadata": {},
   "outputs": [
    {
     "data": {
      "text/html": [
       "<div>\n",
       "<style scoped>\n",
       "    .dataframe tbody tr th:only-of-type {\n",
       "        vertical-align: middle;\n",
       "    }\n",
       "\n",
       "    .dataframe tbody tr th {\n",
       "        vertical-align: top;\n",
       "    }\n",
       "\n",
       "    .dataframe thead th {\n",
       "        text-align: right;\n",
       "    }\n",
       "</style>\n",
       "<table border=\"1\" class=\"dataframe\">\n",
       "  <thead>\n",
       "    <tr style=\"text-align: right;\">\n",
       "      <th></th>\n",
       "      <th>PTID</th>\n",
       "      <th>RID</th>\n",
       "      <th>TOMM40_A1</th>\n",
       "      <th>TOMM40_A2</th>\n",
       "      <th>update_stamp</th>\n",
       "    </tr>\n",
       "  </thead>\n",
       "  <tbody>\n",
       "    <tr>\n",
       "      <th>0</th>\n",
       "      <td>002_S_0295</td>\n",
       "      <td>295</td>\n",
       "      <td>16</td>\n",
       "      <td>21</td>\n",
       "      <td>2011-04-25 18:14:08.0</td>\n",
       "    </tr>\n",
       "    <tr>\n",
       "      <th>1</th>\n",
       "      <td>002_S_0413</td>\n",
       "      <td>413</td>\n",
       "      <td>16</td>\n",
       "      <td>34</td>\n",
       "      <td>2011-04-25 18:14:08.0</td>\n",
       "    </tr>\n",
       "    <tr>\n",
       "      <th>2</th>\n",
       "      <td>002_S_0559</td>\n",
       "      <td>559</td>\n",
       "      <td>35</td>\n",
       "      <td>35</td>\n",
       "      <td>2011-04-25 18:14:08.0</td>\n",
       "    </tr>\n",
       "    <tr>\n",
       "      <th>3</th>\n",
       "      <td>002_S_0619</td>\n",
       "      <td>619</td>\n",
       "      <td>28</td>\n",
       "      <td>28</td>\n",
       "      <td>2011-04-25 18:14:08.0</td>\n",
       "    </tr>\n",
       "    <tr>\n",
       "      <th>4</th>\n",
       "      <td>002_S_0685</td>\n",
       "      <td>685</td>\n",
       "      <td>33</td>\n",
       "      <td>34</td>\n",
       "      <td>2011-04-25 18:14:08.0</td>\n",
       "    </tr>\n",
       "  </tbody>\n",
       "</table>\n",
       "</div>"
      ],
      "text/plain": [
       "         PTID  RID TOMM40_A1 TOMM40_A2           update_stamp\n",
       "0  002_S_0295  295        16        21  2011-04-25 18:14:08.0\n",
       "1  002_S_0413  413        16        34  2011-04-25 18:14:08.0\n",
       "2  002_S_0559  559        35        35  2011-04-25 18:14:08.0\n",
       "3  002_S_0619  619        28        28  2011-04-25 18:14:08.0\n",
       "4  002_S_0685  685        33        34  2011-04-25 18:14:08.0"
      ]
     },
     "execution_count": 162,
     "metadata": {},
     "output_type": "execute_result"
    }
   ],
   "source": [
    "tomm40_df = pd.read_csv('C:\\\\Users\\\\Emili\\\\BIOLAB_project\\\\TOMM40_22May2023.csv')\n",
    "tomm40_df = tomm40_df.dropna()\n",
    "tomm40_df['TOMM40_A2'] = tomm40_df['TOMM40_A2'].astype('int')\n",
    "tomm40_df['TOMM40_A1'] = tomm40_df['TOMM40_A1'].astype('int')\n",
    "tomm40_df['TOMM40_A2'] = tomm40_df['TOMM40_A2'].astype('string')\n",
    "tomm40_df['TOMM40_A1'] = tomm40_df['TOMM40_A1'].astype('string')\n",
    "tomm40_df.head()"
   ]
  },
  {
   "attachments": {},
   "cell_type": "markdown",
   "metadata": {},
   "source": [
    "### 6.Merging the tables"
   ]
  },
  {
   "attachments": {},
   "cell_type": "markdown",
   "metadata": {},
   "source": [
    "Now it's time to merge the two tables: we want the attributes of demographic_df and weight_df only for the instances available in the image table (the analysis has to be on the participants we actually have the images of)"
   ]
  },
  {
   "attachments": {},
   "cell_type": "markdown",
   "metadata": {},
   "source": [
    "First we need to get the last four numbers from the 'Subject' code (images dataframe): that is the Roster ID that is present in the demographic dataframe (as 'RID'). We'll use them to merge the two tables"
   ]
  },
  {
   "cell_type": "code",
   "execution_count": 163,
   "metadata": {},
   "outputs": [
    {
     "name": "stderr",
     "output_type": "stream",
     "text": [
      "C:\\Users\\Emili\\AppData\\Local\\Temp\\ipykernel_12484\\3862421592.py:5: SettingWithCopyWarning: \n",
      "A value is trying to be set on a copy of a slice from a DataFrame\n",
      "\n",
      "See the caveats in the documentation: https://pandas.pydata.org/pandas-docs/stable/user_guide/indexing.html#returning-a-view-versus-a-copy\n",
      "  downladed_images_df['RID'].loc[i] = m.group()[3:]\n"
     ]
    }
   ],
   "source": [
    "downladed_images_df['RID'] = np.nan\n",
    "\n",
    "for i in range(len(downladed_images_df)):\n",
    "     m = re.search('_S_(\\d+)', downladed_images_df['Subject'][i])\n",
    "     downladed_images_df['RID'].loc[i] = m.group()[3:]\n",
    "     \n",
    "downladed_images_df['RID']= downladed_images_df['RID'].astype('str').astype('int')\n",
    "# By converting to int the 0 at the beginning of RID with less than 4 digits are removed, \n",
    "# making the merge with the other dataframes possible"
   ]
  },
  {
   "cell_type": "code",
   "execution_count": 164,
   "metadata": {},
   "outputs": [],
   "source": [
    "downladed_images_df = downladed_images_df.drop(['Subject'], axis=1)"
   ]
  },
  {
   "attachments": {},
   "cell_type": "markdown",
   "metadata": {},
   "source": [
    "Now we can merge the tables on the 'RID' attribute:"
   ]
  },
  {
   "cell_type": "code",
   "execution_count": 165,
   "metadata": {},
   "outputs": [
    {
     "name": "stdout",
     "output_type": "stream",
     "text": [
      "Number of subjects before merging with tomm40 table: 638\n",
      "Number of subjects after merging with tomm40 table: 562\n"
     ]
    }
   ],
   "source": [
    "merged_df = pd.merge(downladed_images_df, demographics_df, how='inner', on='RID')\n",
    "\n",
    "merged_df = pd.merge(merged_df, weight_df, how='inner', on='RID')\n",
    "\n",
    "merged_df = pd.merge(merged_df, apoe_df, how='inner', on='RID')\n",
    "\n",
    "print('Number of subjects before merging with tomm40 table:', len(merged_df['RID'].unique()))\n",
    "\n",
    "merged_df = pd.merge(merged_df, tomm40_df, how='inner', on='RID')\n",
    "\n",
    "print('Number of subjects after merging with tomm40 table:', len(merged_df['RID'].unique()))"
   ]
  },
  {
   "attachments": {},
   "cell_type": "markdown",
   "metadata": {},
   "source": [
    "To check if all users in the image table (648) are also in the other tables we can get the number of unique values of the 'RID' attribute in the merged table"
   ]
  },
  {
   "attachments": {},
   "cell_type": "markdown",
   "metadata": {},
   "source": [
    "**10** participants were lost in the process of eliminating missing or biased values, which is only about **1.5%** of the data.\n",
    "No participants were lost in the process of merging the weight and apoe tables because they were obtained from the xml files, which we have of each phase.\n",
    "Some participants (**76**) were lost in the process of merging with the tomm40 table because that data was only of the first phase, ADNI1"
   ]
  },
  {
   "attachments": {},
   "cell_type": "markdown",
   "metadata": {},
   "source": [
    "Let's check for inconsistencies in the merge by comparing the 'PTGENDER' and 'PTDOBYY' attributes of the two tables:"
   ]
  },
  {
   "cell_type": "code",
   "execution_count": 166,
   "metadata": {},
   "outputs": [
    {
     "data": {
      "text/plain": [
       "Series([], Name: count, dtype: int64)"
      ]
     },
     "execution_count": 166,
     "metadata": {},
     "output_type": "execute_result"
    }
   ],
   "source": [
    "merged_df[merged_df['PTGENDER'] == 1]['Sex'].value_counts()"
   ]
  },
  {
   "cell_type": "code",
   "execution_count": 167,
   "metadata": {},
   "outputs": [
    {
     "data": {
      "text/plain": [
       "Series([], Name: count, dtype: int64)"
      ]
     },
     "execution_count": 167,
     "metadata": {},
     "output_type": "execute_result"
    }
   ],
   "source": [
    "merged_df[merged_df['PTGENDER'] == 2]['Sex'].value_counts()"
   ]
  },
  {
   "attachments": {},
   "cell_type": "markdown",
   "metadata": {},
   "source": [
    "No inconsistencies on the gender of the participant found"
   ]
  },
  {
   "cell_type": "code",
   "execution_count": 168,
   "metadata": {},
   "outputs": [
    {
     "data": {
      "text/plain": [
       "Age\n",
       "57    356\n",
       "58    275\n",
       "59     81\n",
       "56     81\n",
       "Name: count, dtype: int64"
      ]
     },
     "execution_count": 168,
     "metadata": {},
     "output_type": "execute_result"
    }
   ],
   "source": [
    "merged_df[merged_df['PTDOBYY'] == 1950]['Age'].value_counts()"
   ]
  },
  {
   "attachments": {},
   "cell_type": "markdown",
   "metadata": {},
   "source": [
    "We can see that people born in the same year can have different ages. That's because the 'PTDOBYY' attribute is the year of birth, while the 'AGE' attribute is the age at the time of the image acquisition. We can see that the difference is never more than 1 year, so we can assume that the 'AGE' attribute is correct. Let's discard the 'PTDOBYY' attribute"
   ]
  },
  {
   "cell_type": "code",
   "execution_count": 169,
   "metadata": {},
   "outputs": [],
   "source": [
    "merged_df = merged_df.drop(['PTDOBYY'], axis=1)"
   ]
  },
  {
   "attachments": {},
   "cell_type": "markdown",
   "metadata": {},
   "source": [
    "### 5. Descriptive analysis"
   ]
  },
  {
   "cell_type": "code",
   "execution_count": 170,
   "metadata": {},
   "outputs": [],
   "source": [
    "unique_subjects = merged_df.drop_duplicates(subset=['RID'], keep='last')"
   ]
  },
  {
   "attachments": {},
   "cell_type": "markdown",
   "metadata": {},
   "source": [
    "#### **Social attributes**\n",
    "\n",
    "Analyzing the social attributes of the participants:\n",
    "- PTEDUCAT\n",
    "- PTMARRY\n",
    "- PTWORK\n",
    "- PTWRECNT\n",
    "- PTNOTRT\n",
    "- PTRTYR\n",
    "- PTHOME\n",
    "\n",
    "The idea is to try to find some correlation between the social attributes and the diagnosis of the participant (who's more likely to develope the diease, based on their social attributes?). Let's first look at the single distributions:"
   ]
  },
  {
   "cell_type": "code",
   "execution_count": 171,
   "metadata": {},
   "outputs": [],
   "source": [
    "social_attributes = ['PTMARRY', 'PTEDUCAT', \n",
    "                     'PTWORK', 'PTWRECNT', \n",
    "                     'PTNOTRT',\n",
    "                     'PTRTYR', \n",
    "                     'PTHOME'\n",
    "                     ]"
   ]
  },
  {
   "cell_type": "code",
   "execution_count": 172,
   "metadata": {},
   "outputs": [],
   "source": [
    "social_subjects = unique_subjects[social_attributes + ['RID']]"
   ]
  },
  {
   "attachments": {},
   "cell_type": "markdown",
   "metadata": {},
   "source": [
    "**Marital status**"
   ]
  },
  {
   "cell_type": "code",
   "execution_count": 173,
   "metadata": {},
   "outputs": [
    {
     "data": {
      "image/png": "[encoded data removed]",
      "text/plain": [
       "<Figure size 640x480 with 1 Axes>"
      ]
     },
     "metadata": {},
     "output_type": "display_data"
    }
   ],
   "source": [
    "plt.bar(social_subjects['PTMARRY'].value_counts().index,\n",
    "        social_subjects['PTMARRY'].value_counts())\n",
    "plt.title('Marital status distribution')\n",
    "plt.show()"
   ]
  },
  {
   "attachments": {},
   "cell_type": "markdown",
   "metadata": {},
   "source": [
    "**Years of education**"
   ]
  },
  {
   "cell_type": "code",
   "execution_count": 174,
   "metadata": {},
   "outputs": [
    {
     "data": {
      "image/png": "[encoded data removed]",
      "text/plain": [
       "<Figure size 640x480 with 1 Axes>"
      ]
     },
     "metadata": {},
     "output_type": "display_data"
    }
   ],
   "source": [
    "plt.hist(social_subjects['PTEDUCAT'])\n",
    "plt.title('Years of education distribution')\n",
    "plt.xlabel('Years of education')\n",
    "plt.show()"
   ]
  },
  {
   "attachments": {},
   "cell_type": "markdown",
   "metadata": {},
   "source": [
    "**Home accomodation**"
   ]
  },
  {
   "cell_type": "code",
   "execution_count": 175,
   "metadata": {},
   "outputs": [
    {
     "data": {
      "image/png": "[encoded data removed]",
      "text/plain": [
       "<Figure size 640x480 with 1 Axes>"
      ]
     },
     "metadata": {},
     "output_type": "display_data"
    }
   ],
   "source": [
    "plt.bar(social_subjects['PTHOME'].value_counts().index,\n",
    "        social_subjects['PTHOME'].value_counts())\n",
    "plt.xticks(rotation='vertical')\n",
    "plt.title('Home accomodation distribution')\n",
    "plt.show()"
   ]
  },
  {
   "attachments": {},
   "cell_type": "markdown",
   "metadata": {},
   "source": [
    "**Main occupation (top 10)**\n",
    "We analyzed only the top 10 occupations because the others are too few to be considered and there are too many of them"
   ]
  },
  {
   "cell_type": "code",
   "execution_count": 176,
   "metadata": {},
   "outputs": [
    {
     "data": {
      "image/png": "[encoded data removed]",
      "text/plain": [
       "<Figure size 640x480 with 1 Axes>"
      ]
     },
     "metadata": {},
     "output_type": "display_data"
    }
   ],
   "source": [
    "plt.bar(social_subjects['PTWORK'].value_counts()[:10].index,\n",
    "        social_subjects['PTWORK'].value_counts()[:10])\n",
    "plt.xticks(rotation='vertical')\n",
    "plt.title('Main occupation (top 10)')\n",
    "plt.show()"
   ]
  },
  {
   "attachments": {},
   "cell_type": "markdown",
   "metadata": {},
   "source": [
    "**Main occupation (top 10)**\n",
    "We analyzed only the top 10 occupations because the others are too few to be considered and there are too many of them"
   ]
  },
  {
   "cell_type": "code",
   "execution_count": 177,
   "metadata": {},
   "outputs": [
    {
     "data": {
      "image/png": "[encoded data removed]",
      "text/plain": [
       "<Figure size 640x480 with 1 Axes>"
      ]
     },
     "metadata": {},
     "output_type": "display_data"
    }
   ],
   "source": [
    "plt.bar(social_subjects['PTWRECNT'].value_counts()[:10].index,\n",
    "        social_subjects['PTWRECNT'].value_counts()[:10])\n",
    "plt.xticks(rotation='vertical')\n",
    "plt.title('Current/last occupation (top 10)')\n",
    "plt.show()"
   ]
  },
  {
   "attachments": {},
   "cell_type": "markdown",
   "metadata": {},
   "source": [
    "As we can see, the values from the job variables are inconsistent. Probably best not to use them"
   ]
  },
  {
   "attachments": {},
   "cell_type": "markdown",
   "metadata": {},
   "source": [
    "**Retirement yes/no**"
   ]
  },
  {
   "cell_type": "code",
   "execution_count": 178,
   "metadata": {},
   "outputs": [
    {
     "data": {
      "image/png": "[encoded data removed]",
      "text/plain": [
       "<Figure size 640x480 with 1 Axes>"
      ]
     },
     "metadata": {},
     "output_type": "display_data"
    }
   ],
   "source": [
    "plt.bar(social_subjects['PTNOTRT'].value_counts().index,\n",
    "        social_subjects['PTNOTRT'].value_counts())\n",
    "plt.title('Retired?')\n",
    "plt.show()"
   ]
  },
  {
   "attachments": {},
   "cell_type": "markdown",
   "metadata": {},
   "source": [
    "**Retirement date**:\n",
    "\n",
    "As sad before, we have to ignore the values '-4'"
   ]
  },
  {
   "cell_type": "code",
   "execution_count": 179,
   "metadata": {},
   "outputs": [],
   "source": [
    "ret_years = []\n",
    "\n",
    "for i in range(len(social_subjects['PTRTYR'][social_subjects['PTRTYR'] != '-4'])):\n",
    "    ret_years.append(int(str(social_subjects['PTRTYR'][social_subjects['PTRTYR'] != '-4'].iloc[i])[-4:]))\n",
    "\n",
    "ret_years = list(set(ret_years))\n",
    "\n",
    "ret_years_freq = []\n",
    "for j in ret_years:\n",
    "    freq = 0\n",
    "    for i in range(len(social_subjects['PTRTYR'][social_subjects['PTRTYR'] != '-4'])):\n",
    "        if(social_subjects['PTRTYR'][social_subjects['PTRTYR'] != '-4'].iloc[i])[-4:] == str(j):\n",
    "            freq += 1\n",
    "    \n",
    "    ret_years_freq.append(int(freq))"
   ]
  },
  {
   "cell_type": "code",
   "execution_count": 180,
   "metadata": {},
   "outputs": [
    {
     "data": {
      "text/plain": [
       "Text(0.5, 1.0, 'Retirement date')"
      ]
     },
     "execution_count": 180,
     "metadata": {},
     "output_type": "execute_result"
    },
    {
     "data": {
      "image/png": "[encoded data removed]",
      "text/plain": [
       "<Figure size 1500x500 with 1 Axes>"
      ]
     },
     "metadata": {},
     "output_type": "display_data"
    }
   ],
   "source": [
    "plt.figure(figsize=(15,5))\n",
    "plt.plot(ret_years, ret_years_freq, 'o-')\n",
    "plt.ylabel('frequency', size = 20)\n",
    "plt.title('Retirement date', size = 20)"
   ]
  },
  {
   "attachments": {},
   "cell_type": "markdown",
   "metadata": {},
   "source": [
    "This attribute isn't really useful because we don't have much data about when the subjects were diagnosed with the disease (PTADDX has 60% missing values)"
   ]
  },
  {
   "attachments": {},
   "cell_type": "markdown",
   "metadata": {},
   "source": [
    "#### **Phisical attributes**"
   ]
  },
  {
   "cell_type": "code",
   "execution_count": 181,
   "metadata": {},
   "outputs": [],
   "source": [
    "physical_attributes = ['PTGENDER', 'PTHAND', 'PTRACCAT', 'Weight', 'Age']\n",
    "\n",
    "physical_subjects = unique_subjects[physical_attributes]"
   ]
  },
  {
   "attachments": {},
   "cell_type": "markdown",
   "metadata": {},
   "source": [
    "**Race**"
   ]
  },
  {
   "cell_type": "code",
   "execution_count": 182,
   "metadata": {},
   "outputs": [
    {
     "data": {
      "image/png": "[encoded data removed]",
      "text/plain": [
       "<Figure size 640x480 with 1 Axes>"
      ]
     },
     "metadata": {},
     "output_type": "display_data"
    }
   ],
   "source": [
    "plt.bar(physical_subjects['PTRACCAT'].value_counts().index,\n",
    "        physical_subjects['PTRACCAT'].value_counts())\n",
    "plt.xticks(rotation='vertical')\n",
    "plt.title('Race distribution')\n",
    "plt.show()"
   ]
  },
  {
   "attachments": {},
   "cell_type": "markdown",
   "metadata": {},
   "source": [
    "**Dominant hand**"
   ]
  },
  {
   "cell_type": "code",
   "execution_count": 183,
   "metadata": {},
   "outputs": [
    {
     "data": {
      "image/png": "[encoded data removed]",
      "text/plain": [
       "<Figure size 640x480 with 1 Axes>"
      ]
     },
     "metadata": {},
     "output_type": "display_data"
    }
   ],
   "source": [
    "plt.bar(physical_subjects['PTHAND'].value_counts().index,\n",
    "        physical_subjects['PTHAND'].value_counts())\n",
    "plt.title('Dominant hand')\n",
    "plt.show()"
   ]
  },
  {
   "attachments": {},
   "cell_type": "markdown",
   "metadata": {},
   "source": [
    "**Gender**"
   ]
  },
  {
   "cell_type": "code",
   "execution_count": 184,
   "metadata": {},
   "outputs": [
    {
     "data": {
      "image/png": "[encoded data removed]",
      "text/plain": [
       "<Figure size 640x480 with 1 Axes>"
      ]
     },
     "metadata": {},
     "output_type": "display_data"
    }
   ],
   "source": [
    "plt.bar(physical_subjects['PTGENDER'].value_counts().index,\n",
    "        physical_subjects['PTGENDER'].value_counts())\n",
    "plt.title('Gender')\n",
    "plt.show()"
   ]
  },
  {
   "attachments": {},
   "cell_type": "markdown",
   "metadata": {},
   "source": [
    "**Weight**"
   ]
  },
  {
   "cell_type": "code",
   "execution_count": 185,
   "metadata": {},
   "outputs": [
    {
     "data": {
      "image/png": "[encoded data removed]",
      "text/plain": [
       "<Figure size 640x480 with 1 Axes>"
      ]
     },
     "metadata": {},
     "output_type": "display_data"
    }
   ],
   "source": [
    "plt.hist(physical_subjects['Weight'], bins=20)\n",
    "plt.title('Weight distribution')\n",
    "plt.xlabel('Weight')\n",
    "plt.show()"
   ]
  },
  {
   "attachments": {},
   "cell_type": "markdown",
   "metadata": {},
   "source": [
    "**Age**"
   ]
  },
  {
   "cell_type": "code",
   "execution_count": 186,
   "metadata": {},
   "outputs": [
    {
     "data": {
      "image/png": "[encoded data removed]",
      "text/plain": [
       "<Figure size 640x480 with 1 Axes>"
      ]
     },
     "metadata": {},
     "output_type": "display_data"
    }
   ],
   "source": [
    "plt.hist(physical_subjects['Age'], bins=20)\n",
    "plt.title('Age distribution')\n",
    "plt.xlabel('Age')\n",
    "plt.show()"
   ]
  },
  {
   "attachments": {},
   "cell_type": "markdown",
   "metadata": {},
   "source": [
    "#### **Genetic attributes**"
   ]
  },
  {
   "attachments": {},
   "cell_type": "markdown",
   "metadata": {},
   "source": [
    "We are going to analyse the ..."
   ]
  },
  {
   "cell_type": "code",
   "execution_count": 187,
   "metadata": {},
   "outputs": [],
   "source": [
    "genetic_attributes = ['APOE A1', 'APOE A2', 'TOMM40_A1', 'TOMM40_A2']\n",
    "\n",
    "genetic_subjects = unique_subjects[genetic_attributes]"
   ]
  },
  {
   "attachments": {},
   "cell_type": "markdown",
   "metadata": {},
   "source": [
    "##### **APOE**"
   ]
  },
  {
   "cell_type": "code",
   "execution_count": 188,
   "metadata": {},
   "outputs": [
    {
     "name": "stderr",
     "output_type": "stream",
     "text": [
      "C:\\Users\\Emili\\AppData\\Local\\Temp\\ipykernel_12484\\3747052874.py:1: SettingWithCopyWarning: \n",
      "A value is trying to be set on a copy of a slice from a DataFrame.\n",
      "Try using .loc[row_indexer,col_indexer] = value instead\n",
      "\n",
      "See the caveats in the documentation: https://pandas.pydata.org/pandas-docs/stable/user_guide/indexing.html#returning-a-view-versus-a-copy\n",
      "  genetic_subjects['APOE A1'] = genetic_subjects['APOE A1'].astype('category')\n"
     ]
    }
   ],
   "source": [
    "genetic_subjects['APOE A1'] = genetic_subjects['APOE A1'].astype('category')"
   ]
  },
  {
   "attachments": {},
   "cell_type": "markdown",
   "metadata": {},
   "source": [
    "**Allele 1**"
   ]
  },
  {
   "cell_type": "code",
   "execution_count": 197,
   "metadata": {},
   "outputs": [
    {
     "data": {
      "image/png": "[encoded data removed]",
      "text/plain": [
       "<Figure size 640x480 with 1 Axes>"
      ]
     },
     "metadata": {},
     "output_type": "display_data"
    }
   ],
   "source": [
    "plt.bar(genetic_subjects['APOE A1'].value_counts().index,\n",
    "        genetic_subjects['APOE A1'].value_counts())\n",
    "plt.title('APOE Allele 1')\n",
    "plt.xlabel('Type')\n",
    "plt.show()"
   ]
  },
  {
   "attachments": {},
   "cell_type": "markdown",
   "metadata": {},
   "source": [
    "**Allele 2**"
   ]
  },
  {
   "cell_type": "code",
   "execution_count": 196,
   "metadata": {},
   "outputs": [
    {
     "data": {
      "image/png": "[encoded data removed]",
      "text/plain": [
       "<Figure size 640x480 with 1 Axes>"
      ]
     },
     "metadata": {},
     "output_type": "display_data"
    }
   ],
   "source": [
    "plt.bar(genetic_subjects['APOE A2'].value_counts().index,\n",
    "        genetic_subjects['APOE A2'].value_counts())\n",
    "plt.title('APOE Allele 2')\n",
    "plt.xlabel('Type')\n",
    "plt.show()"
   ]
  },
  {
   "attachments": {},
   "cell_type": "markdown",
   "metadata": {},
   "source": [
    "**Combined distribution**"
   ]
  },
  {
   "cell_type": "code",
   "execution_count": 207,
   "metadata": {},
   "outputs": [
    {
     "data": {
      "image/png": "[encoded data removed]",
      "text/plain": [
       "<Figure size 500x500 with 1 Axes>"
      ]
     },
     "metadata": {},
     "output_type": "display_data"
    }
   ],
   "source": [
    "sns.displot(genetic_subjects, x=\"APOE A1\", y=\"APOE A2\");"
   ]
  },
  {
   "attachments": {},
   "cell_type": "markdown",
   "metadata": {},
   "source": [
    "##### **TOMM40**"
   ]
  },
  {
   "attachments": {},
   "cell_type": "markdown",
   "metadata": {},
   "source": [
    "**Allele 1**"
   ]
  },
  {
   "cell_type": "code",
   "execution_count": 198,
   "metadata": {},
   "outputs": [
    {
     "data": {
      "image/png": "[encoded data removed]",
      "text/plain": [
       "<Figure size 640x480 with 1 Axes>"
      ]
     },
     "metadata": {},
     "output_type": "display_data"
    }
   ],
   "source": [
    "plt.bar(genetic_subjects['TOMM40_A1'].value_counts().index,\n",
    "        genetic_subjects['TOMM40_A1'].value_counts())\n",
    "plt.title('TOMM40 Allele 1')\n",
    "plt.xlabel('Type')\n",
    "plt.show()"
   ]
  },
  {
   "attachments": {},
   "cell_type": "markdown",
   "metadata": {},
   "source": [
    "**Allele 2**"
   ]
  },
  {
   "cell_type": "code",
   "execution_count": 199,
   "metadata": {},
   "outputs": [
    {
     "data": {
      "image/png": "[encoded data removed]",
      "text/plain": [
       "<Figure size 640x480 with 1 Axes>"
      ]
     },
     "metadata": {},
     "output_type": "display_data"
    }
   ],
   "source": [
    "plt.bar(genetic_subjects['TOMM40_A2'].value_counts().index,\n",
    "        genetic_subjects['TOMM40_A2'].value_counts())\n",
    "plt.title('TOMM40 Allele 2')\n",
    "plt.xlabel('Type')\n",
    "plt.show()"
   ]
  },
  {
   "attachments": {},
   "cell_type": "markdown",
   "metadata": {},
   "source": [
    "**Combined distribution**"
   ]
  },
  {
   "cell_type": "code",
   "execution_count": 208,
   "metadata": {},
   "outputs": [
    {
     "data": {
      "image/png": "[encoded data removed]",
      "text/plain": [
       "<Figure size 500x500 with 1 Axes>"
      ]
     },
     "metadata": {},
     "output_type": "display_data"
    }
   ],
   "source": [
    "sns.displot(genetic_subjects, x=\"TOMM40_A1\", y=\"TOMM40_A2\");"
   ]
  },
  {
   "cell_type": "code",
   "execution_count": null,
   "metadata": {},
   "outputs": [],
   "source": []
  }
 ],
 "metadata": {
  "kernelspec": {
   "display_name": "biolab_project",
   "language": "python",
   "name": "python3"
  },
  "language_info": {
   "codemirror_mode": {
    "name": "ipython",
    "version": 3
   },
   "file_extension": ".py",
   "mimetype": "text/x-python",
   "name": "python",
   "nbconvert_exporter": "python",
   "pygments_lexer": "ipython3",
   "version": "3.11.3"
  },
  "orig_nbformat": 4
 },
 "nbformat": 4,
 "nbformat_minor": 2
}
