{
 "cells": [
  {
   "attachments": {},
   "cell_type": "markdown",
   "metadata": {},
   "source": [
    "This code serves the purpose of checking for duplicate subject IDs across three folders representing different diagnostic classes: \"ad\" for Alzheimer's Disease, \"mci\" for Mild Cognitive Impairment, and \"nor\" for Normal. The goal is to ensure that there are no instances of the same subject appearing in multiple diagnostic classes, which helps prevent bias in data analysis or modeling tasks."
   ]
  },
  {
   "cell_type": "code",
   "execution_count": 1,
   "metadata": {},
   "outputs": [],
   "source": [
    "import os\n",
    "\n",
    "ad_folder = \"../data/adni-mri/ad\"\n",
    "mci_folder = \"../data/adni-mri/mci\"\n",
    "nor_folder = \"../data/adni-mri/nor\""
   ]
  },
  {
   "cell_type": "code",
   "execution_count": 3,
   "metadata": {},
   "outputs": [],
   "source": [
    "ad_folders = [folder_name for folder_name in os.listdir(ad_folder) if os.path.isdir(os.path.join(ad_folder, folder_name))]\n",
    "mci_folders = [folder_name for folder_name in os.listdir(mci_folder) if os.path.isdir(os.path.join(mci_folder, folder_name))]\n",
    "nor_folders = [folder_name for folder_name in os.listdir(nor_folder) if os.path.isdir(os.path.join(nor_folder, folder_name))]"
   ]
  },
  {
   "cell_type": "code",
   "execution_count": 5,
   "metadata": {},
   "outputs": [],
   "source": [
    "# Verifica elementi comuni tra ad_folders e mci_folders\n",
    "common_folders_am = set(ad_folders) & set(mci_folders)\n",
    "if common_folders_am:\n",
    "    print(\"Elementi comuni tra 'ad' e 'mci':\")\n",
    "    print(common_folders_am)\n",
    "\n",
    "# Verifica elementi comuni tra ad_folders e nor_folders\n",
    "common_folders_an = set(ad_folders) & set(nor_folders)\n",
    "if common_folders_an:\n",
    "    print(\"Elementi comuni tra 'ad' e 'nor':\")\n",
    "    print(common_folders_an)\n",
    "\n",
    "# Verifica elementi comuni tra mci_folders e nor_folders\n",
    "common_folders_mn = set(mci_folders) & set(nor_folders)\n",
    "if common_folders_mn:\n",
    "    print(\"Elementi comuni tra 'mci' e 'nor':\")\n",
    "    print(common_folders_mn)"
   ]
  }
 ],
 "metadata": {
  "kernelspec": {
   "display_name": "tensorflow-gpu-3.8",
   "language": "python",
   "name": "python3"
  },
  "language_info": {
   "codemirror_mode": {
    "name": "ipython",
    "version": 3
   },
   "file_extension": ".py",
   "mimetype": "text/x-python",
   "name": "python",
   "nbconvert_exporter": "python",
   "pygments_lexer": "ipython3",
   "version": "3.8.16"
  },
  "orig_nbformat": 4
 },
 "nbformat": 4,
 "nbformat_minor": 2
}
