{
 "cells": [
  {
   "cell_type": "code",
   "execution_count": 13,
   "metadata": {},
   "outputs": [],
   "source": [
    "import os\n",
    "\n",
    "# Directory delle immagini\n",
    "directory = \"..//adni-images-Full-resized160x192-binary//train_unbalanced//ad\"\n",
    "\n",
    "# Estrai gli ID unici dai nomi delle immagini\n",
    "unique_codes = set()\n",
    "for filename in os.listdir(directory):\n",
    "    if filename.endswith(\".png\"):  # Assumi che le immagini abbiano estensione .jpg\n",
    "        code = \"_\".join(filename.split(\"_\")[1:4])  # Estrarre il codice dall'immagine\n",
    "        unique_codes.add(code)\n"
   ]
  },
  {
   "cell_type": "code",
   "execution_count": 14,
   "metadata": {},
   "outputs": [
    {
     "data": {
      "text/plain": [
       "89"
      ]
     },
     "execution_count": 14,
     "metadata": {},
     "output_type": "execute_result"
    }
   ],
   "source": [
    "len(unique_codes)"
   ]
  },
  {
   "cell_type": "code",
   "execution_count": 15,
   "metadata": {},
   "outputs": [],
   "source": [
    "output_file = \"subjects_train_ad_unbalanced.txt\"\n",
    "with open(output_file, \"w\") as file:\n",
    "    for code in unique_codes:\n",
    "        file.write(code + \"\\n\")"
   ]
  }
 ],
 "metadata": {
  "kernelspec": {
   "display_name": "tensorflow-gpu-3.8",
   "language": "python",
   "name": "python3"
  },
  "language_info": {
   "codemirror_mode": {
    "name": "ipython",
    "version": 3
   },
   "file_extension": ".py",
   "mimetype": "text/x-python",
   "name": "python",
   "nbconvert_exporter": "python",
   "pygments_lexer": "ipython3",
   "version": "3.8.16"
  },
  "orig_nbformat": 4
 },
 "nbformat": 4,
 "nbformat_minor": 2
}
