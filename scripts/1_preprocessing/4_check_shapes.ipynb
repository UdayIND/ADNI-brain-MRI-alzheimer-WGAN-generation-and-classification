{
 "cells": [
  {
   "attachments": {},
   "cell_type": "markdown",
   "metadata": {},
   "source": [
    "# Volumetric shape inspection\n",
    "\n",
    "The volumetric data do not have a single set of dimensions, i.e. heads are divided in different numbers of slices, and the slices do not always have fixed dimensions.\n",
    "\n",
    "This notebook finds all the different dimensions and the number of volumetric instances with said dimensions."
   ]
  },
  {
   "cell_type": "code",
   "execution_count": 3,
   "metadata": {},
   "outputs": [],
   "source": [
    "import nibabel as nib\n",
    "import numpy as np\n",
    "from pathlib import Path\n",
    "import os as os"
   ]
  },
  {
   "cell_type": "code",
   "execution_count": 7,
   "metadata": {},
   "outputs": [
    {
     "name": "stdout",
     "output_type": "stream",
     "text": [
      "Current dir:  d:\\Projects\\ADNI-brain-MRI-alzheimer-classification-and-GAN-generation\\scripts\\1_preprocessing\n",
      "Current dir:  d:\\Projects\\ADNI-brain-MRI-alzheimer-classification-and-GAN-generation\\data\\adni-mri\n"
     ]
    }
   ],
   "source": [
    "# print current dir\n",
    "print(\"Current dir: \", os.getcwd())\n",
    "# go to the parent dir\n",
    "os.chdir(\"../../data/adni-mri\")\n",
    "print(\"Current dir: \", os.getcwd())\n"
   ]
  },
  {
   "attachments": {},
   "cell_type": "markdown",
   "metadata": {},
   "source": [
    "List all *.nii* files for either data type."
   ]
  },
  {
   "cell_type": "code",
   "execution_count": 16,
   "metadata": {},
   "outputs": [
    {
     "data": {
      "text/plain": [
       "1316"
      ]
     },
     "execution_count": 16,
     "metadata": {},
     "output_type": "execute_result"
    }
   ],
   "source": [
    "dtype = \"mci\" # dtype is either \"ad\" or \"nor\"\n",
    "p = Path(dtype)\n",
    "files = list(p.rglob('*.nii'))\n",
    "len(files)"
   ]
  },
  {
   "attachments": {},
   "cell_type": "markdown",
   "metadata": {},
   "source": [
    "List all unique shapes and how many patients each shape corresponds to. "
   ]
  },
  {
   "cell_type": "code",
   "execution_count": 14,
   "metadata": {},
   "outputs": [],
   "source": [
    "shapes = []\n",
    "for file in files:\n",
    "    img = nib.load(str(file))\n",
    "    shapes.append(str(img.shape))\n",
    "\n",
    "shapes1 = list(set(shapes))"
   ]
  },
  {
   "attachments": {},
   "cell_type": "markdown",
   "metadata": {},
   "source": [
    "nor"
   ]
  },
  {
   "cell_type": "code",
   "execution_count": 12,
   "metadata": {},
   "outputs": [
    {
     "name": "stdout",
     "output_type": "stream",
     "text": [
      "(192, 192, 160)        335\n",
      "(240, 256, 160)        61\n",
      "(248, 256, 160)        1\n",
      "(256, 256, 160)        2\n",
      "(256, 256, 166)        347\n"
     ]
    }
   ],
   "source": [
    "u, c = np.unique(shapes, return_counts=True)\n",
    "\n",
    "for x in zip(u, c):\n",
    "    print(x[0], '      ', x[1])"
   ]
  },
  {
   "attachments": {},
   "cell_type": "markdown",
   "metadata": {},
   "source": [
    "ad"
   ]
  },
  {
   "cell_type": "code",
   "execution_count": 15,
   "metadata": {},
   "outputs": [
    {
     "name": "stdout",
     "output_type": "stream",
     "text": [
      "(192, 192, 160)        186\n",
      "(192, 192, 176)        1\n",
      "(240, 256, 160)        49\n",
      "(256, 256, 160)        1\n",
      "(256, 256, 162)        1\n",
      "(256, 256, 166)        195\n"
     ]
    }
   ],
   "source": [
    "u, c = np.unique(shapes, return_counts=True)\n",
    "\n",
    "for x in zip(u, c):\n",
    "    print(x[0], '      ', x[1])"
   ]
  },
  {
   "attachments": {},
   "cell_type": "markdown",
   "metadata": {},
   "source": [
    "mci"
   ]
  },
  {
   "cell_type": "code",
   "execution_count": 17,
   "metadata": {},
   "outputs": [
    {
     "name": "stdout",
     "output_type": "stream",
     "text": [
      "(192, 192, 160)        186\n",
      "(192, 192, 176)        1\n",
      "(240, 256, 160)        49\n",
      "(256, 256, 160)        1\n",
      "(256, 256, 162)        1\n",
      "(256, 256, 166)        195\n"
     ]
    }
   ],
   "source": [
    "u, c = np.unique(shapes, return_counts=True)\n",
    "\n",
    "for x in zip(u, c):\n",
    "    print(x[0], '      ', x[1])"
   ]
  }
 ],
 "metadata": {
  "kernelspec": {
   "display_name": "Python 3",
   "language": "python",
   "name": "python3"
  },
  "language_info": {
   "codemirror_mode": {
    "name": "ipython",
    "version": 3
   },
   "file_extension": ".py",
   "mimetype": "text/x-python",
   "name": "python",
   "nbconvert_exporter": "python",
   "pygments_lexer": "ipython3",
   "version": "3.8.16"
  }
 },
 "nbformat": 4,
 "nbformat_minor": 2
}
