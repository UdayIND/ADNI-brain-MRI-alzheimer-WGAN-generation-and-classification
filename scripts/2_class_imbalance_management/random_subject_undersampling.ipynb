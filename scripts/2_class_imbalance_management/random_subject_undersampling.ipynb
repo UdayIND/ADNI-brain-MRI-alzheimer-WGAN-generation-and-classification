{
 "cells": [
  {
   "attachments": {},
   "cell_type": "markdown",
   "metadata": {},
   "source": [
    "**Importing libraries**"
   ]
  },
  {
   "cell_type": "code",
   "execution_count": 91,
   "metadata": {},
   "outputs": [],
   "source": [
    "import os\n",
    "import pandas as pd\n",
    "import numpy as np\n",
    "from pathlib import Path\n",
    "import shutil\n",
    "\n",
    "from tqdm import tqdm"
   ]
  },
  {
   "attachments": {},
   "cell_type": "markdown",
   "metadata": {},
   "source": [
    "**Getting lists of subject for each class**"
   ]
  },
  {
   "cell_type": "code",
   "execution_count": 101,
   "metadata": {},
   "outputs": [],
   "source": [
    "path = str(Path(os.getcwd()).parent.absolute().parent.absolute()) + '\\\\metadata\\\\subjects_train_ad.txt'\n",
    "subjects_ad = []\n",
    "with open(path, 'r') as f:\n",
    "    subjects = f.readlines()\n",
    "    subjects_ad = [subject.strip().split('_')[2] for subject in subjects]"
   ]
  },
  {
   "cell_type": "code",
   "execution_count": 102,
   "metadata": {},
   "outputs": [],
   "source": [
    "path = str(Path(os.getcwd()).parent.absolute().parent.absolute()) + '\\\\metadata\\\\subjects_train_nor.txt'\n",
    "subjects_nc = []\n",
    "with open(path, 'r') as f:\n",
    "    subjects = f.readlines()\n",
    "    subjects_nc = [subject.strip().split('_')[2] for subject in subjects]"
   ]
  },
  {
   "cell_type": "code",
   "execution_count": 103,
   "metadata": {},
   "outputs": [],
   "source": [
    "path = str(Path(os.getcwd()).parent.absolute().parent.absolute()) + '\\\\metadata\\\\subjects_train_mci.txt'\n",
    "subjects_mci = []\n",
    "with open(path, 'r') as f:\n",
    "    subjects = f.readlines()\n",
    "    subjects_mci = [subject.strip().split('_')[2] for subject in subjects]"
   ]
  },
  {
   "cell_type": "code",
   "execution_count": 104,
   "metadata": {},
   "outputs": [
    {
     "data": {
      "text/plain": [
       "(123, 151, 270)"
      ]
     },
     "execution_count": 104,
     "metadata": {},
     "output_type": "execute_result"
    }
   ],
   "source": [
    "len(subjects_ad), len(subjects_nc), len(subjects_mci)"
   ]
  },
  {
   "attachments": {},
   "cell_type": "markdown",
   "metadata": {},
   "source": [
    "**Determing which class has the least number of subjects**"
   ]
  },
  {
   "cell_type": "code",
   "execution_count": 105,
   "metadata": {},
   "outputs": [
    {
     "name": "stdout",
     "output_type": "stream",
     "text": [
      "Min class: ad with 123 subjects\n"
     ]
    }
   ],
   "source": [
    "min = float('inf')\n",
    "min_class = ''\n",
    "if len(subjects_ad) < min:\n",
    "    min = len(subjects_ad)\n",
    "    min_class = 'ad'\n",
    "if len(subjects_nc) < min:\n",
    "    min = len(subjects_nc)\n",
    "    min_class = 'nor'\n",
    "if len(subjects_mci) < min:\n",
    "    min = len(subjects_mci)\n",
    "    min_class = 'mci'\n",
    "\n",
    "print('Min class: ' + min_class, 'with ' + str(min) + ' subjects')"
   ]
  },
  {
   "attachments": {},
   "cell_type": "markdown",
   "metadata": {},
   "source": [
    "**Randomly undersampling the list of subjects for each class**"
   ]
  },
  {
   "cell_type": "code",
   "execution_count": 106,
   "metadata": {},
   "outputs": [],
   "source": [
    "subjects_nc = np.random.choice(subjects_nc, min, replace=False)\n",
    "subjects_mci = np.random.choice(subjects_mci, min, replace=False)"
   ]
  },
  {
   "attachments": {},
   "cell_type": "markdown",
   "metadata": {},
   "source": [
    "**Creating empty folder**"
   ]
  },
  {
   "cell_type": "code",
   "execution_count": 109,
   "metadata": {},
   "outputs": [],
   "source": [
    "data_path = str(Path(os.getcwd()).parent.absolute().parent.absolute()) + '\\\\adni-images-Full-resized160x192'\n",
    "\n",
    "try: os.mkdir(data_path + '\\\\train_rand_sub_under')\n",
    "except: print('train_rand_sub_under already exists')\n",
    "\n",
    "for target in os.listdir(data_path + '\\\\train'):\n",
    "    try : os.mkdir(data_path + '\\\\train_rand_sub_under\\\\' + target)\n",
    "    except: print('train_rand__sub_under\\\\' + target + ' already exists')"
   ]
  },
  {
   "cell_type": "code",
   "execution_count": 110,
   "metadata": {},
   "outputs": [
    {
     "name": "stdout",
     "output_type": "stream",
     "text": [
      "Creating ad class\n"
     ]
    },
    {
     "name": "stderr",
     "output_type": "stream",
     "text": [
      "100%|██████████| 22139/22139 [00:33<00:00, 663.05it/s]\n"
     ]
    },
    {
     "name": "stdout",
     "output_type": "stream",
     "text": [
      "Creating mci class\n"
     ]
    },
    {
     "name": "stderr",
     "output_type": "stream",
     "text": [
      "100%|██████████| 72780/72780 [08:08<00:00, 148.88it/s] \n"
     ]
    },
    {
     "name": "stdout",
     "output_type": "stream",
     "text": [
      "Creating nor class\n"
     ]
    },
    {
     "name": "stderr",
     "output_type": "stream",
     "text": [
      "100%|██████████| 39689/39689 [10:40<00:00, 61.93it/s]  \n"
     ]
    }
   ],
   "source": [
    "for target in os.listdir(data_path + '\\\\train'):\n",
    "    \n",
    "    print('Creating ' + target + ' class')\n",
    "    \n",
    "    if target == min_class: # No undersampling for the min class\n",
    "        for image in tqdm(os.listdir(data_path + '\\\\train\\\\' + target)):\n",
    "            shutil.copy(data_path + '\\\\train\\\\' + target + '\\\\' + image, data_path + '\\\\train_rand_sub_under\\\\' + target + '\\\\' + image)\n",
    "        continue\n",
    "    \n",
    "    if target == 'ad':\n",
    "        subjects = subjects_ad\n",
    "    elif target == 'mci':\n",
    "        subjects = subjects_mci\n",
    "    else:\n",
    "        subjects = subjects_nc\n",
    "    \n",
    "    for image in tqdm(os.listdir(data_path + '\\\\train\\\\' + target)):\n",
    "        subject = image.split('_')[3]\n",
    "\n",
    "        if subject in subjects:\n",
    "            shutil.copy(data_path + '\\\\train\\\\' + target + '\\\\' + image, data_path + '\\\\train_rand_sub_under\\\\' + target + '\\\\' + image)\n",
    "    "
   ]
  },
  {
   "cell_type": "code",
   "execution_count": 111,
   "metadata": {},
   "outputs": [
    {
     "name": "stdout",
     "output_type": "stream",
     "text": [
      "ad 22139\n",
      "mci 34891\n",
      "nor 32481\n"
     ]
    }
   ],
   "source": [
    "for target in os.listdir(data_path + '\\\\train_rand_sub_under'):\n",
    "    print(target, len(os.listdir(data_path + '\\\\train_rand_sub_under\\\\' + target)))"
   ]
  },
  {
   "cell_type": "code",
   "execution_count": 112,
   "metadata": {},
   "outputs": [
    {
     "name": "stdout",
     "output_type": "stream",
     "text": [
      "ad 22139\n",
      "mci 72780\n",
      "nor 39689\n"
     ]
    }
   ],
   "source": [
    "for target in os.listdir(data_path + '\\\\train'):\n",
    "    print(target, len(os.listdir(data_path + '\\\\train\\\\' + target)))"
   ]
  }
 ],
 "metadata": {
  "kernelspec": {
   "display_name": "biolab_project",
   "language": "python",
   "name": "python3"
  },
  "language_info": {
   "codemirror_mode": {
    "name": "ipython",
    "version": 3
   },
   "file_extension": ".py",
   "mimetype": "text/x-python",
   "name": "python",
   "nbconvert_exporter": "python",
   "pygments_lexer": "ipython3",
   "version": "3.11.3"
  },
  "orig_nbformat": 4
 },
 "nbformat": 4,
 "nbformat_minor": 2
}
