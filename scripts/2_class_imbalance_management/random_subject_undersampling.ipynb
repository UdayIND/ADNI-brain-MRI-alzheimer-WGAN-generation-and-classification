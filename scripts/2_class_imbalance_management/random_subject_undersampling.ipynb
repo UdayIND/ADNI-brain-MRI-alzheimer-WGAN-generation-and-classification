{
 "cells": [
  {
   "attachments": {},
   "cell_type": "markdown",
   "metadata": {},
   "source": [
    "**Importing libraries**"
   ]
  },
  {
   "cell_type": "code",
   "execution_count": 1,
   "metadata": {},
   "outputs": [],
   "source": [
    "import os\n",
    "import pandas as pd\n",
    "import numpy as np\n",
    "from pathlib import Path\n",
    "import shutil\n",
    "\n",
    "from tqdm import tqdm"
   ]
  },
  {
   "attachments": {},
   "cell_type": "markdown",
   "metadata": {},
   "source": [
    "**Getting lists of subject for each class**"
   ]
  },
  {
   "cell_type": "code",
   "execution_count": 2,
   "metadata": {},
   "outputs": [
    {
     "data": {
      "text/plain": [
       "WindowsPath('d:/Projects/ADNI-brain-MRI-alzheimer-classification-and-GAN-generation')"
      ]
     },
     "execution_count": 2,
     "metadata": {},
     "output_type": "execute_result"
    }
   ],
   "source": [
    "Path(os.getcwd()).parent.absolute().parent.absolute()"
   ]
  },
  {
   "cell_type": "code",
   "execution_count": 3,
   "metadata": {},
   "outputs": [],
   "source": [
    "path = str(Path(os.getcwd()).parent.absolute().parent.absolute()) + '\\\\adni-images-Full-resized160x192\\\\metadata\\\\subjects_train_ad.txt'\n",
    "subjects_ad = []\n",
    "with open(path, 'r') as f:\n",
    "    subjects = f.readlines()\n",
    "    subjects_ad = [subject.strip().split('_')[2] for subject in subjects]"
   ]
  },
  {
   "cell_type": "code",
   "execution_count": 4,
   "metadata": {},
   "outputs": [],
   "source": [
    "path = str(Path(os.getcwd()).parent.absolute().parent.absolute()) + '\\\\adni-images-Full-resized160x192\\\\metadata\\\\subjects_train_nor.txt'\n",
    "subjects_nc = []\n",
    "with open(path, 'r') as f:\n",
    "    subjects = f.readlines()\n",
    "    subjects_nc = [subject.strip().split('_')[2] for subject in subjects]"
   ]
  },
  {
   "cell_type": "code",
   "execution_count": 5,
   "metadata": {},
   "outputs": [],
   "source": [
    "path = str(Path(os.getcwd()).parent.absolute().parent.absolute()) + '\\\\adni-images-Full-resized160x192\\\\metadata\\\\subjects_train_mci.txt'\n",
    "subjects_mci = []\n",
    "with open(path, 'r') as f:\n",
    "    subjects = f.readlines()\n",
    "    subjects_mci = [subject.strip().split('_')[2] for subject in subjects]"
   ]
  },
  {
   "cell_type": "code",
   "execution_count": 6,
   "metadata": {},
   "outputs": [
    {
     "data": {
      "text/plain": [
       "(89, 151, 270)"
      ]
     },
     "execution_count": 6,
     "metadata": {},
     "output_type": "execute_result"
    }
   ],
   "source": [
    "len(subjects_ad), len(subjects_nc), len(subjects_mci)"
   ]
  },
  {
   "attachments": {},
   "cell_type": "markdown",
   "metadata": {},
   "source": [
    "**Determing which class has the least number of subjects**"
   ]
  },
  {
   "cell_type": "code",
   "execution_count": 7,
   "metadata": {},
   "outputs": [
    {
     "name": "stdout",
     "output_type": "stream",
     "text": [
      "Min class: ad with 89 subjects\n"
     ]
    }
   ],
   "source": [
    "min = float('inf')\n",
    "min_class = ''\n",
    "if len(subjects_ad) < min:\n",
    "    min = len(subjects_ad)\n",
    "    min_class = 'ad'\n",
    "if len(subjects_nc) < min:\n",
    "    min = len(subjects_nc)\n",
    "    min_class = 'nor'\n",
    "if len(subjects_mci) < min:\n",
    "    min = len(subjects_mci)\n",
    "    min_class = 'mci'\n",
    "\n",
    "print('Min class: ' + min_class, 'with ' + str(min) + ' subjects')"
   ]
  },
  {
   "attachments": {},
   "cell_type": "markdown",
   "metadata": {},
   "source": [
    "**Randomly undersampling the list of subjects for each class**"
   ]
  },
  {
   "cell_type": "code",
   "execution_count": 8,
   "metadata": {},
   "outputs": [],
   "source": [
    "subjects_nc = np.random.choice(subjects_nc, min, replace=False)\n",
    "subjects_mci = np.random.choice(subjects_mci, min, replace=False)"
   ]
  },
  {
   "attachments": {},
   "cell_type": "markdown",
   "metadata": {},
   "source": [
    "**Creating empty folder**"
   ]
  },
  {
   "cell_type": "code",
   "execution_count": 9,
   "metadata": {},
   "outputs": [
    {
     "name": "stdout",
     "output_type": "stream",
     "text": [
      "train_rand_sub_under already exists\n",
      "train_rand__sub_under\\ad already exists\n",
      "train_rand__sub_under\\mci already exists\n",
      "train_rand__sub_under\\nor already exists\n"
     ]
    }
   ],
   "source": [
    "data_path = str(Path(os.getcwd()).parent.absolute().parent.absolute()) + '\\\\adni-images-Full-resized160x192'\n",
    "\n",
    "try: os.mkdir(data_path + '\\\\train_rand_sub_under')\n",
    "except: print('train_rand_sub_under already exists')\n",
    "\n",
    "for target in os.listdir(data_path + '\\\\train_unbalanced'):\n",
    "    try : os.mkdir(data_path + '\\\\train_rand_sub_under\\\\' + target)\n",
    "    except: print('train_rand__sub_under\\\\' + target + ' already exists')"
   ]
  },
  {
   "cell_type": "code",
   "execution_count": 10,
   "metadata": {},
   "outputs": [
    {
     "name": "stdout",
     "output_type": "stream",
     "text": [
      "Creating ad class\n"
     ]
    },
    {
     "name": "stderr",
     "output_type": "stream",
     "text": [
      "100%|██████████| 17166/17166 [01:08<00:00, 251.11it/s]\n"
     ]
    },
    {
     "name": "stdout",
     "output_type": "stream",
     "text": [
      "Creating mci class\n"
     ]
    },
    {
     "name": "stderr",
     "output_type": "stream",
     "text": [
      "100%|██████████| 72780/72780 [01:35<00:00, 765.65it/s] \n"
     ]
    },
    {
     "name": "stdout",
     "output_type": "stream",
     "text": [
      "Creating nor class\n"
     ]
    },
    {
     "name": "stderr",
     "output_type": "stream",
     "text": [
      "100%|██████████| 39689/39689 [01:31<00:00, 435.70it/s] \n"
     ]
    }
   ],
   "source": [
    "for target in os.listdir(data_path + '\\\\train_unbalanced'):\n",
    "    \n",
    "    print('Creating ' + target + ' class')\n",
    "    \n",
    "    if target == min_class: # No undersampling for the min class\n",
    "        for image in tqdm(os.listdir(data_path + '\\\\train_unbalanced\\\\' + target)):\n",
    "            shutil.copy(data_path + '\\\\train_unbalanced\\\\' + target + '\\\\' + image, data_path + '\\\\train_rand_sub_under\\\\' + target + '\\\\' + image)\n",
    "        continue\n",
    "    \n",
    "    if target == 'ad':\n",
    "        subjects = subjects_ad\n",
    "    elif target == 'mci':\n",
    "        subjects = subjects_mci\n",
    "    else:\n",
    "        subjects = subjects_nc\n",
    "    \n",
    "    for image in tqdm(os.listdir(data_path + '\\\\train_unbalanced\\\\' + target)):\n",
    "        subject = image.split('_')[3]\n",
    "\n",
    "        if subject in subjects:\n",
    "            shutil.copy(data_path + '\\\\train_unbalanced\\\\' + target + '\\\\' + image, data_path + '\\\\train_rand_sub_under\\\\' + target + '\\\\' + image)\n",
    "    "
   ]
  },
  {
   "cell_type": "code",
   "execution_count": 11,
   "metadata": {},
   "outputs": [
    {
     "name": "stdout",
     "output_type": "stream",
     "text": [
      "ad 17166\n",
      "mci 25275\n",
      "nor 23521\n"
     ]
    }
   ],
   "source": [
    "for target in os.listdir(data_path + '\\\\train_rand_sub_under'):\n",
    "    print(target, len(os.listdir(data_path + '\\\\train_rand_sub_under\\\\' + target)))"
   ]
  },
  {
   "cell_type": "code",
   "execution_count": 13,
   "metadata": {},
   "outputs": [
    {
     "name": "stdout",
     "output_type": "stream",
     "text": [
      "ad 17166\n",
      "mci 72780\n",
      "nor 39689\n"
     ]
    }
   ],
   "source": [
    "for target in os.listdir(data_path + '\\\\train_unbalanced'):\n",
    "    print(target, len(os.listdir(data_path + '\\\\train_unbalanced\\\\' + target)))"
   ]
  }
 ],
 "metadata": {
  "kernelspec": {
   "display_name": "biolab_project",
   "language": "python",
   "name": "python3"
  },
  "language_info": {
   "codemirror_mode": {
    "name": "ipython",
    "version": 3
   },
   "file_extension": ".py",
   "mimetype": "text/x-python",
   "name": "python",
   "nbconvert_exporter": "python",
   "pygments_lexer": "ipython3",
   "version": "3.8.16"
  },
  "orig_nbformat": 4
 },
 "nbformat": 4,
 "nbformat_minor": 2
}
