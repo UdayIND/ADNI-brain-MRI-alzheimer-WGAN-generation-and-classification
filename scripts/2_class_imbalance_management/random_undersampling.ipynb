{
 "cells": [
  {
   "attachments": {},
   "cell_type": "markdown",
   "metadata": {},
   "source": [
    "**Importing libraries**"
   ]
  },
  {
   "cell_type": "code",
   "execution_count": 4,
   "metadata": {},
   "outputs": [],
   "source": [
    "import os\n",
    "from pathlib import Path\n",
    "import pandas as pd\n",
    "import random\n",
    "import shutil"
   ]
  },
  {
   "attachments": {},
   "cell_type": "markdown",
   "metadata": {},
   "source": [
    "**Setting up image path**"
   ]
  },
  {
   "cell_type": "code",
   "execution_count": 8,
   "metadata": {},
   "outputs": [
    {
     "name": "stdout",
     "output_type": "stream",
     "text": [
      "d:\\Projects\\ADNI-brain-MRI-alzheimer-classification-and-GAN-generation\\adni-images-Full-resized160x192\n"
     ]
    }
   ],
   "source": [
    "path = str(Path(os.getcwd()).parent.absolute().parent.absolute()) + '\\\\adni-images-Full-resized160x192'\n",
    "print(path)"
   ]
  },
  {
   "cell_type": "code",
   "execution_count": 9,
   "metadata": {},
   "outputs": [
    {
     "name": "stdout",
     "output_type": "stream",
     "text": [
      "ad 22139\n",
      "mci 72780\n",
      "nor 39689\n"
     ]
    }
   ],
   "source": [
    "for target in os.listdir(path + '\\\\train'):\n",
    "    print(target, len(os.listdir(path + '\\\\train\\\\' + target)))"
   ]
  },
  {
   "attachments": {},
   "cell_type": "markdown",
   "metadata": {},
   "source": [
    "We're going to undersample the mci and not classes to match the number of ad images. We'll shuffle the images first for the sake of randomness."
   ]
  },
  {
   "cell_type": "code",
   "execution_count": 10,
   "metadata": {},
   "outputs": [
    {
     "name": "stdout",
     "output_type": "stream",
     "text": [
      "22139 ad\n"
     ]
    }
   ],
   "source": [
    "min_images =  float('inf')\n",
    "min_target = ''\n",
    "for target in os.listdir(path + '\\\\train'):\n",
    "    if len(os.listdir(path + '\\\\train\\\\' + target))<min_images:\n",
    "        min_images = len(os.listdir(path + '\\\\train\\\\' + target))\n",
    "        min_target = target\n",
    "\n",
    "print(min_images, min_target)"
   ]
  },
  {
   "attachments": {},
   "cell_type": "markdown",
   "metadata": {},
   "source": [
    "Create empty train set"
   ]
  },
  {
   "cell_type": "code",
   "execution_count": 11,
   "metadata": {},
   "outputs": [],
   "source": [
    "try: os.mkdir(path + '\\\\train_rand_under')\n",
    "except: print('train_rand_under already exists')\n",
    "\n",
    "for target in os.listdir(path + '\\\\train'):\n",
    "    try : os.mkdir(path + '\\\\train_rand_under\\\\' + target)\n",
    "    except: print('train_rand_under\\\\' + target + ' already exists')"
   ]
  },
  {
   "attachments": {},
   "cell_type": "markdown",
   "metadata": {},
   "source": [
    "Creating balanced train set"
   ]
  },
  {
   "cell_type": "code",
   "execution_count": 12,
   "metadata": {},
   "outputs": [],
   "source": [
    "for target in os.listdir(path + '\\\\train'):\n",
    "    images = os.listdir(path + '\\\\train\\\\' + target)\n",
    "    random.shuffle(images)\n",
    "    images = images[:min_images]\n",
    "    for image in images:\n",
    "        shutil.copy(path + '\\\\train\\\\' + target + '\\\\' + image, path + '\\\\train_rand_under\\\\' + target + '\\\\' + image)"
   ]
  },
  {
   "attachments": {},
   "cell_type": "markdown",
   "metadata": {},
   "source": [
    "The new train set is now balanced:"
   ]
  },
  {
   "cell_type": "code",
   "execution_count": 13,
   "metadata": {},
   "outputs": [
    {
     "name": "stdout",
     "output_type": "stream",
     "text": [
      "ad 22139\n",
      "mci 22139\n",
      "nor 22139\n"
     ]
    }
   ],
   "source": [
    "for target in os.listdir(path + '\\\\train_rand_under'):\n",
    "    print(target, len(os.listdir(path + '\\\\train_rand_under\\\\' + target)))"
   ]
  }
 ],
 "metadata": {
  "kernelspec": {
   "display_name": "biolab_project",
   "language": "python",
   "name": "python3"
  },
  "language_info": {
   "codemirror_mode": {
    "name": "ipython",
    "version": 3
   },
   "file_extension": ".py",
   "mimetype": "text/x-python",
   "name": "python",
   "nbconvert_exporter": "python",
   "pygments_lexer": "ipython3",
   "version": "3.8.16"
  },
  "orig_nbformat": 4
 },
 "nbformat": 4,
 "nbformat_minor": 2
}
