{
 "cells": [
  {
   "attachments": {},
   "cell_type": "markdown",
   "metadata": {},
   "source": [
    "In this file we are going to perform a stratified undersampling based on the following attributes:\n",
    "- Age\n",
    "- Weight\n",
    "- Sex"
   ]
  },
  {
   "attachments": {},
   "cell_type": "markdown",
   "metadata": {},
   "source": [
    "**Importing libraries**"
   ]
  },
  {
   "cell_type": "code",
   "execution_count": 1,
   "metadata": {},
   "outputs": [],
   "source": [
    "import pandas as pd\n",
    "from pathlib import Path\n",
    "import os\n",
    "from tqdm import tqdm\n",
    "import shutil\n",
    "import random\n",
    "import numpy as np"
   ]
  },
  {
   "attachments": {},
   "cell_type": "markdown",
   "metadata": {},
   "source": [
    "Getting path to the metadata directory"
   ]
  },
  {
   "cell_type": "code",
   "execution_count": 4,
   "metadata": {},
   "outputs": [
    {
     "name": "stdout",
     "output_type": "stream",
     "text": [
      "d:\\Projects\\ADNI-brain-MRI-alzheimer-classification-and-GAN-generation\\data\\adni-metadata\n"
     ]
    }
   ],
   "source": [
    "path = path = str(Path(os.getcwd()).parent.absolute().parent.absolute()) + '\\\\data\\\\adni-metadata'\n",
    "print(path)"
   ]
  },
  {
   "attachments": {},
   "cell_type": "markdown",
   "metadata": {},
   "source": [
    "Getting the needed attributes"
   ]
  },
  {
   "cell_type": "code",
   "execution_count": 5,
   "metadata": {},
   "outputs": [],
   "source": [
    "weight_df = pd.read_csv(path + '\\\\weight.csv')\n"
   ]
  },
  {
   "cell_type": "code",
   "execution_count": 6,
   "metadata": {},
   "outputs": [],
   "source": [
    "def weight_to_cat(weight):\n",
    "    if weight < 90:\n",
    "        return 'underweight'\n",
    "    else:\n",
    "        return 'overweight'"
   ]
  },
  {
   "cell_type": "code",
   "execution_count": 7,
   "metadata": {},
   "outputs": [],
   "source": [
    "weight_df['weight_cat'] = weight_df['Weight'].apply(weight_to_cat)\n",
    "weight_df = weight_df.drop('Weight', axis=1)"
   ]
  },
  {
   "cell_type": "code",
   "execution_count": 8,
   "metadata": {},
   "outputs": [
    {
     "data": {
      "text/html": [
       "<div>\n",
       "<style scoped>\n",
       "    .dataframe tbody tr th:only-of-type {\n",
       "        vertical-align: middle;\n",
       "    }\n",
       "\n",
       "    .dataframe tbody tr th {\n",
       "        vertical-align: top;\n",
       "    }\n",
       "\n",
       "    .dataframe thead th {\n",
       "        text-align: right;\n",
       "    }\n",
       "</style>\n",
       "<table border=\"1\" class=\"dataframe\">\n",
       "  <thead>\n",
       "    <tr style=\"text-align: right;\">\n",
       "      <th></th>\n",
       "      <th>Image Data ID</th>\n",
       "      <th>Subject</th>\n",
       "      <th>Group</th>\n",
       "      <th>Sex</th>\n",
       "      <th>Age</th>\n",
       "      <th>Visit</th>\n",
       "      <th>Modality</th>\n",
       "      <th>Description</th>\n",
       "      <th>Type</th>\n",
       "      <th>Acq Date</th>\n",
       "      <th>Format</th>\n",
       "      <th>Downloaded</th>\n",
       "    </tr>\n",
       "  </thead>\n",
       "  <tbody>\n",
       "    <tr>\n",
       "      <th>0</th>\n",
       "      <td>I63897</td>\n",
       "      <td>941_S_1363</td>\n",
       "      <td>MCI</td>\n",
       "      <td>F</td>\n",
       "      <td>70</td>\n",
       "      <td>sc</td>\n",
       "      <td>MRI</td>\n",
       "      <td>MPR; GradWarp; B1 Correction; N3; Scaled</td>\n",
       "      <td>Processed</td>\n",
       "      <td>3/12/2007</td>\n",
       "      <td>NiFTI</td>\n",
       "      <td>5/20/2023</td>\n",
       "    </tr>\n",
       "    <tr>\n",
       "      <th>1</th>\n",
       "      <td>I123812</td>\n",
       "      <td>941_S_1311</td>\n",
       "      <td>MCI</td>\n",
       "      <td>M</td>\n",
       "      <td>71</td>\n",
       "      <td>m18</td>\n",
       "      <td>MRI</td>\n",
       "      <td>MPR; GradWarp; B1 Correction; N3; Scaled</td>\n",
       "      <td>Processed</td>\n",
       "      <td>9/21/2008</td>\n",
       "      <td>NiFTI</td>\n",
       "      <td>5/20/2023</td>\n",
       "    </tr>\n",
       "    <tr>\n",
       "      <th>2</th>\n",
       "      <td>I143861</td>\n",
       "      <td>941_S_1311</td>\n",
       "      <td>MCI</td>\n",
       "      <td>M</td>\n",
       "      <td>71</td>\n",
       "      <td>m24</td>\n",
       "      <td>MRI</td>\n",
       "      <td>MPR; GradWarp; B1 Correction; N3; Scaled</td>\n",
       "      <td>Processed</td>\n",
       "      <td>3/31/2009</td>\n",
       "      <td>NiFTI</td>\n",
       "      <td>5/20/2023</td>\n",
       "    </tr>\n",
       "    <tr>\n",
       "      <th>3</th>\n",
       "      <td>I112538</td>\n",
       "      <td>941_S_1311</td>\n",
       "      <td>MCI</td>\n",
       "      <td>M</td>\n",
       "      <td>70</td>\n",
       "      <td>m12</td>\n",
       "      <td>MRI</td>\n",
       "      <td>MPR; GradWarp; B1 Correction; N3; Scaled</td>\n",
       "      <td>Processed</td>\n",
       "      <td>6/01/2008</td>\n",
       "      <td>NiFTI</td>\n",
       "      <td>5/20/2023</td>\n",
       "    </tr>\n",
       "    <tr>\n",
       "      <th>4</th>\n",
       "      <td>I97327</td>\n",
       "      <td>941_S_1311</td>\n",
       "      <td>MCI</td>\n",
       "      <td>M</td>\n",
       "      <td>69</td>\n",
       "      <td>sc</td>\n",
       "      <td>MRI</td>\n",
       "      <td>MPR; GradWarp; B1 Correction; N3; Scaled</td>\n",
       "      <td>Processed</td>\n",
       "      <td>3/02/2007</td>\n",
       "      <td>NiFTI</td>\n",
       "      <td>5/20/2023</td>\n",
       "    </tr>\n",
       "  </tbody>\n",
       "</table>\n",
       "</div>"
      ],
      "text/plain": [
       "  Image Data ID     Subject Group Sex  Age Visit Modality  \\\n",
       "0        I63897  941_S_1363   MCI   F   70    sc      MRI   \n",
       "1       I123812  941_S_1311   MCI   M   71   m18      MRI   \n",
       "2       I143861  941_S_1311   MCI   M   71   m24      MRI   \n",
       "3       I112538  941_S_1311   MCI   M   70   m12      MRI   \n",
       "4        I97327  941_S_1311   MCI   M   69    sc      MRI   \n",
       "\n",
       "                                Description       Type   Acq Date Format  \\\n",
       "0  MPR; GradWarp; B1 Correction; N3; Scaled  Processed  3/12/2007  NiFTI   \n",
       "1  MPR; GradWarp; B1 Correction; N3; Scaled  Processed  9/21/2008  NiFTI   \n",
       "2  MPR; GradWarp; B1 Correction; N3; Scaled  Processed  3/31/2009  NiFTI   \n",
       "3  MPR; GradWarp; B1 Correction; N3; Scaled  Processed  6/01/2008  NiFTI   \n",
       "4  MPR; GradWarp; B1 Correction; N3; Scaled  Processed  3/02/2007  NiFTI   \n",
       "\n",
       "  Downloaded  \n",
       "0  5/20/2023  \n",
       "1  5/20/2023  \n",
       "2  5/20/2023  \n",
       "3  5/20/2023  \n",
       "4  5/20/2023  "
      ]
     },
     "execution_count": 8,
     "metadata": {},
     "output_type": "execute_result"
    }
   ],
   "source": [
    "age_sex_df = pd.read_csv(path + '\\\\downloaded_images_subject_list.csv')\n",
    "age_sex_df.head()"
   ]
  },
  {
   "cell_type": "code",
   "execution_count": 9,
   "metadata": {},
   "outputs": [],
   "source": [
    "age_sex_df['RID'] = age_sex_df['Subject'].apply(lambda x: int(x.split('_')[2]))"
   ]
  },
  {
   "cell_type": "code",
   "execution_count": 10,
   "metadata": {},
   "outputs": [],
   "source": [
    "def age_to_cat(age):\n",
    "    if age<70:\n",
    "        return '<70'\n",
    "    elif age>=70 and age<80:\n",
    "        return '70-80'\n",
    "    else:\n",
    "        return '>80'"
   ]
  },
  {
   "cell_type": "code",
   "execution_count": 11,
   "metadata": {},
   "outputs": [],
   "source": [
    "age_sex_df['Age_cat'] = age_sex_df['Age'].apply(lambda x: age_to_cat(x))"
   ]
  },
  {
   "cell_type": "code",
   "execution_count": 12,
   "metadata": {},
   "outputs": [],
   "source": [
    "age_sex_df = age_sex_df[['RID','Age_cat', 'Sex']]"
   ]
  },
  {
   "cell_type": "code",
   "execution_count": 13,
   "metadata": {},
   "outputs": [],
   "source": [
    "df = weight_df.merge(age_sex_df, on='RID', how='inner')"
   ]
  },
  {
   "cell_type": "code",
   "execution_count": 14,
   "metadata": {},
   "outputs": [],
   "source": [
    "df = df.drop_duplicates(subset='RID', keep=\"last\")"
   ]
  },
  {
   "cell_type": "code",
   "execution_count": 15,
   "metadata": {},
   "outputs": [
    {
     "data": {
      "text/html": [
       "<div>\n",
       "<style scoped>\n",
       "    .dataframe tbody tr th:only-of-type {\n",
       "        vertical-align: middle;\n",
       "    }\n",
       "\n",
       "    .dataframe tbody tr th {\n",
       "        vertical-align: top;\n",
       "    }\n",
       "\n",
       "    .dataframe thead th {\n",
       "        text-align: right;\n",
       "    }\n",
       "</style>\n",
       "<table border=\"1\" class=\"dataframe\">\n",
       "  <thead>\n",
       "    <tr style=\"text-align: right;\">\n",
       "      <th></th>\n",
       "      <th>RID</th>\n",
       "      <th>weight_cat</th>\n",
       "      <th>Age_cat</th>\n",
       "      <th>Sex</th>\n",
       "    </tr>\n",
       "  </thead>\n",
       "  <tbody>\n",
       "    <tr>\n",
       "      <th>24</th>\n",
       "      <td>295</td>\n",
       "      <td>underweight</td>\n",
       "      <td>&gt;80</td>\n",
       "      <td>M</td>\n",
       "    </tr>\n",
       "    <tr>\n",
       "      <th>49</th>\n",
       "      <td>413</td>\n",
       "      <td>underweight</td>\n",
       "      <td>70-80</td>\n",
       "      <td>F</td>\n",
       "    </tr>\n",
       "    <tr>\n",
       "      <th>53</th>\n",
       "      <td>559</td>\n",
       "      <td>overweight</td>\n",
       "      <td>&gt;80</td>\n",
       "      <td>M</td>\n",
       "    </tr>\n",
       "    <tr>\n",
       "      <th>54</th>\n",
       "      <td>619</td>\n",
       "      <td>overweight</td>\n",
       "      <td>&gt;80</td>\n",
       "      <td>M</td>\n",
       "    </tr>\n",
       "    <tr>\n",
       "      <th>70</th>\n",
       "      <td>685</td>\n",
       "      <td>underweight</td>\n",
       "      <td>&gt;80</td>\n",
       "      <td>F</td>\n",
       "    </tr>\n",
       "  </tbody>\n",
       "</table>\n",
       "</div>"
      ],
      "text/plain": [
       "    RID   weight_cat Age_cat Sex\n",
       "24  295  underweight     >80   M\n",
       "49  413  underweight   70-80   F\n",
       "53  559   overweight     >80   M\n",
       "54  619   overweight     >80   M\n",
       "70  685  underweight     >80   F"
      ]
     },
     "execution_count": 15,
     "metadata": {},
     "output_type": "execute_result"
    }
   ],
   "source": [
    "df.head()"
   ]
  },
  {
   "attachments": {},
   "cell_type": "markdown",
   "metadata": {},
   "source": [
    "Getting the combinations of attributes to perform the stratified undersampling"
   ]
  },
  {
   "cell_type": "code",
   "execution_count": 16,
   "metadata": {},
   "outputs": [
    {
     "data": {
      "text/plain": [
       "[{'weight_cat': 'underweight', 'Age_cat': '70-80', 'Sex': 'F'},\n",
       " {'weight_cat': 'underweight', 'Age_cat': '70-80', 'Sex': 'M'},\n",
       " {'weight_cat': 'underweight', 'Age_cat': '>80', 'Sex': 'M'},\n",
       " {'weight_cat': 'underweight', 'Age_cat': '>80', 'Sex': 'F'},\n",
       " {'weight_cat': 'overweight', 'Age_cat': '70-80', 'Sex': 'M'},\n",
       " {'weight_cat': 'underweight', 'Age_cat': '<70', 'Sex': 'F'},\n",
       " {'weight_cat': 'underweight', 'Age_cat': '<70', 'Sex': 'M'},\n",
       " {'weight_cat': 'overweight', 'Age_cat': '>80', 'Sex': 'M'},\n",
       " {'weight_cat': 'overweight', 'Age_cat': '<70', 'Sex': 'M'},\n",
       " {'weight_cat': 'overweight', 'Age_cat': '70-80', 'Sex': 'F'},\n",
       " {'weight_cat': 'overweight', 'Age_cat': '>80', 'Sex': 'F'}]"
      ]
     },
     "execution_count": 16,
     "metadata": {},
     "output_type": "execute_result"
    }
   ],
   "source": [
    "categories = []\n",
    "for i in list(df.drop('RID', axis=1).value_counts().index):\n",
    "    tuple = {'weight_cat': i[0],\n",
    "             'Age_cat': i[1],\n",
    "             'Sex': i[2]}\n",
    "    categories.append(tuple)\n",
    "categories\n"
   ]
  },
  {
   "attachments": {},
   "cell_type": "markdown",
   "metadata": {},
   "source": [
    "Getting the subjects for each class"
   ]
  },
  {
   "cell_type": "code",
   "execution_count": 18,
   "metadata": {},
   "outputs": [
    {
     "data": {
      "text/plain": [
       "'d:\\\\Projects\\\\ADNI-brain-MRI-alzheimer-classification-and-GAN-generation\\\\scripts\\\\2_class_imbalance_management'"
      ]
     },
     "execution_count": 18,
     "metadata": {},
     "output_type": "execute_result"
    }
   ],
   "source": [
    "os.getcwd()"
   ]
  },
  {
   "cell_type": "code",
   "execution_count": 19,
   "metadata": {},
   "outputs": [],
   "source": [
    "path = str(Path(os.getcwd()).parent.absolute().parent.absolute()) + '\\\\adni-images-Full-resized160x192\\\\metadata\\\\subjects_train_ad.txt'\n",
    "subjects_ad = []\n",
    "with open(path, 'r') as f:\n",
    "    subjects = f.readlines()\n",
    "    subjects_ad = [int(subject.strip().split('_')[2]) for subject in subjects]"
   ]
  },
  {
   "cell_type": "code",
   "execution_count": 20,
   "metadata": {},
   "outputs": [],
   "source": [
    "path = str(Path(os.getcwd()).parent.absolute().parent.absolute()) + '\\\\adni-images-Full-resized160x192\\\\metadata\\\\subjects_train_nor.txt'\n",
    "subjects_nc = []\n",
    "with open(path, 'r') as f:\n",
    "    subjects = f.readlines()\n",
    "    subjects_nc = [int(subject.strip().split('_')[2]) for subject in subjects]"
   ]
  },
  {
   "cell_type": "code",
   "execution_count": 21,
   "metadata": {},
   "outputs": [],
   "source": [
    "path = str(Path(os.getcwd()).parent.absolute().parent.absolute()) + '\\\\adni-images-Full-resized160x192\\\\metadata\\\\subjects_train_mci.txt'\n",
    "subjects_mci = []\n",
    "with open(path, 'r') as f:\n",
    "    subjects = f.readlines()\n",
    "    subjects_mci = [int(subject.strip().split('_')[2]) for subject in subjects]"
   ]
  },
  {
   "attachments": {},
   "cell_type": "markdown",
   "metadata": {},
   "source": [
    "Determing which class has the least number of subjects"
   ]
  },
  {
   "cell_type": "code",
   "execution_count": 22,
   "metadata": {},
   "outputs": [
    {
     "name": "stdout",
     "output_type": "stream",
     "text": [
      "Min class: ad with 89 subjects\n"
     ]
    }
   ],
   "source": [
    "min = float('inf')\n",
    "min_class = ''\n",
    "if len(subjects_ad) < min:\n",
    "    min = len(subjects_ad)\n",
    "    min_class = 'ad'\n",
    "if len(subjects_nc) < min:\n",
    "    min = len(subjects_nc)\n",
    "    min_class = 'nor'\n",
    "if len(subjects_mci) < min:\n",
    "    min = len(subjects_mci)\n",
    "    min_class = 'mci'\n",
    "\n",
    "print('Min class: ' + min_class, 'with ' + str(min) + ' subjects')"
   ]
  },
  {
   "attachments": {},
   "cell_type": "markdown",
   "metadata": {},
   "source": [
    "The minority class is **ad**. Getting now the ratio of subjects to be removed from the majority classes"
   ]
  },
  {
   "cell_type": "code",
   "execution_count": 23,
   "metadata": {},
   "outputs": [
    {
     "data": {
      "text/plain": [
       "(0.3296296296296296, 0.5894039735099338, 1.0)"
      ]
     },
     "execution_count": 23,
     "metadata": {},
     "output_type": "execute_result"
    }
   ],
   "source": [
    "mci_ratio = min/len(subjects_mci)\n",
    "nc_ratio = min/len(subjects_nc)\n",
    "ad_ratio = min/len(subjects_ad)\n",
    "mci_ratio, nc_ratio, ad_ratio"
   ]
  },
  {
   "attachments": {},
   "cell_type": "markdown",
   "metadata": {},
   "source": [
    "Now, for each of the categories defined earlier we are going to take a random sample of subjects to be kept from the majority classes based on these ratios"
   ]
  },
  {
   "attachments": {},
   "cell_type": "markdown",
   "metadata": {},
   "source": [
    "Creating empty folders to store the new dataset"
   ]
  },
  {
   "cell_type": "code",
   "execution_count": 25,
   "metadata": {},
   "outputs": [
    {
     "name": "stdout",
     "output_type": "stream",
     "text": [
      "train_strat_sub_under already exists\n"
     ]
    }
   ],
   "source": [
    "data_path = str(Path(os.getcwd()).parent.absolute().parent.absolute()) + '\\\\adni-images-Full-resized160x192'\n",
    "\n",
    "try: os.mkdir(data_path + '\\\\train_strat_sub_under')\n",
    "except: print('train_strat_sub_under already exists')\n",
    "\n",
    "for target in os.listdir(data_path + '\\\\train_unbalanced'):\n",
    "    try : os.mkdir(data_path + '\\\\train_strat_sub_under\\\\' + target)\n",
    "    except: print('train_strat_sub_under\\\\' + target + ' already exists')"
   ]
  },
  {
   "cell_type": "code",
   "execution_count": 26,
   "metadata": {},
   "outputs": [
    {
     "name": "stdout",
     "output_type": "stream",
     "text": [
      "Creating ad class\n"
     ]
    },
    {
     "name": "stderr",
     "output_type": "stream",
     "text": [
      "100%|██████████| 17166/17166 [01:14<00:00, 231.75it/s]\n"
     ]
    },
    {
     "name": "stdout",
     "output_type": "stream",
     "text": [
      "Creating mci class\n",
      "Total subjects: 94\n"
     ]
    },
    {
     "name": "stderr",
     "output_type": "stream",
     "text": [
      "100%|██████████| 72780/72780 [01:47<00:00, 677.90it/s] \n"
     ]
    },
    {
     "name": "stdout",
     "output_type": "stream",
     "text": [
      "Creating nor class\n",
      "Total subjects: 93\n"
     ]
    },
    {
     "name": "stderr",
     "output_type": "stream",
     "text": [
      "100%|██████████| 39689/39689 [01:43<00:00, 383.66it/s] \n"
     ]
    }
   ],
   "source": [
    "for target in os.listdir(data_path + '\\\\train_unbalanced'):\n",
    "    \n",
    "    print('Creating ' + target + ' class')\n",
    "    \n",
    "    if target == min_class: # No undersampling for the min class\n",
    "        for image in tqdm(os.listdir(data_path + '\\\\train_unbalanced\\\\' + target)):\n",
    "            shutil.copy(data_path + '\\\\train_unbalanced\\\\' + target + '\\\\' + image, data_path + '\\\\train_strat_sub_under\\\\' + target + '\\\\' + image)\n",
    "        continue\n",
    "    \n",
    "    if target == 'ad':\n",
    "        class_subjects = subjects_ad\n",
    "        class_ratio = ad_ratio\n",
    "    elif target == 'mci':\n",
    "        class_subjects = subjects_mci\n",
    "        class_ratio = mci_ratio\n",
    "    else:\n",
    "        class_subjects = subjects_nc\n",
    "        class_ratio = nc_ratio\n",
    "    \n",
    "    tot_subjects = []\n",
    "    for category in categories:\n",
    "        subjects = df[(df['weight_cat']==category['weight_cat']) & \n",
    "                      (df['Age_cat']==category['Age_cat']) &\n",
    "                      (df['Sex']==category['Sex'])]['RID'].tolist()\n",
    "        subjects = [subject for subject in subjects if subject in class_subjects]\n",
    "        if len(subjects) == 0:\n",
    "            continue\n",
    "        random.shuffle(subjects)\n",
    "        subjects = subjects[:int(np.ceil(len(subjects)*class_ratio))]\n",
    "        tot_subjects += subjects\n",
    "    \n",
    "    print('Total subjects: ' + str(len(tot_subjects)))\n",
    "    \n",
    "    for image in tqdm(os.listdir(data_path + '\\\\train_unbalanced\\\\' + target)):\n",
    "        subject = int(image.split('_')[3])\n",
    "\n",
    "        if subject in tot_subjects:\n",
    "            shutil.copy(data_path + '\\\\train_unbalanced\\\\' + target + '\\\\' + image, data_path + '\\\\train_strat_sub_under\\\\' + target + '\\\\' + image)\n",
    "    "
   ]
  },
  {
   "attachments": {},
   "cell_type": "markdown",
   "metadata": {},
   "source": [
    "Verifiying that the number of subjects in each class is aproximately the same"
   ]
  },
  {
   "cell_type": "code",
   "execution_count": 27,
   "metadata": {},
   "outputs": [
    {
     "name": "stdout",
     "output_type": "stream",
     "text": [
      "ad 17166\n",
      "mci 24780\n",
      "nor 23928\n"
     ]
    }
   ],
   "source": [
    "for target in os.listdir(data_path + '\\\\train_strat_sub_under'):\n",
    "    print(target, len(os.listdir(data_path + '\\\\train_strat_sub_under\\\\' + target)))"
   ]
  }
 ],
 "metadata": {
  "kernelspec": {
   "display_name": "biolab_project",
   "language": "python",
   "name": "python3"
  },
  "language_info": {
   "codemirror_mode": {
    "name": "ipython",
    "version": 3
   },
   "file_extension": ".py",
   "mimetype": "text/x-python",
   "name": "python",
   "nbconvert_exporter": "python",
   "pygments_lexer": "ipython3",
   "version": "3.8.16"
  },
  "orig_nbformat": 4
 },
 "nbformat": 4,
 "nbformat_minor": 2
}
