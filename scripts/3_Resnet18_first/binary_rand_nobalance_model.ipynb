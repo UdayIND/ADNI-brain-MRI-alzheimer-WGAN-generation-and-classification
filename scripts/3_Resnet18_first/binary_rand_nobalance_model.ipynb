{
 "cells": [
  {
   "attachments": {},
   "cell_type": "markdown",
   "metadata": {},
   "source": [
    "**Importing libraries**"
   ]
  },
  {
   "cell_type": "code",
   "execution_count": 1,
   "metadata": {},
   "outputs": [],
   "source": [
    "# Keras e TF\n",
    "\n",
    "#import tensorflow\n",
    "from tensorflow import keras\n",
    "from keras.preprocessing.image import ImageDataGenerator\n",
    "from keras.layers import Conv2D, Conv1D, MaxPooling2D, Dense, Flatten, BatchNormalization, Activation, AveragePooling2D, Input, Flatten, Dropout\n",
    "from keras.callbacks import ModelCheckpoint\n",
    "\n",
    "# Sk-Learn\n",
    "from sklearn.metrics import classification_report, confusion_matrix\n",
    "from sklearn.model_selection import train_test_split\n",
    "from sklearn.metrics import classification_report,confusion_matrix, ConfusionMatrixDisplay, roc_curve, roc_auc_score, RocCurveDisplay, accuracy_score, classification_report, confusion_matrix\n",
    "\n",
    "# Base\n",
    "import os \n",
    "from pathlib import Path\n",
    "from matplotlib import pyplot as plt\n",
    "import seaborn as sns # \n",
    "import numpy as np #\n",
    "import pandas as pd # \n",
    "\n",
    "from keras.utils import load_img\n",
    "\n",
    "import pydot\n",
    "import pydotplus\n",
    "from pydotplus import graphviz\n",
    "\n",
    "from keras.callbacks import TensorBoard, ModelCheckpoint, ReduceLROnPlateau\n",
    "from tensorflow.keras import backend as K\n",
    "from custom_resnet import ResNet18\n",
    "\n",
    "\n",
    "from keras.models import Model\n",
    "from keras.optimizers import Adam"
   ]
  },
  {
   "cell_type": "code",
   "execution_count": 2,
   "metadata": {},
   "outputs": [
    {
     "data": {
      "text/plain": [
       "'2.10.0'"
      ]
     },
     "execution_count": 2,
     "metadata": {},
     "output_type": "execute_result"
    }
   ],
   "source": [
    "keras.__version__"
   ]
  },
  {
   "attachments": {},
   "cell_type": "markdown",
   "metadata": {},
   "source": [
    "**Setting path to the dataset**"
   ]
  },
  {
   "cell_type": "code",
   "execution_count": 3,
   "metadata": {},
   "outputs": [],
   "source": [
    "os.chdir(Path(str(Path(os.getcwd()).parent.absolute().parent.absolute()) +\n",
    "              '\\\\adni-images-Full-resized160x192-binary'))"
   ]
  },
  {
   "cell_type": "code",
   "execution_count": 4,
   "metadata": {},
   "outputs": [
    {
     "name": "stdout",
     "output_type": "stream",
     "text": [
      "d:\\Projects\\ADNI-brain-MRI-alzheimer-classification-and-GAN-generation\\adni-images-Full-resized160x192-binary\n"
     ]
    }
   ],
   "source": [
    "print(os.getcwd())"
   ]
  },
  {
   "attachments": {},
   "cell_type": "markdown",
   "metadata": {},
   "source": [
    "# Loading Dataset"
   ]
  },
  {
   "cell_type": "code",
   "execution_count": 4,
   "metadata": {},
   "outputs": [
    {
     "name": "stdout",
     "output_type": "stream",
     "text": [
      "61829\n",
      "Name:  d:\\Projects\\ADNI-brain-MRI-alzheimer-classification-and-GAN-generation\\adni-images-Full-resized160x192-binary\\no_balance_binary\\logs_no_balance_binary\\train/events.out.tfevents.1686073730.GIORGIO-LAPTOP.43900.0.v2\n",
      "Name:  d:\\Projects\\ADNI-brain-MRI-alzheimer-classification-and-GAN-generation\\adni-images-Full-resized160x192-binary\\train\\ad/ADNI_021_S_0753_MR_MPR__GradWarp__B1_Correction__N3__Scaled_Br_20071115091031185_S18712_I82162_101.png\n"
     ]
    }
   ],
   "source": [
    "data_dir = Path(os.getcwd())\n",
    "\n",
    "def data_mean_std():\n",
    "    names = []\n",
    "    for root, dirs, files in os.walk(data_dir):\n",
    "        if \"train\" in root:\n",
    "            for file in files:\n",
    "                names.append(root + '/' + file)\n",
    "    \n",
    "    print(len(names))\n",
    "                \n",
    "    array = []\n",
    "    for name in names:\n",
    "        try:\n",
    "            img = load_img(name, color_mode = 'grayscale', target_size = (160, 192))\n",
    "            img_array = np.asarray(img)\n",
    "            array.append(img_array)\n",
    "        except:\n",
    "            print(\"Name: \", name)\n",
    "            continue\n",
    "    \n",
    "    print(img_array.shape) # Correct amount of images\n",
    "\n",
    "    array = np.asarray(array)\n",
    "    print(array.shape)\n",
    "    print(array.mean().shape, array.std().shape)\n",
    "    return array.mean(), array.std()\n",
    "\"\"\" \n",
    "stats_file = open(stats_path, 'r')\n",
    "stats_lst = stats_file.read().split('\\n')\n",
    "mean = float(stats_lst[0])\n",
    "std = float(stats_lst[1])\"\"\"\n",
    "mean, std = data_mean_std()\n",
    "\n",
    "print(mean, std)\n"
   ]
  },
  {
   "attachments": {},
   "cell_type": "markdown",
   "metadata": {},
   "source": [
    "Use the pre-computed values (oversampling GAN):"
   ]
  },
  {
   "cell_type": "code",
   "execution_count": 5,
   "metadata": {},
   "outputs": [],
   "source": [
    "mean = 35.80925715423529\n",
    "std = 45.16736479384096"
   ]
  },
  {
   "cell_type": "code",
   "execution_count": 6,
   "metadata": {},
   "outputs": [],
   "source": [
    "def normalize(x):\n",
    "    return (x - mean) / std"
   ]
  },
  {
   "cell_type": "code",
   "execution_count": 7,
   "metadata": {},
   "outputs": [],
   "source": [
    "batch_size = 32 # Batch size\n",
    "\n",
    "train_path = './train_unbalanced'\n",
    "test_path = './test'\n",
    "valid_path = './valid'\n",
    "#rescale = 1./255.\n",
    "train_datagen = ImageDataGenerator(preprocessing_function = normalize)\n",
    "test_datagen = ImageDataGenerator(preprocessing_function = normalize)\n",
    "valid_datagen = ImageDataGenerator(preprocessing_function = normalize)"
   ]
  },
  {
   "cell_type": "code",
   "execution_count": 8,
   "metadata": {},
   "outputs": [
    {
     "name": "stdout",
     "output_type": "stream",
     "text": [
      "Found 52025 images belonging to 2 classes.\n"
     ]
    }
   ],
   "source": [
    "train_data = train_datagen.flow_from_directory(\n",
    "        train_path,\n",
    "        color_mode = 'grayscale',\n",
    "        target_size=(192, 160),  # Lo inserisco per precauzione\n",
    "        batch_size=batch_size,\n",
    "        seed=123,\n",
    "        shuffle=True,\n",
    "        class_mode= \"binary\")"
   ]
  },
  {
   "cell_type": "code",
   "execution_count": 61,
   "metadata": {},
   "outputs": [
    {
     "name": "stdout",
     "output_type": "stream",
     "text": [
      "Found 10748 images belonging to 2 classes.\n"
     ]
    }
   ],
   "source": [
    "validation_data = valid_datagen.flow_from_directory(\n",
    "        valid_path,\n",
    "        classes={'ad': 0, \n",
    "                'nor': 1},\n",
    "        color_mode='grayscale',\n",
    "        target_size=(192, 160),  # Lo inserisco per precauzione\n",
    "        batch_size=batch_size,\n",
    "        seed=123,\n",
    "        shuffle=True,\n",
    "        class_mode= \"binary\")"
   ]
  },
  {
   "cell_type": "code",
   "execution_count": 10,
   "metadata": {},
   "outputs": [
    {
     "name": "stdout",
     "output_type": "stream",
     "text": [
      "Found 4572 images belonging to 2 classes.\n"
     ]
    }
   ],
   "source": [
    "# Test set\n",
    "test_data = test_datagen.flow_from_directory(\n",
    "        test_path,\n",
    "        color_mode='grayscale',\n",
    "        target_size=(192, 160),  # Lo inserisco per precauzione\n",
    "        batch_size=batch_size,\n",
    "        shuffle=False,\n",
    "        class_mode= \"binary\")"
   ]
  },
  {
   "cell_type": "code",
   "execution_count": 41,
   "metadata": {},
   "outputs": [
    {
     "data": {
      "text/plain": [
       "{'ad': 0, 'nor': 1}"
      ]
     },
     "execution_count": 41,
     "metadata": {},
     "output_type": "execute_result"
    }
   ],
   "source": [
    "train_data.class_indices"
   ]
  },
  {
   "cell_type": "code",
   "execution_count": 62,
   "metadata": {},
   "outputs": [
    {
     "data": {
      "text/plain": [
       "{'ad': 0, 'nor': 1}"
      ]
     },
     "execution_count": 62,
     "metadata": {},
     "output_type": "execute_result"
    }
   ],
   "source": [
    "validation_data.class_indices"
   ]
  },
  {
   "cell_type": "code",
   "execution_count": 14,
   "metadata": {},
   "outputs": [
    {
     "data": {
      "text/plain": [
       "{'ad': 0, 'nor': 1}"
      ]
     },
     "execution_count": 14,
     "metadata": {},
     "output_type": "execute_result"
    }
   ],
   "source": [
    "test_data.class_indices"
   ]
  },
  {
   "cell_type": "code",
   "execution_count": 11,
   "metadata": {},
   "outputs": [
    {
     "name": "stdout",
     "output_type": "stream",
     "text": [
      "0.4105136287780456 0.5894863712219544\n"
     ]
    }
   ],
   "source": [
    "train_ad = len(os.listdir(os.getcwd() + '\\\\train_rand_sub_under\\\\ad'))\n",
    "train_nor = len(os.listdir(os.getcwd() + '\\\\train_rand_sub_under\\\\nor'))\n",
    "train_tot = train_ad + train_nor\n",
    "print(train_ad/train_tot, train_nor/train_tot)"
   ]
  },
  {
   "cell_type": "code",
   "execution_count": 12,
   "metadata": {},
   "outputs": [
    {
     "name": "stdout",
     "output_type": "stream",
     "text": [
      "0.5201224846894138 0.4798775153105862\n"
     ]
    }
   ],
   "source": [
    "test_ad = len(os.listdir(os.getcwd() + '\\\\test\\\\ad'))\n",
    "test_nor = len(os.listdir(os.getcwd() + '\\\\test\\\\nor'))\n",
    "test_tot = test_ad + test_nor\n",
    "print(test_ad/test_tot, test_nor/test_tot)"
   ]
  },
  {
   "cell_type": "code",
   "execution_count": 13,
   "metadata": {},
   "outputs": [
    {
     "name": "stdout",
     "output_type": "stream",
     "text": [
      "0.3731857089691105 0.6268142910308895\n"
     ]
    }
   ],
   "source": [
    "valid_ad = len(os.listdir(os.getcwd() + '\\\\valid\\\\ad'))\n",
    "valid_nor = len(os.listdir(os.getcwd() + '\\\\valid\\\\nor'))\n",
    "valid_tot = valid_ad + valid_nor\n",
    "print(valid_ad/valid_tot, valid_nor/valid_tot)"
   ]
  },
  {
   "attachments": {},
   "cell_type": "markdown",
   "metadata": {},
   "source": [
    "# Model Definition"
   ]
  },
  {
   "attachments": {},
   "cell_type": "markdown",
   "metadata": {},
   "source": [
    "Changing the folder to data path to save weights into"
   ]
  },
  {
   "cell_type": "code",
   "execution_count": 14,
   "metadata": {},
   "outputs": [],
   "source": [
    "os.chdir(Path(str(Path(os.getcwd()).parent.absolute()) + '\\\\scripts\\\\3_Resnet18_first'))"
   ]
  },
  {
   "cell_type": "code",
   "execution_count": 15,
   "metadata": {},
   "outputs": [
    {
     "data": {
      "text/plain": [
       "'d:\\\\Projects\\\\ADNI-brain-MRI-alzheimer-classification-and-GAN-generation\\\\scripts\\\\3_Resnet18_first'"
      ]
     },
     "execution_count": 15,
     "metadata": {},
     "output_type": "execute_result"
    }
   ],
   "source": [
    "os.getcwd()"
   ]
  },
  {
   "cell_type": "code",
   "execution_count": 16,
   "metadata": {},
   "outputs": [],
   "source": [
    "METRICS = [ \n",
    "      keras.metrics.TruePositives(name='tp'),\n",
    "      keras.metrics.FalsePositives(name='fp'),\n",
    "      keras.metrics.TrueNegatives(name='tn'),\n",
    "      keras.metrics.FalseNegatives(name='fn'),\n",
    "      keras.metrics.BinaryAccuracy(name='accuracy'),\n",
    "      keras.metrics.Precision(name='precision'),\n",
    "      keras.metrics.Recall(name='recall'),\n",
    "      keras.metrics.AUC(name='auc')\n",
    "]"
   ]
  },
  {
   "cell_type": "code",
   "execution_count": 17,
   "metadata": {},
   "outputs": [],
   "source": [
    "early_stopper = keras.callbacks.EarlyStopping(monitor='val_loss', patience=100)"
   ]
  },
  {
   "cell_type": "code",
   "execution_count": 18,
   "metadata": {},
   "outputs": [
    {
     "name": "stdout",
     "output_type": "stream",
     "text": [
      "<class 'keras.engine.keras_tensor.KerasTensor'>\n",
      "model loaded\n",
      "Model: \"model\"\n",
      "__________________________________________________________________________________________________\n",
      " Layer (type)                   Output Shape         Param #     Connected to                     \n",
      "==================================================================================================\n",
      " input_1 (InputLayer)           [(None, 192, 160, 1  0           []                               \n",
      "                                )]                                                                \n",
      "                                                                                                  \n",
      " conv1_pad (ZeroPadding2D)      (None, 198, 166, 1)  0           ['input_1[0][0]']                \n",
      "                                                                                                  \n",
      " conv1 (Conv2D)                 (None, 96, 80, 64)   3200        ['conv1_pad[0][0]']              \n",
      "                                                                                                  \n",
      " bn_conv1 (BatchNormalization)  (None, 96, 80, 64)   256         ['conv1[0][0]']                  \n",
      "                                                                                                  \n",
      " leaky_re_lu (LeakyReLU)        (None, 96, 80, 64)   0           ['bn_conv1[0][0]']               \n",
      "                                                                                                  \n",
      " max_pooling2d (MaxPooling2D)   (None, 47, 39, 64)   0           ['leaky_re_lu[0][0]']            \n",
      "                                                                                                  \n",
      " res2a_branch2a (Conv2D)        (None, 47, 39, 64)   36928       ['max_pooling2d[0][0]']          \n",
      "                                                                                                  \n",
      " bn2a_branch2a (BatchNormalizat  (None, 47, 39, 64)  256         ['res2a_branch2a[0][0]']         \n",
      " ion)                                                                                             \n",
      "                                                                                                  \n",
      " leaky_re_lu_1 (LeakyReLU)      (None, 47, 39, 64)   0           ['bn2a_branch2a[0][0]']          \n",
      "                                                                                                  \n",
      " res2a_branch2b (Conv2D)        (None, 47, 39, 64)   36928       ['leaky_re_lu_1[0][0]']          \n",
      "                                                                                                  \n",
      " res2a_branch1 (Conv2D)         (None, 47, 39, 64)   4160        ['max_pooling2d[0][0]']          \n",
      "                                                                                                  \n",
      " bn2a_branch2b (BatchNormalizat  (None, 47, 39, 64)  256         ['res2a_branch2b[0][0]']         \n",
      " ion)                                                                                             \n",
      "                                                                                                  \n",
      " bn2a_branch1 (BatchNormalizati  (None, 47, 39, 64)  256         ['res2a_branch1[0][0]']          \n",
      " on)                                                                                              \n",
      "                                                                                                  \n",
      " add (Add)                      (None, 47, 39, 64)   0           ['bn2a_branch2b[0][0]',          \n",
      "                                                                  'bn2a_branch1[0][0]']           \n",
      "                                                                                                  \n",
      " leaky_re_lu_2 (LeakyReLU)      (None, 47, 39, 64)   0           ['add[0][0]']                    \n",
      "                                                                                                  \n",
      " res2b_branch2a (Conv2D)        (None, 47, 39, 64)   36928       ['leaky_re_lu_2[0][0]']          \n",
      "                                                                                                  \n",
      " bn2b_branch2a (BatchNormalizat  (None, 47, 39, 64)  256         ['res2b_branch2a[0][0]']         \n",
      " ion)                                                                                             \n",
      "                                                                                                  \n",
      " leaky_re_lu_3 (LeakyReLU)      (None, 47, 39, 64)   0           ['bn2b_branch2a[0][0]']          \n",
      "                                                                                                  \n",
      " res2b_branch2b (Conv2D)        (None, 47, 39, 64)   36928       ['leaky_re_lu_3[0][0]']          \n",
      "                                                                                                  \n",
      " bn2b_branch2b (BatchNormalizat  (None, 47, 39, 64)  256         ['res2b_branch2b[0][0]']         \n",
      " ion)                                                                                             \n",
      "                                                                                                  \n",
      " add_1 (Add)                    (None, 47, 39, 64)   0           ['bn2b_branch2b[0][0]',          \n",
      "                                                                  'leaky_re_lu_2[0][0]']          \n",
      "                                                                                                  \n",
      " leaky_re_lu_4 (LeakyReLU)      (None, 47, 39, 64)   0           ['add_1[0][0]']                  \n",
      "                                                                                                  \n",
      " res3a_branch2a (Conv2D)        (None, 24, 20, 128)  73856       ['leaky_re_lu_4[0][0]']          \n",
      "                                                                                                  \n",
      " bn3a_branch2a (BatchNormalizat  (None, 24, 20, 128)  512        ['res3a_branch2a[0][0]']         \n",
      " ion)                                                                                             \n",
      "                                                                                                  \n",
      " leaky_re_lu_5 (LeakyReLU)      (None, 24, 20, 128)  0           ['bn3a_branch2a[0][0]']          \n",
      "                                                                                                  \n",
      " res3a_branch2b (Conv2D)        (None, 24, 20, 128)  147584      ['leaky_re_lu_5[0][0]']          \n",
      "                                                                                                  \n",
      " res3a_branch1 (Conv2D)         (None, 24, 20, 128)  8320        ['leaky_re_lu_4[0][0]']          \n",
      "                                                                                                  \n",
      " bn3a_branch2b (BatchNormalizat  (None, 24, 20, 128)  512        ['res3a_branch2b[0][0]']         \n",
      " ion)                                                                                             \n",
      "                                                                                                  \n",
      " bn3a_branch1 (BatchNormalizati  (None, 24, 20, 128)  512        ['res3a_branch1[0][0]']          \n",
      " on)                                                                                              \n",
      "                                                                                                  \n",
      " add_2 (Add)                    (None, 24, 20, 128)  0           ['bn3a_branch2b[0][0]',          \n",
      "                                                                  'bn3a_branch1[0][0]']           \n",
      "                                                                                                  \n",
      " leaky_re_lu_6 (LeakyReLU)      (None, 24, 20, 128)  0           ['add_2[0][0]']                  \n",
      "                                                                                                  \n",
      " res3b_branch2a (Conv2D)        (None, 24, 20, 128)  147584      ['leaky_re_lu_6[0][0]']          \n",
      "                                                                                                  \n",
      " bn3b_branch2a (BatchNormalizat  (None, 24, 20, 128)  512        ['res3b_branch2a[0][0]']         \n",
      " ion)                                                                                             \n",
      "                                                                                                  \n",
      " leaky_re_lu_7 (LeakyReLU)      (None, 24, 20, 128)  0           ['bn3b_branch2a[0][0]']          \n",
      "                                                                                                  \n",
      " res3b_branch2b (Conv2D)        (None, 24, 20, 128)  147584      ['leaky_re_lu_7[0][0]']          \n",
      "                                                                                                  \n",
      " bn3b_branch2b (BatchNormalizat  (None, 24, 20, 128)  512        ['res3b_branch2b[0][0]']         \n",
      " ion)                                                                                             \n",
      "                                                                                                  \n",
      " add_3 (Add)                    (None, 24, 20, 128)  0           ['bn3b_branch2b[0][0]',          \n",
      "                                                                  'leaky_re_lu_6[0][0]']          \n",
      "                                                                                                  \n",
      " leaky_re_lu_8 (LeakyReLU)      (None, 24, 20, 128)  0           ['add_3[0][0]']                  \n",
      "                                                                                                  \n",
      " res4a_branch2a (Conv2D)        (None, 12, 10, 256)  295168      ['leaky_re_lu_8[0][0]']          \n",
      "                                                                                                  \n",
      " bn4a_branch2a (BatchNormalizat  (None, 12, 10, 256)  1024       ['res4a_branch2a[0][0]']         \n",
      " ion)                                                                                             \n",
      "                                                                                                  \n",
      " leaky_re_lu_9 (LeakyReLU)      (None, 12, 10, 256)  0           ['bn4a_branch2a[0][0]']          \n",
      "                                                                                                  \n",
      " res4a_branch2b (Conv2D)        (None, 12, 10, 256)  590080      ['leaky_re_lu_9[0][0]']          \n",
      "                                                                                                  \n",
      " res4a_branch1 (Conv2D)         (None, 12, 10, 256)  33024       ['leaky_re_lu_8[0][0]']          \n",
      "                                                                                                  \n",
      " bn4a_branch2b (BatchNormalizat  (None, 12, 10, 256)  1024       ['res4a_branch2b[0][0]']         \n",
      " ion)                                                                                             \n",
      "                                                                                                  \n",
      " bn4a_branch1 (BatchNormalizati  (None, 12, 10, 256)  1024       ['res4a_branch1[0][0]']          \n",
      " on)                                                                                              \n",
      "                                                                                                  \n",
      " add_4 (Add)                    (None, 12, 10, 256)  0           ['bn4a_branch2b[0][0]',          \n",
      "                                                                  'bn4a_branch1[0][0]']           \n",
      "                                                                                                  \n",
      " leaky_re_lu_10 (LeakyReLU)     (None, 12, 10, 256)  0           ['add_4[0][0]']                  \n",
      "                                                                                                  \n",
      " res4b_branch2a (Conv2D)        (None, 12, 10, 256)  590080      ['leaky_re_lu_10[0][0]']         \n",
      "                                                                                                  \n",
      " bn4b_branch2a (BatchNormalizat  (None, 12, 10, 256)  1024       ['res4b_branch2a[0][0]']         \n",
      " ion)                                                                                             \n",
      "                                                                                                  \n",
      " leaky_re_lu_11 (LeakyReLU)     (None, 12, 10, 256)  0           ['bn4b_branch2a[0][0]']          \n",
      "                                                                                                  \n",
      " res4b_branch2b (Conv2D)        (None, 12, 10, 256)  590080      ['leaky_re_lu_11[0][0]']         \n",
      "                                                                                                  \n",
      " bn4b_branch2b (BatchNormalizat  (None, 12, 10, 256)  1024       ['res4b_branch2b[0][0]']         \n",
      " ion)                                                                                             \n",
      "                                                                                                  \n",
      " add_5 (Add)                    (None, 12, 10, 256)  0           ['bn4b_branch2b[0][0]',          \n",
      "                                                                  'leaky_re_lu_10[0][0]']         \n",
      "                                                                                                  \n",
      " leaky_re_lu_12 (LeakyReLU)     (None, 12, 10, 256)  0           ['add_5[0][0]']                  \n",
      "                                                                                                  \n",
      " res5a_branch2a (Conv2D)        (None, 6, 5, 512)    1180160     ['leaky_re_lu_12[0][0]']         \n",
      "                                                                                                  \n",
      " bn5a_branch2a (BatchNormalizat  (None, 6, 5, 512)   2048        ['res5a_branch2a[0][0]']         \n",
      " ion)                                                                                             \n",
      "                                                                                                  \n",
      " leaky_re_lu_13 (LeakyReLU)     (None, 6, 5, 512)    0           ['bn5a_branch2a[0][0]']          \n",
      "                                                                                                  \n",
      " res5a_branch2b (Conv2D)        (None, 6, 5, 512)    2359808     ['leaky_re_lu_13[0][0]']         \n",
      "                                                                                                  \n",
      " res5a_branch1 (Conv2D)         (None, 6, 5, 512)    131584      ['leaky_re_lu_12[0][0]']         \n",
      "                                                                                                  \n",
      " bn5a_branch2b (BatchNormalizat  (None, 6, 5, 512)   2048        ['res5a_branch2b[0][0]']         \n",
      " ion)                                                                                             \n",
      "                                                                                                  \n",
      " bn5a_branch1 (BatchNormalizati  (None, 6, 5, 512)   2048        ['res5a_branch1[0][0]']          \n",
      " on)                                                                                              \n",
      "                                                                                                  \n",
      " add_6 (Add)                    (None, 6, 5, 512)    0           ['bn5a_branch2b[0][0]',          \n",
      "                                                                  'bn5a_branch1[0][0]']           \n",
      "                                                                                                  \n",
      " leaky_re_lu_14 (LeakyReLU)     (None, 6, 5, 512)    0           ['add_6[0][0]']                  \n",
      "                                                                                                  \n",
      " res5b_branch2a (Conv2D)        (None, 6, 5, 512)    2359808     ['leaky_re_lu_14[0][0]']         \n",
      "                                                                                                  \n",
      " bn5b_branch2a (BatchNormalizat  (None, 6, 5, 512)   2048        ['res5b_branch2a[0][0]']         \n",
      " ion)                                                                                             \n",
      "                                                                                                  \n",
      " leaky_re_lu_15 (LeakyReLU)     (None, 6, 5, 512)    0           ['bn5b_branch2a[0][0]']          \n",
      "                                                                                                  \n",
      " res5b_branch2b (Conv2D)        (None, 6, 5, 512)    2359808     ['leaky_re_lu_15[0][0]']         \n",
      "                                                                                                  \n",
      " bn5b_branch2b (BatchNormalizat  (None, 6, 5, 512)   2048        ['res5b_branch2b[0][0]']         \n",
      " ion)                                                                                             \n",
      "                                                                                                  \n",
      " add_7 (Add)                    (None, 6, 5, 512)    0           ['bn5b_branch2b[0][0]',          \n",
      "                                                                  'leaky_re_lu_14[0][0]']         \n",
      "                                                                                                  \n",
      " leaky_re_lu_16 (LeakyReLU)     (None, 6, 5, 512)    0           ['add_7[0][0]']                  \n",
      "                                                                                                  \n",
      " avg_pool (AveragePooling2D)    (None, 1, 1, 512)    0           ['leaky_re_lu_16[0][0]']         \n",
      "                                                                                                  \n",
      " flatten (Flatten)              (None, 512)          0           ['avg_pool[0][0]']               \n",
      "                                                                                                  \n",
      " dense (Dense)                  (None, 1)            513         ['flatten[0][0]']                \n",
      "                                                                                                  \n",
      "==================================================================================================\n",
      "Total params: 11,189,569\n",
      "Trainable params: 11,179,841\n",
      "Non-trainable params: 9,728\n",
      "__________________________________________________________________________________________________\n"
     ]
    }
   ],
   "source": [
    "version = \"v1\"\n",
    "epochs = 20\n",
    "arch_name = 'bs_{}'.format(batch_size)\n",
    "\n",
    "tb = TensorBoard(log_dir =os.getcwd() + '\\\\no_balance_binary\\\\logs_no_balance_binary', write_graph = True)\n",
    "\n",
    "lr_reducer = ReduceLROnPlateau(monitor='loss', factor=np.sqrt(0.1), patience=10, cooldown=0, min_lr=1e-5)\n",
    "\n",
    "model_chkp = ModelCheckpoint(filepath=os.getcwd() + '\\\\models\\\\best_model_no_balance_binary\\\\{}_{}_{}_eps_best.hdf5'.format(version, arch_name, epochs)',\n",
    "                            # monitor='val_quadratic_kappa_score',\n",
    "                            monitor='val_accuracy',\n",
    "                            save_best_only=True, save_weights_only=True, mode='max')\n",
    "\n",
    "#resnet = ResNet18()\n",
    "#resnet = ResNet18(classes=3, input_shape=(160, 192))\n",
    "resnet = ResNet18(classes=2)\n",
    "\n",
    "\n",
    "#model = keras.applications.resnet50.ResNet50(include_top=True, weights='imagenet', input_tensor=None, input_shape=None, pooling=None, classes=1000)\n",
    "#model.summary()\n",
    "\n",
    "#resnet.layers.pop()\n",
    "#for layer in resnet.layers:\n",
    "#    layer.trainable = False\n",
    "\n",
    "x = resnet.layers[-1].output\n",
    "\n",
    "# x = Dropout(0.25)(x)\n",
    "\n",
    "x = Dense(1, activation = 'sigmoid')(x)\n",
    "\n",
    "\n",
    "ft_resnet = Model(resnet.input, x)\n",
    "optimizer = Adam(learning_rate = 0.001)\n",
    "ft_resnet.compile(optimizer = optimizer, loss = 'BinaryCrossentropy', metrics = METRICS)\n",
    "\n",
    "print(\"model loaded\")\n",
    "\n",
    "ft_resnet.summary()"
   ]
  },
  {
   "attachments": {},
   "cell_type": "markdown",
   "metadata": {},
   "source": [
    "Changing back the folder to data path"
   ]
  },
  {
   "cell_type": "code",
   "execution_count": 19,
   "metadata": {},
   "outputs": [
    {
     "data": {
      "text/plain": [
       "'d:\\\\Projects\\\\ADNI-brain-MRI-alzheimer-classification-and-GAN-generation\\\\adni-images-Full-resized160x192-binary'"
      ]
     },
     "execution_count": 19,
     "metadata": {},
     "output_type": "execute_result"
    }
   ],
   "source": [
    "os.chdir(Path(str(Path(os.getcwd()).parent.absolute().parent.absolute()) + '\\\\adni-images-Full-resized160x192-binary'))\n",
    "os.getcwd()"
   ]
  },
  {
   "cell_type": "code",
   "execution_count": 20,
   "metadata": {},
   "outputs": [
    {
     "name": "stdout",
     "output_type": "stream",
     "text": [
      "53930 10748\n",
      "1686.0 336.0\n",
      "Epoch 1/20\n",
      "1686/1686 [==============================] - 104s 58ms/step - loss: 0.3944 - tp: 38523.0000 - fp: 6916.0000 - tn: 5875.0000 - fn: 2631.0000 - accuracy: 0.8230 - precision: 0.8478 - recall: 0.9361 - auc: 0.8447 - val_loss: 1.5320 - val_tp: 6115.0000 - val_fp: 2850.0000 - val_tn: 1161.0000 - val_fn: 622.0000 - val_accuracy: 0.6770 - val_precision: 0.6821 - val_recall: 0.9077 - val_auc: 0.6729 - lr: 0.0010\n",
      "Epoch 2/20\n",
      "1686/1686 [==============================] - 97s 58ms/step - loss: 0.1943 - tp: 39463.0000 - fp: 2656.0000 - tn: 10135.0000 - fn: 1691.0000 - accuracy: 0.9194 - precision: 0.9369 - recall: 0.9589 - auc: 0.9656 - val_loss: 1.2040 - val_tp: 5730.0000 - val_fp: 2434.0000 - val_tn: 1577.0000 - val_fn: 1007.0000 - val_accuracy: 0.6798 - val_precision: 0.7019 - val_recall: 0.8505 - val_auc: 0.6846 - lr: 0.0010\n",
      "Epoch 3/20\n",
      "1686/1686 [==============================] - 97s 58ms/step - loss: 0.1116 - tp: 40102.0000 - fp: 1351.0000 - tn: 11459.0000 - fn: 1033.0000 - accuracy: 0.9558 - precision: 0.9674 - recall: 0.9749 - auc: 0.9885 - val_loss: 1.2037 - val_tp: 5469.0000 - val_fp: 2250.0000 - val_tn: 1761.0000 - val_fn: 1268.0000 - val_accuracy: 0.6727 - val_precision: 0.7085 - val_recall: 0.8118 - val_auc: 0.6932 - lr: 0.0010\n",
      "Epoch 4/20\n",
      "1686/1686 [==============================] - 97s 58ms/step - loss: 0.0709 - tp: 40486.0000 - fp: 805.0000 - tn: 12001.0000 - fn: 653.0000 - accuracy: 0.9730 - precision: 0.9805 - recall: 0.9841 - auc: 0.9948 - val_loss: 1.5027 - val_tp: 4021.0000 - val_fp: 1352.0000 - val_tn: 2659.0000 - val_fn: 2716.0000 - val_accuracy: 0.6215 - val_precision: 0.7484 - val_recall: 0.5969 - val_auc: 0.6921 - lr: 0.0010\n",
      "Epoch 5/20\n",
      "1686/1686 [==============================] - 98s 58ms/step - loss: 0.0485 - tp: 40688.0000 - fp: 533.0000 - tn: 12281.0000 - fn: 443.0000 - accuracy: 0.9819 - precision: 0.9871 - recall: 0.9892 - auc: 0.9974 - val_loss: 2.4077 - val_tp: 6252.0000 - val_fp: 3095.0000 - val_tn: 916.0000 - val_fn: 485.0000 - val_accuracy: 0.6669 - val_precision: 0.6689 - val_recall: 0.9280 - val_auc: 0.6403 - lr: 0.0010\n",
      "Epoch 6/20\n",
      "1686/1686 [==============================] - 98s 58ms/step - loss: 0.0439 - tp: 40708.0000 - fp: 487.0000 - tn: 12319.0000 - fn: 431.0000 - accuracy: 0.9830 - precision: 0.9882 - recall: 0.9895 - auc: 0.9979 - val_loss: 2.0872 - val_tp: 4188.0000 - val_fp: 1564.0000 - val_tn: 2447.0000 - val_fn: 2549.0000 - val_accuracy: 0.6173 - val_precision: 0.7281 - val_recall: 0.6216 - val_auc: 0.6625 - lr: 0.0010\n",
      "Epoch 7/20\n",
      "1686/1686 [==============================] - 98s 58ms/step - loss: 0.0335 - tp: 40822.0000 - fp: 354.0000 - tn: 12449.0000 - fn: 320.0000 - accuracy: 0.9875 - precision: 0.9914 - recall: 0.9922 - auc: 0.9987 - val_loss: 1.9293 - val_tp: 5162.0000 - val_fp: 2076.0000 - val_tn: 1935.0000 - val_fn: 1575.0000 - val_accuracy: 0.6603 - val_precision: 0.7132 - val_recall: 0.7662 - val_auc: 0.6611 - lr: 0.0010\n",
      "Epoch 8/20\n",
      "1686/1686 [==============================] - 100s 59ms/step - loss: 0.0286 - tp: 40882.0000 - fp: 282.0000 - tn: 12516.0000 - fn: 265.0000 - accuracy: 0.9899 - precision: 0.9931 - recall: 0.9936 - auc: 0.9988 - val_loss: 2.2531 - val_tp: 6272.0000 - val_fp: 2706.0000 - val_tn: 1305.0000 - val_fn: 465.0000 - val_accuracy: 0.7050 - val_precision: 0.6986 - val_recall: 0.9310 - val_auc: 0.6943 - lr: 0.0010\n",
      "Epoch 9/20\n",
      "1686/1686 [==============================] - 100s 59ms/step - loss: 0.0250 - tp: 40935.0000 - fp: 262.0000 - tn: 12518.0000 - fn: 230.0000 - accuracy: 0.9909 - precision: 0.9936 - recall: 0.9944 - auc: 0.9989 - val_loss: 1.8129 - val_tp: 6018.0000 - val_fp: 2561.0000 - val_tn: 1450.0000 - val_fn: 719.0000 - val_accuracy: 0.6948 - val_precision: 0.7015 - val_recall: 0.8933 - val_auc: 0.6950 - lr: 0.0010\n",
      "Epoch 10/20\n",
      "1686/1686 [==============================] - 100s 59ms/step - loss: 0.0212 - tp: 40975.0000 - fp: 209.0000 - tn: 12571.0000 - fn: 190.0000 - accuracy: 0.9926 - precision: 0.9949 - recall: 0.9954 - auc: 0.9991 - val_loss: 2.2834 - val_tp: 5502.0000 - val_fp: 2357.0000 - val_tn: 1654.0000 - val_fn: 1235.0000 - val_accuracy: 0.6658 - val_precision: 0.7001 - val_recall: 0.8167 - val_auc: 0.6602 - lr: 0.0010\n",
      "Epoch 11/20\n",
      "1686/1686 [==============================] - 98s 58ms/step - loss: 0.0199 - tp: 40989.0000 - fp: 197.0000 - tn: 12584.0000 - fn: 175.0000 - accuracy: 0.9931 - precision: 0.9952 - recall: 0.9957 - auc: 0.9994 - val_loss: 2.5170 - val_tp: 3938.0000 - val_fp: 1476.0000 - val_tn: 2535.0000 - val_fn: 2799.0000 - val_accuracy: 0.6023 - val_precision: 0.7274 - val_recall: 0.5845 - val_auc: 0.6486 - lr: 0.0010\n",
      "Epoch 12/20\n",
      "1686/1686 [==============================] - 98s 58ms/step - loss: 0.0159 - tp: 40958.0000 - fp: 161.0000 - tn: 12661.0000 - fn: 158.0000 - accuracy: 0.9941 - precision: 0.9961 - recall: 0.9962 - auc: 0.9995 - val_loss: 2.1263 - val_tp: 4464.0000 - val_fp: 1616.0000 - val_tn: 2395.0000 - val_fn: 2273.0000 - val_accuracy: 0.6382 - val_precision: 0.7342 - val_recall: 0.6626 - val_auc: 0.6726 - lr: 0.0010\n",
      "Epoch 13/20\n",
      "1686/1686 [==============================] - 99s 59ms/step - loss: 0.0160 - tp: 40966.0000 - fp: 149.0000 - tn: 12678.0000 - fn: 152.0000 - accuracy: 0.9944 - precision: 0.9964 - recall: 0.9963 - auc: 0.9994 - val_loss: 2.3385 - val_tp: 5314.0000 - val_fp: 2111.0000 - val_tn: 1900.0000 - val_fn: 1423.0000 - val_accuracy: 0.6712 - val_precision: 0.7157 - val_recall: 0.7888 - val_auc: 0.6785 - lr: 0.0010\n",
      "Epoch 14/20\n",
      "1686/1686 [==============================] - 99s 59ms/step - loss: 0.0140 - tp: 41042.0000 - fp: 143.0000 - tn: 12623.0000 - fn: 137.0000 - accuracy: 0.9948 - precision: 0.9965 - recall: 0.9967 - auc: 0.9996 - val_loss: 2.4692 - val_tp: 5671.0000 - val_fp: 2341.0000 - val_tn: 1670.0000 - val_fn: 1066.0000 - val_accuracy: 0.6830 - val_precision: 0.7078 - val_recall: 0.8418 - val_auc: 0.6670 - lr: 0.0010\n",
      "Epoch 15/20\n",
      "1686/1686 [==============================] - 99s 58ms/step - loss: 0.0125 - tp: 41051.0000 - fp: 130.0000 - tn: 12652.0000 - fn: 112.0000 - accuracy: 0.9955 - precision: 0.9968 - recall: 0.9973 - auc: 0.9995 - val_loss: 2.5022 - val_tp: 4284.0000 - val_fp: 1692.0000 - val_tn: 2319.0000 - val_fn: 2453.0000 - val_accuracy: 0.6143 - val_precision: 0.7169 - val_recall: 0.6359 - val_auc: 0.6389 - lr: 0.0010\n",
      "Epoch 16/20\n",
      "1686/1686 [==============================] - 98s 58ms/step - loss: 0.0117 - tp: 41035.0000 - fp: 116.0000 - tn: 12687.0000 - fn: 107.0000 - accuracy: 0.9959 - precision: 0.9972 - recall: 0.9974 - auc: 0.9996 - val_loss: 2.3315 - val_tp: 5758.0000 - val_fp: 2324.0000 - val_tn: 1687.0000 - val_fn: 979.0000 - val_accuracy: 0.6927 - val_precision: 0.7124 - val_recall: 0.8547 - val_auc: 0.6817 - lr: 0.0010\n",
      "Epoch 17/20\n",
      "1686/1686 [==============================] - 96s 57ms/step - loss: 0.0098 - tp: 41036.0000 - fp: 88.0000 - tn: 12722.0000 - fn: 99.0000 - accuracy: 0.9965 - precision: 0.9979 - recall: 0.9976 - auc: 0.9997 - val_loss: 2.9469 - val_tp: 6206.0000 - val_fp: 2703.0000 - val_tn: 1308.0000 - val_fn: 531.0000 - val_accuracy: 0.6991 - val_precision: 0.6966 - val_recall: 0.9212 - val_auc: 0.6732 - lr: 0.0010\n",
      "Epoch 18/20\n",
      "1686/1686 [==============================] - 95s 56ms/step - loss: 0.0095 - tp: 41071.0000 - fp: 93.0000 - tn: 12689.0000 - fn: 92.0000 - accuracy: 0.9966 - precision: 0.9977 - recall: 0.9978 - auc: 0.9997 - val_loss: 2.4526 - val_tp: 5620.0000 - val_fp: 2229.0000 - val_tn: 1782.0000 - val_fn: 1117.0000 - val_accuracy: 0.6887 - val_precision: 0.7160 - val_recall: 0.8342 - val_auc: 0.6764 - lr: 0.0010\n",
      "Epoch 19/20\n",
      "1686/1686 [==============================] - 96s 57ms/step - loss: 0.0103 - tp: 41047.0000 - fp: 94.0000 - tn: 12714.0000 - fn: 90.0000 - accuracy: 0.9966 - precision: 0.9977 - recall: 0.9978 - auc: 0.9997 - val_loss: 2.6270 - val_tp: 5093.0000 - val_fp: 2123.0000 - val_tn: 1888.0000 - val_fn: 1644.0000 - val_accuracy: 0.6495 - val_precision: 0.7058 - val_recall: 0.7560 - val_auc: 0.6473 - lr: 0.0010\n",
      "Epoch 20/20\n",
      "1686/1686 [==============================] - 98s 58ms/step - loss: 0.0085 - tp: 41071.0000 - fp: 75.0000 - tn: 12727.0000 - fn: 72.0000 - accuracy: 0.9973 - precision: 0.9982 - recall: 0.9983 - auc: 0.9998 - val_loss: 2.9640 - val_tp: 6061.0000 - val_fp: 2590.0000 - val_tn: 1421.0000 - val_fn: 676.0000 - val_accuracy: 0.6961 - val_precision: 0.7006 - val_recall: 0.8997 - val_auc: 0.6685 - lr: 0.0010\n"
     ]
    }
   ],
   "source": [
    "print(train_tot, valid_tot)\n",
    "\n",
    "train_steps = np.ceil(train_tot/batch_size)\n",
    "valid_steps = np.ceil(valid_tot/batch_size)\n",
    "\n",
    "print (train_steps, valid_steps)\n",
    "\n",
    "#fit_generator\n",
    "\n",
    "history_dcnn = ft_resnet.fit(train_data, \n",
    "                             steps_per_epoch=train_steps,\n",
    "                             epochs=epochs,\n",
    "                             workers = 4,\n",
    "                             callbacks = [tb, model_chkp, lr_reducer, early_stopper],\n",
    "                             validation_data = validation_data, \n",
    "                             validation_steps = valid_steps)\n"
   ]
  },
  {
   "cell_type": "code",
   "execution_count": 23,
   "metadata": {},
   "outputs": [],
   "source": [
    "arch_name = 'bs_{}'.format(batch_size)\n",
    "\n",
    "continue_model_path = '..\\\\models\\\\best_model_no_balance_binary\\\\' + '{}_{}_{}_eps.h5'.format(version, arch_name, epochs)\n",
    "ft_resnet.save(continue_model_path)\n",
    "np.save(f'..\\\\models\\\\best_model_no_balance_binary\\\\{version}_{arch_name}_{epochs}_eps.npy',\n",
    "        history_dcnn.history)"
   ]
  },
  {
   "cell_type": "code",
   "execution_count": 24,
   "metadata": {},
   "outputs": [],
   "source": [
    "import pickle \n",
    "ft_resnet.save_weights('..\\\\models\\\\best_model_no_balance_binary\\\\' + '{}_{}_{}_eps_wheights_only.h5'.format(version, arch_name, epochs))\n",
    "symbolic_weights = getattr(ft_resnet.optimizer, 'weights')\n",
    "weight_values = K.batch_get_value(symbolic_weights)\n",
    "with open('..\\\\models\\\\best_model_no_balance_binary\\\\' + '{}_{}_{}_eps_optimizer.pkl'.format(version, arch_name, epochs), 'wb') as f:\n",
    "    pickle.dump(weight_values, f)"
   ]
  },
  {
   "cell_type": "code",
   "execution_count": 21,
   "metadata": {},
   "outputs": [
    {
     "data": {
      "text/plain": [
       "<matplotlib.legend.Legend at 0x1bf766f5760>"
      ]
     },
     "execution_count": 21,
     "metadata": {},
     "output_type": "execute_result"
    },
    {
     "data": {
      "image/png": "[encoded data removed]",
      "text/plain": [
       "<Figure size 640x480 with 2 Axes>"
      ]
     },
     "metadata": {},
     "output_type": "display_data"
    }
   ],
   "source": [
    "# Visualization of the learning curves\n",
    "\n",
    "# Loss\n",
    "plt.subplot(1, 2, 1)\n",
    "plt.plot(history_dcnn.history['loss'])\n",
    "plt.plot(history_dcnn.history['val_loss'])\n",
    "plt.xlabel('Epoch')\n",
    "plt.ylabel('Loss')\n",
    "plt.legend(['train', 'validation'])\n",
    "\n",
    "# Accuracy\n",
    "plt.subplot(1, 2, 2)\n",
    "plt.plot(history_dcnn.history['accuracy'])\n",
    "plt.plot(history_dcnn.history['val_accuracy'])\n",
    "plt.xlabel('Epoch')\n",
    "plt.ylabel('Accuracy')\n",
    "plt.legend(['train', 'validation'])"
   ]
  },
  {
   "attachments": {},
   "cell_type": "markdown",
   "metadata": {},
   "source": [
    "# Continue training"
   ]
  },
  {
   "cell_type": "code",
   "execution_count": 24,
   "metadata": {},
   "outputs": [],
   "source": [
    "os.chdir(Path(str(Path(os.getcwd()).parent.absolute()) + '\\\\scripts\\\\3_Resnet18_first'))"
   ]
  },
  {
   "cell_type": "code",
   "execution_count": 25,
   "metadata": {},
   "outputs": [
    {
     "data": {
      "text/plain": [
       "'d:\\\\Projects\\\\ADNI-brain-MRI-alzheimer-classification-and-GAN-generation\\\\scripts\\\\3_Resnet18_first'"
      ]
     },
     "execution_count": 25,
     "metadata": {},
     "output_type": "execute_result"
    }
   ],
   "source": [
    "os.getcwd()"
   ]
  },
  {
   "cell_type": "code",
   "execution_count": 26,
   "metadata": {},
   "outputs": [],
   "source": [
    "METRICS = [ \n",
    "      keras.metrics.CategoricalAccuracy(name='accuracy'),\n",
    "      keras.metrics.Precision(name='precision'),\n",
    "      keras.metrics.Recall(name='recall'),\n",
    "      keras.metrics.AUC(name='auc'),\n",
    "      keras.metrics.TopKCategoricalAccuracy(name='top 2 accuracy', k=2),\n",
    "      keras.metrics.TopKCategoricalAccuracy(name='top 3 accuracy', k=3),\n",
    "      keras.metrics.TopKCategoricalAccuracy(name='top 5 accuracy', k=5)\n",
    "]"
   ]
  },
  {
   "cell_type": "code",
   "execution_count": 27,
   "metadata": {},
   "outputs": [],
   "source": [
    "early_stopper = keras.callbacks.EarlyStopping(monitor='val_loss', patience=100)"
   ]
  },
  {
   "cell_type": "code",
   "execution_count": 31,
   "metadata": {},
   "outputs": [
    {
     "name": "stdout",
     "output_type": "stream",
     "text": [
      "<class 'keras.engine.keras_tensor.KerasTensor'>\n",
      "model loaded\n",
      "Model: \"model_2\"\n",
      "__________________________________________________________________________________________________\n",
      " Layer (type)                   Output Shape         Param #     Connected to                     \n",
      "==================================================================================================\n",
      " input_3 (InputLayer)           [(None, 192, 160, 1  0           []                               \n",
      "                                )]                                                                \n",
      "                                                                                                  \n",
      " conv1_pad (ZeroPadding2D)      (None, 198, 166, 1)  0           ['input_3[0][0]']                \n",
      "                                                                                                  \n",
      " conv1 (Conv2D)                 (None, 96, 80, 64)   3200        ['conv1_pad[0][0]']              \n",
      "                                                                                                  \n",
      " bn_conv1 (BatchNormalization)  (None, 96, 80, 64)   256         ['conv1[0][0]']                  \n",
      "                                                                                                  \n",
      " leaky_re_lu_34 (LeakyReLU)     (None, 96, 80, 64)   0           ['bn_conv1[0][0]']               \n",
      "                                                                                                  \n",
      " max_pooling2d_2 (MaxPooling2D)  (None, 47, 39, 64)  0           ['leaky_re_lu_34[0][0]']         \n",
      "                                                                                                  \n",
      " res2a_branch2a (Conv2D)        (None, 47, 39, 64)   36928       ['max_pooling2d_2[0][0]']        \n",
      "                                                                                                  \n",
      " bn2a_branch2a (BatchNormalizat  (None, 47, 39, 64)  256         ['res2a_branch2a[0][0]']         \n",
      " ion)                                                                                             \n",
      "                                                                                                  \n",
      " leaky_re_lu_35 (LeakyReLU)     (None, 47, 39, 64)   0           ['bn2a_branch2a[0][0]']          \n",
      "                                                                                                  \n",
      " res2a_branch2b (Conv2D)        (None, 47, 39, 64)   36928       ['leaky_re_lu_35[0][0]']         \n",
      "                                                                                                  \n",
      " res2a_branch1 (Conv2D)         (None, 47, 39, 64)   4160        ['max_pooling2d_2[0][0]']        \n",
      "                                                                                                  \n",
      " bn2a_branch2b (BatchNormalizat  (None, 47, 39, 64)  256         ['res2a_branch2b[0][0]']         \n",
      " ion)                                                                                             \n",
      "                                                                                                  \n",
      " bn2a_branch1 (BatchNormalizati  (None, 47, 39, 64)  256         ['res2a_branch1[0][0]']          \n",
      " on)                                                                                              \n",
      "                                                                                                  \n",
      " add_16 (Add)                   (None, 47, 39, 64)   0           ['bn2a_branch2b[0][0]',          \n",
      "                                                                  'bn2a_branch1[0][0]']           \n",
      "                                                                                                  \n",
      " leaky_re_lu_36 (LeakyReLU)     (None, 47, 39, 64)   0           ['add_16[0][0]']                 \n",
      "                                                                                                  \n",
      " res2b_branch2a (Conv2D)        (None, 47, 39, 64)   36928       ['leaky_re_lu_36[0][0]']         \n",
      "                                                                                                  \n",
      " bn2b_branch2a (BatchNormalizat  (None, 47, 39, 64)  256         ['res2b_branch2a[0][0]']         \n",
      " ion)                                                                                             \n",
      "                                                                                                  \n",
      " leaky_re_lu_37 (LeakyReLU)     (None, 47, 39, 64)   0           ['bn2b_branch2a[0][0]']          \n",
      "                                                                                                  \n",
      " res2b_branch2b (Conv2D)        (None, 47, 39, 64)   36928       ['leaky_re_lu_37[0][0]']         \n",
      "                                                                                                  \n",
      " bn2b_branch2b (BatchNormalizat  (None, 47, 39, 64)  256         ['res2b_branch2b[0][0]']         \n",
      " ion)                                                                                             \n",
      "                                                                                                  \n",
      " add_17 (Add)                   (None, 47, 39, 64)   0           ['bn2b_branch2b[0][0]',          \n",
      "                                                                  'leaky_re_lu_36[0][0]']         \n",
      "                                                                                                  \n",
      " leaky_re_lu_38 (LeakyReLU)     (None, 47, 39, 64)   0           ['add_17[0][0]']                 \n",
      "                                                                                                  \n",
      " res3a_branch2a (Conv2D)        (None, 24, 20, 128)  73856       ['leaky_re_lu_38[0][0]']         \n",
      "                                                                                                  \n",
      " bn3a_branch2a (BatchNormalizat  (None, 24, 20, 128)  512        ['res3a_branch2a[0][0]']         \n",
      " ion)                                                                                             \n",
      "                                                                                                  \n",
      " leaky_re_lu_39 (LeakyReLU)     (None, 24, 20, 128)  0           ['bn3a_branch2a[0][0]']          \n",
      "                                                                                                  \n",
      " res3a_branch2b (Conv2D)        (None, 24, 20, 128)  147584      ['leaky_re_lu_39[0][0]']         \n",
      "                                                                                                  \n",
      " res3a_branch1 (Conv2D)         (None, 24, 20, 128)  8320        ['leaky_re_lu_38[0][0]']         \n",
      "                                                                                                  \n",
      " bn3a_branch2b (BatchNormalizat  (None, 24, 20, 128)  512        ['res3a_branch2b[0][0]']         \n",
      " ion)                                                                                             \n",
      "                                                                                                  \n",
      " bn3a_branch1 (BatchNormalizati  (None, 24, 20, 128)  512        ['res3a_branch1[0][0]']          \n",
      " on)                                                                                              \n",
      "                                                                                                  \n",
      " add_18 (Add)                   (None, 24, 20, 128)  0           ['bn3a_branch2b[0][0]',          \n",
      "                                                                  'bn3a_branch1[0][0]']           \n",
      "                                                                                                  \n",
      " leaky_re_lu_40 (LeakyReLU)     (None, 24, 20, 128)  0           ['add_18[0][0]']                 \n",
      "                                                                                                  \n",
      " res3b_branch2a (Conv2D)        (None, 24, 20, 128)  147584      ['leaky_re_lu_40[0][0]']         \n",
      "                                                                                                  \n",
      " bn3b_branch2a (BatchNormalizat  (None, 24, 20, 128)  512        ['res3b_branch2a[0][0]']         \n",
      " ion)                                                                                             \n",
      "                                                                                                  \n",
      " leaky_re_lu_41 (LeakyReLU)     (None, 24, 20, 128)  0           ['bn3b_branch2a[0][0]']          \n",
      "                                                                                                  \n",
      " res3b_branch2b (Conv2D)        (None, 24, 20, 128)  147584      ['leaky_re_lu_41[0][0]']         \n",
      "                                                                                                  \n",
      " bn3b_branch2b (BatchNormalizat  (None, 24, 20, 128)  512        ['res3b_branch2b[0][0]']         \n",
      " ion)                                                                                             \n",
      "                                                                                                  \n",
      " add_19 (Add)                   (None, 24, 20, 128)  0           ['bn3b_branch2b[0][0]',          \n",
      "                                                                  'leaky_re_lu_40[0][0]']         \n",
      "                                                                                                  \n",
      " leaky_re_lu_42 (LeakyReLU)     (None, 24, 20, 128)  0           ['add_19[0][0]']                 \n",
      "                                                                                                  \n",
      " res4a_branch2a (Conv2D)        (None, 12, 10, 256)  295168      ['leaky_re_lu_42[0][0]']         \n",
      "                                                                                                  \n",
      " bn4a_branch2a (BatchNormalizat  (None, 12, 10, 256)  1024       ['res4a_branch2a[0][0]']         \n",
      " ion)                                                                                             \n",
      "                                                                                                  \n",
      " leaky_re_lu_43 (LeakyReLU)     (None, 12, 10, 256)  0           ['bn4a_branch2a[0][0]']          \n",
      "                                                                                                  \n",
      " res4a_branch2b (Conv2D)        (None, 12, 10, 256)  590080      ['leaky_re_lu_43[0][0]']         \n",
      "                                                                                                  \n",
      " res4a_branch1 (Conv2D)         (None, 12, 10, 256)  33024       ['leaky_re_lu_42[0][0]']         \n",
      "                                                                                                  \n",
      " bn4a_branch2b (BatchNormalizat  (None, 12, 10, 256)  1024       ['res4a_branch2b[0][0]']         \n",
      " ion)                                                                                             \n",
      "                                                                                                  \n",
      " bn4a_branch1 (BatchNormalizati  (None, 12, 10, 256)  1024       ['res4a_branch1[0][0]']          \n",
      " on)                                                                                              \n",
      "                                                                                                  \n",
      " add_20 (Add)                   (None, 12, 10, 256)  0           ['bn4a_branch2b[0][0]',          \n",
      "                                                                  'bn4a_branch1[0][0]']           \n",
      "                                                                                                  \n",
      " leaky_re_lu_44 (LeakyReLU)     (None, 12, 10, 256)  0           ['add_20[0][0]']                 \n",
      "                                                                                                  \n",
      " res4b_branch2a (Conv2D)        (None, 12, 10, 256)  590080      ['leaky_re_lu_44[0][0]']         \n",
      "                                                                                                  \n",
      " bn4b_branch2a (BatchNormalizat  (None, 12, 10, 256)  1024       ['res4b_branch2a[0][0]']         \n",
      " ion)                                                                                             \n",
      "                                                                                                  \n",
      " leaky_re_lu_45 (LeakyReLU)     (None, 12, 10, 256)  0           ['bn4b_branch2a[0][0]']          \n",
      "                                                                                                  \n",
      " res4b_branch2b (Conv2D)        (None, 12, 10, 256)  590080      ['leaky_re_lu_45[0][0]']         \n",
      "                                                                                                  \n",
      " bn4b_branch2b (BatchNormalizat  (None, 12, 10, 256)  1024       ['res4b_branch2b[0][0]']         \n",
      " ion)                                                                                             \n",
      "                                                                                                  \n",
      " add_21 (Add)                   (None, 12, 10, 256)  0           ['bn4b_branch2b[0][0]',          \n",
      "                                                                  'leaky_re_lu_44[0][0]']         \n",
      "                                                                                                  \n",
      " leaky_re_lu_46 (LeakyReLU)     (None, 12, 10, 256)  0           ['add_21[0][0]']                 \n",
      "                                                                                                  \n",
      " res5a_branch2a (Conv2D)        (None, 6, 5, 512)    1180160     ['leaky_re_lu_46[0][0]']         \n",
      "                                                                                                  \n",
      " bn5a_branch2a (BatchNormalizat  (None, 6, 5, 512)   2048        ['res5a_branch2a[0][0]']         \n",
      " ion)                                                                                             \n",
      "                                                                                                  \n",
      " leaky_re_lu_47 (LeakyReLU)     (None, 6, 5, 512)    0           ['bn5a_branch2a[0][0]']          \n",
      "                                                                                                  \n",
      " res5a_branch2b (Conv2D)        (None, 6, 5, 512)    2359808     ['leaky_re_lu_47[0][0]']         \n",
      "                                                                                                  \n",
      " res5a_branch1 (Conv2D)         (None, 6, 5, 512)    131584      ['leaky_re_lu_46[0][0]']         \n",
      "                                                                                                  \n",
      " bn5a_branch2b (BatchNormalizat  (None, 6, 5, 512)   2048        ['res5a_branch2b[0][0]']         \n",
      " ion)                                                                                             \n",
      "                                                                                                  \n",
      " bn5a_branch1 (BatchNormalizati  (None, 6, 5, 512)   2048        ['res5a_branch1[0][0]']          \n",
      " on)                                                                                              \n",
      "                                                                                                  \n",
      " add_22 (Add)                   (None, 6, 5, 512)    0           ['bn5a_branch2b[0][0]',          \n",
      "                                                                  'bn5a_branch1[0][0]']           \n",
      "                                                                                                  \n",
      " leaky_re_lu_48 (LeakyReLU)     (None, 6, 5, 512)    0           ['add_22[0][0]']                 \n",
      "                                                                                                  \n",
      " res5b_branch2a (Conv2D)        (None, 6, 5, 512)    2359808     ['leaky_re_lu_48[0][0]']         \n",
      "                                                                                                  \n",
      " bn5b_branch2a (BatchNormalizat  (None, 6, 5, 512)   2048        ['res5b_branch2a[0][0]']         \n",
      " ion)                                                                                             \n",
      "                                                                                                  \n",
      " leaky_re_lu_49 (LeakyReLU)     (None, 6, 5, 512)    0           ['bn5b_branch2a[0][0]']          \n",
      "                                                                                                  \n",
      " res5b_branch2b (Conv2D)        (None, 6, 5, 512)    2359808     ['leaky_re_lu_49[0][0]']         \n",
      "                                                                                                  \n",
      " bn5b_branch2b (BatchNormalizat  (None, 6, 5, 512)   2048        ['res5b_branch2b[0][0]']         \n",
      " ion)                                                                                             \n",
      "                                                                                                  \n",
      " add_23 (Add)                   (None, 6, 5, 512)    0           ['bn5b_branch2b[0][0]',          \n",
      "                                                                  'leaky_re_lu_48[0][0]']         \n",
      "                                                                                                  \n",
      " leaky_re_lu_50 (LeakyReLU)     (None, 6, 5, 512)    0           ['add_23[0][0]']                 \n",
      "                                                                                                  \n",
      " avg_pool (AveragePooling2D)    (None, 1, 1, 512)    0           ['leaky_re_lu_50[0][0]']         \n",
      "                                                                                                  \n",
      " flatten_2 (Flatten)            (None, 512)          0           ['avg_pool[0][0]']               \n",
      "                                                                                                  \n",
      " dropout_2 (Dropout)            (None, 512)          0           ['flatten_2[0][0]']              \n",
      "                                                                                                  \n",
      " dense_2 (Dense)                (None, 3)            1539        ['dropout_2[0][0]']              \n",
      "                                                                                                  \n",
      "==================================================================================================\n",
      "Total params: 11,190,595\n",
      "Trainable params: 11,180,867\n",
      "Non-trainable params: 9,728\n",
      "__________________________________________________________________________________________________\n"
     ]
    }
   ],
   "source": [
    "tb = TensorBoard(log_dir =os.getcwd() + '\\\\gan_over\\\\logs_gan_over', write_graph = True)\n",
    "\n",
    "lr_reducer = ReduceLROnPlateau(monitor='loss', factor=np.sqrt(0.1), patience=10, cooldown=0, min_lr=1e-5)\n",
    "\n",
    "model_chkp = ModelCheckpoint(filepath=os.getcwd() + '\\\\gan_over\\\\best_model_gan_over',\n",
    "                            # monitor='val_quadratic_kappa_score',\n",
    "                            monitor='val_accuracy',\n",
    "                            save_best_only=True, save_weights_only=True, mode='max')\n",
    "\n",
    "#resnet = ResNet18()\n",
    "#resnet = ResNet18(classes=3, input_shape=(160, 192))\n",
    "resnet = ResNet18(classes=3)\n",
    "\n",
    "\n",
    "#model = keras.applications.resnet50.ResNet50(include_top=True, weights='imagenet', input_tensor=None, input_shape=None, pooling=None, classes=1000)\n",
    "#model.summary()\n",
    "\n",
    "#resnet.layers.pop()\n",
    "#for layer in resnet.layers:\n",
    "#    layer.trainable = False\n",
    "\n",
    "x = resnet.layers[-1].output\n",
    "\n",
    "x = Dropout(0.25)(x)\n",
    "\n",
    "x = Dense(3, activation = 'softmax')(x)\n",
    "\n",
    "\n",
    "ft_resnet = Model(resnet.input, x)\n",
    "ft_resnet.compile(optimizer = Adam(learning_rate = 0.001), loss = 'categorical_crossentropy', metrics = METRICS)\n",
    "\n",
    "print(\"model loaded\")\n",
    "\n",
    "ft_resnet.summary()"
   ]
  },
  {
   "attachments": {},
   "cell_type": "markdown",
   "metadata": {},
   "source": [
    "Changing back the folder to data path"
   ]
  },
  {
   "cell_type": "code",
   "execution_count": 32,
   "metadata": {},
   "outputs": [
    {
     "data": {
      "text/plain": [
       "'d:\\\\Projects\\\\ADNI-brain-MRI-alzheimer-classification-and-GAN-generation\\\\adni-images-Full-resized160x192'"
      ]
     },
     "execution_count": 32,
     "metadata": {},
     "output_type": "execute_result"
    }
   ],
   "source": [
    "os.chdir(Path(str(Path(os.getcwd()).parent.absolute().parent.absolute()) + '\\\\adni-images-Full-resized160x192'))\n",
    "os.getcwd()"
   ]
  },
  {
   "cell_type": "code",
   "execution_count": 33,
   "metadata": {},
   "outputs": [
    {
     "name": "stdout",
     "output_type": "stream",
     "text": [
      "218575 18024\n",
      "6831.0 564.0\n"
     ]
    }
   ],
   "source": [
    "print(train_tot, valid_tot)\n",
    "\n",
    "train_steps = np.ceil(train_tot/batch_size)\n",
    "valid_steps = np.ceil(valid_tot/batch_size)\n",
    "\n",
    "print (train_steps, valid_steps)"
   ]
  },
  {
   "cell_type": "code",
   "execution_count": 39,
   "metadata": {},
   "outputs": [
    {
     "ename": "AttributeError",
     "evalue": "'Functional' object has no attribute 'optimizier'",
     "output_type": "error",
     "traceback": [
      "\u001b[1;31m---------------------------------------------------------------------------\u001b[0m",
      "\u001b[1;31mAttributeError\u001b[0m                            Traceback (most recent call last)",
      "Cell \u001b[1;32mIn[39], line 5\u001b[0m\n\u001b[0;32m      2\u001b[0m \u001b[39mimport\u001b[39;00m \u001b[39mtensorflow\u001b[39;00m\n\u001b[0;32m      4\u001b[0m ft_resnet \u001b[39m=\u001b[39m tensorflow\u001b[39m.\u001b[39mkeras\u001b[39m.\u001b[39mmodels\u001b[39m.\u001b[39mload_model(\u001b[39m'\u001b[39m\u001b[39m..\u001b[39m\u001b[39m\\\\\u001b[39;00m\u001b[39mmodels\u001b[39m\u001b[39m\\\\\u001b[39;00m\u001b[39mbest_model_gan_over\u001b[39m\u001b[39m\\\\\u001b[39;00m\u001b[39m'\u001b[39m \u001b[39m+\u001b[39m \u001b[39m'\u001b[39m\u001b[39m{}\u001b[39;00m\u001b[39m_\u001b[39m\u001b[39m{}\u001b[39;00m\u001b[39m_\u001b[39m\u001b[39m{}\u001b[39;00m\u001b[39m_eps.h5\u001b[39m\u001b[39m'\u001b[39m\u001b[39m.\u001b[39mformat(version, arch_name, epochs))\n\u001b[1;32m----> 5\u001b[0m old_weights \u001b[39m=\u001b[39m ft_resnet\u001b[39m.\u001b[39;49moptimizier\u001b[39m.\u001b[39mget_weights()\n\u001b[0;32m      7\u001b[0m ft_resnet\u001b[39m.\u001b[39m_make_train_function()\n\u001b[0;32m      8\u001b[0m \u001b[39mwith\u001b[39;00m \u001b[39mopen\u001b[39m(\u001b[39m'\u001b[39m\u001b[39m..\u001b[39m\u001b[39m\\\\\u001b[39;00m\u001b[39mmodels\u001b[39m\u001b[39m\\\\\u001b[39;00m\u001b[39mbest_model_gan_over\u001b[39m\u001b[39m\\\\\u001b[39;00m\u001b[39m'\u001b[39m \u001b[39m+\u001b[39m \u001b[39m'\u001b[39m\u001b[39m{}\u001b[39;00m\u001b[39m_\u001b[39m\u001b[39m{}\u001b[39;00m\u001b[39m_\u001b[39m\u001b[39m{}\u001b[39;00m\u001b[39m_eps_optimizer.pkl\u001b[39m\u001b[39m'\u001b[39m\u001b[39m.\u001b[39mformat(version, arch_name, epochs), \u001b[39m'\u001b[39m\u001b[39mrb\u001b[39m\u001b[39m'\u001b[39m) \u001b[39mas\u001b[39;00m f:\n",
      "\u001b[1;31mAttributeError\u001b[0m: 'Functional' object has no attribute 'optimizier'"
     ]
    }
   ],
   "source": [
    "import pickle \n",
    "import tensorflow\n",
    "\n",
    "ft_resnet = tensorflow.keras.models.load_model('..\\\\models\\\\best_model_gan_over\\\\' + '{}_{}_{}_eps.h5'.format(version, arch_name, epochs))\n",
    "old_weights = ft_resnet.optimizier.get_weights()\n",
    "\n",
    "ft_resnet._make_train_function()\n",
    "with open('..\\\\models\\\\best_model_gan_over\\\\' + '{}_{}_{}_eps_optimizer.pkl'.format(version, arch_name, epochs), 'rb') as f:\n",
    "    weight_values = pickle.load(f)\n",
    "ft_resnet.optimizer.set_weights(weight_values)"
   ]
  },
  {
   "cell_type": "code",
   "execution_count": 38,
   "metadata": {},
   "outputs": [
    {
     "ename": "AttributeError",
     "evalue": "'Functional' object has no attribute 'load_model'",
     "output_type": "error",
     "traceback": [
      "\u001b[1;31m---------------------------------------------------------------------------\u001b[0m",
      "\u001b[1;31mAttributeError\u001b[0m                            Traceback (most recent call last)",
      "Cell \u001b[1;32mIn[38], line 3\u001b[0m\n\u001b[0;32m      1\u001b[0m \u001b[39mimport\u001b[39;00m \u001b[39mpickle\u001b[39;00m \n\u001b[1;32m----> 3\u001b[0m ft_resnet\u001b[39m.\u001b[39;49mload_model(\u001b[39m'\u001b[39m\u001b[39m..\u001b[39m\u001b[39m\\\\\u001b[39;00m\u001b[39mmodels\u001b[39m\u001b[39m\\\\\u001b[39;00m\u001b[39mbest_model_gan_over\u001b[39m\u001b[39m\\\\\u001b[39;00m\u001b[39m'\u001b[39m \u001b[39m+\u001b[39m \u001b[39m'\u001b[39m\u001b[39m{}\u001b[39;00m\u001b[39m_\u001b[39m\u001b[39m{}\u001b[39;00m\u001b[39m_\u001b[39m\u001b[39m{}\u001b[39;00m\u001b[39m_eps.h5\u001b[39m\u001b[39m'\u001b[39m\u001b[39m.\u001b[39mformat(version, arch_name, epochs))\n\u001b[0;32m      4\u001b[0m ft_resnet\u001b[39m.\u001b[39mmake_train_function()\n\u001b[0;32m      5\u001b[0m \u001b[39mwith\u001b[39;00m \u001b[39mopen\u001b[39m(\u001b[39m'\u001b[39m\u001b[39m..\u001b[39m\u001b[39m\\\\\u001b[39;00m\u001b[39mmodels\u001b[39m\u001b[39m\\\\\u001b[39;00m\u001b[39mbest_model_gan_over\u001b[39m\u001b[39m\\\\\u001b[39;00m\u001b[39m'\u001b[39m \u001b[39m+\u001b[39m \u001b[39m'\u001b[39m\u001b[39m{}\u001b[39;00m\u001b[39m_\u001b[39m\u001b[39m{}\u001b[39;00m\u001b[39m_\u001b[39m\u001b[39m{}\u001b[39;00m\u001b[39m_eps_optimizer.pkl\u001b[39m\u001b[39m'\u001b[39m\u001b[39m.\u001b[39mformat(version, arch_name, epochs), \u001b[39m'\u001b[39m\u001b[39mrb\u001b[39m\u001b[39m'\u001b[39m) \u001b[39mas\u001b[39;00m f:\n",
      "\u001b[1;31mAttributeError\u001b[0m: 'Functional' object has no attribute 'load_model'"
     ]
    }
   ],
   "source": [
    "import pickle \n",
    "\n",
    "ft_resnet.load_weights('..\\\\models\\\\best_model_gan_over\\\\' + '{}_{}_{}_eps.h5'.format(version, arch_name, epochs))\n",
    "ft_resnet.make_train_function()\n",
    "with open('..\\\\models\\\\best_model_gan_over\\\\' + '{}_{}_{}_eps_optimizer.pkl'.format(version, arch_name, epochs), 'rb') as f:\n",
    "    weight_values = pickle.load(f)\n",
    "ft_resnet.optimizer.set_weights(weight_values)\n",
    "\n",
    "#fit_generator\n"
   ]
  },
  {
   "cell_type": "code",
   "execution_count": null,
   "metadata": {},
   "outputs": [],
   "source": [
    "version = \"v2\"\n",
    "epochs = 30"
   ]
  },
  {
   "cell_type": "code",
   "execution_count": null,
   "metadata": {},
   "outputs": [],
   "source": [
    "history_dcnn = ft_resnet.fit(train_data, \n",
    "                             steps_per_epoch=train_steps,\n",
    "                             epochs=epochs,\n",
    "                             workers = 4,\n",
    "                             callbacks = [tb, model_chkp, lr_reducer, early_stopper],\n",
    "                             validation_data = validation_data, \n",
    "                             validation_steps = valid_steps)\n"
   ]
  },
  {
   "cell_type": "code",
   "execution_count": null,
   "metadata": {},
   "outputs": [],
   "source": [
    "arch_name = 'bs_{}'.format(batch_size)\n",
    "\n",
    "continue_model_path = '..\\\\models\\\\best_model_gan_over\\\\' + '{}_{}_{}_eps.h5'.format(version, arch_name, epochs)\n",
    "ft_resnet.save(continue_model_path)\n",
    "np.save(f'..\\\\models\\\\best_model_gan_over\\\\{version}_{arch_name}_{epochs}_eps.npy',\n",
    "        history_dcnn.history)"
   ]
  },
  {
   "cell_type": "code",
   "execution_count": null,
   "metadata": {},
   "outputs": [],
   "source": [
    "import pickle \n",
    "ft_resnet.save_weights('..\\\\models\\\\best_model_gan_over\\\\' + '{}_{}_{}_eps_wheights_only.h5'.format(version, arch_name, epochs))\n",
    "symbolic_weights = getattr(ft_resnet.optimizer, 'weights')\n",
    "weight_values = K.batch_get_value(symbolic_weights)\n",
    "with open('..\\\\models\\\\best_model_gan_over\\\\' + '{}_{}_{}_eps_optimizer.pkl'.format(version, arch_name, epochs), 'wb') as f:\n",
    "    pickle.dump(weight_values, f)"
   ]
  },
  {
   "attachments": {},
   "cell_type": "markdown",
   "metadata": {},
   "source": [
    "# Load Model"
   ]
  },
  {
   "cell_type": "code",
   "execution_count": 8,
   "metadata": {},
   "outputs": [],
   "source": [
    "#os.chdir('C:/Users/marco/Desktop/Local_Documents/models/NoBalance')"
   ]
  },
  {
   "cell_type": "code",
   "execution_count": 25,
   "metadata": {},
   "outputs": [],
   "source": [
    "# Load model\n",
    "net_dcnn = keras.models.load_model(\"..\\\\models\\\\best_model_no_balance_binary\\\\v1_bs_32_20_eps_best.hdf5\")"
   ]
  },
  {
   "cell_type": "code",
   "execution_count": 26,
   "metadata": {},
   "outputs": [
    {
     "data": {
      "text/plain": [
       "['loss', 'tp', 'fp', 'tn', 'fn', 'accuracy', 'precision', 'recall', 'auc']"
      ]
     },
     "execution_count": 26,
     "metadata": {},
     "output_type": "execute_result"
    }
   ],
   "source": [
    "net_dcnn.metrics_names"
   ]
  },
  {
   "cell_type": "code",
   "execution_count": 27,
   "metadata": {},
   "outputs": [],
   "source": [
    "# Load hystory and convert to dict\n",
    "history = np.load('..\\\\models\\\\best_model_no_balance_binary\\\\v1_bs_32_20_eps.npy', allow_pickle=True).item()"
   ]
  },
  {
   "attachments": {},
   "cell_type": "markdown",
   "metadata": {},
   "source": [
    "# Model Evaluation"
   ]
  },
  {
   "cell_type": "code",
   "execution_count": 63,
   "metadata": {},
   "outputs": [],
   "source": [
    "# Set visualization size for figures \n",
    "plt.rcParams['figure.figsize'] = [5,5] # width, height"
   ]
  },
  {
   "cell_type": "code",
   "execution_count": 64,
   "metadata": {},
   "outputs": [],
   "source": [
    "CATEGORIES = \"ad\", \"nor\""
   ]
  },
  {
   "cell_type": "code",
   "execution_count": 65,
   "metadata": {},
   "outputs": [
    {
     "data": {
      "text/plain": [
       "dict_keys(['loss', 'tp', 'fp', 'tn', 'fn', 'accuracy', 'precision', 'recall', 'auc', 'val_loss', 'val_tp', 'val_fp', 'val_tn', 'val_fn', 'val_accuracy', 'val_precision', 'val_recall', 'val_auc', 'lr'])"
      ]
     },
     "execution_count": 65,
     "metadata": {},
     "output_type": "execute_result"
    }
   ],
   "source": [
    "history.keys()"
   ]
  },
  {
   "cell_type": "code",
   "execution_count": 155,
   "metadata": {},
   "outputs": [
    {
     "name": "stdout",
     "output_type": "stream",
     "text": [
      "Found 10748 images belonging to 2 classes.\n"
     ]
    }
   ],
   "source": [
    "test_data = valid_datagen.flow_from_directory(\n",
    "        valid_path,\n",
    "        color_mode='grayscale',\n",
    "        target_size=(192, 160),  # Lo inserisco per precauzione\n",
    "        batch_size=batch_size,\n",
    "        shuffle=False,\n",
    "        class_mode= \"binary\")"
   ]
  },
  {
   "cell_type": "code",
   "execution_count": 149,
   "metadata": {},
   "outputs": [
    {
     "data": {
      "text/plain": [
       "[0.8230234384536743, 0.9194179177284241]"
      ]
     },
     "execution_count": 149,
     "metadata": {},
     "output_type": "execute_result"
    }
   ],
   "source": [
    "history['accuracy'][:1+1]"
   ]
  },
  {
   "cell_type": "code",
   "execution_count": 156,
   "metadata": {},
   "outputs": [],
   "source": [
    "%matplotlib inline\n",
    "\n",
    "def print_graph(item, index, history):\n",
    "    plt.figure()\n",
    "    train_values = history[item]\n",
    "    plt.plot(train_values)\n",
    "    test_values = history['val_' + item]\n",
    "    plt.plot(test_values)\n",
    "    plt.legend(['training','validation'])\n",
    "    plt.title('Training and validation '+ item)\n",
    "    plt.xlabel('epoch')\n",
    "    plt.show()\n",
    "    plot = '{}.png'.format(item)\n",
    "    plt.savefig(plot)"
   ]
  },
  {
   "cell_type": "code",
   "execution_count": 157,
   "metadata": {},
   "outputs": [],
   "source": [
    "def test_set_results(pred_value, n=1):    \n",
    "    y_test = test_data.labels\n",
    "    X_test, _ = test_data.next()\n",
    "    \n",
    "    corr_pred = confusion_matrix(y_test, pred_value)\n",
    "    print(corr_pred)\n",
    "    fig=plt.figure(figsize=(10, 8))\n",
    "    ax = plt.axes()\n",
    "    \n",
    "    sns.heatmap(corr_pred,annot=True, fmt=\"d\",cmap=\"Purples\", xticklabels=CATEGORIES, yticklabels=CATEGORIES)\n",
    "    ax.set_title('Confusion Matrix')\n",
    "    plt.show()\n",
    "    \n",
    "    n_correct = int(corr_pred[0][0] + corr_pred[1][1])\n",
    "    print('...'*15)\n",
    "\n",
    "    print('> Correct Predictions:', n_correct)\n",
    "    \n",
    "    n_wrongs = len(y_test) - n_correct\n",
    "    print('> Wrong Predictions:', n_wrongs)\n",
    "    print('...'*15)\n",
    "    \n",
    "    print(classification_report(test_data.labels, pred_value, target_names=CATEGORIES))"
   ]
  },
  {
   "cell_type": "code",
   "execution_count": 158,
   "metadata": {},
   "outputs": [],
   "source": [
    "# label-encoded version\n",
    "def printResults(name, model):\n",
    "    predictions = model.predict(test_data, verbose=1)\n",
    "    preds = np.array([1 * (x[0]>0.5) for x in predictions])\n",
    "    test_set_results(preds)"
   ]
  },
  {
   "cell_type": "code",
   "execution_count": 159,
   "metadata": {},
   "outputs": [],
   "source": [
    "def model_summary(model, history, name):\n",
    "    val_acc = history['val_accuracy'] #validation accuracy history\n",
    "    index= val_acc.index(max(val_acc))\n",
    "    print('Best Epochs:', index)\n",
    "\n",
    "\n",
    "    test_loss, _1, _2, _3, _4,test_accuracy, test_precision, test_recall, auc = model.evaluate(test_data, verbose=1)\n",
    "\n",
    "    print(_1, _2, _3, _4)\n",
    "    train_accuracy = history['accuracy'][index]\n",
    "    train_loss = history['loss'][index]\n",
    "\n",
    "    print_graph('loss', index, history)\n",
    "    print_graph('accuracy', index, history)\n",
    "\n",
    "    print('---'*15) \n",
    "    print(name)\n",
    "    print('> Accuracy on train:',round(train_accuracy, 2), \n",
    "            '\\tLoss on train:', round(train_loss,2))\n",
    "    \n",
    "\n",
    "    print('> Accuracy on test:',round(test_accuracy, 2),\n",
    "            '\\tLoss on test:',round(test_loss,2))\n",
    "\n",
    "    print('---'*15)\n",
    "    print('> predicting test')\n",
    "    print('---'*15)\n",
    "\n",
    "    printResults(name, model)"
   ]
  },
  {
   "cell_type": "code",
   "execution_count": 160,
   "metadata": {},
   "outputs": [
    {
     "name": "stdout",
     "output_type": "stream",
     "text": [
      "Best Epochs: 7\n",
      "336/336 [==============================] - 8s 24ms/step - loss: 2.9640 - tp: 6061.0000 - fp: 2590.0000 - tn: 1421.0000 - fn: 676.0000 - accuracy: 0.6961 - precision: 0.7006 - recall: 0.8997 - auc: 0.6685\n",
      "6061.0 2590.0 1421.0 676.0\n"
     ]
    },
    {
     "data": {
      "image/png": "[encoded data removed]",
      "text/plain": [
       "<Figure size 500x500 with 1 Axes>"
      ]
     },
     "metadata": {},
     "output_type": "display_data"
    },
    {
     "data": {
      "text/plain": [
       "<Figure size 500x500 with 0 Axes>"
      ]
     },
     "metadata": {},
     "output_type": "display_data"
    },
    {
     "data": {
      "image/png": "[encoded data removed]",
      "text/plain": [
       "<Figure size 500x500 with 1 Axes>"
      ]
     },
     "metadata": {},
     "output_type": "display_data"
    },
    {
     "name": "stdout",
     "output_type": "stream",
     "text": [
      "---------------------------------------------\n",
      "DCCN - Random Undersampling\n",
      "> Accuracy on train: 0.99 \tLoss on train: 0.03\n",
      "> Accuracy on test: 0.7 \tLoss on test: 2.96\n",
      "---------------------------------------------\n",
      "> predicting test\n",
      "---------------------------------------------\n",
      "336/336 [==============================] - 8s 23ms/step\n",
      "[[1421 2590]\n",
      " [ 676 6061]]\n"
     ]
    },
    {
     "data": {
      "text/plain": [
       "<Figure size 500x500 with 0 Axes>"
      ]
     },
     "metadata": {},
     "output_type": "display_data"
    },
    {
     "data": {
      "image/png": "[encoded data removed]",
      "text/plain": [
       "<Figure size 1000x800 with 2 Axes>"
      ]
     },
     "metadata": {},
     "output_type": "display_data"
    },
    {
     "name": "stdout",
     "output_type": "stream",
     "text": [
      ".............................................\n",
      "> Correct Predictions: 7482\n",
      "> Wrong Predictions: 3266\n",
      ".............................................\n",
      "              precision    recall  f1-score   support\n",
      "\n",
      "          ad       0.68      0.35      0.47      4011\n",
      "         nor       0.70      0.90      0.79      6737\n",
      "\n",
      "    accuracy                           0.70     10748\n",
      "   macro avg       0.69      0.63      0.63     10748\n",
      "weighted avg       0.69      0.70      0.67     10748\n",
      "\n"
     ]
    }
   ],
   "source": [
    "model_summary(net_dcnn, history, 'DCCN - Random Undersampling')"
   ]
  }
 ],
 "metadata": {
  "kernelspec": {
   "display_name": "Python 3.8.16 ('tf')",
   "language": "python",
   "name": "python3"
  },
  "language_info": {
   "codemirror_mode": {
    "name": "ipython",
    "version": 3
   },
   "file_extension": ".py",
   "mimetype": "text/x-python",
   "name": "python",
   "nbconvert_exporter": "python",
   "pygments_lexer": "ipython3",
   "version": "3.8.16"
  },
  "orig_nbformat": 4,
  "vscode": {
   "interpreter": {
    "hash": "4a44bbf2a83640dfde2344ebe838e4635fa18e86f31ce321969bab99fe559bce"
   }
  }
 },
 "nbformat": 4,
 "nbformat_minor": 2
}
