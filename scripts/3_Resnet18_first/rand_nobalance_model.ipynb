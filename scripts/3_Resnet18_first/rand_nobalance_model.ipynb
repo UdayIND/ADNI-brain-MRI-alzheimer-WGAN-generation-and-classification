{
 "cells": [
  {
   "attachments": {},
   "cell_type": "markdown",
   "metadata": {},
   "source": [
    "**Importing libraries**"
   ]
  },
  {
   "cell_type": "code",
   "execution_count": 1,
   "metadata": {},
   "outputs": [],
   "source": [
    "# Keras e TF\n",
    "\n",
    "#import tensorflow\n",
    "from tensorflow import keras\n",
    "from keras.preprocessing.image import ImageDataGenerator\n",
    "from keras.layers import Conv2D, Conv1D, MaxPooling2D, Dense, Flatten, BatchNormalization, Activation, AveragePooling2D, Input, Flatten, Dropout\n",
    "from keras.callbacks import ModelCheckpoint\n",
    "\n",
    "# Sk-Learn\n",
    "from sklearn.metrics import classification_report, confusion_matrix\n",
    "from sklearn.model_selection import train_test_split\n",
    "from sklearn.metrics import classification_report,confusion_matrix, ConfusionMatrixDisplay, roc_curve, roc_auc_score, RocCurveDisplay, accuracy_score, classification_report, confusion_matrix\n",
    "\n",
    "# Base\n",
    "import os \n",
    "from pathlib import Path\n",
    "from matplotlib import pyplot as plt\n",
    "import seaborn as sns # \n",
    "import numpy as np #\n",
    "import pandas as pd # \n",
    "\n",
    "from keras.utils import load_img\n",
    "\n",
    "import pydot\n",
    "import pydotplus\n",
    "from pydotplus import graphviz\n",
    "\n",
    "from keras.callbacks import TensorBoard, ModelCheckpoint, ReduceLROnPlateau\n",
    "from tensorflow.keras import backend as K\n",
    "from custom_resnet import ResNet18\n",
    "\n",
    "\n",
    "from keras.models import Model\n",
    "from keras.optimizers import Adam"
   ]
  },
  {
   "cell_type": "code",
   "execution_count": 40,
   "metadata": {},
   "outputs": [
    {
     "data": {
      "text/plain": [
       "'2.10.1'"
      ]
     },
     "execution_count": 40,
     "metadata": {},
     "output_type": "execute_result"
    }
   ],
   "source": [
    "keras.__version__\n",
    "tensorflow.__version__"
   ]
  },
  {
   "attachments": {},
   "cell_type": "markdown",
   "metadata": {},
   "source": [
    "**Setting path to the dataset**"
   ]
  },
  {
   "cell_type": "code",
   "execution_count": 18,
   "metadata": {},
   "outputs": [],
   "source": [
    "os.chdir(Path(str(Path(os.getcwd()).parent.absolute().parent.absolute()) +\n",
    "              '\\\\adni-images-Full-resized160x192'))"
   ]
  },
  {
   "cell_type": "code",
   "execution_count": 19,
   "metadata": {},
   "outputs": [
    {
     "name": "stdout",
     "output_type": "stream",
     "text": [
      "d:\\Projects\\ADNI-brain-MRI-alzheimer-classification-and-GAN-generation\\adni-images-Full-resized160x192\n"
     ]
    }
   ],
   "source": [
    "print(os.getcwd())"
   ]
  },
  {
   "attachments": {},
   "cell_type": "markdown",
   "metadata": {},
   "source": [
    "# Loading Dataset"
   ]
  },
  {
   "cell_type": "code",
   "execution_count": 4,
   "metadata": {},
   "outputs": [
    {
     "name": "stdout",
     "output_type": "stream",
     "text": [
      "218576\n",
      "Name:  d:\\Projects\\ADNI-brain-MRI-alzheimer-classification-and-GAN-generation\\adni-images-Full-resized160x192\\train_gan_over\\ad/fake_ad_19058.png\n",
      "(160, 192)\n",
      "(218575, 160, 192)\n",
      "() ()\n",
      "35.80925715423529 45.16736479384096\n"
     ]
    }
   ],
   "source": [
    "data_dir = Path(os.getcwd())\n",
    "\n",
    "def data_mean_std():\n",
    "    names = []\n",
    "    for root, dirs, files in os.walk(data_dir):\n",
    "        if \"train\" in root:\n",
    "            for file in files:\n",
    "                names.append(root + '/' + file)\n",
    "    \n",
    "    print(len(names))\n",
    "                \n",
    "    array = []\n",
    "    for name in names:\n",
    "        try:\n",
    "            img = load_img(name, color_mode = 'grayscale', target_size = (160, 192))\n",
    "            img_array = np.asarray(img)\n",
    "            array.append(img_array)\n",
    "        except:\n",
    "            print(\"Name: \", name)\n",
    "            continue\n",
    "    \n",
    "    print(img_array.shape) # Correct amount of images\n",
    "\n",
    "    array = np.asarray(array)\n",
    "    print(array.shape)\n",
    "    print(array.mean().shape, array.std().shape)\n",
    "    return array.mean(), array.std()\n",
    "\"\"\" \n",
    "stats_file = open(stats_path, 'r')\n",
    "stats_lst = stats_file.read().split('\\n')\n",
    "mean = float(stats_lst[0])\n",
    "std = float(stats_lst[1])\"\"\"\n",
    "mean, std = data_mean_std()\n",
    "\n",
    "print(mean, std)\n"
   ]
  },
  {
   "attachments": {},
   "cell_type": "markdown",
   "metadata": {},
   "source": [
    "Use the pre-computed values (oversampling GAN):"
   ]
  },
  {
   "cell_type": "code",
   "execution_count": 4,
   "metadata": {},
   "outputs": [],
   "source": [
    "mean = 35.80925715423529\n",
    "std = 45.16736479384096"
   ]
  },
  {
   "cell_type": "code",
   "execution_count": 5,
   "metadata": {},
   "outputs": [],
   "source": [
    "def normalize(x):\n",
    "    return (x - mean) / std"
   ]
  },
  {
   "cell_type": "code",
   "execution_count": 6,
   "metadata": {},
   "outputs": [],
   "source": [
    "batch_size = 32 # Batch size\n",
    "\n",
    "train_path = './train'\n",
    "test_path = './test'\n",
    "valid_path = './valid'\n",
    "#rescale = 1./255.\n",
    "train_datagen = ImageDataGenerator(preprocessing_function = normalize)\n",
    "test_datagen = ImageDataGenerator(preprocessing_function = normalize)\n",
    "valid_datagen = ImageDataGenerator(preprocessing_function = normalize)"
   ]
  },
  {
   "cell_type": "code",
   "execution_count": 7,
   "metadata": {},
   "outputs": [
    {
     "name": "stdout",
     "output_type": "stream",
     "text": [
      "Found 134608 images belonging to 3 classes.\n"
     ]
    }
   ],
   "source": [
    "train_data = train_datagen.flow_from_directory(\n",
    "        train_path,\n",
    "        color_mode = 'grayscale',\n",
    "        target_size=(192, 160),  # Lo inserisco per precauzione\n",
    "        batch_size=batch_size,\n",
    "        seed=123,\n",
    "        shuffle=True,\n",
    "        class_mode='categorical')"
   ]
  },
  {
   "cell_type": "code",
   "execution_count": 8,
   "metadata": {},
   "outputs": [
    {
     "name": "stdout",
     "output_type": "stream",
     "text": [
      "Found 18024 images belonging to 3 classes.\n"
     ]
    }
   ],
   "source": [
    "validation_data = valid_datagen.flow_from_directory(\n",
    "        valid_path,\n",
    "        color_mode='grayscale',\n",
    "        target_size=(192, 160),  # Lo inserisco per precauzione\n",
    "        batch_size=batch_size,\n",
    "        seed=123,\n",
    "        shuffle=True,\n",
    "        class_mode='categorical')"
   ]
  },
  {
   "cell_type": "code",
   "execution_count": 10,
   "metadata": {},
   "outputs": [
    {
     "name": "stdout",
     "output_type": "stream",
     "text": [
      "Found 10567 images belonging to 3 classes.\n"
     ]
    }
   ],
   "source": [
    "# Test set\n",
    "test_data = test_datagen.flow_from_directory(\n",
    "        test_path,\n",
    "        color_mode='grayscale',\n",
    "        target_size=(192, 160),  # Lo inserisco per precauzione\n",
    "        batch_size=batch_size,\n",
    "        shuffle=False,\n",
    "        class_mode='categorical')"
   ]
  },
  {
   "cell_type": "code",
   "execution_count": 11,
   "metadata": {},
   "outputs": [
    {
     "data": {
      "text/plain": [
       "{'ad': 0, 'mci': 1, 'nor': 2}"
      ]
     },
     "execution_count": 11,
     "metadata": {},
     "output_type": "execute_result"
    }
   ],
   "source": [
    "train_data.class_indices"
   ]
  },
  {
   "cell_type": "code",
   "execution_count": 12,
   "metadata": {},
   "outputs": [
    {
     "data": {
      "text/plain": [
       "{'ad': 0, 'mci': 1, 'nor': 2}"
      ]
     },
     "execution_count": 12,
     "metadata": {},
     "output_type": "execute_result"
    }
   ],
   "source": [
    "validation_data.class_indices"
   ]
  },
  {
   "cell_type": "code",
   "execution_count": 13,
   "metadata": {},
   "outputs": [
    {
     "data": {
      "text/plain": [
       "{'ad': 0, 'mci': 1, 'nor': 2}"
      ]
     },
     "execution_count": 13,
     "metadata": {},
     "output_type": "execute_result"
    }
   ],
   "source": [
    "test_data.class_indices"
   ]
  },
  {
   "cell_type": "code",
   "execution_count": 15,
   "metadata": {},
   "outputs": [
    {
     "name": "stdout",
     "output_type": "stream",
     "text": [
      "0.1644701652204921 0.29484874598835137 0.5406810887911565\n"
     ]
    }
   ],
   "source": [
    "train_ad = len(os.listdir(os.getcwd() + '\\\\train\\\\ad'))\n",
    "train_nor = len(os.listdir(os.getcwd() + '\\\\train\\\\nor'))\n",
    "train_mci = len(os.listdir(os.getcwd() + '\\\\train\\\\mci'))\n",
    "train_tot = train_ad + train_nor + train_mci\n",
    "print(train_ad/train_tot, train_nor/train_tot, train_mci/train_tot)"
   ]
  },
  {
   "cell_type": "code",
   "execution_count": 20,
   "metadata": {},
   "outputs": [
    {
     "name": "stdout",
     "output_type": "stream",
     "text": [
      "0.22504021955143372 0.20762751963660453 0.5673322608119618\n"
     ]
    }
   ],
   "source": [
    "test_ad = len(os.listdir(os.getcwd() + '\\\\test\\\\ad'))\n",
    "test_nor = len(os.listdir(os.getcwd() + '\\\\test\\\\nor'))\n",
    "test_mci = len(os.listdir(os.getcwd() + '\\\\test\\\\mci'))\n",
    "test_tot = test_ad + test_nor + test_mci\n",
    "print(test_ad/test_tot, test_nor/test_tot, test_mci/test_tot)"
   ]
  },
  {
   "cell_type": "code",
   "execution_count": 21,
   "metadata": {},
   "outputs": [
    {
     "name": "stdout",
     "output_type": "stream",
     "text": [
      "0.22253661784287618 0.37377940523746117 0.4036839769196627\n"
     ]
    }
   ],
   "source": [
    "valid_ad = len(os.listdir(os.getcwd() + '\\\\valid\\\\ad'))\n",
    "valid_nor = len(os.listdir(os.getcwd() + '\\\\valid\\\\nor'))\n",
    "valid_mci = len(os.listdir(os.getcwd() + '\\\\valid\\\\mci'))\n",
    "valid_tot = valid_ad + valid_nor + valid_mci\n",
    "print(valid_ad/valid_tot, valid_nor/valid_tot, valid_mci/valid_tot)"
   ]
  },
  {
   "attachments": {},
   "cell_type": "markdown",
   "metadata": {},
   "source": [
    "# Model Definition"
   ]
  },
  {
   "attachments": {},
   "cell_type": "markdown",
   "metadata": {},
   "source": [
    "Changing the folder to data path to save weights into"
   ]
  },
  {
   "cell_type": "code",
   "execution_count": 22,
   "metadata": {},
   "outputs": [],
   "source": [
    "os.chdir(Path(str(Path(os.getcwd()).parent.absolute()) + '\\\\scripts\\\\3_Resnet18_first'))"
   ]
  },
  {
   "cell_type": "code",
   "execution_count": 23,
   "metadata": {},
   "outputs": [
    {
     "data": {
      "text/plain": [
       "'d:\\\\Projects\\\\ADNI-brain-MRI-alzheimer-classification-and-GAN-generation\\\\scripts\\\\3_Resnet18_first'"
      ]
     },
     "execution_count": 23,
     "metadata": {},
     "output_type": "execute_result"
    }
   ],
   "source": [
    "os.getcwd()"
   ]
  },
  {
   "cell_type": "code",
   "execution_count": 24,
   "metadata": {},
   "outputs": [],
   "source": [
    "METRICS = [ \n",
    "      keras.metrics.CategoricalAccuracy(name='accuracy'),\n",
    "      keras.metrics.Precision(name='precision'),\n",
    "      keras.metrics.Recall(name='recall'),\n",
    "      keras.metrics.AUC(name='auc'),\n",
    "      keras.metrics.TopKCategoricalAccuracy(name='top 2 accuracy', k=2),\n",
    "      keras.metrics.TopKCategoricalAccuracy(name='top 3 accuracy', k=3),\n",
    "      keras.metrics.TopKCategoricalAccuracy(name='top 5 accuracy', k=5)\n",
    "]"
   ]
  },
  {
   "cell_type": "code",
   "execution_count": 25,
   "metadata": {},
   "outputs": [],
   "source": [
    "early_stopper = keras.callbacks.EarlyStopping(monitor='val_loss', patience=100)"
   ]
  },
  {
   "cell_type": "code",
   "execution_count": 26,
   "metadata": {},
   "outputs": [
    {
     "name": "stdout",
     "output_type": "stream",
     "text": [
      "<class 'keras.engine.keras_tensor.KerasTensor'>\n",
      "model loaded\n",
      "Model: \"model\"\n",
      "__________________________________________________________________________________________________\n",
      " Layer (type)                   Output Shape         Param #     Connected to                     \n",
      "==================================================================================================\n",
      " input_1 (InputLayer)           [(None, 192, 160, 1  0           []                               \n",
      "                                )]                                                                \n",
      "                                                                                                  \n",
      " conv1_pad (ZeroPadding2D)      (None, 198, 166, 1)  0           ['input_1[0][0]']                \n",
      "                                                                                                  \n",
      " conv1 (Conv2D)                 (None, 96, 80, 64)   3200        ['conv1_pad[0][0]']              \n",
      "                                                                                                  \n",
      " bn_conv1 (BatchNormalization)  (None, 96, 80, 64)   256         ['conv1[0][0]']                  \n",
      "                                                                                                  \n",
      " leaky_re_lu (LeakyReLU)        (None, 96, 80, 64)   0           ['bn_conv1[0][0]']               \n",
      "                                                                                                  \n",
      " max_pooling2d (MaxPooling2D)   (None, 47, 39, 64)   0           ['leaky_re_lu[0][0]']            \n",
      "                                                                                                  \n",
      " res2a_branch2a (Conv2D)        (None, 47, 39, 64)   36928       ['max_pooling2d[0][0]']          \n",
      "                                                                                                  \n",
      " bn2a_branch2a (BatchNormalizat  (None, 47, 39, 64)  256         ['res2a_branch2a[0][0]']         \n",
      " ion)                                                                                             \n",
      "                                                                                                  \n",
      " leaky_re_lu_1 (LeakyReLU)      (None, 47, 39, 64)   0           ['bn2a_branch2a[0][0]']          \n",
      "                                                                                                  \n",
      " res2a_branch2b (Conv2D)        (None, 47, 39, 64)   36928       ['leaky_re_lu_1[0][0]']          \n",
      "                                                                                                  \n",
      " res2a_branch1 (Conv2D)         (None, 47, 39, 64)   4160        ['max_pooling2d[0][0]']          \n",
      "                                                                                                  \n",
      " bn2a_branch2b (BatchNormalizat  (None, 47, 39, 64)  256         ['res2a_branch2b[0][0]']         \n",
      " ion)                                                                                             \n",
      "                                                                                                  \n",
      " bn2a_branch1 (BatchNormalizati  (None, 47, 39, 64)  256         ['res2a_branch1[0][0]']          \n",
      " on)                                                                                              \n",
      "                                                                                                  \n",
      " add (Add)                      (None, 47, 39, 64)   0           ['bn2a_branch2b[0][0]',          \n",
      "                                                                  'bn2a_branch1[0][0]']           \n",
      "                                                                                                  \n",
      " leaky_re_lu_2 (LeakyReLU)      (None, 47, 39, 64)   0           ['add[0][0]']                    \n",
      "                                                                                                  \n",
      " res2b_branch2a (Conv2D)        (None, 47, 39, 64)   36928       ['leaky_re_lu_2[0][0]']          \n",
      "                                                                                                  \n",
      " bn2b_branch2a (BatchNormalizat  (None, 47, 39, 64)  256         ['res2b_branch2a[0][0]']         \n",
      " ion)                                                                                             \n",
      "                                                                                                  \n",
      " leaky_re_lu_3 (LeakyReLU)      (None, 47, 39, 64)   0           ['bn2b_branch2a[0][0]']          \n",
      "                                                                                                  \n",
      " res2b_branch2b (Conv2D)        (None, 47, 39, 64)   36928       ['leaky_re_lu_3[0][0]']          \n",
      "                                                                                                  \n",
      " bn2b_branch2b (BatchNormalizat  (None, 47, 39, 64)  256         ['res2b_branch2b[0][0]']         \n",
      " ion)                                                                                             \n",
      "                                                                                                  \n",
      " add_1 (Add)                    (None, 47, 39, 64)   0           ['bn2b_branch2b[0][0]',          \n",
      "                                                                  'leaky_re_lu_2[0][0]']          \n",
      "                                                                                                  \n",
      " leaky_re_lu_4 (LeakyReLU)      (None, 47, 39, 64)   0           ['add_1[0][0]']                  \n",
      "                                                                                                  \n",
      " res3a_branch2a (Conv2D)        (None, 24, 20, 128)  73856       ['leaky_re_lu_4[0][0]']          \n",
      "                                                                                                  \n",
      " bn3a_branch2a (BatchNormalizat  (None, 24, 20, 128)  512        ['res3a_branch2a[0][0]']         \n",
      " ion)                                                                                             \n",
      "                                                                                                  \n",
      " leaky_re_lu_5 (LeakyReLU)      (None, 24, 20, 128)  0           ['bn3a_branch2a[0][0]']          \n",
      "                                                                                                  \n",
      " res3a_branch2b (Conv2D)        (None, 24, 20, 128)  147584      ['leaky_re_lu_5[0][0]']          \n",
      "                                                                                                  \n",
      " res3a_branch1 (Conv2D)         (None, 24, 20, 128)  8320        ['leaky_re_lu_4[0][0]']          \n",
      "                                                                                                  \n",
      " bn3a_branch2b (BatchNormalizat  (None, 24, 20, 128)  512        ['res3a_branch2b[0][0]']         \n",
      " ion)                                                                                             \n",
      "                                                                                                  \n",
      " bn3a_branch1 (BatchNormalizati  (None, 24, 20, 128)  512        ['res3a_branch1[0][0]']          \n",
      " on)                                                                                              \n",
      "                                                                                                  \n",
      " add_2 (Add)                    (None, 24, 20, 128)  0           ['bn3a_branch2b[0][0]',          \n",
      "                                                                  'bn3a_branch1[0][0]']           \n",
      "                                                                                                  \n",
      " leaky_re_lu_6 (LeakyReLU)      (None, 24, 20, 128)  0           ['add_2[0][0]']                  \n",
      "                                                                                                  \n",
      " res3b_branch2a (Conv2D)        (None, 24, 20, 128)  147584      ['leaky_re_lu_6[0][0]']          \n",
      "                                                                                                  \n",
      " bn3b_branch2a (BatchNormalizat  (None, 24, 20, 128)  512        ['res3b_branch2a[0][0]']         \n",
      " ion)                                                                                             \n",
      "                                                                                                  \n",
      " leaky_re_lu_7 (LeakyReLU)      (None, 24, 20, 128)  0           ['bn3b_branch2a[0][0]']          \n",
      "                                                                                                  \n",
      " res3b_branch2b (Conv2D)        (None, 24, 20, 128)  147584      ['leaky_re_lu_7[0][0]']          \n",
      "                                                                                                  \n",
      " bn3b_branch2b (BatchNormalizat  (None, 24, 20, 128)  512        ['res3b_branch2b[0][0]']         \n",
      " ion)                                                                                             \n",
      "                                                                                                  \n",
      " add_3 (Add)                    (None, 24, 20, 128)  0           ['bn3b_branch2b[0][0]',          \n",
      "                                                                  'leaky_re_lu_6[0][0]']          \n",
      "                                                                                                  \n",
      " leaky_re_lu_8 (LeakyReLU)      (None, 24, 20, 128)  0           ['add_3[0][0]']                  \n",
      "                                                                                                  \n",
      " res4a_branch2a (Conv2D)        (None, 12, 10, 256)  295168      ['leaky_re_lu_8[0][0]']          \n",
      "                                                                                                  \n",
      " bn4a_branch2a (BatchNormalizat  (None, 12, 10, 256)  1024       ['res4a_branch2a[0][0]']         \n",
      " ion)                                                                                             \n",
      "                                                                                                  \n",
      " leaky_re_lu_9 (LeakyReLU)      (None, 12, 10, 256)  0           ['bn4a_branch2a[0][0]']          \n",
      "                                                                                                  \n",
      " res4a_branch2b (Conv2D)        (None, 12, 10, 256)  590080      ['leaky_re_lu_9[0][0]']          \n",
      "                                                                                                  \n",
      " res4a_branch1 (Conv2D)         (None, 12, 10, 256)  33024       ['leaky_re_lu_8[0][0]']          \n",
      "                                                                                                  \n",
      " bn4a_branch2b (BatchNormalizat  (None, 12, 10, 256)  1024       ['res4a_branch2b[0][0]']         \n",
      " ion)                                                                                             \n",
      "                                                                                                  \n",
      " bn4a_branch1 (BatchNormalizati  (None, 12, 10, 256)  1024       ['res4a_branch1[0][0]']          \n",
      " on)                                                                                              \n",
      "                                                                                                  \n",
      " add_4 (Add)                    (None, 12, 10, 256)  0           ['bn4a_branch2b[0][0]',          \n",
      "                                                                  'bn4a_branch1[0][0]']           \n",
      "                                                                                                  \n",
      " leaky_re_lu_10 (LeakyReLU)     (None, 12, 10, 256)  0           ['add_4[0][0]']                  \n",
      "                                                                                                  \n",
      " res4b_branch2a (Conv2D)        (None, 12, 10, 256)  590080      ['leaky_re_lu_10[0][0]']         \n",
      "                                                                                                  \n",
      " bn4b_branch2a (BatchNormalizat  (None, 12, 10, 256)  1024       ['res4b_branch2a[0][0]']         \n",
      " ion)                                                                                             \n",
      "                                                                                                  \n",
      " leaky_re_lu_11 (LeakyReLU)     (None, 12, 10, 256)  0           ['bn4b_branch2a[0][0]']          \n",
      "                                                                                                  \n",
      " res4b_branch2b (Conv2D)        (None, 12, 10, 256)  590080      ['leaky_re_lu_11[0][0]']         \n",
      "                                                                                                  \n",
      " bn4b_branch2b (BatchNormalizat  (None, 12, 10, 256)  1024       ['res4b_branch2b[0][0]']         \n",
      " ion)                                                                                             \n",
      "                                                                                                  \n",
      " add_5 (Add)                    (None, 12, 10, 256)  0           ['bn4b_branch2b[0][0]',          \n",
      "                                                                  'leaky_re_lu_10[0][0]']         \n",
      "                                                                                                  \n",
      " leaky_re_lu_12 (LeakyReLU)     (None, 12, 10, 256)  0           ['add_5[0][0]']                  \n",
      "                                                                                                  \n",
      " res5a_branch2a (Conv2D)        (None, 6, 5, 512)    1180160     ['leaky_re_lu_12[0][0]']         \n",
      "                                                                                                  \n",
      " bn5a_branch2a (BatchNormalizat  (None, 6, 5, 512)   2048        ['res5a_branch2a[0][0]']         \n",
      " ion)                                                                                             \n",
      "                                                                                                  \n",
      " leaky_re_lu_13 (LeakyReLU)     (None, 6, 5, 512)    0           ['bn5a_branch2a[0][0]']          \n",
      "                                                                                                  \n",
      " res5a_branch2b (Conv2D)        (None, 6, 5, 512)    2359808     ['leaky_re_lu_13[0][0]']         \n",
      "                                                                                                  \n",
      " res5a_branch1 (Conv2D)         (None, 6, 5, 512)    131584      ['leaky_re_lu_12[0][0]']         \n",
      "                                                                                                  \n",
      " bn5a_branch2b (BatchNormalizat  (None, 6, 5, 512)   2048        ['res5a_branch2b[0][0]']         \n",
      " ion)                                                                                             \n",
      "                                                                                                  \n",
      " bn5a_branch1 (BatchNormalizati  (None, 6, 5, 512)   2048        ['res5a_branch1[0][0]']          \n",
      " on)                                                                                              \n",
      "                                                                                                  \n",
      " add_6 (Add)                    (None, 6, 5, 512)    0           ['bn5a_branch2b[0][0]',          \n",
      "                                                                  'bn5a_branch1[0][0]']           \n",
      "                                                                                                  \n",
      " leaky_re_lu_14 (LeakyReLU)     (None, 6, 5, 512)    0           ['add_6[0][0]']                  \n",
      "                                                                                                  \n",
      " res5b_branch2a (Conv2D)        (None, 6, 5, 512)    2359808     ['leaky_re_lu_14[0][0]']         \n",
      "                                                                                                  \n",
      " bn5b_branch2a (BatchNormalizat  (None, 6, 5, 512)   2048        ['res5b_branch2a[0][0]']         \n",
      " ion)                                                                                             \n",
      "                                                                                                  \n",
      " leaky_re_lu_15 (LeakyReLU)     (None, 6, 5, 512)    0           ['bn5b_branch2a[0][0]']          \n",
      "                                                                                                  \n",
      " res5b_branch2b (Conv2D)        (None, 6, 5, 512)    2359808     ['leaky_re_lu_15[0][0]']         \n",
      "                                                                                                  \n",
      " bn5b_branch2b (BatchNormalizat  (None, 6, 5, 512)   2048        ['res5b_branch2b[0][0]']         \n",
      " ion)                                                                                             \n",
      "                                                                                                  \n",
      " add_7 (Add)                    (None, 6, 5, 512)    0           ['bn5b_branch2b[0][0]',          \n",
      "                                                                  'leaky_re_lu_14[0][0]']         \n",
      "                                                                                                  \n",
      " leaky_re_lu_16 (LeakyReLU)     (None, 6, 5, 512)    0           ['add_7[0][0]']                  \n",
      "                                                                                                  \n",
      " avg_pool (AveragePooling2D)    (None, 1, 1, 512)    0           ['leaky_re_lu_16[0][0]']         \n",
      "                                                                                                  \n",
      " flatten (Flatten)              (None, 512)          0           ['avg_pool[0][0]']               \n",
      "                                                                                                  \n",
      " dropout (Dropout)              (None, 512)          0           ['flatten[0][0]']                \n",
      "                                                                                                  \n",
      " dense (Dense)                  (None, 3)            1539        ['dropout[0][0]']                \n",
      "                                                                                                  \n",
      "==================================================================================================\n",
      "Total params: 11,190,595\n",
      "Trainable params: 11,180,867\n",
      "Non-trainable params: 9,728\n",
      "__________________________________________________________________________________________________\n"
     ]
    }
   ],
   "source": [
    "tb = TensorBoard(log_dir =os.getcwd() + '\\\\no_balance\\\\logs_no_balance', write_graph = True)\n",
    "\n",
    "lr_reducer = ReduceLROnPlateau(monitor='loss', factor=np.sqrt(0.1), patience=10, cooldown=0, min_lr=1e-5)\n",
    "\n",
    "model_chkp = ModelCheckpoint(filepath=os.getcwd() + '\\\\no_balance\\\\best_model_no_balance',\n",
    "                            # monitor='val_quadratic_kappa_score',\n",
    "                            monitor='val_accuracy',\n",
    "                            save_best_only=True, save_weights_only=True, mode='max')\n",
    "\n",
    "#resnet = ResNet18()\n",
    "#resnet = ResNet18(classes=3, input_shape=(160, 192))\n",
    "resnet = ResNet18(classes=3)\n",
    "\n",
    "\n",
    "#model = keras.applications.resnet50.ResNet50(include_top=True, weights='imagenet', input_tensor=None, input_shape=None, pooling=None, classes=1000)\n",
    "#model.summary()\n",
    "\n",
    "#resnet.layers.pop()\n",
    "#for layer in resnet.layers:\n",
    "#    layer.trainable = False\n",
    "\n",
    "x = resnet.layers[-1].output\n",
    "\n",
    "x = Dropout(0.25)(x)\n",
    "\n",
    "x = Dense(3, activation = 'softmax')(x)\n",
    "\n",
    "\n",
    "ft_resnet = Model(resnet.input, x)\n",
    "optimizer = Adam(learning_rate = 0.001)\n",
    "ft_resnet.compile(optimizer = optimizer, loss = 'categorical_crossentropy', metrics = METRICS)\n",
    "\n",
    "print(\"model loaded\")\n",
    "\n",
    "ft_resnet.summary()"
   ]
  },
  {
   "attachments": {},
   "cell_type": "markdown",
   "metadata": {},
   "source": [
    "Changing back the folder to data path"
   ]
  },
  {
   "cell_type": "code",
   "execution_count": 27,
   "metadata": {},
   "outputs": [
    {
     "data": {
      "text/plain": [
       "'d:\\\\Projects\\\\ADNI-brain-MRI-alzheimer-classification-and-GAN-generation\\\\adni-images-Full-resized160x192'"
      ]
     },
     "execution_count": 27,
     "metadata": {},
     "output_type": "execute_result"
    }
   ],
   "source": [
    "os.chdir(Path(str(Path(os.getcwd()).parent.absolute().parent.absolute()) + '\\\\adni-images-Full-resized160x192'))\n",
    "os.getcwd()"
   ]
  },
  {
   "cell_type": "code",
   "execution_count": 28,
   "metadata": {},
   "outputs": [
    {
     "name": "stdout",
     "output_type": "stream",
     "text": [
      "134608 18024\n",
      "4207.0 564.0\n",
      "Epoch 1/100\n",
      "4207/4207 [==============================] - 438s 102ms/step - loss: 0.8772 - accuracy: 0.5978 - precision: 0.6342 - recall: 0.5066 - auc: 0.7804 - top 2 accuracy: 0.8828 - top 3 accuracy: 1.0000 - top 5 accuracy: 1.0000 - val_loss: 1.2569 - val_accuracy: 0.4780 - val_precision: 0.4915 - val_recall: 0.4217 - val_auc: 0.6607 - val_top 2 accuracy: 0.8086 - val_top 3 accuracy: 1.0000 - val_top 5 accuracy: 1.0000 - lr: 0.0010\n",
      "Epoch 2/100\n",
      "4207/4207 [==============================] - 283s 67ms/step - loss: 0.5412 - accuracy: 0.7735 - precision: 0.7966 - recall: 0.7435 - auc: 0.9203 - top 2 accuracy: 0.9547 - top 3 accuracy: 1.0000 - top 5 accuracy: 1.0000 - val_loss: 2.2280 - val_accuracy: 0.3759 - val_precision: 0.3782 - val_recall: 0.3569 - val_auc: 0.5608 - val_top 2 accuracy: 0.7589 - val_top 3 accuracy: 1.0000 - val_top 5 accuracy: 1.0000 - lr: 0.0010\n",
      "Epoch 3/100\n",
      "4207/4207 [==============================] - 279s 66ms/step - loss: 0.2678 - accuracy: 0.8967 - precision: 0.9048 - recall: 0.8890 - auc: 0.9798 - top 2 accuracy: 0.9854 - top 3 accuracy: 1.0000 - top 5 accuracy: 1.0000 - val_loss: 2.7443 - val_accuracy: 0.4114 - val_precision: 0.4135 - val_recall: 0.4048 - val_auc: 0.5977 - val_top 2 accuracy: 0.7983 - val_top 3 accuracy: 1.0000 - val_top 5 accuracy: 1.0000 - lr: 0.0010\n",
      "Epoch 4/100\n",
      "4207/4207 [==============================] - 282s 67ms/step - loss: 0.1517 - accuracy: 0.9426 - precision: 0.9458 - recall: 0.9398 - auc: 0.9931 - top 2 accuracy: 0.9939 - top 3 accuracy: 1.0000 - top 5 accuracy: 1.0000 - val_loss: 3.6561 - val_accuracy: 0.3943 - val_precision: 0.3962 - val_recall: 0.3898 - val_auc: 0.5677 - val_top 2 accuracy: 0.7440 - val_top 3 accuracy: 1.0000 - val_top 5 accuracy: 1.0000 - lr: 0.0010\n",
      "Epoch 5/100\n",
      "4207/4207 [==============================] - 284s 67ms/step - loss: 0.1028 - accuracy: 0.9618 - precision: 0.9635 - recall: 0.9602 - auc: 0.9966 - top 2 accuracy: 0.9966 - top 3 accuracy: 1.0000 - top 5 accuracy: 1.0000 - val_loss: 4.5641 - val_accuracy: 0.4234 - val_precision: 0.4240 - val_recall: 0.4208 - val_auc: 0.5937 - val_top 2 accuracy: 0.7719 - val_top 3 accuracy: 1.0000 - val_top 5 accuracy: 1.0000 - lr: 0.0010\n",
      "Epoch 6/100\n",
      "4207/4207 [==============================] - 282s 67ms/step - loss: 0.0760 - accuracy: 0.9718 - precision: 0.9728 - recall: 0.9709 - auc: 0.9980 - top 2 accuracy: 0.9979 - top 3 accuracy: 1.0000 - top 5 accuracy: 1.0000 - val_loss: 3.9853 - val_accuracy: 0.3718 - val_precision: 0.3722 - val_recall: 0.3669 - val_auc: 0.5538 - val_top 2 accuracy: 0.7669 - val_top 3 accuracy: 1.0000 - val_top 5 accuracy: 1.0000 - lr: 0.0010\n",
      "Epoch 7/100\n",
      "4207/4207 [==============================] - 282s 67ms/step - loss: 0.0616 - accuracy: 0.9778 - precision: 0.9785 - recall: 0.9772 - auc: 0.9985 - top 2 accuracy: 0.9985 - top 3 accuracy: 1.0000 - top 5 accuracy: 1.0000 - val_loss: 4.2994 - val_accuracy: 0.3733 - val_precision: 0.3738 - val_recall: 0.3696 - val_auc: 0.5514 - val_top 2 accuracy: 0.7464 - val_top 3 accuracy: 1.0000 - val_top 5 accuracy: 1.0000 - lr: 0.0010\n",
      "Epoch 8/100\n",
      "4207/4207 [==============================] - 286s 68ms/step - loss: 0.0494 - accuracy: 0.9823 - precision: 0.9830 - recall: 0.9817 - auc: 0.9990 - top 2 accuracy: 0.9988 - top 3 accuracy: 1.0000 - top 5 accuracy: 1.0000 - val_loss: 3.9390 - val_accuracy: 0.4043 - val_precision: 0.4050 - val_recall: 0.4006 - val_auc: 0.5823 - val_top 2 accuracy: 0.7726 - val_top 3 accuracy: 1.0000 - val_top 5 accuracy: 1.0000 - lr: 0.0010\n",
      "Epoch 9/100\n",
      "4207/4207 [==============================] - 285s 68ms/step - loss: 0.0423 - accuracy: 0.9851 - precision: 0.9855 - recall: 0.9849 - auc: 0.9992 - top 2 accuracy: 0.9992 - top 3 accuracy: 1.0000 - top 5 accuracy: 1.0000 - val_loss: 4.4705 - val_accuracy: 0.4177 - val_precision: 0.4187 - val_recall: 0.4147 - val_auc: 0.5871 - val_top 2 accuracy: 0.7738 - val_top 3 accuracy: 1.0000 - val_top 5 accuracy: 1.0000 - lr: 0.0010\n",
      "Epoch 10/100\n",
      "4207/4207 [==============================] - 301s 71ms/step - loss: 0.0372 - accuracy: 0.9869 - precision: 0.9872 - recall: 0.9866 - auc: 0.9993 - top 2 accuracy: 0.9993 - top 3 accuracy: 1.0000 - top 5 accuracy: 1.0000 - val_loss: 5.1207 - val_accuracy: 0.3974 - val_precision: 0.3972 - val_recall: 0.3941 - val_auc: 0.5678 - val_top 2 accuracy: 0.7604 - val_top 3 accuracy: 1.0000 - val_top 5 accuracy: 1.0000 - lr: 0.0010\n",
      "Epoch 11/100\n",
      "4207/4207 [==============================] - 276s 66ms/step - loss: 0.0331 - accuracy: 0.9880 - precision: 0.9882 - recall: 0.9877 - auc: 0.9994 - top 2 accuracy: 0.9994 - top 3 accuracy: 1.0000 - top 5 accuracy: 1.0000 - val_loss: 4.5017 - val_accuracy: 0.4025 - val_precision: 0.4035 - val_recall: 0.3991 - val_auc: 0.5744 - val_top 2 accuracy: 0.7511 - val_top 3 accuracy: 1.0000 - val_top 5 accuracy: 1.0000 - lr: 0.0010\n",
      "Epoch 12/100\n",
      "4207/4207 [==============================] - 278s 66ms/step - loss: 0.0294 - accuracy: 0.9898 - precision: 0.9901 - recall: 0.9896 - auc: 0.9994 - top 2 accuracy: 0.9994 - top 3 accuracy: 1.0000 - top 5 accuracy: 1.0000 - val_loss: 4.6255 - val_accuracy: 0.3851 - val_precision: 0.3860 - val_recall: 0.3818 - val_auc: 0.5577 - val_top 2 accuracy: 0.7535 - val_top 3 accuracy: 1.0000 - val_top 5 accuracy: 1.0000 - lr: 0.0010\n",
      "Epoch 13/100\n",
      "4207/4207 [==============================] - 277s 66ms/step - loss: 0.0271 - accuracy: 0.9905 - precision: 0.9908 - recall: 0.9904 - auc: 0.9995 - top 2 accuracy: 0.9995 - top 3 accuracy: 1.0000 - top 5 accuracy: 1.0000 - val_loss: 5.0808 - val_accuracy: 0.4046 - val_precision: 0.4052 - val_recall: 0.4032 - val_auc: 0.5772 - val_top 2 accuracy: 0.7736 - val_top 3 accuracy: 1.0000 - val_top 5 accuracy: 1.0000 - lr: 0.0010\n",
      "Epoch 14/100\n",
      "4207/4207 [==============================] - 276s 66ms/step - loss: 0.0239 - accuracy: 0.9917 - precision: 0.9919 - recall: 0.9916 - auc: 0.9996 - top 2 accuracy: 0.9996 - top 3 accuracy: 1.0000 - top 5 accuracy: 1.0000 - val_loss: 5.1732 - val_accuracy: 0.4063 - val_precision: 0.4066 - val_recall: 0.4039 - val_auc: 0.5779 - val_top 2 accuracy: 0.7738 - val_top 3 accuracy: 1.0000 - val_top 5 accuracy: 1.0000 - lr: 0.0010\n",
      "Epoch 15/100\n",
      "4207/4207 [==============================] - 278s 66ms/step - loss: 0.0221 - accuracy: 0.9922 - precision: 0.9924 - recall: 0.9920 - auc: 0.9997 - top 2 accuracy: 0.9997 - top 3 accuracy: 1.0000 - top 5 accuracy: 1.0000 - val_loss: 5.1487 - val_accuracy: 0.3986 - val_precision: 0.3992 - val_recall: 0.3960 - val_auc: 0.5695 - val_top 2 accuracy: 0.7617 - val_top 3 accuracy: 1.0000 - val_top 5 accuracy: 1.0000 - lr: 0.0010\n",
      "Epoch 16/100\n",
      "4207/4207 [==============================] - 278s 66ms/step - loss: 0.0204 - accuracy: 0.9926 - precision: 0.9928 - recall: 0.9925 - auc: 0.9997 - top 2 accuracy: 0.9997 - top 3 accuracy: 1.0000 - top 5 accuracy: 1.0000 - val_loss: 5.0197 - val_accuracy: 0.4183 - val_precision: 0.4188 - val_recall: 0.4159 - val_auc: 0.5867 - val_top 2 accuracy: 0.7628 - val_top 3 accuracy: 1.0000 - val_top 5 accuracy: 1.0000 - lr: 0.0010\n",
      "Epoch 17/100\n",
      "4207/4207 [==============================] - 282s 67ms/step - loss: 0.0189 - accuracy: 0.9934 - precision: 0.9935 - recall: 0.9932 - auc: 0.9997 - top 2 accuracy: 0.9998 - top 3 accuracy: 1.0000 - top 5 accuracy: 1.0000 - val_loss: 5.1588 - val_accuracy: 0.3985 - val_precision: 0.3989 - val_recall: 0.3961 - val_auc: 0.5724 - val_top 2 accuracy: 0.7746 - val_top 3 accuracy: 1.0000 - val_top 5 accuracy: 1.0000 - lr: 0.0010\n",
      "Epoch 18/100\n",
      "4207/4207 [==============================] - 288s 68ms/step - loss: 0.0177 - accuracy: 0.9939 - precision: 0.9941 - recall: 0.9938 - auc: 0.9998 - top 2 accuracy: 0.9998 - top 3 accuracy: 1.0000 - top 5 accuracy: 1.0000 - val_loss: 6.0553 - val_accuracy: 0.4068 - val_precision: 0.4071 - val_recall: 0.4049 - val_auc: 0.5743 - val_top 2 accuracy: 0.7527 - val_top 3 accuracy: 1.0000 - val_top 5 accuracy: 1.0000 - lr: 0.0010\n",
      "Epoch 19/100\n",
      "4207/4207 [==============================] - 267s 63ms/step - loss: 0.0168 - accuracy: 0.9937 - precision: 0.9938 - recall: 0.9936 - auc: 0.9998 - top 2 accuracy: 0.9998 - top 3 accuracy: 1.0000 - top 5 accuracy: 1.0000 - val_loss: 5.2569 - val_accuracy: 0.3947 - val_precision: 0.3952 - val_recall: 0.3924 - val_auc: 0.5690 - val_top 2 accuracy: 0.7699 - val_top 3 accuracy: 1.0000 - val_top 5 accuracy: 1.0000 - lr: 0.0010\n",
      "Epoch 20/100\n",
      "4207/4207 [==============================] - 266s 63ms/step - loss: 0.0151 - accuracy: 0.9947 - precision: 0.9948 - recall: 0.9947 - auc: 0.9998 - top 2 accuracy: 0.9998 - top 3 accuracy: 1.0000 - top 5 accuracy: 1.0000 - val_loss: 5.4661 - val_accuracy: 0.3928 - val_precision: 0.3936 - val_recall: 0.3906 - val_auc: 0.5637 - val_top 2 accuracy: 0.7494 - val_top 3 accuracy: 1.0000 - val_top 5 accuracy: 1.0000 - lr: 0.0010\n",
      "Epoch 21/100\n",
      "4207/4207 [==============================] - 267s 63ms/step - loss: 0.0147 - accuracy: 0.9950 - precision: 0.9950 - recall: 0.9949 - auc: 0.9998 - top 2 accuracy: 0.9998 - top 3 accuracy: 1.0000 - top 5 accuracy: 1.0000 - val_loss: 6.1601 - val_accuracy: 0.4048 - val_precision: 0.4053 - val_recall: 0.4031 - val_auc: 0.5720 - val_top 2 accuracy: 0.7729 - val_top 3 accuracy: 1.0000 - val_top 5 accuracy: 1.0000 - lr: 0.0010\n",
      "Epoch 22/100\n",
      "4207/4207 [==============================] - 267s 63ms/step - loss: 0.0136 - accuracy: 0.9953 - precision: 0.9954 - recall: 0.9952 - auc: 0.9998 - top 2 accuracy: 0.9999 - top 3 accuracy: 1.0000 - top 5 accuracy: 1.0000 - val_loss: 7.1244 - val_accuracy: 0.3910 - val_precision: 0.3911 - val_recall: 0.3896 - val_auc: 0.5576 - val_top 2 accuracy: 0.7610 - val_top 3 accuracy: 1.0000 - val_top 5 accuracy: 1.0000 - lr: 0.0010\n",
      "Epoch 23/100\n",
      "4207/4207 [==============================] - 289s 69ms/step - loss: 0.0129 - accuracy: 0.9956 - precision: 0.9956 - recall: 0.9956 - auc: 0.9998 - top 2 accuracy: 0.9999 - top 3 accuracy: 1.0000 - top 5 accuracy: 1.0000 - val_loss: 5.6775 - val_accuracy: 0.4025 - val_precision: 0.4028 - val_recall: 0.4011 - val_auc: 0.5741 - val_top 2 accuracy: 0.7736 - val_top 3 accuracy: 1.0000 - val_top 5 accuracy: 1.0000 - lr: 0.0010\n",
      "Epoch 24/100\n",
      "4207/4207 [==============================] - 268s 64ms/step - loss: 0.0128 - accuracy: 0.9957 - precision: 0.9958 - recall: 0.9957 - auc: 0.9998 - top 2 accuracy: 0.9999 - top 3 accuracy: 1.0000 - top 5 accuracy: 1.0000 - val_loss: 6.0817 - val_accuracy: 0.4002 - val_precision: 0.4000 - val_recall: 0.3982 - val_auc: 0.5680 - val_top 2 accuracy: 0.7650 - val_top 3 accuracy: 1.0000 - val_top 5 accuracy: 1.0000 - lr: 0.0010\n",
      "Epoch 25/100\n",
      "4207/4207 [==============================] - 267s 63ms/step - loss: 0.0120 - accuracy: 0.9960 - precision: 0.9961 - recall: 0.9960 - auc: 0.9998 - top 2 accuracy: 0.9999 - top 3 accuracy: 1.0000 - top 5 accuracy: 1.0000 - val_loss: 5.7355 - val_accuracy: 0.4052 - val_precision: 0.4057 - val_recall: 0.4038 - val_auc: 0.5782 - val_top 2 accuracy: 0.7911 - val_top 3 accuracy: 1.0000 - val_top 5 accuracy: 1.0000 - lr: 0.0010\n",
      "Epoch 26/100\n",
      "4207/4207 [==============================] - 266s 63ms/step - loss: 0.0122 - accuracy: 0.9958 - precision: 0.9958 - recall: 0.9957 - auc: 0.9998 - top 2 accuracy: 0.9999 - top 3 accuracy: 1.0000 - top 5 accuracy: 1.0000 - val_loss: 5.7942 - val_accuracy: 0.3898 - val_precision: 0.3903 - val_recall: 0.3874 - val_auc: 0.5615 - val_top 2 accuracy: 0.7430 - val_top 3 accuracy: 1.0000 - val_top 5 accuracy: 1.0000 - lr: 0.0010\n",
      "Epoch 27/100\n",
      "4207/4207 [==============================] - 266s 63ms/step - loss: 0.0106 - accuracy: 0.9964 - precision: 0.9965 - recall: 0.9964 - auc: 0.9998 - top 2 accuracy: 0.9999 - top 3 accuracy: 1.0000 - top 5 accuracy: 1.0000 - val_loss: 6.1080 - val_accuracy: 0.4092 - val_precision: 0.4089 - val_recall: 0.4069 - val_auc: 0.5774 - val_top 2 accuracy: 0.7576 - val_top 3 accuracy: 1.0000 - val_top 5 accuracy: 1.0000 - lr: 0.0010\n",
      "Epoch 28/100\n",
      "4207/4207 [==============================] - 266s 63ms/step - loss: 0.0107 - accuracy: 0.9965 - precision: 0.9966 - recall: 0.9965 - auc: 0.9998 - top 2 accuracy: 0.9998 - top 3 accuracy: 1.0000 - top 5 accuracy: 1.0000 - val_loss: 5.8910 - val_accuracy: 0.4037 - val_precision: 0.4038 - val_recall: 0.4012 - val_auc: 0.5720 - val_top 2 accuracy: 0.7547 - val_top 3 accuracy: 1.0000 - val_top 5 accuracy: 1.0000 - lr: 0.0010\n",
      "Epoch 29/100\n",
      "4207/4207 [==============================] - 266s 63ms/step - loss: 0.0101 - accuracy: 0.9965 - precision: 0.9965 - recall: 0.9965 - auc: 0.9999 - top 2 accuracy: 0.9999 - top 3 accuracy: 1.0000 - top 5 accuracy: 1.0000 - val_loss: 5.3755 - val_accuracy: 0.4082 - val_precision: 0.4085 - val_recall: 0.4058 - val_auc: 0.5792 - val_top 2 accuracy: 0.7832 - val_top 3 accuracy: 1.0000 - val_top 5 accuracy: 1.0000 - lr: 0.0010\n",
      "Epoch 30/100\n",
      "4207/4207 [==============================] - 266s 63ms/step - loss: 0.0105 - accuracy: 0.9965 - precision: 0.9965 - recall: 0.9964 - auc: 0.9998 - top 2 accuracy: 0.9999 - top 3 accuracy: 1.0000 - top 5 accuracy: 1.0000 - val_loss: 5.8553 - val_accuracy: 0.4053 - val_precision: 0.4060 - val_recall: 0.4035 - val_auc: 0.5755 - val_top 2 accuracy: 0.7688 - val_top 3 accuracy: 1.0000 - val_top 5 accuracy: 1.0000 - lr: 0.0010\n",
      "Epoch 31/100\n",
      "4207/4207 [==============================] - 266s 63ms/step - loss: 0.0094 - accuracy: 0.9966 - precision: 0.9967 - recall: 0.9966 - auc: 0.9999 - top 2 accuracy: 0.9999 - top 3 accuracy: 1.0000 - top 5 accuracy: 1.0000 - val_loss: 6.6936 - val_accuracy: 0.3895 - val_precision: 0.3896 - val_recall: 0.3881 - val_auc: 0.5589 - val_top 2 accuracy: 0.7606 - val_top 3 accuracy: 1.0000 - val_top 5 accuracy: 1.0000 - lr: 0.0010\n",
      "Epoch 32/100\n",
      "4207/4207 [==============================] - 266s 63ms/step - loss: 0.0092 - accuracy: 0.9968 - precision: 0.9968 - recall: 0.9968 - auc: 0.9999 - top 2 accuracy: 0.9999 - top 3 accuracy: 1.0000 - top 5 accuracy: 1.0000 - val_loss: 6.3215 - val_accuracy: 0.4032 - val_precision: 0.4035 - val_recall: 0.4017 - val_auc: 0.5700 - val_top 2 accuracy: 0.7660 - val_top 3 accuracy: 1.0000 - val_top 5 accuracy: 1.0000 - lr: 0.0010\n",
      "Epoch 33/100\n",
      "4207/4207 [==============================] - 266s 63ms/step - loss: 0.0091 - accuracy: 0.9970 - precision: 0.9970 - recall: 0.9969 - auc: 0.9998 - top 2 accuracy: 0.9999 - top 3 accuracy: 1.0000 - top 5 accuracy: 1.0000 - val_loss: 7.1122 - val_accuracy: 0.3884 - val_precision: 0.3884 - val_recall: 0.3868 - val_auc: 0.5539 - val_top 2 accuracy: 0.7486 - val_top 3 accuracy: 1.0000 - val_top 5 accuracy: 1.0000 - lr: 0.0010\n",
      "Epoch 34/100\n",
      "4207/4207 [==============================] - 266s 63ms/step - loss: 0.0089 - accuracy: 0.9970 - precision: 0.9971 - recall: 0.9970 - auc: 0.9999 - top 2 accuracy: 0.9999 - top 3 accuracy: 1.0000 - top 5 accuracy: 1.0000 - val_loss: 5.7750 - val_accuracy: 0.3981 - val_precision: 0.3981 - val_recall: 0.3955 - val_auc: 0.5706 - val_top 2 accuracy: 0.7565 - val_top 3 accuracy: 1.0000 - val_top 5 accuracy: 1.0000 - lr: 0.0010\n",
      "Epoch 35/100\n",
      "4207/4207 [==============================] - 267s 63ms/step - loss: 0.0087 - accuracy: 0.9969 - precision: 0.9970 - recall: 0.9969 - auc: 0.9998 - top 2 accuracy: 0.9999 - top 3 accuracy: 1.0000 - top 5 accuracy: 1.0000 - val_loss: 6.0629 - val_accuracy: 0.3718 - val_precision: 0.3718 - val_recall: 0.3697 - val_auc: 0.5484 - val_top 2 accuracy: 0.7244 - val_top 3 accuracy: 1.0000 - val_top 5 accuracy: 1.0000 - lr: 0.0010\n",
      "Epoch 36/100\n",
      "4207/4207 [==============================] - 266s 63ms/step - loss: 0.0078 - accuracy: 0.9973 - precision: 0.9973 - recall: 0.9973 - auc: 0.9999 - top 2 accuracy: 0.9999 - top 3 accuracy: 1.0000 - top 5 accuracy: 1.0000 - val_loss: 5.8210 - val_accuracy: 0.4099 - val_precision: 0.4105 - val_recall: 0.4085 - val_auc: 0.5767 - val_top 2 accuracy: 0.7784 - val_top 3 accuracy: 1.0000 - val_top 5 accuracy: 1.0000 - lr: 0.0010\n",
      "Epoch 37/100\n",
      "4207/4207 [==============================] - 267s 63ms/step - loss: 0.0079 - accuracy: 0.9973 - precision: 0.9974 - recall: 0.9973 - auc: 0.9999 - top 2 accuracy: 0.9999 - top 3 accuracy: 1.0000 - top 5 accuracy: 1.0000 - val_loss: 6.3304 - val_accuracy: 0.4041 - val_precision: 0.4044 - val_recall: 0.4030 - val_auc: 0.5726 - val_top 2 accuracy: 0.7738 - val_top 3 accuracy: 1.0000 - val_top 5 accuracy: 1.0000 - lr: 0.0010\n",
      "Epoch 38/100\n",
      "4207/4207 [==============================] - 266s 63ms/step - loss: 0.0071 - accuracy: 0.9975 - precision: 0.9976 - recall: 0.9975 - auc: 0.9999 - top 2 accuracy: 0.9999 - top 3 accuracy: 1.0000 - top 5 accuracy: 1.0000 - val_loss: 6.0549 - val_accuracy: 0.4090 - val_precision: 0.4089 - val_recall: 0.4070 - val_auc: 0.5773 - val_top 2 accuracy: 0.7684 - val_top 3 accuracy: 1.0000 - val_top 5 accuracy: 1.0000 - lr: 0.0010\n",
      "Epoch 39/100\n",
      "4207/4207 [==============================] - 266s 63ms/step - loss: 0.0077 - accuracy: 0.9973 - precision: 0.9973 - recall: 0.9973 - auc: 0.9999 - top 2 accuracy: 1.0000 - top 3 accuracy: 1.0000 - top 5 accuracy: 1.0000 - val_loss: 6.1788 - val_accuracy: 0.3938 - val_precision: 0.3943 - val_recall: 0.3920 - val_auc: 0.5614 - val_top 2 accuracy: 0.7486 - val_top 3 accuracy: 1.0000 - val_top 5 accuracy: 1.0000 - lr: 0.0010\n",
      "Epoch 40/100\n",
      "4207/4207 [==============================] - 267s 63ms/step - loss: 0.0078 - accuracy: 0.9975 - precision: 0.9976 - recall: 0.9975 - auc: 0.9999 - top 2 accuracy: 0.9999 - top 3 accuracy: 1.0000 - top 5 accuracy: 1.0000 - val_loss: 6.5429 - val_accuracy: 0.3862 - val_precision: 0.3862 - val_recall: 0.3849 - val_auc: 0.5542 - val_top 2 accuracy: 0.7548 - val_top 3 accuracy: 1.0000 - val_top 5 accuracy: 1.0000 - lr: 0.0010\n",
      "Epoch 41/100\n",
      "4207/4207 [==============================] - 266s 63ms/step - loss: 0.0067 - accuracy: 0.9976 - precision: 0.9976 - recall: 0.9976 - auc: 0.9999 - top 2 accuracy: 1.0000 - top 3 accuracy: 1.0000 - top 5 accuracy: 1.0000 - val_loss: 7.1899 - val_accuracy: 0.3855 - val_precision: 0.3858 - val_recall: 0.3838 - val_auc: 0.5527 - val_top 2 accuracy: 0.7508 - val_top 3 accuracy: 1.0000 - val_top 5 accuracy: 1.0000 - lr: 0.0010\n",
      "Epoch 42/100\n",
      "4207/4207 [==============================] - 266s 63ms/step - loss: 0.0070 - accuracy: 0.9976 - precision: 0.9976 - recall: 0.9975 - auc: 0.9999 - top 2 accuracy: 0.9999 - top 3 accuracy: 1.0000 - top 5 accuracy: 1.0000 - val_loss: 5.9466 - val_accuracy: 0.4227 - val_precision: 0.4234 - val_recall: 0.4212 - val_auc: 0.5875 - val_top 2 accuracy: 0.7499 - val_top 3 accuracy: 1.0000 - val_top 5 accuracy: 1.0000 - lr: 0.0010\n",
      "Epoch 43/100\n",
      "4207/4207 [==============================] - 266s 63ms/step - loss: 0.0065 - accuracy: 0.9978 - precision: 0.9978 - recall: 0.9978 - auc: 0.9999 - top 2 accuracy: 0.9999 - top 3 accuracy: 1.0000 - top 5 accuracy: 1.0000 - val_loss: 6.2171 - val_accuracy: 0.3905 - val_precision: 0.3907 - val_recall: 0.3888 - val_auc: 0.5603 - val_top 2 accuracy: 0.7770 - val_top 3 accuracy: 1.0000 - val_top 5 accuracy: 1.0000 - lr: 0.0010\n",
      "Epoch 44/100\n",
      "4207/4207 [==============================] - 267s 63ms/step - loss: 0.0063 - accuracy: 0.9979 - precision: 0.9979 - recall: 0.9979 - auc: 0.9999 - top 2 accuracy: 0.9999 - top 3 accuracy: 1.0000 - top 5 accuracy: 1.0000 - val_loss: 6.1867 - val_accuracy: 0.4053 - val_precision: 0.4054 - val_recall: 0.4037 - val_auc: 0.5742 - val_top 2 accuracy: 0.7774 - val_top 3 accuracy: 1.0000 - val_top 5 accuracy: 1.0000 - lr: 0.0010\n",
      "Epoch 45/100\n",
      "4207/4207 [==============================] - 267s 63ms/step - loss: 0.0066 - accuracy: 0.9977 - precision: 0.9977 - recall: 0.9977 - auc: 0.9999 - top 2 accuracy: 0.9999 - top 3 accuracy: 1.0000 - top 5 accuracy: 1.0000 - val_loss: 6.7732 - val_accuracy: 0.3901 - val_precision: 0.3906 - val_recall: 0.3890 - val_auc: 0.5606 - val_top 2 accuracy: 0.7670 - val_top 3 accuracy: 1.0000 - val_top 5 accuracy: 1.0000 - lr: 0.0010\n",
      "Epoch 46/100\n",
      "4207/4207 [==============================] - 267s 63ms/step - loss: 0.0067 - accuracy: 0.9978 - precision: 0.9978 - recall: 0.9978 - auc: 0.9999 - top 2 accuracy: 1.0000 - top 3 accuracy: 1.0000 - top 5 accuracy: 1.0000 - val_loss: 6.3290 - val_accuracy: 0.3921 - val_precision: 0.3924 - val_recall: 0.3903 - val_auc: 0.5597 - val_top 2 accuracy: 0.7746 - val_top 3 accuracy: 1.0000 - val_top 5 accuracy: 1.0000 - lr: 0.0010\n",
      "Epoch 47/100\n",
      "4207/4207 [==============================] - 266s 63ms/step - loss: 0.0056 - accuracy: 0.9982 - precision: 0.9982 - recall: 0.9982 - auc: 0.9999 - top 2 accuracy: 0.9999 - top 3 accuracy: 1.0000 - top 5 accuracy: 1.0000 - val_loss: 6.7113 - val_accuracy: 0.3986 - val_precision: 0.3986 - val_recall: 0.3971 - val_auc: 0.5694 - val_top 2 accuracy: 0.7585 - val_top 3 accuracy: 1.0000 - val_top 5 accuracy: 1.0000 - lr: 0.0010\n",
      "Epoch 48/100\n",
      "4207/4207 [==============================] - 266s 63ms/step - loss: 0.0063 - accuracy: 0.9981 - precision: 0.9981 - recall: 0.9981 - auc: 0.9999 - top 2 accuracy: 0.9999 - top 3 accuracy: 1.0000 - top 5 accuracy: 1.0000 - val_loss: 6.4416 - val_accuracy: 0.4235 - val_precision: 0.4240 - val_recall: 0.4220 - val_auc: 0.5871 - val_top 2 accuracy: 0.7872 - val_top 3 accuracy: 1.0000 - val_top 5 accuracy: 1.0000 - lr: 0.0010\n",
      "Epoch 49/100\n",
      "4207/4207 [==============================] - 267s 64ms/step - loss: 0.0049 - accuracy: 0.9983 - precision: 0.9983 - recall: 0.9983 - auc: 0.9999 - top 2 accuracy: 0.9999 - top 3 accuracy: 1.0000 - top 5 accuracy: 1.0000 - val_loss: 7.2126 - val_accuracy: 0.3934 - val_precision: 0.3935 - val_recall: 0.3923 - val_auc: 0.5608 - val_top 2 accuracy: 0.7693 - val_top 3 accuracy: 1.0000 - val_top 5 accuracy: 1.0000 - lr: 0.0010\n",
      "Epoch 50/100\n",
      "4207/4207 [==============================] - 267s 63ms/step - loss: 0.0059 - accuracy: 0.9981 - precision: 0.9981 - recall: 0.9981 - auc: 0.9999 - top 2 accuracy: 0.9999 - top 3 accuracy: 1.0000 - top 5 accuracy: 1.0000 - val_loss: 6.7344 - val_accuracy: 0.3998 - val_precision: 0.4001 - val_recall: 0.3987 - val_auc: 0.5639 - val_top 2 accuracy: 0.7659 - val_top 3 accuracy: 1.0000 - val_top 5 accuracy: 1.0000 - lr: 0.0010\n",
      "Epoch 51/100\n",
      "4207/4207 [==============================] - 268s 64ms/step - loss: 0.0065 - accuracy: 0.9979 - precision: 0.9979 - recall: 0.9979 - auc: 0.9999 - top 2 accuracy: 0.9999 - top 3 accuracy: 1.0000 - top 5 accuracy: 1.0000 - val_loss: 6.9902 - val_accuracy: 0.3858 - val_precision: 0.3861 - val_recall: 0.3842 - val_auc: 0.5534 - val_top 2 accuracy: 0.7484 - val_top 3 accuracy: 1.0000 - val_top 5 accuracy: 1.0000 - lr: 0.0010\n",
      "Epoch 52/100\n",
      "4207/4207 [==============================] - 268s 64ms/step - loss: 0.0054 - accuracy: 0.9982 - precision: 0.9983 - recall: 0.9982 - auc: 0.9999 - top 2 accuracy: 0.9999 - top 3 accuracy: 1.0000 - top 5 accuracy: 1.0000 - val_loss: 6.3942 - val_accuracy: 0.4143 - val_precision: 0.4146 - val_recall: 0.4129 - val_auc: 0.5797 - val_top 2 accuracy: 0.7748 - val_top 3 accuracy: 1.0000 - val_top 5 accuracy: 1.0000 - lr: 0.0010\n",
      "Epoch 53/100\n",
      "4207/4207 [==============================] - 268s 64ms/step - loss: 0.0052 - accuracy: 0.9984 - precision: 0.9984 - recall: 0.9983 - auc: 0.9999 - top 2 accuracy: 1.0000 - top 3 accuracy: 1.0000 - top 5 accuracy: 1.0000 - val_loss: 7.4421 - val_accuracy: 0.3697 - val_precision: 0.3700 - val_recall: 0.3686 - val_auc: 0.5378 - val_top 2 accuracy: 0.7455 - val_top 3 accuracy: 1.0000 - val_top 5 accuracy: 1.0000 - lr: 0.0010\n",
      "Epoch 54/100\n",
      "4207/4207 [==============================] - 267s 64ms/step - loss: 0.0056 - accuracy: 0.9982 - precision: 0.9982 - recall: 0.9982 - auc: 0.9999 - top 2 accuracy: 1.0000 - top 3 accuracy: 1.0000 - top 5 accuracy: 1.0000 - val_loss: 7.1653 - val_accuracy: 0.3920 - val_precision: 0.3919 - val_recall: 0.3902 - val_auc: 0.5552 - val_top 2 accuracy: 0.7497 - val_top 3 accuracy: 1.0000 - val_top 5 accuracy: 1.0000 - lr: 0.0010\n",
      "Epoch 55/100\n",
      "4207/4207 [==============================] - 267s 64ms/step - loss: 0.0059 - accuracy: 0.9980 - precision: 0.9980 - recall: 0.9980 - auc: 0.9999 - top 2 accuracy: 0.9999 - top 3 accuracy: 1.0000 - top 5 accuracy: 1.0000 - val_loss: 6.3853 - val_accuracy: 0.4035 - val_precision: 0.4038 - val_recall: 0.4019 - val_auc: 0.5688 - val_top 2 accuracy: 0.7654 - val_top 3 accuracy: 1.0000 - val_top 5 accuracy: 1.0000 - lr: 0.0010\n",
      "Epoch 56/100\n",
      "4207/4207 [==============================] - 268s 64ms/step - loss: 0.0047 - accuracy: 0.9985 - precision: 0.9985 - recall: 0.9984 - auc: 0.9999 - top 2 accuracy: 1.0000 - top 3 accuracy: 1.0000 - top 5 accuracy: 1.0000 - val_loss: 6.9188 - val_accuracy: 0.3844 - val_precision: 0.3847 - val_recall: 0.3829 - val_auc: 0.5566 - val_top 2 accuracy: 0.7555 - val_top 3 accuracy: 1.0000 - val_top 5 accuracy: 1.0000 - lr: 0.0010\n",
      "Epoch 57/100\n",
      "4207/4207 [==============================] - 267s 64ms/step - loss: 0.0047 - accuracy: 0.9983 - precision: 0.9983 - recall: 0.9983 - auc: 0.9999 - top 2 accuracy: 1.0000 - top 3 accuracy: 1.0000 - top 5 accuracy: 1.0000 - val_loss: 6.7665 - val_accuracy: 0.4180 - val_precision: 0.4182 - val_recall: 0.4170 - val_auc: 0.5815 - val_top 2 accuracy: 0.7722 - val_top 3 accuracy: 1.0000 - val_top 5 accuracy: 1.0000 - lr: 0.0010\n",
      "Epoch 58/100\n",
      "4207/4207 [==============================] - 268s 64ms/step - loss: 0.0054 - accuracy: 0.9982 - precision: 0.9982 - recall: 0.9982 - auc: 0.9999 - top 2 accuracy: 1.0000 - top 3 accuracy: 1.0000 - top 5 accuracy: 1.0000 - val_loss: 6.9091 - val_accuracy: 0.4093 - val_precision: 0.4097 - val_recall: 0.4086 - val_auc: 0.5745 - val_top 2 accuracy: 0.7767 - val_top 3 accuracy: 1.0000 - val_top 5 accuracy: 1.0000 - lr: 0.0010\n",
      "Epoch 59/100\n",
      "4207/4207 [==============================] - 268s 64ms/step - loss: 0.0043 - accuracy: 0.9986 - precision: 0.9986 - recall: 0.9986 - auc: 0.9999 - top 2 accuracy: 1.0000 - top 3 accuracy: 1.0000 - top 5 accuracy: 1.0000 - val_loss: 7.9536 - val_accuracy: 0.3869 - val_precision: 0.3868 - val_recall: 0.3857 - val_auc: 0.5549 - val_top 2 accuracy: 0.7685 - val_top 3 accuracy: 1.0000 - val_top 5 accuracy: 1.0000 - lr: 0.0010\n",
      "Epoch 60/100\n",
      "4207/4207 [==============================] - 268s 64ms/step - loss: 0.0048 - accuracy: 0.9984 - precision: 0.9984 - recall: 0.9984 - auc: 0.9999 - top 2 accuracy: 1.0000 - top 3 accuracy: 1.0000 - top 5 accuracy: 1.0000 - val_loss: 7.8911 - val_accuracy: 0.3782 - val_precision: 0.3784 - val_recall: 0.3771 - val_auc: 0.5458 - val_top 2 accuracy: 0.7327 - val_top 3 accuracy: 1.0000 - val_top 5 accuracy: 1.0000 - lr: 0.0010\n",
      "Epoch 61/100\n",
      "4207/4207 [==============================] - 268s 64ms/step - loss: 0.0049 - accuracy: 0.9983 - precision: 0.9983 - recall: 0.9983 - auc: 0.9999 - top 2 accuracy: 1.0000 - top 3 accuracy: 1.0000 - top 5 accuracy: 1.0000 - val_loss: 6.7512 - val_accuracy: 0.4083 - val_precision: 0.4086 - val_recall: 0.4071 - val_auc: 0.5773 - val_top 2 accuracy: 0.7815 - val_top 3 accuracy: 1.0000 - val_top 5 accuracy: 1.0000 - lr: 0.0010\n",
      "Epoch 62/100\n",
      "4207/4207 [==============================] - 268s 64ms/step - loss: 0.0042 - accuracy: 0.9985 - precision: 0.9985 - recall: 0.9985 - auc: 1.0000 - top 2 accuracy: 0.9999 - top 3 accuracy: 1.0000 - top 5 accuracy: 1.0000 - val_loss: 6.4863 - val_accuracy: 0.3927 - val_precision: 0.3936 - val_recall: 0.3915 - val_auc: 0.5606 - val_top 2 accuracy: 0.7577 - val_top 3 accuracy: 1.0000 - val_top 5 accuracy: 1.0000 - lr: 0.0010\n",
      "Epoch 63/100\n",
      "4207/4207 [==============================] - 268s 64ms/step - loss: 0.0047 - accuracy: 0.9984 - precision: 0.9984 - recall: 0.9984 - auc: 0.9999 - top 2 accuracy: 1.0000 - top 3 accuracy: 1.0000 - top 5 accuracy: 1.0000 - val_loss: 7.4671 - val_accuracy: 0.3954 - val_precision: 0.3956 - val_recall: 0.3944 - val_auc: 0.5634 - val_top 2 accuracy: 0.7664 - val_top 3 accuracy: 1.0000 - val_top 5 accuracy: 1.0000 - lr: 0.0010\n",
      "Epoch 64/100\n",
      "4207/4207 [==============================] - 268s 64ms/step - loss: 0.0044 - accuracy: 0.9985 - precision: 0.9985 - recall: 0.9985 - auc: 0.9999 - top 2 accuracy: 1.0000 - top 3 accuracy: 1.0000 - top 5 accuracy: 1.0000 - val_loss: 6.7968 - val_accuracy: 0.4022 - val_precision: 0.4024 - val_recall: 0.4007 - val_auc: 0.5700 - val_top 2 accuracy: 0.7690 - val_top 3 accuracy: 1.0000 - val_top 5 accuracy: 1.0000 - lr: 0.0010\n",
      "Epoch 65/100\n",
      "4207/4207 [==============================] - 268s 64ms/step - loss: 0.0044 - accuracy: 0.9985 - precision: 0.9985 - recall: 0.9985 - auc: 0.9999 - top 2 accuracy: 1.0000 - top 3 accuracy: 1.0000 - top 5 accuracy: 1.0000 - val_loss: 7.0597 - val_accuracy: 0.4073 - val_precision: 0.4079 - val_recall: 0.4063 - val_auc: 0.5735 - val_top 2 accuracy: 0.7698 - val_top 3 accuracy: 1.0000 - val_top 5 accuracy: 1.0000 - lr: 0.0010\n",
      "Epoch 66/100\n",
      "4207/4207 [==============================] - 268s 64ms/step - loss: 0.0041 - accuracy: 0.9985 - precision: 0.9985 - recall: 0.9985 - auc: 1.0000 - top 2 accuracy: 1.0000 - top 3 accuracy: 1.0000 - top 5 accuracy: 1.0000 - val_loss: 6.4358 - val_accuracy: 0.4005 - val_precision: 0.4008 - val_recall: 0.3991 - val_auc: 0.5693 - val_top 2 accuracy: 0.7464 - val_top 3 accuracy: 1.0000 - val_top 5 accuracy: 1.0000 - lr: 0.0010\n",
      "Epoch 67/100\n",
      "4207/4207 [==============================] - 268s 64ms/step - loss: 0.0044 - accuracy: 0.9985 - precision: 0.9985 - recall: 0.9985 - auc: 0.9999 - top 2 accuracy: 1.0000 - top 3 accuracy: 1.0000 - top 5 accuracy: 1.0000 - val_loss: 7.6308 - val_accuracy: 0.4106 - val_precision: 0.4108 - val_recall: 0.4096 - val_auc: 0.5726 - val_top 2 accuracy: 0.7439 - val_top 3 accuracy: 1.0000 - val_top 5 accuracy: 1.0000 - lr: 0.0010\n",
      "Epoch 68/100\n",
      "4207/4207 [==============================] - 268s 64ms/step - loss: 0.0048 - accuracy: 0.9984 - precision: 0.9984 - recall: 0.9984 - auc: 0.9999 - top 2 accuracy: 1.0000 - top 3 accuracy: 1.0000 - top 5 accuracy: 1.0000 - val_loss: 6.5450 - val_accuracy: 0.3798 - val_precision: 0.3797 - val_recall: 0.3782 - val_auc: 0.5544 - val_top 2 accuracy: 0.7736 - val_top 3 accuracy: 1.0000 - val_top 5 accuracy: 1.0000 - lr: 0.0010\n",
      "Epoch 69/100\n",
      "4207/4207 [==============================] - 268s 64ms/step - loss: 0.0037 - accuracy: 0.9988 - precision: 0.9988 - recall: 0.9988 - auc: 0.9999 - top 2 accuracy: 1.0000 - top 3 accuracy: 1.0000 - top 5 accuracy: 1.0000 - val_loss: 7.0045 - val_accuracy: 0.4101 - val_precision: 0.4108 - val_recall: 0.4093 - val_auc: 0.5740 - val_top 2 accuracy: 0.7629 - val_top 3 accuracy: 1.0000 - val_top 5 accuracy: 1.0000 - lr: 0.0010\n",
      "Epoch 70/100\n",
      "4207/4207 [==============================] - 268s 64ms/step - loss: 0.0046 - accuracy: 0.9984 - precision: 0.9985 - recall: 0.9984 - auc: 0.9999 - top 2 accuracy: 1.0000 - top 3 accuracy: 1.0000 - top 5 accuracy: 1.0000 - val_loss: 6.6779 - val_accuracy: 0.4100 - val_precision: 0.4102 - val_recall: 0.4091 - val_auc: 0.5761 - val_top 2 accuracy: 0.7755 - val_top 3 accuracy: 1.0000 - val_top 5 accuracy: 1.0000 - lr: 0.0010\n",
      "Epoch 71/100\n",
      "4207/4207 [==============================] - 268s 64ms/step - loss: 0.0041 - accuracy: 0.9988 - precision: 0.9988 - recall: 0.9988 - auc: 0.9999 - top 2 accuracy: 1.0000 - top 3 accuracy: 1.0000 - top 5 accuracy: 1.0000 - val_loss: 6.7634 - val_accuracy: 0.3983 - val_precision: 0.3989 - val_recall: 0.3971 - val_auc: 0.5649 - val_top 2 accuracy: 0.7764 - val_top 3 accuracy: 1.0000 - val_top 5 accuracy: 1.0000 - lr: 0.0010\n",
      "Epoch 72/100\n",
      "4207/4207 [==============================] - 268s 64ms/step - loss: 0.0037 - accuracy: 0.9988 - precision: 0.9988 - recall: 0.9988 - auc: 0.9999 - top 2 accuracy: 1.0000 - top 3 accuracy: 1.0000 - top 5 accuracy: 1.0000 - val_loss: 6.4789 - val_accuracy: 0.4002 - val_precision: 0.4006 - val_recall: 0.3990 - val_auc: 0.5727 - val_top 2 accuracy: 0.7741 - val_top 3 accuracy: 1.0000 - val_top 5 accuracy: 1.0000 - lr: 0.0010\n",
      "Epoch 73/100\n",
      "4207/4207 [==============================] - 268s 64ms/step - loss: 0.0036 - accuracy: 0.9988 - precision: 0.9988 - recall: 0.9988 - auc: 0.9999 - top 2 accuracy: 1.0000 - top 3 accuracy: 1.0000 - top 5 accuracy: 1.0000 - val_loss: 7.0997 - val_accuracy: 0.3951 - val_precision: 0.3952 - val_recall: 0.3934 - val_auc: 0.5624 - val_top 2 accuracy: 0.7631 - val_top 3 accuracy: 1.0000 - val_top 5 accuracy: 1.0000 - lr: 0.0010\n",
      "Epoch 74/100\n",
      "4207/4207 [==============================] - 268s 64ms/step - loss: 0.0040 - accuracy: 0.9987 - precision: 0.9987 - recall: 0.9987 - auc: 0.9999 - top 2 accuracy: 1.0000 - top 3 accuracy: 1.0000 - top 5 accuracy: 1.0000 - val_loss: 7.1050 - val_accuracy: 0.4094 - val_precision: 0.4097 - val_recall: 0.4083 - val_auc: 0.5744 - val_top 2 accuracy: 0.7868 - val_top 3 accuracy: 1.0000 - val_top 5 accuracy: 1.0000 - lr: 0.0010\n",
      "Epoch 75/100\n",
      "4207/4207 [==============================] - 267s 64ms/step - loss: 0.0032 - accuracy: 0.9990 - precision: 0.9990 - recall: 0.9990 - auc: 0.9999 - top 2 accuracy: 1.0000 - top 3 accuracy: 1.0000 - top 5 accuracy: 1.0000 - val_loss: 7.4294 - val_accuracy: 0.4160 - val_precision: 0.4163 - val_recall: 0.4145 - val_auc: 0.5758 - val_top 2 accuracy: 0.7744 - val_top 3 accuracy: 1.0000 - val_top 5 accuracy: 1.0000 - lr: 0.0010\n",
      "Epoch 76/100\n",
      "4207/4207 [==============================] - 268s 64ms/step - loss: 0.0048 - accuracy: 0.9983 - precision: 0.9984 - recall: 0.9983 - auc: 0.9999 - top 2 accuracy: 0.9999 - top 3 accuracy: 1.0000 - top 5 accuracy: 1.0000 - val_loss: 7.9522 - val_accuracy: 0.3993 - val_precision: 0.3994 - val_recall: 0.3984 - val_auc: 0.5653 - val_top 2 accuracy: 0.7513 - val_top 3 accuracy: 1.0000 - val_top 5 accuracy: 1.0000 - lr: 0.0010\n",
      "Epoch 77/100\n",
      "4207/4207 [==============================] - 268s 64ms/step - loss: 0.0035 - accuracy: 0.9988 - precision: 0.9988 - recall: 0.9988 - auc: 1.0000 - top 2 accuracy: 1.0000 - top 3 accuracy: 1.0000 - top 5 accuracy: 1.0000 - val_loss: 7.6276 - val_accuracy: 0.4086 - val_precision: 0.4088 - val_recall: 0.4076 - val_auc: 0.5726 - val_top 2 accuracy: 0.7707 - val_top 3 accuracy: 1.0000 - val_top 5 accuracy: 1.0000 - lr: 0.0010\n",
      "Epoch 78/100\n",
      "4207/4207 [==============================] - 268s 64ms/step - loss: 0.0033 - accuracy: 0.9989 - precision: 0.9989 - recall: 0.9989 - auc: 0.9999 - top 2 accuracy: 1.0000 - top 3 accuracy: 1.0000 - top 5 accuracy: 1.0000 - val_loss: 7.6806 - val_accuracy: 0.3847 - val_precision: 0.3849 - val_recall: 0.3834 - val_auc: 0.5483 - val_top 2 accuracy: 0.7407 - val_top 3 accuracy: 1.0000 - val_top 5 accuracy: 1.0000 - lr: 0.0010\n",
      "Epoch 79/100\n",
      "4207/4207 [==============================] - 268s 64ms/step - loss: 0.0035 - accuracy: 0.9988 - precision: 0.9988 - recall: 0.9988 - auc: 1.0000 - top 2 accuracy: 1.0000 - top 3 accuracy: 1.0000 - top 5 accuracy: 1.0000 - val_loss: 7.9391 - val_accuracy: 0.3793 - val_precision: 0.3796 - val_recall: 0.3784 - val_auc: 0.5460 - val_top 2 accuracy: 0.7412 - val_top 3 accuracy: 1.0000 - val_top 5 accuracy: 1.0000 - lr: 0.0010\n",
      "Epoch 80/100\n",
      "4207/4207 [==============================] - 268s 64ms/step - loss: 0.0037 - accuracy: 0.9989 - precision: 0.9989 - recall: 0.9989 - auc: 0.9999 - top 2 accuracy: 1.0000 - top 3 accuracy: 1.0000 - top 5 accuracy: 1.0000 - val_loss: 8.6085 - val_accuracy: 0.4201 - val_precision: 0.4201 - val_recall: 0.4193 - val_auc: 0.5776 - val_top 2 accuracy: 0.7862 - val_top 3 accuracy: 1.0000 - val_top 5 accuracy: 1.0000 - lr: 0.0010\n",
      "Epoch 81/100\n",
      "4207/4207 [==============================] - 268s 64ms/step - loss: 0.0040 - accuracy: 0.9987 - precision: 0.9987 - recall: 0.9987 - auc: 0.9999 - top 2 accuracy: 1.0000 - top 3 accuracy: 1.0000 - top 5 accuracy: 1.0000 - val_loss: 7.4953 - val_accuracy: 0.4082 - val_precision: 0.4082 - val_recall: 0.4069 - val_auc: 0.5755 - val_top 2 accuracy: 0.7430 - val_top 3 accuracy: 1.0000 - val_top 5 accuracy: 1.0000 - lr: 0.0010\n",
      "Epoch 82/100\n",
      "4207/4207 [==============================] - 268s 64ms/step - loss: 0.0037 - accuracy: 0.9988 - precision: 0.9989 - recall: 0.9988 - auc: 0.9999 - top 2 accuracy: 1.0000 - top 3 accuracy: 1.0000 - top 5 accuracy: 1.0000 - val_loss: 6.5619 - val_accuracy: 0.4147 - val_precision: 0.4149 - val_recall: 0.4133 - val_auc: 0.5789 - val_top 2 accuracy: 0.7675 - val_top 3 accuracy: 1.0000 - val_top 5 accuracy: 1.0000 - lr: 0.0010\n",
      "Epoch 83/100\n",
      "4207/4207 [==============================] - 268s 64ms/step - loss: 0.0034 - accuracy: 0.9989 - precision: 0.9989 - recall: 0.9989 - auc: 0.9999 - top 2 accuracy: 1.0000 - top 3 accuracy: 1.0000 - top 5 accuracy: 1.0000 - val_loss: 6.8589 - val_accuracy: 0.4081 - val_precision: 0.4086 - val_recall: 0.4072 - val_auc: 0.5743 - val_top 2 accuracy: 0.7653 - val_top 3 accuracy: 1.0000 - val_top 5 accuracy: 1.0000 - lr: 0.0010\n",
      "Epoch 84/100\n",
      "4207/4207 [==============================] - 268s 64ms/step - loss: 0.0034 - accuracy: 0.9989 - precision: 0.9989 - recall: 0.9989 - auc: 0.9999 - top 2 accuracy: 1.0000 - top 3 accuracy: 1.0000 - top 5 accuracy: 1.0000 - val_loss: 6.9969 - val_accuracy: 0.3914 - val_precision: 0.3915 - val_recall: 0.3900 - val_auc: 0.5605 - val_top 2 accuracy: 0.7587 - val_top 3 accuracy: 1.0000 - val_top 5 accuracy: 1.0000 - lr: 0.0010\n",
      "Epoch 85/100\n",
      "4207/4207 [==============================] - 268s 64ms/step - loss: 0.0031 - accuracy: 0.9991 - precision: 0.9991 - recall: 0.9991 - auc: 0.9999 - top 2 accuracy: 1.0000 - top 3 accuracy: 1.0000 - top 5 accuracy: 1.0000 - val_loss: 8.0254 - val_accuracy: 0.3657 - val_precision: 0.3659 - val_recall: 0.3644 - val_auc: 0.5321 - val_top 2 accuracy: 0.7149 - val_top 3 accuracy: 1.0000 - val_top 5 accuracy: 1.0000 - lr: 0.0010\n",
      "Epoch 86/100\n",
      "4207/4207 [==============================] - 267s 63ms/step - loss: 0.0036 - accuracy: 0.9989 - precision: 0.9989 - recall: 0.9989 - auc: 0.9999 - top 2 accuracy: 1.0000 - top 3 accuracy: 1.0000 - top 5 accuracy: 1.0000 - val_loss: 7.6862 - val_accuracy: 0.4071 - val_precision: 0.4069 - val_recall: 0.4057 - val_auc: 0.5703 - val_top 2 accuracy: 0.7689 - val_top 3 accuracy: 1.0000 - val_top 5 accuracy: 1.0000 - lr: 0.0010\n",
      "Epoch 87/100\n",
      "4207/4207 [==============================] - 267s 64ms/step - loss: 0.0029 - accuracy: 0.9990 - precision: 0.9990 - recall: 0.9990 - auc: 1.0000 - top 2 accuracy: 1.0000 - top 3 accuracy: 1.0000 - top 5 accuracy: 1.0000 - val_loss: 7.2165 - val_accuracy: 0.4019 - val_precision: 0.4023 - val_recall: 0.4009 - val_auc: 0.5687 - val_top 2 accuracy: 0.7504 - val_top 3 accuracy: 1.0000 - val_top 5 accuracy: 1.0000 - lr: 0.0010\n",
      "Epoch 88/100\n",
      "4207/4207 [==============================] - 267s 64ms/step - loss: 0.0036 - accuracy: 0.9988 - precision: 0.9988 - recall: 0.9988 - auc: 0.9999 - top 2 accuracy: 1.0000 - top 3 accuracy: 1.0000 - top 5 accuracy: 1.0000 - val_loss: 7.9476 - val_accuracy: 0.3974 - val_precision: 0.3976 - val_recall: 0.3964 - val_auc: 0.5622 - val_top 2 accuracy: 0.7662 - val_top 3 accuracy: 1.0000 - val_top 5 accuracy: 1.0000 - lr: 0.0010\n",
      "Epoch 89/100\n",
      "4207/4207 [==============================] - 267s 63ms/step - loss: 0.0034 - accuracy: 0.9989 - precision: 0.9989 - recall: 0.9989 - auc: 0.9999 - top 2 accuracy: 1.0000 - top 3 accuracy: 1.0000 - top 5 accuracy: 1.0000 - val_loss: 8.5126 - val_accuracy: 0.3919 - val_precision: 0.3922 - val_recall: 0.3912 - val_auc: 0.5572 - val_top 2 accuracy: 0.7373 - val_top 3 accuracy: 1.0000 - val_top 5 accuracy: 1.0000 - lr: 0.0010\n",
      "Epoch 90/100\n",
      "4207/4207 [==============================] - 268s 64ms/step - loss: 0.0032 - accuracy: 0.9988 - precision: 0.9988 - recall: 0.9988 - auc: 1.0000 - top 2 accuracy: 1.0000 - top 3 accuracy: 1.0000 - top 5 accuracy: 1.0000 - val_loss: 7.6664 - val_accuracy: 0.4056 - val_precision: 0.4060 - val_recall: 0.4050 - val_auc: 0.5700 - val_top 2 accuracy: 0.7722 - val_top 3 accuracy: 1.0000 - val_top 5 accuracy: 1.0000 - lr: 0.0010\n",
      "Epoch 91/100\n",
      "4207/4207 [==============================] - 268s 64ms/step - loss: 0.0035 - accuracy: 0.9989 - precision: 0.9989 - recall: 0.9989 - auc: 0.9999 - top 2 accuracy: 1.0000 - top 3 accuracy: 1.0000 - top 5 accuracy: 1.0000 - val_loss: 7.3876 - val_accuracy: 0.4036 - val_precision: 0.4036 - val_recall: 0.4023 - val_auc: 0.5699 - val_top 2 accuracy: 0.7841 - val_top 3 accuracy: 1.0000 - val_top 5 accuracy: 1.0000 - lr: 0.0010\n",
      "Epoch 92/100\n",
      "4207/4207 [==============================] - 268s 64ms/step - loss: 0.0028 - accuracy: 0.9990 - precision: 0.9990 - recall: 0.9990 - auc: 1.0000 - top 2 accuracy: 1.0000 - top 3 accuracy: 1.0000 - top 5 accuracy: 1.0000 - val_loss: 7.4573 - val_accuracy: 0.3815 - val_precision: 0.3815 - val_recall: 0.3800 - val_auc: 0.5487 - val_top 2 accuracy: 0.7543 - val_top 3 accuracy: 1.0000 - val_top 5 accuracy: 1.0000 - lr: 0.0010\n",
      "Epoch 93/100\n",
      "4207/4207 [==============================] - 267s 64ms/step - loss: 0.0029 - accuracy: 0.9989 - precision: 0.9989 - recall: 0.9989 - auc: 1.0000 - top 2 accuracy: 1.0000 - top 3 accuracy: 1.0000 - top 5 accuracy: 1.0000 - val_loss: 7.8745 - val_accuracy: 0.3970 - val_precision: 0.3970 - val_recall: 0.3956 - val_auc: 0.5612 - val_top 2 accuracy: 0.7658 - val_top 3 accuracy: 1.0000 - val_top 5 accuracy: 1.0000 - lr: 0.0010\n",
      "Epoch 94/100\n",
      "4207/4207 [==============================] - 267s 64ms/step - loss: 0.0032 - accuracy: 0.9989 - precision: 0.9989 - recall: 0.9989 - auc: 0.9999 - top 2 accuracy: 1.0000 - top 3 accuracy: 1.0000 - top 5 accuracy: 1.0000 - val_loss: 8.6473 - val_accuracy: 0.3878 - val_precision: 0.3879 - val_recall: 0.3867 - val_auc: 0.5507 - val_top 2 accuracy: 0.7320 - val_top 3 accuracy: 1.0000 - val_top 5 accuracy: 1.0000 - lr: 0.0010\n",
      "Epoch 95/100\n",
      "4207/4207 [==============================] - 267s 64ms/step - loss: 0.0030 - accuracy: 0.9991 - precision: 0.9991 - recall: 0.9991 - auc: 0.9999 - top 2 accuracy: 1.0000 - top 3 accuracy: 1.0000 - top 5 accuracy: 1.0000 - val_loss: 7.5123 - val_accuracy: 0.3939 - val_precision: 0.3941 - val_recall: 0.3926 - val_auc: 0.5605 - val_top 2 accuracy: 0.7564 - val_top 3 accuracy: 1.0000 - val_top 5 accuracy: 1.0000 - lr: 0.0010\n",
      "Epoch 96/100\n",
      "4207/4207 [==============================] - 267s 64ms/step - loss: 0.0034 - accuracy: 0.9990 - precision: 0.9990 - recall: 0.9990 - auc: 0.9999 - top 2 accuracy: 1.0000 - top 3 accuracy: 1.0000 - top 5 accuracy: 1.0000 - val_loss: 7.2817 - val_accuracy: 0.3703 - val_precision: 0.3703 - val_recall: 0.3687 - val_auc: 0.5418 - val_top 2 accuracy: 0.7429 - val_top 3 accuracy: 1.0000 - val_top 5 accuracy: 1.0000 - lr: 0.0010\n",
      "Epoch 97/100\n",
      "4207/4207 [==============================] - 268s 64ms/step - loss: 0.0032 - accuracy: 0.9989 - precision: 0.9989 - recall: 0.9989 - auc: 0.9999 - top 2 accuracy: 0.9999 - top 3 accuracy: 1.0000 - top 5 accuracy: 1.0000 - val_loss: 7.5823 - val_accuracy: 0.3784 - val_precision: 0.3790 - val_recall: 0.3775 - val_auc: 0.5490 - val_top 2 accuracy: 0.7528 - val_top 3 accuracy: 1.0000 - val_top 5 accuracy: 1.0000 - lr: 0.0010\n",
      "Epoch 98/100\n",
      "4207/4207 [==============================] - 267s 64ms/step - loss: 3.4632e-04 - accuracy: 0.9999 - precision: 0.9999 - recall: 0.9999 - auc: 1.0000 - top 2 accuracy: 1.0000 - top 3 accuracy: 1.0000 - top 5 accuracy: 1.0000 - val_loss: 7.6420 - val_accuracy: 0.3883 - val_precision: 0.3883 - val_recall: 0.3870 - val_auc: 0.5562 - val_top 2 accuracy: 0.7616 - val_top 3 accuracy: 1.0000 - val_top 5 accuracy: 1.0000 - lr: 3.1623e-04\n",
      "Epoch 99/100\n",
      "4207/4207 [==============================] - 268s 64ms/step - loss: 1.4129e-04 - accuracy: 1.0000 - precision: 1.0000 - recall: 1.0000 - auc: 1.0000 - top 2 accuracy: 1.0000 - top 3 accuracy: 1.0000 - top 5 accuracy: 1.0000 - val_loss: 8.1354 - val_accuracy: 0.3802 - val_precision: 0.3802 - val_recall: 0.3788 - val_auc: 0.5477 - val_top 2 accuracy: 0.7578 - val_top 3 accuracy: 1.0000 - val_top 5 accuracy: 1.0000 - lr: 3.1623e-04\n",
      "Epoch 100/100\n",
      "4207/4207 [==============================] - 268s 64ms/step - loss: 2.3774e-04 - accuracy: 0.9999 - precision: 0.9999 - recall: 0.9999 - auc: 1.0000 - top 2 accuracy: 1.0000 - top 3 accuracy: 1.0000 - top 5 accuracy: 1.0000 - val_loss: 7.6238 - val_accuracy: 0.3809 - val_precision: 0.3806 - val_recall: 0.3793 - val_auc: 0.5465 - val_top 2 accuracy: 0.7545 - val_top 3 accuracy: 1.0000 - val_top 5 accuracy: 1.0000 - lr: 3.1623e-04\n"
     ]
    }
   ],
   "source": [
    "version = \"v1\"\n",
    "epochs = 100\n",
    "\n",
    "print(train_tot, valid_tot)\n",
    "\n",
    "train_steps = np.ceil(train_tot/batch_size)\n",
    "valid_steps = np.ceil(valid_tot/batch_size)\n",
    "\n",
    "print (train_steps, valid_steps)\n",
    "\n",
    "#fit_generator\n",
    "\n",
    "history_dcnn = ft_resnet.fit(train_data, \n",
    "                             steps_per_epoch=train_steps,\n",
    "                             epochs=epochs,\n",
    "                             workers = 4,\n",
    "                             callbacks = [tb, model_chkp, lr_reducer, early_stopper],\n",
    "                             validation_data = validation_data, \n",
    "                             validation_steps = valid_steps)\n"
   ]
  },
  {
   "cell_type": "code",
   "execution_count": 30,
   "metadata": {},
   "outputs": [],
   "source": [
    "arch_name = 'bs_{}'.format(batch_size)\n",
    "\n",
    "continue_model_path = '..\\\\models\\\\best_model_no_balance\\\\' + '{}_{}_{}_eps.h5'.format(version, arch_name, epochs)\n",
    "ft_resnet.save(continue_model_path)\n",
    "np.save(f'..\\\\models\\\\best_model_no_balance\\\\{version}_{arch_name}_{epochs}_eps.npy',\n",
    "        history_dcnn.history)"
   ]
  },
  {
   "cell_type": "code",
   "execution_count": 31,
   "metadata": {},
   "outputs": [],
   "source": [
    "import pickle \n",
    "ft_resnet.save_weights('..\\\\models\\\\best_model_no_balance\\\\' + '{}_{}_{}_eps_wheights_only.h5'.format(version, arch_name, epochs))\n",
    "symbolic_weights = getattr(ft_resnet.optimizer, 'weights')\n",
    "weight_values = K.batch_get_value(symbolic_weights)\n",
    "with open('..\\\\models\\\\best_model_no_balance\\\\' + '{}_{}_{}_eps_optimizer.pkl'.format(version, arch_name, epochs), 'wb') as f:\n",
    "    pickle.dump(weight_values, f)"
   ]
  },
  {
   "cell_type": "code",
   "execution_count": 32,
   "metadata": {},
   "outputs": [
    {
     "data": {
      "text/plain": [
       "<matplotlib.legend.Legend at 0x19c800934c0>"
      ]
     },
     "execution_count": 32,
     "metadata": {},
     "output_type": "execute_result"
    },
    {
     "data": {
      "image/png": "[encoded data removed]",
      "text/plain": [
       "<Figure size 640x480 with 2 Axes>"
      ]
     },
     "metadata": {},
     "output_type": "display_data"
    }
   ],
   "source": [
    "# Visualization of the learning curves\n",
    "\n",
    "# Loss\n",
    "plt.subplot(1, 2, 1)\n",
    "plt.plot(history_dcnn.history['loss'])\n",
    "plt.plot(history_dcnn.history['val_loss'])\n",
    "plt.xlabel('Epoch')\n",
    "plt.ylabel('Loss')\n",
    "plt.legend(['train', 'validation'])\n",
    "\n",
    "# Accuracy\n",
    "plt.subplot(1, 2, 2)\n",
    "plt.plot(history_dcnn.history['accuracy'])\n",
    "plt.plot(history_dcnn.history['val_accuracy'])\n",
    "plt.xlabel('Epoch')\n",
    "plt.ylabel('Accuracy')\n",
    "plt.legend(['train', 'validation'])"
   ]
  },
  {
   "attachments": {},
   "cell_type": "markdown",
   "metadata": {},
   "source": [
    "# Continue training"
   ]
  },
  {
   "cell_type": "code",
   "execution_count": 27,
   "metadata": {},
   "outputs": [],
   "source": [
    "os.chdir(Path(str(Path(os.getcwd()).parent.absolute()) + '\\\\scripts\\\\3_Resnet18_first'))"
   ]
  },
  {
   "cell_type": "code",
   "execution_count": 28,
   "metadata": {},
   "outputs": [
    {
     "data": {
      "text/plain": [
       "'d:\\\\Projects\\\\ADNI-brain-MRI-alzheimer-classification-and-GAN-generation\\\\scripts\\\\3_Resnet18_first'"
      ]
     },
     "execution_count": 28,
     "metadata": {},
     "output_type": "execute_result"
    }
   ],
   "source": [
    "os.getcwd()"
   ]
  },
  {
   "cell_type": "code",
   "execution_count": 29,
   "metadata": {},
   "outputs": [],
   "source": [
    "METRICS = [ \n",
    "      keras.metrics.CategoricalAccuracy(name='accuracy'),\n",
    "      keras.metrics.Precision(name='precision'),\n",
    "      keras.metrics.Recall(name='recall'),\n",
    "      keras.metrics.AUC(name='auc'),\n",
    "      keras.metrics.TopKCategoricalAccuracy(name='top 2 accuracy', k=2),\n",
    "      keras.metrics.TopKCategoricalAccuracy(name='top 3 accuracy', k=3),\n",
    "      keras.metrics.TopKCategoricalAccuracy(name='top 5 accuracy', k=5)\n",
    "]"
   ]
  },
  {
   "cell_type": "code",
   "execution_count": 30,
   "metadata": {},
   "outputs": [],
   "source": [
    "early_stopper = keras.callbacks.EarlyStopping(monitor='val_loss', patience=100)"
   ]
  },
  {
   "cell_type": "code",
   "execution_count": 31,
   "metadata": {},
   "outputs": [
    {
     "name": "stdout",
     "output_type": "stream",
     "text": [
      "<class 'keras.engine.keras_tensor.KerasTensor'>\n",
      "model loaded\n",
      "Model: \"model_2\"\n",
      "__________________________________________________________________________________________________\n",
      " Layer (type)                   Output Shape         Param #     Connected to                     \n",
      "==================================================================================================\n",
      " input_3 (InputLayer)           [(None, 192, 160, 1  0           []                               \n",
      "                                )]                                                                \n",
      "                                                                                                  \n",
      " conv1_pad (ZeroPadding2D)      (None, 198, 166, 1)  0           ['input_3[0][0]']                \n",
      "                                                                                                  \n",
      " conv1 (Conv2D)                 (None, 96, 80, 64)   3200        ['conv1_pad[0][0]']              \n",
      "                                                                                                  \n",
      " bn_conv1 (BatchNormalization)  (None, 96, 80, 64)   256         ['conv1[0][0]']                  \n",
      "                                                                                                  \n",
      " leaky_re_lu_34 (LeakyReLU)     (None, 96, 80, 64)   0           ['bn_conv1[0][0]']               \n",
      "                                                                                                  \n",
      " max_pooling2d_2 (MaxPooling2D)  (None, 47, 39, 64)  0           ['leaky_re_lu_34[0][0]']         \n",
      "                                                                                                  \n",
      " res2a_branch2a (Conv2D)        (None, 47, 39, 64)   36928       ['max_pooling2d_2[0][0]']        \n",
      "                                                                                                  \n",
      " bn2a_branch2a (BatchNormalizat  (None, 47, 39, 64)  256         ['res2a_branch2a[0][0]']         \n",
      " ion)                                                                                             \n",
      "                                                                                                  \n",
      " leaky_re_lu_35 (LeakyReLU)     (None, 47, 39, 64)   0           ['bn2a_branch2a[0][0]']          \n",
      "                                                                                                  \n",
      " res2a_branch2b (Conv2D)        (None, 47, 39, 64)   36928       ['leaky_re_lu_35[0][0]']         \n",
      "                                                                                                  \n",
      " res2a_branch1 (Conv2D)         (None, 47, 39, 64)   4160        ['max_pooling2d_2[0][0]']        \n",
      "                                                                                                  \n",
      " bn2a_branch2b (BatchNormalizat  (None, 47, 39, 64)  256         ['res2a_branch2b[0][0]']         \n",
      " ion)                                                                                             \n",
      "                                                                                                  \n",
      " bn2a_branch1 (BatchNormalizati  (None, 47, 39, 64)  256         ['res2a_branch1[0][0]']          \n",
      " on)                                                                                              \n",
      "                                                                                                  \n",
      " add_16 (Add)                   (None, 47, 39, 64)   0           ['bn2a_branch2b[0][0]',          \n",
      "                                                                  'bn2a_branch1[0][0]']           \n",
      "                                                                                                  \n",
      " leaky_re_lu_36 (LeakyReLU)     (None, 47, 39, 64)   0           ['add_16[0][0]']                 \n",
      "                                                                                                  \n",
      " res2b_branch2a (Conv2D)        (None, 47, 39, 64)   36928       ['leaky_re_lu_36[0][0]']         \n",
      "                                                                                                  \n",
      " bn2b_branch2a (BatchNormalizat  (None, 47, 39, 64)  256         ['res2b_branch2a[0][0]']         \n",
      " ion)                                                                                             \n",
      "                                                                                                  \n",
      " leaky_re_lu_37 (LeakyReLU)     (None, 47, 39, 64)   0           ['bn2b_branch2a[0][0]']          \n",
      "                                                                                                  \n",
      " res2b_branch2b (Conv2D)        (None, 47, 39, 64)   36928       ['leaky_re_lu_37[0][0]']         \n",
      "                                                                                                  \n",
      " bn2b_branch2b (BatchNormalizat  (None, 47, 39, 64)  256         ['res2b_branch2b[0][0]']         \n",
      " ion)                                                                                             \n",
      "                                                                                                  \n",
      " add_17 (Add)                   (None, 47, 39, 64)   0           ['bn2b_branch2b[0][0]',          \n",
      "                                                                  'leaky_re_lu_36[0][0]']         \n",
      "                                                                                                  \n",
      " leaky_re_lu_38 (LeakyReLU)     (None, 47, 39, 64)   0           ['add_17[0][0]']                 \n",
      "                                                                                                  \n",
      " res3a_branch2a (Conv2D)        (None, 24, 20, 128)  73856       ['leaky_re_lu_38[0][0]']         \n",
      "                                                                                                  \n",
      " bn3a_branch2a (BatchNormalizat  (None, 24, 20, 128)  512        ['res3a_branch2a[0][0]']         \n",
      " ion)                                                                                             \n",
      "                                                                                                  \n",
      " leaky_re_lu_39 (LeakyReLU)     (None, 24, 20, 128)  0           ['bn3a_branch2a[0][0]']          \n",
      "                                                                                                  \n",
      " res3a_branch2b (Conv2D)        (None, 24, 20, 128)  147584      ['leaky_re_lu_39[0][0]']         \n",
      "                                                                                                  \n",
      " res3a_branch1 (Conv2D)         (None, 24, 20, 128)  8320        ['leaky_re_lu_38[0][0]']         \n",
      "                                                                                                  \n",
      " bn3a_branch2b (BatchNormalizat  (None, 24, 20, 128)  512        ['res3a_branch2b[0][0]']         \n",
      " ion)                                                                                             \n",
      "                                                                                                  \n",
      " bn3a_branch1 (BatchNormalizati  (None, 24, 20, 128)  512        ['res3a_branch1[0][0]']          \n",
      " on)                                                                                              \n",
      "                                                                                                  \n",
      " add_18 (Add)                   (None, 24, 20, 128)  0           ['bn3a_branch2b[0][0]',          \n",
      "                                                                  'bn3a_branch1[0][0]']           \n",
      "                                                                                                  \n",
      " leaky_re_lu_40 (LeakyReLU)     (None, 24, 20, 128)  0           ['add_18[0][0]']                 \n",
      "                                                                                                  \n",
      " res3b_branch2a (Conv2D)        (None, 24, 20, 128)  147584      ['leaky_re_lu_40[0][0]']         \n",
      "                                                                                                  \n",
      " bn3b_branch2a (BatchNormalizat  (None, 24, 20, 128)  512        ['res3b_branch2a[0][0]']         \n",
      " ion)                                                                                             \n",
      "                                                                                                  \n",
      " leaky_re_lu_41 (LeakyReLU)     (None, 24, 20, 128)  0           ['bn3b_branch2a[0][0]']          \n",
      "                                                                                                  \n",
      " res3b_branch2b (Conv2D)        (None, 24, 20, 128)  147584      ['leaky_re_lu_41[0][0]']         \n",
      "                                                                                                  \n",
      " bn3b_branch2b (BatchNormalizat  (None, 24, 20, 128)  512        ['res3b_branch2b[0][0]']         \n",
      " ion)                                                                                             \n",
      "                                                                                                  \n",
      " add_19 (Add)                   (None, 24, 20, 128)  0           ['bn3b_branch2b[0][0]',          \n",
      "                                                                  'leaky_re_lu_40[0][0]']         \n",
      "                                                                                                  \n",
      " leaky_re_lu_42 (LeakyReLU)     (None, 24, 20, 128)  0           ['add_19[0][0]']                 \n",
      "                                                                                                  \n",
      " res4a_branch2a (Conv2D)        (None, 12, 10, 256)  295168      ['leaky_re_lu_42[0][0]']         \n",
      "                                                                                                  \n",
      " bn4a_branch2a (BatchNormalizat  (None, 12, 10, 256)  1024       ['res4a_branch2a[0][0]']         \n",
      " ion)                                                                                             \n",
      "                                                                                                  \n",
      " leaky_re_lu_43 (LeakyReLU)     (None, 12, 10, 256)  0           ['bn4a_branch2a[0][0]']          \n",
      "                                                                                                  \n",
      " res4a_branch2b (Conv2D)        (None, 12, 10, 256)  590080      ['leaky_re_lu_43[0][0]']         \n",
      "                                                                                                  \n",
      " res4a_branch1 (Conv2D)         (None, 12, 10, 256)  33024       ['leaky_re_lu_42[0][0]']         \n",
      "                                                                                                  \n",
      " bn4a_branch2b (BatchNormalizat  (None, 12, 10, 256)  1024       ['res4a_branch2b[0][0]']         \n",
      " ion)                                                                                             \n",
      "                                                                                                  \n",
      " bn4a_branch1 (BatchNormalizati  (None, 12, 10, 256)  1024       ['res4a_branch1[0][0]']          \n",
      " on)                                                                                              \n",
      "                                                                                                  \n",
      " add_20 (Add)                   (None, 12, 10, 256)  0           ['bn4a_branch2b[0][0]',          \n",
      "                                                                  'bn4a_branch1[0][0]']           \n",
      "                                                                                                  \n",
      " leaky_re_lu_44 (LeakyReLU)     (None, 12, 10, 256)  0           ['add_20[0][0]']                 \n",
      "                                                                                                  \n",
      " res4b_branch2a (Conv2D)        (None, 12, 10, 256)  590080      ['leaky_re_lu_44[0][0]']         \n",
      "                                                                                                  \n",
      " bn4b_branch2a (BatchNormalizat  (None, 12, 10, 256)  1024       ['res4b_branch2a[0][0]']         \n",
      " ion)                                                                                             \n",
      "                                                                                                  \n",
      " leaky_re_lu_45 (LeakyReLU)     (None, 12, 10, 256)  0           ['bn4b_branch2a[0][0]']          \n",
      "                                                                                                  \n",
      " res4b_branch2b (Conv2D)        (None, 12, 10, 256)  590080      ['leaky_re_lu_45[0][0]']         \n",
      "                                                                                                  \n",
      " bn4b_branch2b (BatchNormalizat  (None, 12, 10, 256)  1024       ['res4b_branch2b[0][0]']         \n",
      " ion)                                                                                             \n",
      "                                                                                                  \n",
      " add_21 (Add)                   (None, 12, 10, 256)  0           ['bn4b_branch2b[0][0]',          \n",
      "                                                                  'leaky_re_lu_44[0][0]']         \n",
      "                                                                                                  \n",
      " leaky_re_lu_46 (LeakyReLU)     (None, 12, 10, 256)  0           ['add_21[0][0]']                 \n",
      "                                                                                                  \n",
      " res5a_branch2a (Conv2D)        (None, 6, 5, 512)    1180160     ['leaky_re_lu_46[0][0]']         \n",
      "                                                                                                  \n",
      " bn5a_branch2a (BatchNormalizat  (None, 6, 5, 512)   2048        ['res5a_branch2a[0][0]']         \n",
      " ion)                                                                                             \n",
      "                                                                                                  \n",
      " leaky_re_lu_47 (LeakyReLU)     (None, 6, 5, 512)    0           ['bn5a_branch2a[0][0]']          \n",
      "                                                                                                  \n",
      " res5a_branch2b (Conv2D)        (None, 6, 5, 512)    2359808     ['leaky_re_lu_47[0][0]']         \n",
      "                                                                                                  \n",
      " res5a_branch1 (Conv2D)         (None, 6, 5, 512)    131584      ['leaky_re_lu_46[0][0]']         \n",
      "                                                                                                  \n",
      " bn5a_branch2b (BatchNormalizat  (None, 6, 5, 512)   2048        ['res5a_branch2b[0][0]']         \n",
      " ion)                                                                                             \n",
      "                                                                                                  \n",
      " bn5a_branch1 (BatchNormalizati  (None, 6, 5, 512)   2048        ['res5a_branch1[0][0]']          \n",
      " on)                                                                                              \n",
      "                                                                                                  \n",
      " add_22 (Add)                   (None, 6, 5, 512)    0           ['bn5a_branch2b[0][0]',          \n",
      "                                                                  'bn5a_branch1[0][0]']           \n",
      "                                                                                                  \n",
      " leaky_re_lu_48 (LeakyReLU)     (None, 6, 5, 512)    0           ['add_22[0][0]']                 \n",
      "                                                                                                  \n",
      " res5b_branch2a (Conv2D)        (None, 6, 5, 512)    2359808     ['leaky_re_lu_48[0][0]']         \n",
      "                                                                                                  \n",
      " bn5b_branch2a (BatchNormalizat  (None, 6, 5, 512)   2048        ['res5b_branch2a[0][0]']         \n",
      " ion)                                                                                             \n",
      "                                                                                                  \n",
      " leaky_re_lu_49 (LeakyReLU)     (None, 6, 5, 512)    0           ['bn5b_branch2a[0][0]']          \n",
      "                                                                                                  \n",
      " res5b_branch2b (Conv2D)        (None, 6, 5, 512)    2359808     ['leaky_re_lu_49[0][0]']         \n",
      "                                                                                                  \n",
      " bn5b_branch2b (BatchNormalizat  (None, 6, 5, 512)   2048        ['res5b_branch2b[0][0]']         \n",
      " ion)                                                                                             \n",
      "                                                                                                  \n",
      " add_23 (Add)                   (None, 6, 5, 512)    0           ['bn5b_branch2b[0][0]',          \n",
      "                                                                  'leaky_re_lu_48[0][0]']         \n",
      "                                                                                                  \n",
      " leaky_re_lu_50 (LeakyReLU)     (None, 6, 5, 512)    0           ['add_23[0][0]']                 \n",
      "                                                                                                  \n",
      " avg_pool (AveragePooling2D)    (None, 1, 1, 512)    0           ['leaky_re_lu_50[0][0]']         \n",
      "                                                                                                  \n",
      " flatten_2 (Flatten)            (None, 512)          0           ['avg_pool[0][0]']               \n",
      "                                                                                                  \n",
      " dropout_2 (Dropout)            (None, 512)          0           ['flatten_2[0][0]']              \n",
      "                                                                                                  \n",
      " dense_2 (Dense)                (None, 3)            1539        ['dropout_2[0][0]']              \n",
      "                                                                                                  \n",
      "==================================================================================================\n",
      "Total params: 11,190,595\n",
      "Trainable params: 11,180,867\n",
      "Non-trainable params: 9,728\n",
      "__________________________________________________________________________________________________\n"
     ]
    }
   ],
   "source": [
    "tb = TensorBoard(log_dir =os.getcwd() + '\\\\gan_over\\\\logs_gan_over', write_graph = True)\n",
    "\n",
    "lr_reducer = ReduceLROnPlateau(monitor='loss', factor=np.sqrt(0.1), patience=10, cooldown=0, min_lr=1e-5)\n",
    "\n",
    "model_chkp = ModelCheckpoint(filepath=os.getcwd() + '\\\\gan_over\\\\best_model_gan_over',\n",
    "                            # monitor='val_quadratic_kappa_score',\n",
    "                            monitor='val_accuracy',\n",
    "                            save_best_only=True, save_weights_only=True, mode='max')\n",
    "\n",
    "#resnet = ResNet18()\n",
    "#resnet = ResNet18(classes=3, input_shape=(160, 192))\n",
    "resnet = ResNet18(classes=3)\n",
    "\n",
    "\n",
    "#model = keras.applications.resnet50.ResNet50(include_top=True, weights='imagenet', input_tensor=None, input_shape=None, pooling=None, classes=1000)\n",
    "#model.summary()\n",
    "\n",
    "#resnet.layers.pop()\n",
    "#for layer in resnet.layers:\n",
    "#    layer.trainable = False\n",
    "\n",
    "x = resnet.layers[-1].output\n",
    "\n",
    "x = Dropout(0.25)(x)\n",
    "\n",
    "x = Dense(3, activation = 'softmax')(x)\n",
    "\n",
    "\n",
    "ft_resnet = Model(resnet.input, x)\n",
    "ft_resnet.compile(optimizer = Adam(learning_rate = 0.001), loss = 'categorical_crossentropy', metrics = METRICS)\n",
    "\n",
    "print(\"model loaded\")\n",
    "\n",
    "ft_resnet.summary()"
   ]
  },
  {
   "attachments": {},
   "cell_type": "markdown",
   "metadata": {},
   "source": [
    "Changing back the folder to data path"
   ]
  },
  {
   "cell_type": "code",
   "execution_count": 32,
   "metadata": {},
   "outputs": [
    {
     "data": {
      "text/plain": [
       "'d:\\\\Projects\\\\ADNI-brain-MRI-alzheimer-classification-and-GAN-generation\\\\adni-images-Full-resized160x192'"
      ]
     },
     "execution_count": 32,
     "metadata": {},
     "output_type": "execute_result"
    }
   ],
   "source": [
    "os.chdir(Path(str(Path(os.getcwd()).parent.absolute().parent.absolute()) + '\\\\adni-images-Full-resized160x192'))\n",
    "os.getcwd()"
   ]
  },
  {
   "cell_type": "code",
   "execution_count": 33,
   "metadata": {},
   "outputs": [
    {
     "name": "stdout",
     "output_type": "stream",
     "text": [
      "218575 18024\n",
      "6831.0 564.0\n"
     ]
    }
   ],
   "source": [
    "print(train_tot, valid_tot)\n",
    "\n",
    "train_steps = np.ceil(train_tot/batch_size)\n",
    "valid_steps = np.ceil(valid_tot/batch_size)\n",
    "\n",
    "print (train_steps, valid_steps)"
   ]
  },
  {
   "cell_type": "code",
   "execution_count": 39,
   "metadata": {},
   "outputs": [
    {
     "ename": "AttributeError",
     "evalue": "'Functional' object has no attribute 'optimizier'",
     "output_type": "error",
     "traceback": [
      "\u001b[1;31m---------------------------------------------------------------------------\u001b[0m",
      "\u001b[1;31mAttributeError\u001b[0m                            Traceback (most recent call last)",
      "Cell \u001b[1;32mIn[39], line 5\u001b[0m\n\u001b[0;32m      2\u001b[0m \u001b[39mimport\u001b[39;00m \u001b[39mtensorflow\u001b[39;00m\n\u001b[0;32m      4\u001b[0m ft_resnet \u001b[39m=\u001b[39m tensorflow\u001b[39m.\u001b[39mkeras\u001b[39m.\u001b[39mmodels\u001b[39m.\u001b[39mload_model(\u001b[39m'\u001b[39m\u001b[39m..\u001b[39m\u001b[39m\\\\\u001b[39;00m\u001b[39mmodels\u001b[39m\u001b[39m\\\\\u001b[39;00m\u001b[39mbest_model_gan_over\u001b[39m\u001b[39m\\\\\u001b[39;00m\u001b[39m'\u001b[39m \u001b[39m+\u001b[39m \u001b[39m'\u001b[39m\u001b[39m{}\u001b[39;00m\u001b[39m_\u001b[39m\u001b[39m{}\u001b[39;00m\u001b[39m_\u001b[39m\u001b[39m{}\u001b[39;00m\u001b[39m_eps.h5\u001b[39m\u001b[39m'\u001b[39m\u001b[39m.\u001b[39mformat(version, arch_name, epochs))\n\u001b[1;32m----> 5\u001b[0m old_weights \u001b[39m=\u001b[39m ft_resnet\u001b[39m.\u001b[39;49moptimizier\u001b[39m.\u001b[39mget_weights()\n\u001b[0;32m      7\u001b[0m ft_resnet\u001b[39m.\u001b[39m_make_train_function()\n\u001b[0;32m      8\u001b[0m \u001b[39mwith\u001b[39;00m \u001b[39mopen\u001b[39m(\u001b[39m'\u001b[39m\u001b[39m..\u001b[39m\u001b[39m\\\\\u001b[39;00m\u001b[39mmodels\u001b[39m\u001b[39m\\\\\u001b[39;00m\u001b[39mbest_model_gan_over\u001b[39m\u001b[39m\\\\\u001b[39;00m\u001b[39m'\u001b[39m \u001b[39m+\u001b[39m \u001b[39m'\u001b[39m\u001b[39m{}\u001b[39;00m\u001b[39m_\u001b[39m\u001b[39m{}\u001b[39;00m\u001b[39m_\u001b[39m\u001b[39m{}\u001b[39;00m\u001b[39m_eps_optimizer.pkl\u001b[39m\u001b[39m'\u001b[39m\u001b[39m.\u001b[39mformat(version, arch_name, epochs), \u001b[39m'\u001b[39m\u001b[39mrb\u001b[39m\u001b[39m'\u001b[39m) \u001b[39mas\u001b[39;00m f:\n",
      "\u001b[1;31mAttributeError\u001b[0m: 'Functional' object has no attribute 'optimizier'"
     ]
    }
   ],
   "source": [
    "import pickle \n",
    "import tensorflow\n",
    "\n",
    "ft_resnet = tensorflow.keras.models.load_model('..\\\\models\\\\best_model_gan_over\\\\' + '{}_{}_{}_eps.h5'.format(version, arch_name, epochs))\n",
    "old_weights = ft_resnet.optimizier.get_weights()\n",
    "\n",
    "ft_resnet._make_train_function()\n",
    "with open('..\\\\models\\\\best_model_gan_over\\\\' + '{}_{}_{}_eps_optimizer.pkl'.format(version, arch_name, epochs), 'rb') as f:\n",
    "    weight_values = pickle.load(f)\n",
    "ft_resnet.optimizer.set_weights(weight_values)"
   ]
  },
  {
   "cell_type": "code",
   "execution_count": 38,
   "metadata": {},
   "outputs": [
    {
     "ename": "AttributeError",
     "evalue": "'Functional' object has no attribute 'load_model'",
     "output_type": "error",
     "traceback": [
      "\u001b[1;31m---------------------------------------------------------------------------\u001b[0m",
      "\u001b[1;31mAttributeError\u001b[0m                            Traceback (most recent call last)",
      "Cell \u001b[1;32mIn[38], line 3\u001b[0m\n\u001b[0;32m      1\u001b[0m \u001b[39mimport\u001b[39;00m \u001b[39mpickle\u001b[39;00m \n\u001b[1;32m----> 3\u001b[0m ft_resnet\u001b[39m.\u001b[39;49mload_model(\u001b[39m'\u001b[39m\u001b[39m..\u001b[39m\u001b[39m\\\\\u001b[39;00m\u001b[39mmodels\u001b[39m\u001b[39m\\\\\u001b[39;00m\u001b[39mbest_model_gan_over\u001b[39m\u001b[39m\\\\\u001b[39;00m\u001b[39m'\u001b[39m \u001b[39m+\u001b[39m \u001b[39m'\u001b[39m\u001b[39m{}\u001b[39;00m\u001b[39m_\u001b[39m\u001b[39m{}\u001b[39;00m\u001b[39m_\u001b[39m\u001b[39m{}\u001b[39;00m\u001b[39m_eps.h5\u001b[39m\u001b[39m'\u001b[39m\u001b[39m.\u001b[39mformat(version, arch_name, epochs))\n\u001b[0;32m      4\u001b[0m ft_resnet\u001b[39m.\u001b[39mmake_train_function()\n\u001b[0;32m      5\u001b[0m \u001b[39mwith\u001b[39;00m \u001b[39mopen\u001b[39m(\u001b[39m'\u001b[39m\u001b[39m..\u001b[39m\u001b[39m\\\\\u001b[39;00m\u001b[39mmodels\u001b[39m\u001b[39m\\\\\u001b[39;00m\u001b[39mbest_model_gan_over\u001b[39m\u001b[39m\\\\\u001b[39;00m\u001b[39m'\u001b[39m \u001b[39m+\u001b[39m \u001b[39m'\u001b[39m\u001b[39m{}\u001b[39;00m\u001b[39m_\u001b[39m\u001b[39m{}\u001b[39;00m\u001b[39m_\u001b[39m\u001b[39m{}\u001b[39;00m\u001b[39m_eps_optimizer.pkl\u001b[39m\u001b[39m'\u001b[39m\u001b[39m.\u001b[39mformat(version, arch_name, epochs), \u001b[39m'\u001b[39m\u001b[39mrb\u001b[39m\u001b[39m'\u001b[39m) \u001b[39mas\u001b[39;00m f:\n",
      "\u001b[1;31mAttributeError\u001b[0m: 'Functional' object has no attribute 'load_model'"
     ]
    }
   ],
   "source": [
    "import pickle \n",
    "\n",
    "ft_resnet.load_weights('..\\\\models\\\\best_model_gan_over\\\\' + '{}_{}_{}_eps.h5'.format(version, arch_name, epochs))\n",
    "ft_resnet.make_train_function()\n",
    "with open('..\\\\models\\\\best_model_gan_over\\\\' + '{}_{}_{}_eps_optimizer.pkl'.format(version, arch_name, epochs), 'rb') as f:\n",
    "    weight_values = pickle.load(f)\n",
    "ft_resnet.optimizer.set_weights(weight_values)\n",
    "\n",
    "#fit_generator\n"
   ]
  },
  {
   "cell_type": "code",
   "execution_count": null,
   "metadata": {},
   "outputs": [],
   "source": [
    "version = \"v2\"\n",
    "epochs = 30"
   ]
  },
  {
   "cell_type": "code",
   "execution_count": null,
   "metadata": {},
   "outputs": [],
   "source": [
    "history_dcnn = ft_resnet.fit(train_data, \n",
    "                             steps_per_epoch=train_steps,\n",
    "                             epochs=epochs,\n",
    "                             workers = 4,\n",
    "                             callbacks = [tb, model_chkp, lr_reducer, early_stopper],\n",
    "                             validation_data = validation_data, \n",
    "                             validation_steps = valid_steps)\n"
   ]
  },
  {
   "cell_type": "code",
   "execution_count": null,
   "metadata": {},
   "outputs": [],
   "source": [
    "arch_name = 'bs_{}'.format(batch_size)\n",
    "\n",
    "continue_model_path = '..\\\\models\\\\best_model_gan_over\\\\' + '{}_{}_{}_eps.h5'.format(version, arch_name, epochs)\n",
    "ft_resnet.save(continue_model_path)\n",
    "np.save(f'..\\\\models\\\\best_model_gan_over\\\\{version}_{arch_name}_{epochs}_eps.npy',\n",
    "        history_dcnn.history)"
   ]
  },
  {
   "cell_type": "code",
   "execution_count": null,
   "metadata": {},
   "outputs": [],
   "source": [
    "import pickle \n",
    "ft_resnet.save_weights('..\\\\models\\\\best_model_gan_over\\\\' + '{}_{}_{}_eps_wheights_only.h5'.format(version, arch_name, epochs))\n",
    "symbolic_weights = getattr(ft_resnet.optimizer, 'weights')\n",
    "weight_values = K.batch_get_value(symbolic_weights)\n",
    "with open('..\\\\models\\\\best_model_gan_over\\\\' + '{}_{}_{}_eps_optimizer.pkl'.format(version, arch_name, epochs), 'wb') as f:\n",
    "    pickle.dump(weight_values, f)"
   ]
  },
  {
   "attachments": {},
   "cell_type": "markdown",
   "metadata": {},
   "source": [
    "# Load Model"
   ]
  },
  {
   "cell_type": "code",
   "execution_count": 8,
   "metadata": {},
   "outputs": [],
   "source": [
    "#os.chdir('C:/Users/marco/Desktop/Local_Documents/models/NoBalance')"
   ]
  },
  {
   "cell_type": "code",
   "execution_count": 33,
   "metadata": {},
   "outputs": [],
   "source": [
    "# Load model\n",
    "net_dcnn = keras.models.load_model(\"..\\\\models\\\\best_model_no_balance\\\\v1_bs_32_100_eps.h5\")"
   ]
  },
  {
   "cell_type": "code",
   "execution_count": 34,
   "metadata": {},
   "outputs": [],
   "source": [
    "# Load hystory and convert to dict\n",
    "history = np.load('..\\\\models\\\\best_model_no_balance\\\\v1_bs_32_100_eps.npy', allow_pickle=True).item()"
   ]
  },
  {
   "attachments": {},
   "cell_type": "markdown",
   "metadata": {},
   "source": [
    "# Model Evaluation"
   ]
  },
  {
   "cell_type": "code",
   "execution_count": 35,
   "metadata": {},
   "outputs": [],
   "source": [
    "# Set visualization size for figures \n",
    "plt.rcParams['figure.figsize'] = [5,5] # width, height"
   ]
  },
  {
   "cell_type": "code",
   "execution_count": 36,
   "metadata": {},
   "outputs": [],
   "source": [
    "CATEGORIES = \"ad\", \"mci\",\"nor\""
   ]
  },
  {
   "cell_type": "code",
   "execution_count": 37,
   "metadata": {},
   "outputs": [
    {
     "data": {
      "text/plain": [
       "dict_keys(['loss', 'accuracy', 'precision', 'recall', 'auc', 'top 2 accuracy', 'top 3 accuracy', 'top 5 accuracy', 'val_loss', 'val_accuracy', 'val_precision', 'val_recall', 'val_auc', 'val_top 2 accuracy', 'val_top 3 accuracy', 'val_top 5 accuracy', 'lr'])"
      ]
     },
     "execution_count": 37,
     "metadata": {},
     "output_type": "execute_result"
    }
   ],
   "source": [
    "history.keys()"
   ]
  },
  {
   "cell_type": "code",
   "execution_count": 38,
   "metadata": {},
   "outputs": [],
   "source": [
    "test_data = validation_data"
   ]
  },
  {
   "cell_type": "code",
   "execution_count": 39,
   "metadata": {},
   "outputs": [
    {
     "data": {
      "text/plain": [
       "[0.5977802276611328, 0.7735498547554016]"
      ]
     },
     "execution_count": 39,
     "metadata": {},
     "output_type": "execute_result"
    }
   ],
   "source": [
    "history['accuracy'][:1+1]"
   ]
  },
  {
   "cell_type": "code",
   "execution_count": 40,
   "metadata": {},
   "outputs": [],
   "source": [
    "%matplotlib inline\n",
    "\n",
    "def print_graph(item, index, history):\n",
    "    plt.figure()\n",
    "    train_values = history[item][:index+5]\n",
    "    plt.plot(train_values)\n",
    "    test_values = history['val_' + item][:index+5]\n",
    "    plt.plot(test_values)\n",
    "    plt.legend(['training','validation'])\n",
    "    plt.title('Training and validation '+ item)\n",
    "    plt.xlabel('epoch')\n",
    "    plt.show()\n",
    "    plot = '{}.png'.format(item)\n",
    "    plt.savefig(plot)"
   ]
  },
  {
   "cell_type": "code",
   "execution_count": 41,
   "metadata": {},
   "outputs": [],
   "source": [
    "def test_set_results(pred_value, n=1):    \n",
    "    y_test = test_data.labels\n",
    "    X_test, _ = test_data.next()\n",
    "    \n",
    "    corr_pred = confusion_matrix(y_test, pred_value)\n",
    "    fig=plt.figure(figsize=(10, 8))\n",
    "    ax = plt.axes()\n",
    "    \n",
    "    sns.heatmap(corr_pred,annot=True, fmt=\"d\",cmap=\"Purples\", xticklabels=CATEGORIES, yticklabels=CATEGORIES)\n",
    "    ax.set_title('Confusione Matrix')\n",
    "    plt.show()\n",
    "    \n",
    "    n_correct = int(corr_pred[0][0] + corr_pred[1][1] + corr_pred[2][2])\n",
    "    print('...'*15)\n",
    "\n",
    "    print('> Correct Predictions:', n_correct)\n",
    "    \n",
    "    n_wrongs = len(y_test) - n_correct\n",
    "    print('> Wrong Predictions:', n_wrongs)\n",
    "    print('...'*15)\n",
    "    \n",
    "    print(classification_report(test_data.labels, pred_value, target_names=CATEGORIES))"
   ]
  },
  {
   "cell_type": "code",
   "execution_count": 42,
   "metadata": {},
   "outputs": [],
   "source": [
    "def printResults(name, model):\n",
    "    predictions = model.predict(test_data, verbose=1)\n",
    "    preds = np.argmax(predictions, axis=1)\n",
    "    test_set_results(preds)"
   ]
  },
  {
   "cell_type": "code",
   "execution_count": 43,
   "metadata": {},
   "outputs": [],
   "source": [
    "def model_summary(model, history, name):\n",
    "    val_acc = history['val_accuracy'] #validation accuracy history\n",
    "    index= val_acc.index(max(val_acc))\n",
    "    print('Best Epochs:', index)\n",
    "\n",
    "\n",
    "    test_loss, test_accuracy, test_precision, test_recall, auc, _, _, _ = model.evaluate(test_data, verbose=1)\n",
    "\n",
    "    train_accuracy = history['accuracy'][index]\n",
    "    train_loss = history['loss'][index]\n",
    "\n",
    "    print_graph('loss', index, history)\n",
    "    print_graph('accuracy', index, history)\n",
    "\n",
    "    print('---'*15) \n",
    "    print(name)\n",
    "    print('> Accuracy on train:',round(train_accuracy, 2), \n",
    "            '\\tLoss on train:', round(train_loss,2))\n",
    "    \n",
    "\n",
    "    print('> Accuracy on test:',round(test_accuracy, 2),\n",
    "            '\\tLoss on test:',round(test_loss,2))\n",
    "\n",
    "    print('---'*15)\n",
    "    print('> predicting test')\n",
    "    print('---'*15)\n",
    "\n",
    "    printResults(name, model)"
   ]
  },
  {
   "cell_type": "code",
   "execution_count": 44,
   "metadata": {},
   "outputs": [
    {
     "name": "stdout",
     "output_type": "stream",
     "text": [
      "Best Epochs: 0\n",
      "564/564 [==============================] - 124s 217ms/step - loss: 7.6238 - accuracy: 0.3809 - precision: 0.3806 - recall: 0.3793 - auc: 0.5465 - top 2 accuracy: 0.7545 - top 3 accuracy: 1.0000 - top 5 accuracy: 1.0000\n"
     ]
    },
    {
     "data": {
      "image/png": "[encoded data removed]",
      "text/plain": [
       "<Figure size 500x500 with 1 Axes>"
      ]
     },
     "metadata": {},
     "output_type": "display_data"
    },
    {
     "data": {
      "text/plain": [
       "<Figure size 500x500 with 0 Axes>"
      ]
     },
     "metadata": {},
     "output_type": "display_data"
    },
    {
     "data": {
      "image/png": "[encoded data removed]",
      "text/plain": [
       "<Figure size 500x500 with 1 Axes>"
      ]
     },
     "metadata": {},
     "output_type": "display_data"
    },
    {
     "name": "stdout",
     "output_type": "stream",
     "text": [
      "---------------------------------------------\n",
      "DCCN - Random Undersampling\n",
      "> Accuracy on train: 0.6 \tLoss on train: 0.88\n",
      "> Accuracy on test: 0.38 \tLoss on test: 7.62\n",
      "---------------------------------------------\n",
      "> predicting test\n",
      "---------------------------------------------\n",
      "564/564 [==============================] - 23s 41ms/step\n"
     ]
    },
    {
     "data": {
      "text/plain": [
       "<Figure size 500x500 with 0 Axes>"
      ]
     },
     "metadata": {},
     "output_type": "display_data"
    },
    {
     "data": {
      "image/png": "[encoded data removed]",
      "text/plain": [
       "<Figure size 1000x800 with 2 Axes>"
      ]
     },
     "metadata": {},
     "output_type": "display_data"
    },
    {
     "name": "stdout",
     "output_type": "stream",
     "text": [
      ".............................................\n",
      "> Correct Predictions: 6491\n",
      "> Wrong Predictions: 11533\n",
      ".............................................\n",
      "              precision    recall  f1-score   support\n",
      "\n",
      "          ad       0.22      0.20      0.21      4011\n",
      "         mci       0.41      0.53      0.46      7276\n",
      "         nor       0.38      0.27      0.31      6737\n",
      "\n",
      "    accuracy                           0.36     18024\n",
      "   macro avg       0.33      0.33      0.33     18024\n",
      "weighted avg       0.35      0.36      0.35     18024\n",
      "\n"
     ]
    }
   ],
   "source": [
    "model_summary(net_dcnn, history, 'DCCN - Random Undersampling')"
   ]
  }
 ],
 "metadata": {
  "kernelspec": {
   "display_name": "Python 3.8.16 ('tf')",
   "language": "python",
   "name": "python3"
  },
  "language_info": {
   "codemirror_mode": {
    "name": "ipython",
    "version": 3
   },
   "file_extension": ".py",
   "mimetype": "text/x-python",
   "name": "python",
   "nbconvert_exporter": "python",
   "pygments_lexer": "ipython3",
   "version": "3.8.16"
  },
  "orig_nbformat": 4,
  "vscode": {
   "interpreter": {
    "hash": "4a44bbf2a83640dfde2344ebe838e4635fa18e86f31ce321969bab99fe559bce"
   }
  }
 },
 "nbformat": 4,
 "nbformat_minor": 2
}
