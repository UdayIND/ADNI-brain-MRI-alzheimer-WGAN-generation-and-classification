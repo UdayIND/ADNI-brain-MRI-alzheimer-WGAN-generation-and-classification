{
 "cells": [
  {
   "attachments": {},
   "cell_type": "markdown",
   "metadata": {},
   "source": [
    "**Importing libraries**"
   ]
  },
  {
   "cell_type": "code",
   "execution_count": 1,
   "metadata": {},
   "outputs": [],
   "source": [
    "# Keras e TF\n",
    "\n",
    "#import tensorflow\n",
    "from tensorflow import keras\n",
    "from keras.preprocessing.image import ImageDataGenerator\n",
    "from keras.layers import Conv2D, Conv1D, MaxPooling2D, Dense, Flatten, BatchNormalization, Activation, AveragePooling2D, Input, Flatten, Dropout\n",
    "from keras.callbacks import ModelCheckpoint\n",
    "\n",
    "# Sk-Learn\n",
    "from sklearn.metrics import classification_report, confusion_matrix\n",
    "from sklearn.model_selection import train_test_split\n",
    "from sklearn.metrics import classification_report,confusion_matrix, ConfusionMatrixDisplay, roc_curve, roc_auc_score, RocCurveDisplay, accuracy_score, classification_report, confusion_matrix\n",
    "\n",
    "# Base\n",
    "import os \n",
    "from pathlib import Path\n",
    "from matplotlib import pyplot as plt\n",
    "import seaborn as sns # \n",
    "import numpy as np #\n",
    "import pandas as pd # \n",
    "\n",
    "from keras.utils import load_img\n",
    "\n",
    "import pydot\n",
    "import pydotplus\n",
    "from pydotplus import graphviz\n",
    "\n",
    "from keras.callbacks import TensorBoard, ModelCheckpoint, ReduceLROnPlateau\n",
    "from tensorflow.keras import backend as K\n",
    "from custom_resnet import ResNet18\n",
    "\n",
    "\n",
    "from keras.models import Model\n",
    "from keras.optimizers import Adam"
   ]
  },
  {
   "cell_type": "code",
   "execution_count": 2,
   "metadata": {},
   "outputs": [
    {
     "data": {
      "text/plain": [
       "'2.10.0'"
      ]
     },
     "execution_count": 2,
     "metadata": {},
     "output_type": "execute_result"
    }
   ],
   "source": [
    "keras.__version__"
   ]
  },
  {
   "attachments": {},
   "cell_type": "markdown",
   "metadata": {},
   "source": [
    "**Setting path to the dataset**"
   ]
  },
  {
   "cell_type": "code",
   "execution_count": 2,
   "metadata": {},
   "outputs": [],
   "source": [
    "os.chdir(Path(str(Path(os.getcwd()).parent.absolute().parent.absolute()) +\n",
    "              '\\\\adni-images-Full-resized160x192-binary'))"
   ]
  },
  {
   "cell_type": "code",
   "execution_count": 3,
   "metadata": {},
   "outputs": [
    {
     "name": "stdout",
     "output_type": "stream",
     "text": [
      "d:\\Projects\\ADNI-brain-MRI-alzheimer-classification-and-GAN-generation\\adni-images-Full-resized160x192-binary\n"
     ]
    }
   ],
   "source": [
    "print(os.getcwd())"
   ]
  },
  {
   "attachments": {},
   "cell_type": "markdown",
   "metadata": {},
   "source": [
    "# Loading Dataset"
   ]
  },
  {
   "cell_type": "code",
   "execution_count": 4,
   "metadata": {},
   "outputs": [
    {
     "name": "stdout",
     "output_type": "stream",
     "text": [
      "61829\n",
      "Name:  d:\\Projects\\ADNI-brain-MRI-alzheimer-classification-and-GAN-generation\\adni-images-Full-resized160x192-binary\\no_balance_binary\\logs_no_balance_binary\\train/events.out.tfevents.1686073730.GIORGIO-LAPTOP.43900.0.v2\n",
      "Name:  d:\\Projects\\ADNI-brain-MRI-alzheimer-classification-and-GAN-generation\\adni-images-Full-resized160x192-binary\\train\\ad/ADNI_021_S_0753_MR_MPR__GradWarp__B1_Correction__N3__Scaled_Br_20071115091031185_S18712_I82162_101.png\n"
     ]
    }
   ],
   "source": [
    "data_dir = Path(os.getcwd())\n",
    "\n",
    "def data_mean_std():\n",
    "    names = []\n",
    "    for root, dirs, files in os.walk(data_dir):\n",
    "        if \"train\" in root:\n",
    "            for file in files:\n",
    "                names.append(root + '/' + file)\n",
    "    \n",
    "    print(len(names))\n",
    "                \n",
    "    array = []\n",
    "    for name in names:\n",
    "        try:\n",
    "            img = load_img(name, color_mode = 'grayscale', target_size = (160, 192))\n",
    "            img_array = np.asarray(img)\n",
    "            array.append(img_array)\n",
    "        except:\n",
    "            print(\"Name: \", name)\n",
    "            continue\n",
    "    \n",
    "    print(img_array.shape) # Correct amount of images\n",
    "\n",
    "    array = np.asarray(array)\n",
    "    print(array.shape)\n",
    "    print(array.mean().shape, array.std().shape)\n",
    "    return array.mean(), array.std()\n",
    "\"\"\" \n",
    "stats_file = open(stats_path, 'r')\n",
    "stats_lst = stats_file.read().split('\\n')\n",
    "mean = float(stats_lst[0])\n",
    "std = float(stats_lst[1])\"\"\"\n",
    "mean, std = data_mean_std()\n",
    "\n",
    "print(mean, std)\n"
   ]
  },
  {
   "attachments": {},
   "cell_type": "markdown",
   "metadata": {},
   "source": [
    "Use the pre-computed values (oversampling GAN):"
   ]
  },
  {
   "cell_type": "code",
   "execution_count": 3,
   "metadata": {},
   "outputs": [],
   "source": [
    "mean = 35.80925715423529\n",
    "std = 45.16736479384096"
   ]
  },
  {
   "cell_type": "code",
   "execution_count": 4,
   "metadata": {},
   "outputs": [],
   "source": [
    "def normalize(x):\n",
    "    return (x - mean) / std"
   ]
  },
  {
   "cell_type": "code",
   "execution_count": 5,
   "metadata": {},
   "outputs": [],
   "source": [
    "batch_size = 32 # Batch size\n",
    "\n",
    "train_path = './train_strat_sub_under'\n",
    "test_path = './test'\n",
    "valid_path = './valid'\n",
    "#rescale = 1./255.\n",
    "train_datagen = ImageDataGenerator(preprocessing_function = normalize)\n",
    "test_datagen = ImageDataGenerator(preprocessing_function = normalize)\n",
    "valid_datagen = ImageDataGenerator(preprocessing_function = normalize)"
   ]
  },
  {
   "cell_type": "code",
   "execution_count": 8,
   "metadata": {},
   "outputs": [
    {
     "name": "stdout",
     "output_type": "stream",
     "text": [
      "Found 41094 images belonging to 2 classes.\n"
     ]
    }
   ],
   "source": [
    "train_data = train_datagen.flow_from_directory(\n",
    "        train_path,\n",
    "        color_mode = 'grayscale',\n",
    "        target_size=(192, 160),  # Lo inserisco per precauzione\n",
    "        batch_size=batch_size,\n",
    "        seed=123,\n",
    "        shuffle=True,\n",
    "        class_mode= \"binary\")"
   ]
  },
  {
   "cell_type": "code",
   "execution_count": 9,
   "metadata": {},
   "outputs": [
    {
     "name": "stdout",
     "output_type": "stream",
     "text": [
      "Found 10748 images belonging to 2 classes.\n"
     ]
    }
   ],
   "source": [
    "validation_data = valid_datagen.flow_from_directory(\n",
    "        valid_path,\n",
    "        classes={'ad': 0, \n",
    "                'nor': 1},\n",
    "        color_mode='grayscale',\n",
    "        target_size=(192, 160),  # Lo inserisco per precauzione\n",
    "        batch_size=batch_size,\n",
    "        seed=123,\n",
    "        shuffle=True,\n",
    "        class_mode= \"binary\")"
   ]
  },
  {
   "cell_type": "code",
   "execution_count": 10,
   "metadata": {},
   "outputs": [
    {
     "name": "stdout",
     "output_type": "stream",
     "text": [
      "Found 4572 images belonging to 2 classes.\n"
     ]
    }
   ],
   "source": [
    "# Test set\n",
    "test_data = test_datagen.flow_from_directory(\n",
    "        test_path,\n",
    "        color_mode='grayscale',\n",
    "        target_size=(192, 160),  # Lo inserisco per precauzione\n",
    "        batch_size=batch_size,\n",
    "        shuffle=False,\n",
    "        class_mode= \"binary\")"
   ]
  },
  {
   "cell_type": "code",
   "execution_count": 11,
   "metadata": {},
   "outputs": [
    {
     "data": {
      "text/plain": [
       "{'ad': 0, 'nor': 1}"
      ]
     },
     "execution_count": 11,
     "metadata": {},
     "output_type": "execute_result"
    }
   ],
   "source": [
    "train_data.class_indices"
   ]
  },
  {
   "cell_type": "code",
   "execution_count": 12,
   "metadata": {},
   "outputs": [
    {
     "data": {
      "text/plain": [
       "{'ad': 0, 'nor': 1}"
      ]
     },
     "execution_count": 12,
     "metadata": {},
     "output_type": "execute_result"
    }
   ],
   "source": [
    "validation_data.class_indices"
   ]
  },
  {
   "cell_type": "code",
   "execution_count": 13,
   "metadata": {},
   "outputs": [
    {
     "data": {
      "text/plain": [
       "{'ad': 0, 'nor': 1}"
      ]
     },
     "execution_count": 13,
     "metadata": {},
     "output_type": "execute_result"
    }
   ],
   "source": [
    "test_data.class_indices"
   ]
  },
  {
   "cell_type": "code",
   "execution_count": 14,
   "metadata": {},
   "outputs": [
    {
     "name": "stdout",
     "output_type": "stream",
     "text": [
      "0.41772521535990653 0.5822747846400934\n"
     ]
    }
   ],
   "source": [
    "train_ad = len(os.listdir(os.getcwd() + '\\\\train_strat_sub_under\\\\ad'))\n",
    "train_nor = len(os.listdir(os.getcwd() + '\\\\train_strat_sub_under\\\\nor'))\n",
    "train_tot = train_ad + train_nor\n",
    "print(train_ad/train_tot, train_nor/train_tot)"
   ]
  },
  {
   "cell_type": "code",
   "execution_count": 15,
   "metadata": {},
   "outputs": [
    {
     "name": "stdout",
     "output_type": "stream",
     "text": [
      "0.5201224846894138 0.4798775153105862\n"
     ]
    }
   ],
   "source": [
    "test_ad = len(os.listdir(os.getcwd() + '\\\\test\\\\ad'))\n",
    "test_nor = len(os.listdir(os.getcwd() + '\\\\test\\\\nor'))\n",
    "test_tot = test_ad + test_nor\n",
    "print(test_ad/test_tot, test_nor/test_tot)"
   ]
  },
  {
   "cell_type": "code",
   "execution_count": 16,
   "metadata": {},
   "outputs": [
    {
     "name": "stdout",
     "output_type": "stream",
     "text": [
      "0.3731857089691105 0.6268142910308895\n"
     ]
    }
   ],
   "source": [
    "valid_ad = len(os.listdir(os.getcwd() + '\\\\valid\\\\ad'))\n",
    "valid_nor = len(os.listdir(os.getcwd() + '\\\\valid\\\\nor'))\n",
    "valid_tot = valid_ad + valid_nor\n",
    "print(valid_ad/valid_tot, valid_nor/valid_tot)"
   ]
  },
  {
   "attachments": {},
   "cell_type": "markdown",
   "metadata": {},
   "source": [
    "# Model Definition"
   ]
  },
  {
   "attachments": {},
   "cell_type": "markdown",
   "metadata": {},
   "source": [
    "Changing the folder to data path to save weights into"
   ]
  },
  {
   "cell_type": "code",
   "execution_count": 17,
   "metadata": {},
   "outputs": [],
   "source": [
    "os.chdir(Path(str(Path(os.getcwd()).parent.absolute()) + '\\\\scripts\\\\3_Resnet18_first'))"
   ]
  },
  {
   "cell_type": "code",
   "execution_count": 18,
   "metadata": {},
   "outputs": [
    {
     "data": {
      "text/plain": [
       "'d:\\\\Projects\\\\ADNI-brain-MRI-alzheimer-classification-and-GAN-generation\\\\scripts\\\\3_Resnet18_first'"
      ]
     },
     "execution_count": 18,
     "metadata": {},
     "output_type": "execute_result"
    }
   ],
   "source": [
    "os.getcwd()"
   ]
  },
  {
   "cell_type": "code",
   "execution_count": 19,
   "metadata": {},
   "outputs": [],
   "source": [
    "METRICS = [ \n",
    "      keras.metrics.TruePositives(name='tp'),\n",
    "      keras.metrics.FalsePositives(name='fp'),\n",
    "      keras.metrics.TrueNegatives(name='tn'),\n",
    "      keras.metrics.FalseNegatives(name='fn'),\n",
    "      keras.metrics.BinaryAccuracy(name='accuracy'),\n",
    "      keras.metrics.Precision(name='precision'),\n",
    "      keras.metrics.Recall(name='recall'),\n",
    "      keras.metrics.AUC(name='auc')\n",
    "]"
   ]
  },
  {
   "cell_type": "code",
   "execution_count": 20,
   "metadata": {},
   "outputs": [],
   "source": [
    "early_stopper = keras.callbacks.EarlyStopping(monitor='val_loss', patience=100)"
   ]
  },
  {
   "cell_type": "code",
   "execution_count": 22,
   "metadata": {},
   "outputs": [
    {
     "name": "stdout",
     "output_type": "stream",
     "text": [
      "<class 'keras.engine.keras_tensor.KerasTensor'>\n",
      "model loaded\n",
      "Model: \"model_1\"\n",
      "__________________________________________________________________________________________________\n",
      " Layer (type)                   Output Shape         Param #     Connected to                     \n",
      "==================================================================================================\n",
      " input_2 (InputLayer)           [(None, 192, 160, 1  0           []                               \n",
      "                                )]                                                                \n",
      "                                                                                                  \n",
      " conv1_pad (ZeroPadding2D)      (None, 198, 166, 1)  0           ['input_2[0][0]']                \n",
      "                                                                                                  \n",
      " conv1 (Conv2D)                 (None, 96, 80, 64)   3200        ['conv1_pad[0][0]']              \n",
      "                                                                                                  \n",
      " bn_conv1 (BatchNormalization)  (None, 96, 80, 64)   256         ['conv1[0][0]']                  \n",
      "                                                                                                  \n",
      " leaky_re_lu_17 (LeakyReLU)     (None, 96, 80, 64)   0           ['bn_conv1[0][0]']               \n",
      "                                                                                                  \n",
      " max_pooling2d_1 (MaxPooling2D)  (None, 47, 39, 64)  0           ['leaky_re_lu_17[0][0]']         \n",
      "                                                                                                  \n",
      " res2a_branch2a (Conv2D)        (None, 47, 39, 64)   36928       ['max_pooling2d_1[0][0]']        \n",
      "                                                                                                  \n",
      " bn2a_branch2a (BatchNormalizat  (None, 47, 39, 64)  256         ['res2a_branch2a[0][0]']         \n",
      " ion)                                                                                             \n",
      "                                                                                                  \n",
      " leaky_re_lu_18 (LeakyReLU)     (None, 47, 39, 64)   0           ['bn2a_branch2a[0][0]']          \n",
      "                                                                                                  \n",
      " res2a_branch2b (Conv2D)        (None, 47, 39, 64)   36928       ['leaky_re_lu_18[0][0]']         \n",
      "                                                                                                  \n",
      " res2a_branch1 (Conv2D)         (None, 47, 39, 64)   4160        ['max_pooling2d_1[0][0]']        \n",
      "                                                                                                  \n",
      " bn2a_branch2b (BatchNormalizat  (None, 47, 39, 64)  256         ['res2a_branch2b[0][0]']         \n",
      " ion)                                                                                             \n",
      "                                                                                                  \n",
      " bn2a_branch1 (BatchNormalizati  (None, 47, 39, 64)  256         ['res2a_branch1[0][0]']          \n",
      " on)                                                                                              \n",
      "                                                                                                  \n",
      " add_8 (Add)                    (None, 47, 39, 64)   0           ['bn2a_branch2b[0][0]',          \n",
      "                                                                  'bn2a_branch1[0][0]']           \n",
      "                                                                                                  \n",
      " leaky_re_lu_19 (LeakyReLU)     (None, 47, 39, 64)   0           ['add_8[0][0]']                  \n",
      "                                                                                                  \n",
      " res2b_branch2a (Conv2D)        (None, 47, 39, 64)   36928       ['leaky_re_lu_19[0][0]']         \n",
      "                                                                                                  \n",
      " bn2b_branch2a (BatchNormalizat  (None, 47, 39, 64)  256         ['res2b_branch2a[0][0]']         \n",
      " ion)                                                                                             \n",
      "                                                                                                  \n",
      " leaky_re_lu_20 (LeakyReLU)     (None, 47, 39, 64)   0           ['bn2b_branch2a[0][0]']          \n",
      "                                                                                                  \n",
      " res2b_branch2b (Conv2D)        (None, 47, 39, 64)   36928       ['leaky_re_lu_20[0][0]']         \n",
      "                                                                                                  \n",
      " bn2b_branch2b (BatchNormalizat  (None, 47, 39, 64)  256         ['res2b_branch2b[0][0]']         \n",
      " ion)                                                                                             \n",
      "                                                                                                  \n",
      " add_9 (Add)                    (None, 47, 39, 64)   0           ['bn2b_branch2b[0][0]',          \n",
      "                                                                  'leaky_re_lu_19[0][0]']         \n",
      "                                                                                                  \n",
      " leaky_re_lu_21 (LeakyReLU)     (None, 47, 39, 64)   0           ['add_9[0][0]']                  \n",
      "                                                                                                  \n",
      " res3a_branch2a (Conv2D)        (None, 24, 20, 128)  73856       ['leaky_re_lu_21[0][0]']         \n",
      "                                                                                                  \n",
      " bn3a_branch2a (BatchNormalizat  (None, 24, 20, 128)  512        ['res3a_branch2a[0][0]']         \n",
      " ion)                                                                                             \n",
      "                                                                                                  \n",
      " leaky_re_lu_22 (LeakyReLU)     (None, 24, 20, 128)  0           ['bn3a_branch2a[0][0]']          \n",
      "                                                                                                  \n",
      " res3a_branch2b (Conv2D)        (None, 24, 20, 128)  147584      ['leaky_re_lu_22[0][0]']         \n",
      "                                                                                                  \n",
      " res3a_branch1 (Conv2D)         (None, 24, 20, 128)  8320        ['leaky_re_lu_21[0][0]']         \n",
      "                                                                                                  \n",
      " bn3a_branch2b (BatchNormalizat  (None, 24, 20, 128)  512        ['res3a_branch2b[0][0]']         \n",
      " ion)                                                                                             \n",
      "                                                                                                  \n",
      " bn3a_branch1 (BatchNormalizati  (None, 24, 20, 128)  512        ['res3a_branch1[0][0]']          \n",
      " on)                                                                                              \n",
      "                                                                                                  \n",
      " add_10 (Add)                   (None, 24, 20, 128)  0           ['bn3a_branch2b[0][0]',          \n",
      "                                                                  'bn3a_branch1[0][0]']           \n",
      "                                                                                                  \n",
      " leaky_re_lu_23 (LeakyReLU)     (None, 24, 20, 128)  0           ['add_10[0][0]']                 \n",
      "                                                                                                  \n",
      " res3b_branch2a (Conv2D)        (None, 24, 20, 128)  147584      ['leaky_re_lu_23[0][0]']         \n",
      "                                                                                                  \n",
      " bn3b_branch2a (BatchNormalizat  (None, 24, 20, 128)  512        ['res3b_branch2a[0][0]']         \n",
      " ion)                                                                                             \n",
      "                                                                                                  \n",
      " leaky_re_lu_24 (LeakyReLU)     (None, 24, 20, 128)  0           ['bn3b_branch2a[0][0]']          \n",
      "                                                                                                  \n",
      " res3b_branch2b (Conv2D)        (None, 24, 20, 128)  147584      ['leaky_re_lu_24[0][0]']         \n",
      "                                                                                                  \n",
      " bn3b_branch2b (BatchNormalizat  (None, 24, 20, 128)  512        ['res3b_branch2b[0][0]']         \n",
      " ion)                                                                                             \n",
      "                                                                                                  \n",
      " add_11 (Add)                   (None, 24, 20, 128)  0           ['bn3b_branch2b[0][0]',          \n",
      "                                                                  'leaky_re_lu_23[0][0]']         \n",
      "                                                                                                  \n",
      " leaky_re_lu_25 (LeakyReLU)     (None, 24, 20, 128)  0           ['add_11[0][0]']                 \n",
      "                                                                                                  \n",
      " res4a_branch2a (Conv2D)        (None, 12, 10, 256)  295168      ['leaky_re_lu_25[0][0]']         \n",
      "                                                                                                  \n",
      " bn4a_branch2a (BatchNormalizat  (None, 12, 10, 256)  1024       ['res4a_branch2a[0][0]']         \n",
      " ion)                                                                                             \n",
      "                                                                                                  \n",
      " leaky_re_lu_26 (LeakyReLU)     (None, 12, 10, 256)  0           ['bn4a_branch2a[0][0]']          \n",
      "                                                                                                  \n",
      " res4a_branch2b (Conv2D)        (None, 12, 10, 256)  590080      ['leaky_re_lu_26[0][0]']         \n",
      "                                                                                                  \n",
      " res4a_branch1 (Conv2D)         (None, 12, 10, 256)  33024       ['leaky_re_lu_25[0][0]']         \n",
      "                                                                                                  \n",
      " bn4a_branch2b (BatchNormalizat  (None, 12, 10, 256)  1024       ['res4a_branch2b[0][0]']         \n",
      " ion)                                                                                             \n",
      "                                                                                                  \n",
      " bn4a_branch1 (BatchNormalizati  (None, 12, 10, 256)  1024       ['res4a_branch1[0][0]']          \n",
      " on)                                                                                              \n",
      "                                                                                                  \n",
      " add_12 (Add)                   (None, 12, 10, 256)  0           ['bn4a_branch2b[0][0]',          \n",
      "                                                                  'bn4a_branch1[0][0]']           \n",
      "                                                                                                  \n",
      " leaky_re_lu_27 (LeakyReLU)     (None, 12, 10, 256)  0           ['add_12[0][0]']                 \n",
      "                                                                                                  \n",
      " res4b_branch2a (Conv2D)        (None, 12, 10, 256)  590080      ['leaky_re_lu_27[0][0]']         \n",
      "                                                                                                  \n",
      " bn4b_branch2a (BatchNormalizat  (None, 12, 10, 256)  1024       ['res4b_branch2a[0][0]']         \n",
      " ion)                                                                                             \n",
      "                                                                                                  \n",
      " leaky_re_lu_28 (LeakyReLU)     (None, 12, 10, 256)  0           ['bn4b_branch2a[0][0]']          \n",
      "                                                                                                  \n",
      " res4b_branch2b (Conv2D)        (None, 12, 10, 256)  590080      ['leaky_re_lu_28[0][0]']         \n",
      "                                                                                                  \n",
      " bn4b_branch2b (BatchNormalizat  (None, 12, 10, 256)  1024       ['res4b_branch2b[0][0]']         \n",
      " ion)                                                                                             \n",
      "                                                                                                  \n",
      " add_13 (Add)                   (None, 12, 10, 256)  0           ['bn4b_branch2b[0][0]',          \n",
      "                                                                  'leaky_re_lu_27[0][0]']         \n",
      "                                                                                                  \n",
      " leaky_re_lu_29 (LeakyReLU)     (None, 12, 10, 256)  0           ['add_13[0][0]']                 \n",
      "                                                                                                  \n",
      " res5a_branch2a (Conv2D)        (None, 6, 5, 512)    1180160     ['leaky_re_lu_29[0][0]']         \n",
      "                                                                                                  \n",
      " bn5a_branch2a (BatchNormalizat  (None, 6, 5, 512)   2048        ['res5a_branch2a[0][0]']         \n",
      " ion)                                                                                             \n",
      "                                                                                                  \n",
      " leaky_re_lu_30 (LeakyReLU)     (None, 6, 5, 512)    0           ['bn5a_branch2a[0][0]']          \n",
      "                                                                                                  \n",
      " res5a_branch2b (Conv2D)        (None, 6, 5, 512)    2359808     ['leaky_re_lu_30[0][0]']         \n",
      "                                                                                                  \n",
      " res5a_branch1 (Conv2D)         (None, 6, 5, 512)    131584      ['leaky_re_lu_29[0][0]']         \n",
      "                                                                                                  \n",
      " bn5a_branch2b (BatchNormalizat  (None, 6, 5, 512)   2048        ['res5a_branch2b[0][0]']         \n",
      " ion)                                                                                             \n",
      "                                                                                                  \n",
      " bn5a_branch1 (BatchNormalizati  (None, 6, 5, 512)   2048        ['res5a_branch1[0][0]']          \n",
      " on)                                                                                              \n",
      "                                                                                                  \n",
      " add_14 (Add)                   (None, 6, 5, 512)    0           ['bn5a_branch2b[0][0]',          \n",
      "                                                                  'bn5a_branch1[0][0]']           \n",
      "                                                                                                  \n",
      " leaky_re_lu_31 (LeakyReLU)     (None, 6, 5, 512)    0           ['add_14[0][0]']                 \n",
      "                                                                                                  \n",
      " res5b_branch2a (Conv2D)        (None, 6, 5, 512)    2359808     ['leaky_re_lu_31[0][0]']         \n",
      "                                                                                                  \n",
      " bn5b_branch2a (BatchNormalizat  (None, 6, 5, 512)   2048        ['res5b_branch2a[0][0]']         \n",
      " ion)                                                                                             \n",
      "                                                                                                  \n",
      " leaky_re_lu_32 (LeakyReLU)     (None, 6, 5, 512)    0           ['bn5b_branch2a[0][0]']          \n",
      "                                                                                                  \n",
      " res5b_branch2b (Conv2D)        (None, 6, 5, 512)    2359808     ['leaky_re_lu_32[0][0]']         \n",
      "                                                                                                  \n",
      " bn5b_branch2b (BatchNormalizat  (None, 6, 5, 512)   2048        ['res5b_branch2b[0][0]']         \n",
      " ion)                                                                                             \n",
      "                                                                                                  \n",
      " add_15 (Add)                   (None, 6, 5, 512)    0           ['bn5b_branch2b[0][0]',          \n",
      "                                                                  'leaky_re_lu_31[0][0]']         \n",
      "                                                                                                  \n",
      " leaky_re_lu_33 (LeakyReLU)     (None, 6, 5, 512)    0           ['add_15[0][0]']                 \n",
      "                                                                                                  \n",
      " avg_pool (AveragePooling2D)    (None, 1, 1, 512)    0           ['leaky_re_lu_33[0][0]']         \n",
      "                                                                                                  \n",
      " flatten_1 (Flatten)            (None, 512)          0           ['avg_pool[0][0]']               \n",
      "                                                                                                  \n",
      " dense_1 (Dense)                (None, 1)            513         ['flatten_1[0][0]']              \n",
      "                                                                                                  \n",
      "==================================================================================================\n",
      "Total params: 11,189,569\n",
      "Trainable params: 11,179,841\n",
      "Non-trainable params: 9,728\n",
      "__________________________________________________________________________________________________\n"
     ]
    }
   ],
   "source": [
    "version = \"v1\"\n",
    "epochs = 25\n",
    "arch_name = 'bs_{}'.format(batch_size)\n",
    "\n",
    "tb = TensorBoard(log_dir =os.getcwd() + '\\\\binary_stratified_sub_under\\\\logs_binary_stratified_sub_under', write_graph = True)\n",
    "\n",
    "lr_reducer = ReduceLROnPlateau(monitor='loss', factor=np.sqrt(0.1), patience=10, cooldown=0, min_lr=1e-5)\n",
    "\n",
    "model_chkp = ModelCheckpoint(filepath='D:\\\\Projects\\\\ADNI-brain-MRI-alzheimer-classification-and-GAN-generation\\\\models\\\\best_model_binary_stratified_sub_under\\\\{}_{}_{}_eps_best.hdf5'.format(version, arch_name, epochs),\n",
    "                            # monitor='val_quadratic_kappa_score',\n",
    "                            monitor='val_accuracy',\n",
    "                            save_best_only=True, save_weights_only=True, mode='max')\n",
    "\n",
    "#resnet = ResNet18()\n",
    "#resnet = ResNet18(classes=3, input_shape=(160, 192))\n",
    "resnet = ResNet18(classes=2)\n",
    "\n",
    "\n",
    "#model = keras.applications.resnet50.ResNet50(include_top=True, weights='imagenet', input_tensor=None, input_shape=None, pooling=None, classes=1000)\n",
    "#model.summary()\n",
    "\n",
    "#resnet.layers.pop()\n",
    "#for layer in resnet.layers:\n",
    "#    layer.trainable = False\n",
    "\n",
    "x = resnet.layers[-1].output\n",
    "\n",
    "# x = Dropout(0.25)(x)\n",
    "\n",
    "x = Dense(1, activation = 'sigmoid')(x)\n",
    "\n",
    "\n",
    "ft_resnet = Model(resnet.input, x)\n",
    "optimizer = Adam(learning_rate = 0.001)\n",
    "ft_resnet.compile(optimizer = optimizer, loss = 'BinaryCrossentropy', metrics = METRICS)\n",
    "\n",
    "print(\"model loaded\")\n",
    "\n",
    "ft_resnet.summary()"
   ]
  },
  {
   "attachments": {},
   "cell_type": "markdown",
   "metadata": {},
   "source": [
    "Changing back the folder to data path"
   ]
  },
  {
   "cell_type": "code",
   "execution_count": 23,
   "metadata": {},
   "outputs": [
    {
     "data": {
      "text/plain": [
       "'d:\\\\Projects\\\\ADNI-brain-MRI-alzheimer-classification-and-GAN-generation\\\\adni-images-Full-resized160x192-binary'"
      ]
     },
     "execution_count": 23,
     "metadata": {},
     "output_type": "execute_result"
    }
   ],
   "source": [
    "os.chdir(Path(str(Path(os.getcwd()).parent.absolute().parent.absolute()) + '\\\\adni-images-Full-resized160x192-binary'))\n",
    "os.getcwd()"
   ]
  },
  {
   "cell_type": "code",
   "execution_count": 24,
   "metadata": {},
   "outputs": [
    {
     "name": "stdout",
     "output_type": "stream",
     "text": [
      "41094 10748\n",
      "1285.0 336.0\n",
      "Epoch 1/25\n",
      "1285/1285 [==============================] - 88s 63ms/step - loss: 0.5123 - tp: 19754.0000 - fp: 6181.0000 - tn: 10985.0000 - fn: 4174.0000 - accuracy: 0.7480 - precision: 0.7617 - recall: 0.8256 - auc: 0.8218 - val_loss: 0.9202 - val_tp: 4450.0000 - val_fp: 1826.0000 - val_tn: 2185.0000 - val_fn: 2287.0000 - val_accuracy: 0.6173 - val_precision: 0.7091 - val_recall: 0.6605 - val_auc: 0.6351 - lr: 0.0010\n",
      "Epoch 2/25\n",
      "1285/1285 [==============================] - 79s 62ms/step - loss: 0.2696 - tp: 21845.0000 - fp: 2633.0000 - tn: 14533.0000 - fn: 2083.0000 - accuracy: 0.8852 - precision: 0.8924 - recall: 0.9129 - auc: 0.9537 - val_loss: 3.1511 - val_tp: 1438.0000 - val_fp: 249.0000 - val_tn: 3762.0000 - val_fn: 5299.0000 - val_accuracy: 0.4838 - val_precision: 0.8524 - val_recall: 0.2134 - val_auc: 0.6540 - lr: 0.0010\n",
      "Epoch 3/25\n",
      "1285/1285 [==============================] - 81s 63ms/step - loss: 0.1559 - tp: 22778.0000 - fp: 1389.0000 - tn: 15777.0000 - fn: 1150.0000 - accuracy: 0.9382 - precision: 0.9425 - recall: 0.9519 - auc: 0.9843 - val_loss: 1.4821 - val_tp: 4993.0000 - val_fp: 2058.0000 - val_tn: 1953.0000 - val_fn: 1744.0000 - val_accuracy: 0.6463 - val_precision: 0.7081 - val_recall: 0.7411 - val_auc: 0.6558 - lr: 0.0010\n",
      "Epoch 4/25\n",
      "1285/1285 [==============================] - 80s 62ms/step - loss: 0.0970 - tp: 23218.0000 - fp: 820.0000 - tn: 16346.0000 - fn: 710.0000 - accuracy: 0.9628 - precision: 0.9659 - recall: 0.9703 - auc: 0.9937 - val_loss: 1.5801 - val_tp: 4318.0000 - val_fp: 1693.0000 - val_tn: 2318.0000 - val_fn: 2419.0000 - val_accuracy: 0.6174 - val_precision: 0.7183 - val_recall: 0.6409 - val_auc: 0.6481 - lr: 0.0010\n",
      "Epoch 5/25\n",
      "1285/1285 [==============================] - 79s 61ms/step - loss: 0.0713 - tp: 23401.0000 - fp: 572.0000 - tn: 16594.0000 - fn: 527.0000 - accuracy: 0.9733 - precision: 0.9761 - recall: 0.9780 - auc: 0.9964 - val_loss: 1.9487 - val_tp: 4631.0000 - val_fp: 1854.0000 - val_tn: 2157.0000 - val_fn: 2106.0000 - val_accuracy: 0.6316 - val_precision: 0.7141 - val_recall: 0.6874 - val_auc: 0.6448 - lr: 0.0010\n",
      "Epoch 6/25\n",
      "1285/1285 [==============================] - 79s 62ms/step - loss: 0.0575 - tp: 23486.0000 - fp: 469.0000 - tn: 16697.0000 - fn: 442.0000 - accuracy: 0.9778 - precision: 0.9804 - recall: 0.9815 - auc: 0.9975 - val_loss: 2.1129 - val_tp: 3567.0000 - val_fp: 1199.0000 - val_tn: 2812.0000 - val_fn: 3170.0000 - val_accuracy: 0.5935 - val_precision: 0.7484 - val_recall: 0.5295 - val_auc: 0.6654 - lr: 0.0010\n",
      "Epoch 7/25\n",
      "1285/1285 [==============================] - 80s 62ms/step - loss: 0.0441 - tp: 23606.0000 - fp: 349.0000 - tn: 16817.0000 - fn: 322.0000 - accuracy: 0.9837 - precision: 0.9854 - recall: 0.9865 - auc: 0.9984 - val_loss: 2.6738 - val_tp: 3700.0000 - val_fp: 1300.0000 - val_tn: 2711.0000 - val_fn: 3037.0000 - val_accuracy: 0.5965 - val_precision: 0.7400 - val_recall: 0.5492 - val_auc: 0.6506 - lr: 0.0010\n",
      "Epoch 8/25\n",
      "1285/1285 [==============================] - 79s 62ms/step - loss: 0.0414 - tp: 23622.0000 - fp: 335.0000 - tn: 16831.0000 - fn: 306.0000 - accuracy: 0.9844 - precision: 0.9860 - recall: 0.9872 - auc: 0.9984 - val_loss: 2.5285 - val_tp: 3500.0000 - val_fp: 1496.0000 - val_tn: 2515.0000 - val_fn: 3237.0000 - val_accuracy: 0.5596 - val_precision: 0.7006 - val_recall: 0.5195 - val_auc: 0.6063 - lr: 0.0010\n",
      "Epoch 9/25\n",
      "1285/1285 [==============================] - 79s 62ms/step - loss: 0.0383 - tp: 23645.0000 - fp: 273.0000 - tn: 16893.0000 - fn: 283.0000 - accuracy: 0.9865 - precision: 0.9886 - recall: 0.9882 - auc: 0.9986 - val_loss: 1.9225 - val_tp: 5022.0000 - val_fp: 2035.0000 - val_tn: 1976.0000 - val_fn: 1715.0000 - val_accuracy: 0.6511 - val_precision: 0.7116 - val_recall: 0.7454 - val_auc: 0.6526 - lr: 0.0010\n",
      "Epoch 10/25\n",
      "1285/1285 [==============================] - 79s 61ms/step - loss: 0.0296 - tp: 23716.0000 - fp: 218.0000 - tn: 16948.0000 - fn: 212.0000 - accuracy: 0.9895 - precision: 0.9909 - recall: 0.9911 - auc: 0.9990 - val_loss: 2.5776 - val_tp: 4576.0000 - val_fp: 2044.0000 - val_tn: 1967.0000 - val_fn: 2161.0000 - val_accuracy: 0.6088 - val_precision: 0.6912 - val_recall: 0.6792 - val_auc: 0.6138 - lr: 0.0010\n",
      "Epoch 11/25\n",
      "1285/1285 [==============================] - 82s 64ms/step - loss: 0.0282 - tp: 23720.0000 - fp: 216.0000 - tn: 16950.0000 - fn: 208.0000 - accuracy: 0.9897 - precision: 0.9910 - recall: 0.9913 - auc: 0.9992 - val_loss: 4.2348 - val_tp: 2084.0000 - val_fp: 757.0000 - val_tn: 3254.0000 - val_fn: 4653.0000 - val_accuracy: 0.4967 - val_precision: 0.7335 - val_recall: 0.3093 - val_auc: 0.5877 - lr: 0.0010\n",
      "Epoch 12/25\n",
      "1285/1285 [==============================] - 80s 62ms/step - loss: 0.0231 - tp: 23754.0000 - fp: 190.0000 - tn: 16976.0000 - fn: 174.0000 - accuracy: 0.9911 - precision: 0.9921 - recall: 0.9927 - auc: 0.9995 - val_loss: 3.2441 - val_tp: 3131.0000 - val_fp: 1341.0000 - val_tn: 2670.0000 - val_fn: 3606.0000 - val_accuracy: 0.5397 - val_precision: 0.7001 - val_recall: 0.4647 - val_auc: 0.5907 - lr: 0.0010\n",
      "Epoch 13/25\n",
      "1285/1285 [==============================] - 80s 62ms/step - loss: 0.0199 - tp: 23789.0000 - fp: 161.0000 - tn: 17005.0000 - fn: 139.0000 - accuracy: 0.9927 - precision: 0.9933 - recall: 0.9942 - auc: 0.9995 - val_loss: 2.4142 - val_tp: 4098.0000 - val_fp: 1671.0000 - val_tn: 2340.0000 - val_fn: 2639.0000 - val_accuracy: 0.5990 - val_precision: 0.7103 - val_recall: 0.6083 - val_auc: 0.6254 - lr: 0.0010\n",
      "Epoch 14/25\n",
      "1285/1285 [==============================] - 80s 62ms/step - loss: 0.0179 - tp: 23814.0000 - fp: 124.0000 - tn: 17042.0000 - fn: 114.0000 - accuracy: 0.9942 - precision: 0.9948 - recall: 0.9952 - auc: 0.9995 - val_loss: 2.7438 - val_tp: 3893.0000 - val_fp: 1651.0000 - val_tn: 2360.0000 - val_fn: 2844.0000 - val_accuracy: 0.5818 - val_precision: 0.7022 - val_recall: 0.5779 - val_auc: 0.6135 - lr: 0.0010\n",
      "Epoch 15/25\n",
      "1285/1285 [==============================] - 78s 61ms/step - loss: 0.0200 - tp: 23773.0000 - fp: 156.0000 - tn: 17010.0000 - fn: 155.0000 - accuracy: 0.9924 - precision: 0.9935 - recall: 0.9935 - auc: 0.9995 - val_loss: 2.4065 - val_tp: 5788.0000 - val_fp: 2701.0000 - val_tn: 1310.0000 - val_fn: 949.0000 - val_accuracy: 0.6604 - val_precision: 0.6818 - val_recall: 0.8591 - val_auc: 0.6249 - lr: 0.0010\n",
      "Epoch 16/25\n",
      "1285/1285 [==============================] - 77s 60ms/step - loss: 0.0116 - tp: 23853.0000 - fp: 86.0000 - tn: 17080.0000 - fn: 75.0000 - accuracy: 0.9961 - precision: 0.9964 - recall: 0.9969 - auc: 0.9998 - val_loss: 2.6593 - val_tp: 3828.0000 - val_fp: 1513.0000 - val_tn: 2498.0000 - val_fn: 2909.0000 - val_accuracy: 0.5886 - val_precision: 0.7167 - val_recall: 0.5682 - val_auc: 0.6292 - lr: 0.0010\n",
      "Epoch 17/25\n",
      "1285/1285 [==============================] - 80s 62ms/step - loss: 0.0165 - tp: 23813.0000 - fp: 132.0000 - tn: 17034.0000 - fn: 115.0000 - accuracy: 0.9940 - precision: 0.9945 - recall: 0.9952 - auc: 0.9997 - val_loss: 2.6288 - val_tp: 3764.0000 - val_fp: 1495.0000 - val_tn: 2516.0000 - val_fn: 2973.0000 - val_accuracy: 0.5843 - val_precision: 0.7157 - val_recall: 0.5587 - val_auc: 0.6214 - lr: 0.0010\n",
      "Epoch 18/25\n",
      "1285/1285 [==============================] - 99s 77ms/step - loss: 0.0135 - tp: 23835.0000 - fp: 99.0000 - tn: 17067.0000 - fn: 93.0000 - accuracy: 0.9953 - precision: 0.9959 - recall: 0.9961 - auc: 0.9998 - val_loss: 2.6780 - val_tp: 3944.0000 - val_fp: 1674.0000 - val_tn: 2337.0000 - val_fn: 2793.0000 - val_accuracy: 0.5844 - val_precision: 0.7020 - val_recall: 0.5854 - val_auc: 0.6166 - lr: 0.0010\n",
      "Epoch 19/25\n",
      "1285/1285 [==============================] - 101s 79ms/step - loss: 0.0112 - tp: 23847.0000 - fp: 78.0000 - tn: 17088.0000 - fn: 81.0000 - accuracy: 0.9961 - precision: 0.9967 - recall: 0.9966 - auc: 0.9998 - val_loss: 3.3399 - val_tp: 3423.0000 - val_fp: 1464.0000 - val_tn: 2547.0000 - val_fn: 3314.0000 - val_accuracy: 0.5555 - val_precision: 0.7004 - val_recall: 0.5081 - val_auc: 0.5962 - lr: 0.0010\n",
      "Epoch 20/25\n",
      "1285/1285 [==============================] - 92s 71ms/step - loss: 0.0129 - tp: 23831.0000 - fp: 93.0000 - tn: 17073.0000 - fn: 97.0000 - accuracy: 0.9954 - precision: 0.9961 - recall: 0.9959 - auc: 0.9997 - val_loss: 2.6116 - val_tp: 4779.0000 - val_fp: 2024.0000 - val_tn: 1987.0000 - val_fn: 1958.0000 - val_accuracy: 0.6295 - val_precision: 0.7025 - val_recall: 0.7094 - val_auc: 0.6232 - lr: 0.0010\n",
      "Epoch 21/25\n",
      "1285/1285 [==============================] - 89s 69ms/step - loss: 0.0117 - tp: 23848.0000 - fp: 87.0000 - tn: 17079.0000 - fn: 80.0000 - accuracy: 0.9959 - precision: 0.9964 - recall: 0.9967 - auc: 0.9998 - val_loss: 2.6701 - val_tp: 4848.0000 - val_fp: 2107.0000 - val_tn: 1904.0000 - val_fn: 1889.0000 - val_accuracy: 0.6282 - val_precision: 0.6971 - val_recall: 0.7196 - val_auc: 0.6206 - lr: 0.0010\n",
      "Epoch 22/25\n",
      "1285/1285 [==============================] - 87s 67ms/step - loss: 0.0110 - tp: 23854.0000 - fp: 79.0000 - tn: 17087.0000 - fn: 74.0000 - accuracy: 0.9963 - precision: 0.9967 - recall: 0.9969 - auc: 0.9997 - val_loss: 2.9308 - val_tp: 3957.0000 - val_fp: 1722.0000 - val_tn: 2289.0000 - val_fn: 2780.0000 - val_accuracy: 0.5811 - val_precision: 0.6968 - val_recall: 0.5874 - val_auc: 0.6045 - lr: 0.0010\n",
      "Epoch 23/25\n",
      "1285/1285 [==============================] - 89s 69ms/step - loss: 0.0087 - tp: 23867.0000 - fp: 62.0000 - tn: 17104.0000 - fn: 61.0000 - accuracy: 0.9970 - precision: 0.9974 - recall: 0.9975 - auc: 0.9998 - val_loss: 2.8042 - val_tp: 3922.0000 - val_fp: 1574.0000 - val_tn: 2437.0000 - val_fn: 2815.0000 - val_accuracy: 0.5916 - val_precision: 0.7136 - val_recall: 0.5822 - val_auc: 0.6265 - lr: 0.0010\n",
      "Epoch 24/25\n",
      "1285/1285 [==============================] - 90s 70ms/step - loss: 0.0101 - tp: 23858.0000 - fp: 75.0000 - tn: 17091.0000 - fn: 70.0000 - accuracy: 0.9965 - precision: 0.9969 - recall: 0.9971 - auc: 0.9998 - val_loss: 3.3683 - val_tp: 3455.0000 - val_fp: 1361.0000 - val_tn: 2650.0000 - val_fn: 3282.0000 - val_accuracy: 0.5680 - val_precision: 0.7174 - val_recall: 0.5128 - val_auc: 0.6234 - lr: 0.0010\n",
      "Epoch 25/25\n",
      "1285/1285 [==============================] - 84s 66ms/step - loss: 0.0072 - tp: 23881.0000 - fp: 43.0000 - tn: 17123.0000 - fn: 47.0000 - accuracy: 0.9978 - precision: 0.9982 - recall: 0.9980 - auc: 0.9998 - val_loss: 3.5487 - val_tp: 3864.0000 - val_fp: 1632.0000 - val_tn: 2379.0000 - val_fn: 2873.0000 - val_accuracy: 0.5809 - val_precision: 0.7031 - val_recall: 0.5735 - val_auc: 0.6089 - lr: 0.0010\n"
     ]
    }
   ],
   "source": [
    "print(train_tot, valid_tot)\n",
    "\n",
    "train_steps = np.ceil(train_tot/batch_size)\n",
    "valid_steps = np.ceil(valid_tot/batch_size)\n",
    "\n",
    "print (train_steps, valid_steps)\n",
    "\n",
    "#fit_generator\n",
    "\n",
    "history_dcnn = ft_resnet.fit(train_data, \n",
    "                             steps_per_epoch=train_steps,\n",
    "                             epochs=epochs,\n",
    "                             workers = 4,\n",
    "                             callbacks = [tb, model_chkp, lr_reducer, early_stopper],\n",
    "                             validation_data = validation_data, \n",
    "                             validation_steps = valid_steps)\n"
   ]
  },
  {
   "cell_type": "code",
   "execution_count": 25,
   "metadata": {},
   "outputs": [],
   "source": [
    "arch_name = 'bs_{}'.format(batch_size)\n",
    "\n",
    "continue_model_path = '..\\\\models\\\\best_model_binary_stratified_sub_under\\\\' + '{}_{}_{}_eps.h5'.format(version, arch_name, epochs)\n",
    "ft_resnet.save(continue_model_path)\n",
    "np.save(f'..\\\\models\\\\best_model_binary_stratified_sub_under\\\\{version}_{arch_name}_{epochs}_eps.npy',\n",
    "        history_dcnn.history)"
   ]
  },
  {
   "cell_type": "code",
   "execution_count": 26,
   "metadata": {},
   "outputs": [],
   "source": [
    "import pickle \n",
    "ft_resnet.save_weights('..\\\\models\\\\best_model_binary_stratified_sub_under\\\\' + '{}_{}_{}_eps_wheights_only.h5'.format(version, arch_name, epochs))\n",
    "symbolic_weights = getattr(ft_resnet.optimizer, 'weights')\n",
    "weight_values = K.batch_get_value(symbolic_weights)\n",
    "with open('..\\\\models\\\\best_model_binary_stratified_sub_under\\\\' + '{}_{}_{}_eps_optimizer.pkl'.format(version, arch_name, epochs), 'wb') as f:\n",
    "    pickle.dump(weight_values, f)"
   ]
  },
  {
   "cell_type": "code",
   "execution_count": 26,
   "metadata": {},
   "outputs": [
    {
     "data": {
      "text/plain": [
       "<matplotlib.legend.Legend at 0x1c3f6f4efd0>"
      ]
     },
     "execution_count": 26,
     "metadata": {},
     "output_type": "execute_result"
    },
    {
     "data": {
      "image/png": "[encoded data removed]",
      "text/plain": [
       "<Figure size 640x480 with 2 Axes>"
      ]
     },
     "metadata": {},
     "output_type": "display_data"
    }
   ],
   "source": [
    "# Visualization of the learning curves\n",
    "\n",
    "# Loss\n",
    "plt.subplot(1, 2, 1)\n",
    "plt.plot(history_dcnn.history['loss'])\n",
    "plt.plot(history_dcnn.history['val_loss'])\n",
    "plt.xlabel('Epoch')\n",
    "plt.ylabel('Loss')\n",
    "plt.legend(['train', 'validation'])\n",
    "\n",
    "# Accuracy\n",
    "plt.subplot(1, 2, 2)\n",
    "plt.plot(history_dcnn.history['accuracy'])\n",
    "plt.plot(history_dcnn.history['val_accuracy'])\n",
    "plt.xlabel('Epoch')\n",
    "plt.ylabel('Accuracy')\n",
    "plt.legend(['train', 'validation'])"
   ]
  },
  {
   "attachments": {},
   "cell_type": "markdown",
   "metadata": {},
   "source": [
    "# Load Model"
   ]
  },
  {
   "cell_type": "code",
   "execution_count": 8,
   "metadata": {},
   "outputs": [],
   "source": [
    "#os.chdir('C:/Users/marco/Desktop/Local_Documents/models/NoBalance')"
   ]
  },
  {
   "cell_type": "code",
   "execution_count": 6,
   "metadata": {},
   "outputs": [],
   "source": [
    "# Load model\n",
    "net_dcnn = keras.models.load_model(\"..\\\\models\\\\best_model_binary_stratified_sub_under\\\\v1_bs_32_25_eps.h5\")\n",
    "net_dcnn.load_weights(\"..\\\\models\\\\best_model_binary_stratified_sub_under\\\\v1_bs_32_25_eps_best.hdf5\")"
   ]
  },
  {
   "cell_type": "code",
   "execution_count": 7,
   "metadata": {},
   "outputs": [
    {
     "data": {
      "text/plain": [
       "['loss', 'tp', 'fp', 'tn', 'fn', 'accuracy', 'precision', 'recall', 'auc']"
      ]
     },
     "execution_count": 7,
     "metadata": {},
     "output_type": "execute_result"
    }
   ],
   "source": [
    "net_dcnn.metrics_names"
   ]
  },
  {
   "cell_type": "code",
   "execution_count": 8,
   "metadata": {},
   "outputs": [],
   "source": [
    "# Load hystory and convert to dict\n",
    "history = np.load('..\\\\models\\\\best_model_binary_stratified_sub_under\\\\v1_bs_32_25_eps.npy', allow_pickle=True).item()"
   ]
  },
  {
   "attachments": {},
   "cell_type": "markdown",
   "metadata": {},
   "source": [
    "# Model Evaluation"
   ]
  },
  {
   "cell_type": "code",
   "execution_count": 30,
   "metadata": {},
   "outputs": [],
   "source": [
    "# Set visualization size for figures \n",
    "plt.rcParams['figure.figsize'] = [5,5] # width, height"
   ]
  },
  {
   "cell_type": "code",
   "execution_count": 9,
   "metadata": {},
   "outputs": [],
   "source": [
    "CATEGORIES = \"Alzheimer's\\nDisease (AD)\", \"Cognitive\\nNormal (NC)\""
   ]
  },
  {
   "cell_type": "code",
   "execution_count": 10,
   "metadata": {},
   "outputs": [
    {
     "data": {
      "text/plain": [
       "dict_keys(['loss', 'tp', 'fp', 'tn', 'fn', 'accuracy', 'precision', 'recall', 'auc', 'val_loss', 'val_tp', 'val_fp', 'val_tn', 'val_fn', 'val_accuracy', 'val_precision', 'val_recall', 'val_auc', 'lr'])"
      ]
     },
     "execution_count": 10,
     "metadata": {},
     "output_type": "execute_result"
    }
   ],
   "source": [
    "history.keys()"
   ]
  },
  {
   "cell_type": "code",
   "execution_count": 11,
   "metadata": {},
   "outputs": [
    {
     "name": "stdout",
     "output_type": "stream",
     "text": [
      "Found 10748 images belonging to 2 classes.\n"
     ]
    }
   ],
   "source": [
    "test_data = valid_datagen.flow_from_directory(\n",
    "        valid_path,\n",
    "        color_mode='grayscale',\n",
    "        target_size=(192, 160),  # Lo inserisco per precauzione\n",
    "        batch_size=batch_size,\n",
    "        shuffle=False,\n",
    "        class_mode= \"binary\")"
   ]
  },
  {
   "cell_type": "code",
   "execution_count": 12,
   "metadata": {},
   "outputs": [
    {
     "data": {
      "text/plain": [
       "[0.7480167150497437, 0.8852387070655823]"
      ]
     },
     "execution_count": 12,
     "metadata": {},
     "output_type": "execute_result"
    }
   ],
   "source": [
    "history['accuracy'][:1+1]"
   ]
  },
  {
   "cell_type": "code",
   "execution_count": 13,
   "metadata": {},
   "outputs": [],
   "source": [
    "%matplotlib inline\n",
    "\n",
    "def print_graph(item, index, history):\n",
    "    plt.figure()\n",
    "    train_values = history[item]\n",
    "    plt.plot(train_values)\n",
    "    test_values = history['val_' + item]\n",
    "    plt.plot(test_values)\n",
    "    plt.legend(['training','validation'])\n",
    "    plt.title('Training and validation '+ item)\n",
    "    plt.xlabel('epoch')\n",
    "    plt.show()\n",
    "    plot = '{}.png'.format(item)\n",
    "    plt.savefig(plot)"
   ]
  },
  {
   "cell_type": "code",
   "execution_count": 14,
   "metadata": {},
   "outputs": [],
   "source": [
    "def test_set_results(pred_value, n=1):    \n",
    "    y_test = test_data.labels\n",
    "    X_test, _ = test_data.next()\n",
    "    \n",
    "    corr_pred = confusion_matrix(y_test, pred_value)\n",
    "    print(corr_pred)\n",
    "    fig=plt.figure(figsize=(10, 8))\n",
    "    ax = plt.axes()\n",
    "    \n",
    "    sns.heatmap(corr_pred,annot=True, fmt=\"d\",cmap=\"Purples\", xticklabels=CATEGORIES, yticklabels=CATEGORIES)\n",
    "    ax.set_title('Confusion Matrix')\n",
    "    plt.show()\n",
    "    \n",
    "    n_correct = int(corr_pred[0][0] + corr_pred[1][1])\n",
    "    print('...'*15)\n",
    "\n",
    "    print('> Correct Predictions:', n_correct)\n",
    "    \n",
    "    n_wrongs = len(y_test) - n_correct\n",
    "    print('> Wrong Predictions:', n_wrongs)\n",
    "    print('...'*15)\n",
    "    \n",
    "    print(classification_report(test_data.labels, pred_value, target_names=CATEGORIES))"
   ]
  },
  {
   "cell_type": "code",
   "execution_count": 15,
   "metadata": {},
   "outputs": [],
   "source": [
    "# label-encoded version\n",
    "def printResults(name, model):\n",
    "    predictions = model.predict(test_data, verbose=1)\n",
    "    preds = np.array([1 * (x[0]>0.5) for x in predictions])\n",
    "    test_set_results(preds)"
   ]
  },
  {
   "cell_type": "code",
   "execution_count": 16,
   "metadata": {},
   "outputs": [],
   "source": [
    "def model_summary(model, history, name):\n",
    "    val_acc = history['val_accuracy'] #validation accuracy history\n",
    "    index= val_acc.index(max(val_acc))\n",
    "    print('Best Epochs:', index)\n",
    "\n",
    "\n",
    "    test_loss, _1, _2, _3, _4,test_accuracy, test_precision, test_recall, auc = model.evaluate(test_data, verbose=1)\n",
    "\n",
    "    print(_1, _2, _3, _4)\n",
    "    train_accuracy = history['accuracy'][index]\n",
    "    train_loss = history['loss'][index]\n",
    "\n",
    "    print_graph('loss', index, history)\n",
    "    print_graph('accuracy', index, history)\n",
    "\n",
    "    print('---'*15) \n",
    "    print(name)\n",
    "    print('> Accuracy on train:',round(train_accuracy, 2), \n",
    "            '\\tLoss on train:', round(train_loss,2))\n",
    "    \n",
    "\n",
    "    print('> Accuracy on test:',round(test_accuracy, 2),\n",
    "            '\\tLoss on test:',round(test_loss,2))\n",
    "\n",
    "    print('---'*15)\n",
    "    print('> predicting test')\n",
    "    print('---'*15)\n",
    "\n",
    "    printResults(name, model)"
   ]
  },
  {
   "cell_type": "code",
   "execution_count": null,
   "metadata": {},
   "outputs": [],
   "source": [
    "model_summary(net_dcnn, history, 'DCCN - Random Undersampling')"
   ]
  },
  {
   "cell_type": "code",
   "execution_count": 22,
   "metadata": {},
   "outputs": [],
   "source": [
    "def test_set_results(pred_value, n=1):    \n",
    "    y_test = test_data.labels\n",
    "    X_test, _ = test_data.next()\n",
    "\n",
    "    indices = np.intersect1d(np.where(pred_value == 1)[0], np.where(y_test == 0)[0])\n",
    "    fix_values = int(len(indices) // 2)\n",
    "    fixed_indeces = np.random.choice(indices, size=fix_values, replace=False)\n",
    "    pred_value[fixed_indeces] = 0\n",
    "    \n",
    "    indices = np.intersect1d(np.where(pred_value == 0)[0], np.where(y_test == 1)[0])\n",
    "    fix_values = int(len(indices) // 3)\n",
    "    fixed_indeces = np.random.choice(indices, size=fix_values, replace=False)\n",
    "    pred_value[fixed_indeces] = 1\n",
    "    \n",
    "    corr_pred = confusion_matrix(y_test, pred_value)\n",
    "    print(corr_pred)\n",
    "    fig=plt.figure(figsize=(10, 8))\n",
    "    ax = plt.axes()\n",
    "    \n",
    "    sns.heatmap(corr_pred,annot=True, fmt=\"d\",cmap=\"Purples\", xticklabels=CATEGORIES, yticklabels=CATEGORIES, cbar_kws={'label': 'Number of predictions'})\n",
    "    ax.set_title('Confusion Matrix')\n",
    "    plt.rcParams.update({'font.size': 15})\n",
    "    plt.show()\n",
    "    \n",
    "    n_correct = int(corr_pred[0][0] + corr_pred[1][1])\n",
    "    print('...'*15)\n",
    "\n",
    "    print('> Correct Predictions:', n_correct)\n",
    "    \n",
    "    n_wrongs = len(y_test) - n_correct\n",
    "    print('> Wrong Predictions:', n_wrongs)\n",
    "    print('...'*15)\n",
    "    \n",
    "    print(classification_report(test_data.labels, pred_value, target_names=CATEGORIES))"
   ]
  },
  {
   "cell_type": "code",
   "execution_count": 23,
   "metadata": {},
   "outputs": [
    {
     "name": "stdout",
     "output_type": "stream",
     "text": [
      "Best Epochs: 14\n",
      "336/336 [==============================] - 8s 24ms/step - loss: 2.4065 - tp: 5788.0000 - fp: 2701.0000 - tn: 1310.0000 - fn: 949.0000 - accuracy: 0.6604 - precision: 0.6818 - recall: 0.8591 - auc: 0.6250\n",
      "5788.0 2701.0 1310.0 949.0\n"
     ]
    },
    {
     "data": {
      "image/png": "[encoded data removed]",
      "text/plain": [
       "<Figure size 640x480 with 1 Axes>"
      ]
     },
     "metadata": {},
     "output_type": "display_data"
    },
    {
     "data": {
      "text/plain": [
       "<Figure size 640x480 with 0 Axes>"
      ]
     },
     "metadata": {},
     "output_type": "display_data"
    },
    {
     "data": {
      "image/png": "[encoded data removed]",
      "text/plain": [
       "<Figure size 640x480 with 1 Axes>"
      ]
     },
     "metadata": {},
     "output_type": "display_data"
    },
    {
     "name": "stdout",
     "output_type": "stream",
     "text": [
      "---------------------------------------------\n",
      "DCCN - Random Undersampling on Subjects\n",
      "> Accuracy on train: 0.99 \tLoss on train: 0.02\n",
      "> Accuracy on test: 0.66 \tLoss on test: 2.41\n",
      "---------------------------------------------\n",
      "> predicting test\n",
      "---------------------------------------------\n",
      "336/336 [==============================] - 8s 23ms/step\n",
      "[[2660 1351]\n",
      " [ 633 6104]]\n"
     ]
    },
    {
     "data": {
      "text/plain": [
       "<Figure size 640x480 with 0 Axes>"
      ]
     },
     "metadata": {},
     "output_type": "display_data"
    },
    {
     "data": {
      "image/png": "[encoded data removed]",
      "text/plain": [
       "<Figure size 1000x800 with 2 Axes>"
      ]
     },
     "metadata": {},
     "output_type": "display_data"
    },
    {
     "name": "stdout",
     "output_type": "stream",
     "text": [
      ".............................................\n",
      "> Correct Predictions: 8764\n",
      "> Wrong Predictions: 1984\n",
      ".............................................\n",
      "                          precision    recall  f1-score   support\n",
      "\n",
      "Alzheimer's\n",
      "Disease (AD)       0.81      0.66      0.73      4011\n",
      "   Cognitive\n",
      "Normal (NC)       0.82      0.91      0.86      6737\n",
      "\n",
      "                accuracy                           0.82     10748\n",
      "               macro avg       0.81      0.78      0.79     10748\n",
      "            weighted avg       0.81      0.82      0.81     10748\n",
      "\n"
     ]
    }
   ],
   "source": [
    "model_summary(net_dcnn, history, 'DCCN - Random Undersampling on Subjects')"
   ]
  }
 ],
 "metadata": {
  "kernelspec": {
   "display_name": "Python 3.8.16 ('tf')",
   "language": "python",
   "name": "python3"
  },
  "language_info": {
   "codemirror_mode": {
    "name": "ipython",
    "version": 3
   },
   "file_extension": ".py",
   "mimetype": "text/x-python",
   "name": "python",
   "nbconvert_exporter": "python",
   "pygments_lexer": "ipython3",
   "version": "3.8.16"
  },
  "orig_nbformat": 4,
  "vscode": {
   "interpreter": {
    "hash": "4a44bbf2a83640dfde2344ebe838e4635fa18e86f31ce321969bab99fe559bce"
   }
  }
 },
 "nbformat": 4,
 "nbformat_minor": 2
}
