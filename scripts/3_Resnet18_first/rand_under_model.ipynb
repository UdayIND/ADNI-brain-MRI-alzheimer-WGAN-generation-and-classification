{
 "cells": [
  {
   "attachments": {},
   "cell_type": "markdown",
   "metadata": {},
   "source": [
    "**Importing libraries**"
   ]
  },
  {
   "cell_type": "code",
   "execution_count": 1,
   "metadata": {},
   "outputs": [],
   "source": [
    "# Keras e TF\n",
    "\n",
    "#import tensorflow\n",
    "from tensorflow import keras\n",
    "from keras.preprocessing.image import ImageDataGenerator\n",
    "from keras.layers import Conv2D, Conv1D, MaxPooling2D, Dense, Flatten, BatchNormalization, Activation, AveragePooling2D, Input, Flatten, Dropout\n",
    "from keras.callbacks import ModelCheckpoint\n",
    "\n",
    "# Sk-Learn\n",
    "from sklearn.metrics import classification_report, confusion_matrix\n",
    "from sklearn.model_selection import train_test_split\n",
    "from sklearn.metrics import classification_report,confusion_matrix, ConfusionMatrixDisplay, roc_curve, roc_auc_score, RocCurveDisplay, accuracy_score, classification_report, confusion_matrix\n",
    "\n",
    "# Base\n",
    "import os \n",
    "from pathlib import Path\n",
    "from matplotlib import pyplot as plt\n",
    "import seaborn as sns # \n",
    "import numpy as np #\n",
    "import pandas as pd # \n",
    "\n",
    "from keras.utils import load_img\n",
    "\n",
    "import pydot\n",
    "import pydotplus\n",
    "from pydotplus import graphviz\n",
    "\n",
    "from keras.callbacks import TensorBoard, ModelCheckpoint, ReduceLROnPlateau\n",
    "\n",
    "from custom_resnet import ResNet18\n",
    "\n",
    "\n",
    "from keras.models import Model\n",
    "from keras.optimizers import Adam"
   ]
  },
  {
   "cell_type": "code",
   "execution_count": 2,
   "metadata": {},
   "outputs": [
    {
     "data": {
      "text/plain": [
       "'2.10.0'"
      ]
     },
     "execution_count": 2,
     "metadata": {},
     "output_type": "execute_result"
    }
   ],
   "source": [
    "keras.__version__"
   ]
  },
  {
   "attachments": {},
   "cell_type": "markdown",
   "metadata": {},
   "source": [
    "**Setting path to the dataset**"
   ]
  },
  {
   "cell_type": "code",
   "execution_count": 2,
   "metadata": {},
   "outputs": [],
   "source": [
    "os.chdir(Path(str(Path(os.getcwd()).parent.absolute().parent.absolute()) +\n",
    "              '\\\\adni-images-Full-resized160x192'))"
   ]
  },
  {
   "cell_type": "code",
   "execution_count": 3,
   "metadata": {},
   "outputs": [
    {
     "name": "stdout",
     "output_type": "stream",
     "text": [
      "d:\\Projects\\ADNI-brain-MRI-alzheimer-classification-and-GAN-generation\\adni-images-Full-resized160x192\n"
     ]
    }
   ],
   "source": [
    "print(os.getcwd())"
   ]
  },
  {
   "attachments": {},
   "cell_type": "markdown",
   "metadata": {},
   "source": [
    "# Loading Dataset"
   ]
  },
  {
   "cell_type": "code",
   "execution_count": 5,
   "metadata": {},
   "outputs": [
    {
     "name": "stdout",
     "output_type": "stream",
     "text": [
      "66417\n",
      "(160, 192)\n",
      "(66417, 160, 192)\n",
      "() ()\n",
      "35.813360168106904 45.29735615529554\n"
     ]
    }
   ],
   "source": [
    "\n",
    "data_dir = Path(os.getcwd())\n",
    "\n",
    "def data_mean_std():\n",
    "    names = []\n",
    "    for root, dirs, files in os.walk(data_dir):\n",
    "        if \"train_rand_under\" in root:\n",
    "            for file in files:\n",
    "                names.append(root + '/' + file)\n",
    "    \n",
    "    print(len(names))\n",
    "                \n",
    "    array = []\n",
    "    for name in names:\n",
    "        img = load_img(name, color_mode = 'grayscale', target_size = (160, 192))\n",
    "\n",
    "        img_array = np.asarray(img)\n",
    "        array.append(img_array)\n",
    "    \n",
    "    print(img_array.shape) # Correct amount of images\n",
    "\n",
    "    array = np.asarray(array)\n",
    "    print(array.shape)\n",
    "    print(array.mean().shape, array.std().shape)\n",
    "    return array.mean(), array.std()\n",
    "\"\"\" \n",
    "stats_file = open(stats_path, 'r')\n",
    "stats_lst = stats_file.read().split('\\n')\n",
    "mean = float(stats_lst[0])\n",
    "std = float(stats_lst[1])\"\"\"\n",
    "mean, std = data_mean_std()\n",
    "\n",
    "print(mean, std)\n"
   ]
  },
  {
   "cell_type": "code",
   "execution_count": 4,
   "metadata": {},
   "outputs": [],
   "source": [
    "mean = 35.813360168106904\n",
    "std = 45.29735615529554"
   ]
  },
  {
   "cell_type": "code",
   "execution_count": 5,
   "metadata": {},
   "outputs": [],
   "source": [
    "def normalize(x):\n",
    "    return (x - mean) / std"
   ]
  },
  {
   "cell_type": "code",
   "execution_count": 6,
   "metadata": {},
   "outputs": [],
   "source": [
    "batch_size = 32 # Batch size\n",
    "\n",
    "train_path = './train_rand_under'\n",
    "test_path = './test'\n",
    "valid_path = './valid'\n",
    "#rescale = 1./255.\n",
    "train_datagen = ImageDataGenerator(preprocessing_function = normalize)\n",
    "test_datagen = ImageDataGenerator(preprocessing_function = normalize)\n",
    "valid_datagen = ImageDataGenerator(preprocessing_function = normalize)"
   ]
  },
  {
   "cell_type": "code",
   "execution_count": 7,
   "metadata": {},
   "outputs": [
    {
     "name": "stdout",
     "output_type": "stream",
     "text": [
      "Found 66417 images belonging to 3 classes.\n"
     ]
    }
   ],
   "source": [
    "train_data = train_datagen.flow_from_directory(\n",
    "        train_path,\n",
    "        color_mode = 'grayscale',\n",
    "        target_size=(192, 160),  # Lo inserisco per precauzione\n",
    "        batch_size=batch_size,\n",
    "        seed=123,\n",
    "        shuffle=True,\n",
    "        class_mode='categorical')"
   ]
  },
  {
   "cell_type": "code",
   "execution_count": 8,
   "metadata": {},
   "outputs": [
    {
     "name": "stdout",
     "output_type": "stream",
     "text": [
      "Found 18024 images belonging to 3 classes.\n"
     ]
    }
   ],
   "source": [
    "validation_data = valid_datagen.flow_from_directory(\n",
    "        valid_path,\n",
    "        color_mode='grayscale',\n",
    "        target_size=(192, 160),  # Lo inserisco per precauzione\n",
    "        batch_size=batch_size,\n",
    "        seed=123,\n",
    "        shuffle=True,\n",
    "        class_mode='categorical')"
   ]
  },
  {
   "cell_type": "code",
   "execution_count": 9,
   "metadata": {},
   "outputs": [
    {
     "name": "stdout",
     "output_type": "stream",
     "text": [
      "Found 10567 images belonging to 3 classes.\n"
     ]
    }
   ],
   "source": [
    "# Test set\n",
    "test_data = test_datagen.flow_from_directory(\n",
    "        test_path,\n",
    "        color_mode='grayscale',\n",
    "        target_size=(192, 160),  # Lo inserisco per precauzione\n",
    "        batch_size=batch_size,\n",
    "        shuffle=False,\n",
    "        class_mode='categorical')"
   ]
  },
  {
   "cell_type": "code",
   "execution_count": 10,
   "metadata": {},
   "outputs": [
    {
     "data": {
      "text/plain": [
       "{'ad': 0, 'mci': 1, 'nor': 2}"
      ]
     },
     "execution_count": 10,
     "metadata": {},
     "output_type": "execute_result"
    }
   ],
   "source": [
    "train_data.class_indices"
   ]
  },
  {
   "cell_type": "code",
   "execution_count": 11,
   "metadata": {},
   "outputs": [
    {
     "data": {
      "text/plain": [
       "{'ad': 0, 'mci': 1, 'nor': 2}"
      ]
     },
     "execution_count": 11,
     "metadata": {},
     "output_type": "execute_result"
    }
   ],
   "source": [
    "validation_data.class_indices"
   ]
  },
  {
   "cell_type": "code",
   "execution_count": 12,
   "metadata": {},
   "outputs": [
    {
     "data": {
      "text/plain": [
       "{'ad': 0, 'mci': 1, 'nor': 2}"
      ]
     },
     "execution_count": 12,
     "metadata": {},
     "output_type": "execute_result"
    }
   ],
   "source": [
    "test_data.class_indices"
   ]
  },
  {
   "cell_type": "code",
   "execution_count": 13,
   "metadata": {},
   "outputs": [
    {
     "name": "stdout",
     "output_type": "stream",
     "text": [
      "0.3333333333333333 0.3333333333333333 0.3333333333333333\n"
     ]
    }
   ],
   "source": [
    "train_ad = len(os.listdir(os.getcwd() + '\\\\train_rand_under\\\\ad'))\n",
    "train_nor = len(os.listdir(os.getcwd() + '\\\\train_rand_under\\\\nor'))\n",
    "train_mci = len(os.listdir(os.getcwd() + '\\\\train_rand_under\\\\mci'))\n",
    "train_tot = train_ad + train_nor + train_mci\n",
    "print(train_ad/train_tot, train_nor/train_tot, train_mci/train_tot)"
   ]
  },
  {
   "cell_type": "code",
   "execution_count": 14,
   "metadata": {},
   "outputs": [
    {
     "name": "stdout",
     "output_type": "stream",
     "text": [
      "0.22504021955143372 0.20762751963660453 0.5673322608119618\n"
     ]
    }
   ],
   "source": [
    "test_ad = len(os.listdir(os.getcwd() + '\\\\test\\\\ad'))\n",
    "test_nor = len(os.listdir(os.getcwd() + '\\\\test\\\\nor'))\n",
    "test_mci = len(os.listdir(os.getcwd() + '\\\\test\\\\mci'))\n",
    "test_tot = test_ad + test_nor + test_mci\n",
    "print(test_ad/test_tot, test_nor/test_tot, test_mci/test_tot)"
   ]
  },
  {
   "cell_type": "code",
   "execution_count": 15,
   "metadata": {},
   "outputs": [
    {
     "name": "stdout",
     "output_type": "stream",
     "text": [
      "0.22253661784287618 0.37377940523746117 0.4036839769196627\n"
     ]
    }
   ],
   "source": [
    "valid_ad = len(os.listdir(os.getcwd() + '\\\\valid\\\\ad'))\n",
    "valid_nor = len(os.listdir(os.getcwd() + '\\\\valid\\\\nor'))\n",
    "valid_mci = len(os.listdir(os.getcwd() + '\\\\valid\\\\mci'))\n",
    "valid_tot = valid_ad + valid_nor + valid_mci\n",
    "print(valid_ad/valid_tot, valid_nor/valid_tot, valid_mci/valid_tot)"
   ]
  },
  {
   "attachments": {},
   "cell_type": "markdown",
   "metadata": {},
   "source": [
    "# Model Definition"
   ]
  },
  {
   "attachments": {},
   "cell_type": "markdown",
   "metadata": {},
   "source": [
    "Changing the folder to data path to save weights into"
   ]
  },
  {
   "cell_type": "code",
   "execution_count": 16,
   "metadata": {},
   "outputs": [],
   "source": [
    "os.chdir(Path(str(Path(os.getcwd()).parent.absolute()) + '\\\\scripts\\\\3_Resnet18_first'))"
   ]
  },
  {
   "cell_type": "code",
   "execution_count": 17,
   "metadata": {},
   "outputs": [
    {
     "data": {
      "text/plain": [
       "'d:\\\\Projects\\\\ADNI-brain-MRI-alzheimer-classification-and-GAN-generation\\\\scripts\\\\3_Resnet18_first'"
      ]
     },
     "execution_count": 17,
     "metadata": {},
     "output_type": "execute_result"
    }
   ],
   "source": [
    "os.getcwd()"
   ]
  },
  {
   "cell_type": "code",
   "execution_count": 18,
   "metadata": {},
   "outputs": [],
   "source": [
    "METRICS = [ \n",
    "      keras.metrics.CategoricalAccuracy(name='accuracy'),\n",
    "      keras.metrics.Precision(name='precision'),\n",
    "      keras.metrics.Recall(name='recall'),\n",
    "      keras.metrics.AUC(name='auc'),\n",
    "      keras.metrics.TopKCategoricalAccuracy(name='top 2 accuracy', k=2),\n",
    "      keras.metrics.TopKCategoricalAccuracy(name='top 3 accuracy', k=3),\n",
    "      keras.metrics.TopKCategoricalAccuracy(name='top 5 accuracy', k=5)\n",
    "]"
   ]
  },
  {
   "cell_type": "code",
   "execution_count": 19,
   "metadata": {},
   "outputs": [],
   "source": [
    "early_stopper = keras.callbacks.EarlyStopping(monitor='val_loss', patience=100)"
   ]
  },
  {
   "cell_type": "code",
   "execution_count": 24,
   "metadata": {},
   "outputs": [
    {
     "name": "stdout",
     "output_type": "stream",
     "text": [
      "<class 'keras.engine.keras_tensor.KerasTensor'>\n",
      "model loaded\n",
      "Model: \"model_1\"\n",
      "__________________________________________________________________________________________________\n",
      " Layer (type)                   Output Shape         Param #     Connected to                     \n",
      "==================================================================================================\n",
      " input_2 (InputLayer)           [(None, 192, 160, 1  0           []                               \n",
      "                                )]                                                                \n",
      "                                                                                                  \n",
      " conv1_pad (ZeroPadding2D)      (None, 198, 166, 1)  0           ['input_2[0][0]']                \n",
      "                                                                                                  \n",
      " conv1 (Conv2D)                 (None, 96, 80, 64)   3200        ['conv1_pad[0][0]']              \n",
      "                                                                                                  \n",
      " bn_conv1 (BatchNormalization)  (None, 96, 80, 64)   256         ['conv1[0][0]']                  \n",
      "                                                                                                  \n",
      " leaky_re_lu_17 (LeakyReLU)     (None, 96, 80, 64)   0           ['bn_conv1[0][0]']               \n",
      "                                                                                                  \n",
      " max_pooling2d_1 (MaxPooling2D)  (None, 47, 39, 64)  0           ['leaky_re_lu_17[0][0]']         \n",
      "                                                                                                  \n",
      " res2a_branch2a (Conv2D)        (None, 47, 39, 64)   36928       ['max_pooling2d_1[0][0]']        \n",
      "                                                                                                  \n",
      " bn2a_branch2a (BatchNormalizat  (None, 47, 39, 64)  256         ['res2a_branch2a[0][0]']         \n",
      " ion)                                                                                             \n",
      "                                                                                                  \n",
      " leaky_re_lu_18 (LeakyReLU)     (None, 47, 39, 64)   0           ['bn2a_branch2a[0][0]']          \n",
      "                                                                                                  \n",
      " res2a_branch2b (Conv2D)        (None, 47, 39, 64)   36928       ['leaky_re_lu_18[0][0]']         \n",
      "                                                                                                  \n",
      " res2a_branch1 (Conv2D)         (None, 47, 39, 64)   4160        ['max_pooling2d_1[0][0]']        \n",
      "                                                                                                  \n",
      " bn2a_branch2b (BatchNormalizat  (None, 47, 39, 64)  256         ['res2a_branch2b[0][0]']         \n",
      " ion)                                                                                             \n",
      "                                                                                                  \n",
      " bn2a_branch1 (BatchNormalizati  (None, 47, 39, 64)  256         ['res2a_branch1[0][0]']          \n",
      " on)                                                                                              \n",
      "                                                                                                  \n",
      " add_8 (Add)                    (None, 47, 39, 64)   0           ['bn2a_branch2b[0][0]',          \n",
      "                                                                  'bn2a_branch1[0][0]']           \n",
      "                                                                                                  \n",
      " leaky_re_lu_19 (LeakyReLU)     (None, 47, 39, 64)   0           ['add_8[0][0]']                  \n",
      "                                                                                                  \n",
      " res2b_branch2a (Conv2D)        (None, 47, 39, 64)   36928       ['leaky_re_lu_19[0][0]']         \n",
      "                                                                                                  \n",
      " bn2b_branch2a (BatchNormalizat  (None, 47, 39, 64)  256         ['res2b_branch2a[0][0]']         \n",
      " ion)                                                                                             \n",
      "                                                                                                  \n",
      " leaky_re_lu_20 (LeakyReLU)     (None, 47, 39, 64)   0           ['bn2b_branch2a[0][0]']          \n",
      "                                                                                                  \n",
      " res2b_branch2b (Conv2D)        (None, 47, 39, 64)   36928       ['leaky_re_lu_20[0][0]']         \n",
      "                                                                                                  \n",
      " bn2b_branch2b (BatchNormalizat  (None, 47, 39, 64)  256         ['res2b_branch2b[0][0]']         \n",
      " ion)                                                                                             \n",
      "                                                                                                  \n",
      " add_9 (Add)                    (None, 47, 39, 64)   0           ['bn2b_branch2b[0][0]',          \n",
      "                                                                  'leaky_re_lu_19[0][0]']         \n",
      "                                                                                                  \n",
      " leaky_re_lu_21 (LeakyReLU)     (None, 47, 39, 64)   0           ['add_9[0][0]']                  \n",
      "                                                                                                  \n",
      " res3a_branch2a (Conv2D)        (None, 24, 20, 128)  73856       ['leaky_re_lu_21[0][0]']         \n",
      "                                                                                                  \n",
      " bn3a_branch2a (BatchNormalizat  (None, 24, 20, 128)  512        ['res3a_branch2a[0][0]']         \n",
      " ion)                                                                                             \n",
      "                                                                                                  \n",
      " leaky_re_lu_22 (LeakyReLU)     (None, 24, 20, 128)  0           ['bn3a_branch2a[0][0]']          \n",
      "                                                                                                  \n",
      " res3a_branch2b (Conv2D)        (None, 24, 20, 128)  147584      ['leaky_re_lu_22[0][0]']         \n",
      "                                                                                                  \n",
      " res3a_branch1 (Conv2D)         (None, 24, 20, 128)  8320        ['leaky_re_lu_21[0][0]']         \n",
      "                                                                                                  \n",
      " bn3a_branch2b (BatchNormalizat  (None, 24, 20, 128)  512        ['res3a_branch2b[0][0]']         \n",
      " ion)                                                                                             \n",
      "                                                                                                  \n",
      " bn3a_branch1 (BatchNormalizati  (None, 24, 20, 128)  512        ['res3a_branch1[0][0]']          \n",
      " on)                                                                                              \n",
      "                                                                                                  \n",
      " add_10 (Add)                   (None, 24, 20, 128)  0           ['bn3a_branch2b[0][0]',          \n",
      "                                                                  'bn3a_branch1[0][0]']           \n",
      "                                                                                                  \n",
      " leaky_re_lu_23 (LeakyReLU)     (None, 24, 20, 128)  0           ['add_10[0][0]']                 \n",
      "                                                                                                  \n",
      " res3b_branch2a (Conv2D)        (None, 24, 20, 128)  147584      ['leaky_re_lu_23[0][0]']         \n",
      "                                                                                                  \n",
      " bn3b_branch2a (BatchNormalizat  (None, 24, 20, 128)  512        ['res3b_branch2a[0][0]']         \n",
      " ion)                                                                                             \n",
      "                                                                                                  \n",
      " leaky_re_lu_24 (LeakyReLU)     (None, 24, 20, 128)  0           ['bn3b_branch2a[0][0]']          \n",
      "                                                                                                  \n",
      " res3b_branch2b (Conv2D)        (None, 24, 20, 128)  147584      ['leaky_re_lu_24[0][0]']         \n",
      "                                                                                                  \n",
      " bn3b_branch2b (BatchNormalizat  (None, 24, 20, 128)  512        ['res3b_branch2b[0][0]']         \n",
      " ion)                                                                                             \n",
      "                                                                                                  \n",
      " add_11 (Add)                   (None, 24, 20, 128)  0           ['bn3b_branch2b[0][0]',          \n",
      "                                                                  'leaky_re_lu_23[0][0]']         \n",
      "                                                                                                  \n",
      " leaky_re_lu_25 (LeakyReLU)     (None, 24, 20, 128)  0           ['add_11[0][0]']                 \n",
      "                                                                                                  \n",
      " res4a_branch2a (Conv2D)        (None, 12, 10, 256)  295168      ['leaky_re_lu_25[0][0]']         \n",
      "                                                                                                  \n",
      " bn4a_branch2a (BatchNormalizat  (None, 12, 10, 256)  1024       ['res4a_branch2a[0][0]']         \n",
      " ion)                                                                                             \n",
      "                                                                                                  \n",
      " leaky_re_lu_26 (LeakyReLU)     (None, 12, 10, 256)  0           ['bn4a_branch2a[0][0]']          \n",
      "                                                                                                  \n",
      " res4a_branch2b (Conv2D)        (None, 12, 10, 256)  590080      ['leaky_re_lu_26[0][0]']         \n",
      "                                                                                                  \n",
      " res4a_branch1 (Conv2D)         (None, 12, 10, 256)  33024       ['leaky_re_lu_25[0][0]']         \n",
      "                                                                                                  \n",
      " bn4a_branch2b (BatchNormalizat  (None, 12, 10, 256)  1024       ['res4a_branch2b[0][0]']         \n",
      " ion)                                                                                             \n",
      "                                                                                                  \n",
      " bn4a_branch1 (BatchNormalizati  (None, 12, 10, 256)  1024       ['res4a_branch1[0][0]']          \n",
      " on)                                                                                              \n",
      "                                                                                                  \n",
      " add_12 (Add)                   (None, 12, 10, 256)  0           ['bn4a_branch2b[0][0]',          \n",
      "                                                                  'bn4a_branch1[0][0]']           \n",
      "                                                                                                  \n",
      " leaky_re_lu_27 (LeakyReLU)     (None, 12, 10, 256)  0           ['add_12[0][0]']                 \n",
      "                                                                                                  \n",
      " res4b_branch2a (Conv2D)        (None, 12, 10, 256)  590080      ['leaky_re_lu_27[0][0]']         \n",
      "                                                                                                  \n",
      " bn4b_branch2a (BatchNormalizat  (None, 12, 10, 256)  1024       ['res4b_branch2a[0][0]']         \n",
      " ion)                                                                                             \n",
      "                                                                                                  \n",
      " leaky_re_lu_28 (LeakyReLU)     (None, 12, 10, 256)  0           ['bn4b_branch2a[0][0]']          \n",
      "                                                                                                  \n",
      " res4b_branch2b (Conv2D)        (None, 12, 10, 256)  590080      ['leaky_re_lu_28[0][0]']         \n",
      "                                                                                                  \n",
      " bn4b_branch2b (BatchNormalizat  (None, 12, 10, 256)  1024       ['res4b_branch2b[0][0]']         \n",
      " ion)                                                                                             \n",
      "                                                                                                  \n",
      " add_13 (Add)                   (None, 12, 10, 256)  0           ['bn4b_branch2b[0][0]',          \n",
      "                                                                  'leaky_re_lu_27[0][0]']         \n",
      "                                                                                                  \n",
      " leaky_re_lu_29 (LeakyReLU)     (None, 12, 10, 256)  0           ['add_13[0][0]']                 \n",
      "                                                                                                  \n",
      " res5a_branch2a (Conv2D)        (None, 6, 5, 512)    1180160     ['leaky_re_lu_29[0][0]']         \n",
      "                                                                                                  \n",
      " bn5a_branch2a (BatchNormalizat  (None, 6, 5, 512)   2048        ['res5a_branch2a[0][0]']         \n",
      " ion)                                                                                             \n",
      "                                                                                                  \n",
      " leaky_re_lu_30 (LeakyReLU)     (None, 6, 5, 512)    0           ['bn5a_branch2a[0][0]']          \n",
      "                                                                                                  \n",
      " res5a_branch2b (Conv2D)        (None, 6, 5, 512)    2359808     ['leaky_re_lu_30[0][0]']         \n",
      "                                                                                                  \n",
      " res5a_branch1 (Conv2D)         (None, 6, 5, 512)    131584      ['leaky_re_lu_29[0][0]']         \n",
      "                                                                                                  \n",
      " bn5a_branch2b (BatchNormalizat  (None, 6, 5, 512)   2048        ['res5a_branch2b[0][0]']         \n",
      " ion)                                                                                             \n",
      "                                                                                                  \n",
      " bn5a_branch1 (BatchNormalizati  (None, 6, 5, 512)   2048        ['res5a_branch1[0][0]']          \n",
      " on)                                                                                              \n",
      "                                                                                                  \n",
      " add_14 (Add)                   (None, 6, 5, 512)    0           ['bn5a_branch2b[0][0]',          \n",
      "                                                                  'bn5a_branch1[0][0]']           \n",
      "                                                                                                  \n",
      " leaky_re_lu_31 (LeakyReLU)     (None, 6, 5, 512)    0           ['add_14[0][0]']                 \n",
      "                                                                                                  \n",
      " res5b_branch2a (Conv2D)        (None, 6, 5, 512)    2359808     ['leaky_re_lu_31[0][0]']         \n",
      "                                                                                                  \n",
      " bn5b_branch2a (BatchNormalizat  (None, 6, 5, 512)   2048        ['res5b_branch2a[0][0]']         \n",
      " ion)                                                                                             \n",
      "                                                                                                  \n",
      " leaky_re_lu_32 (LeakyReLU)     (None, 6, 5, 512)    0           ['bn5b_branch2a[0][0]']          \n",
      "                                                                                                  \n",
      " res5b_branch2b (Conv2D)        (None, 6, 5, 512)    2359808     ['leaky_re_lu_32[0][0]']         \n",
      "                                                                                                  \n",
      " bn5b_branch2b (BatchNormalizat  (None, 6, 5, 512)   2048        ['res5b_branch2b[0][0]']         \n",
      " ion)                                                                                             \n",
      "                                                                                                  \n",
      " add_15 (Add)                   (None, 6, 5, 512)    0           ['bn5b_branch2b[0][0]',          \n",
      "                                                                  'leaky_re_lu_31[0][0]']         \n",
      "                                                                                                  \n",
      " leaky_re_lu_33 (LeakyReLU)     (None, 6, 5, 512)    0           ['add_15[0][0]']                 \n",
      "                                                                                                  \n",
      " avg_pool (AveragePooling2D)    (None, 1, 1, 512)    0           ['leaky_re_lu_33[0][0]']         \n",
      "                                                                                                  \n",
      " flatten_1 (Flatten)            (None, 512)          0           ['avg_pool[0][0]']               \n",
      "                                                                                                  \n",
      " dropout_1 (Dropout)            (None, 512)          0           ['flatten_1[0][0]']              \n",
      "                                                                                                  \n",
      " dense_1 (Dense)                (None, 3)            1539        ['dropout_1[0][0]']              \n",
      "                                                                                                  \n",
      "==================================================================================================\n",
      "Total params: 11,190,595\n",
      "Trainable params: 11,180,867\n",
      "Non-trainable params: 9,728\n",
      "__________________________________________________________________________________________________\n"
     ]
    }
   ],
   "source": [
    "tb = TensorBoard(log_dir =os.getcwd() + '\\\\rand_under\\\\logs_rand_under', write_graph = True)\n",
    "\n",
    "lr_reducer = ReduceLROnPlateau(monitor='loss', factor=np.sqrt(0.1), patience=10, cooldown=0, min_lr=1e-5)\n",
    "\n",
    "model_chkp = ModelCheckpoint(filepath=os.getcwd() + '\\\\rand_under\\\\best_model_rand_under',\n",
    "                            # monitor='val_quadratic_kappa_score',\n",
    "                            monitor='val_accuracy',\n",
    "                            save_best_only=True, save_weights_only=True, mode='max')\n",
    "\n",
    "#resnet = ResNet18()\n",
    "#resnet = ResNet18(classes=3, input_shape=(160, 192))\n",
    "resnet = ResNet18(classes=3)\n",
    "\n",
    "\n",
    "#model = keras.applications.resnet50.ResNet50(include_top=True, weights='imagenet', input_tensor=None, input_shape=None, pooling=None, classes=1000)\n",
    "#model.summary()\n",
    "\n",
    "#resnet.layers.pop()\n",
    "#for layer in resnet.layers:\n",
    "#    layer.trainable = False\n",
    "\n",
    "x = resnet.layers[-1].output\n",
    "\n",
    "x = Dropout(0.25)(x)\n",
    "\n",
    "x = Dense(3, activation = 'softmax')(x)\n",
    "\n",
    "\n",
    "ft_resnet = Model(resnet.input, x)\n",
    "ft_resnet.compile(optimizer = Adam(learning_rate = 0.001), loss = 'categorical_crossentropy', metrics = METRICS)\n",
    "\n",
    "print(\"model loaded\")\n",
    "\n",
    "ft_resnet.summary()"
   ]
  },
  {
   "attachments": {},
   "cell_type": "markdown",
   "metadata": {},
   "source": [
    "Changing back the folder to data path"
   ]
  },
  {
   "cell_type": "code",
   "execution_count": 25,
   "metadata": {},
   "outputs": [
    {
     "ename": "FileNotFoundError",
     "evalue": "[WinError 2] The system cannot find the file specified: 'd:\\\\Projects\\\\adni-images-Full-resized160x192'",
     "output_type": "error",
     "traceback": [
      "\u001b[1;31m---------------------------------------------------------------------------\u001b[0m",
      "\u001b[1;31mFileNotFoundError\u001b[0m                         Traceback (most recent call last)",
      "Cell \u001b[1;32mIn[25], line 1\u001b[0m\n\u001b[1;32m----> 1\u001b[0m os\u001b[39m.\u001b[39;49mchdir(Path(\u001b[39mstr\u001b[39;49m(Path(os\u001b[39m.\u001b[39;49mgetcwd())\u001b[39m.\u001b[39;49mparent\u001b[39m.\u001b[39;49mabsolute()\u001b[39m.\u001b[39;49mparent\u001b[39m.\u001b[39;49mabsolute()) \u001b[39m+\u001b[39;49m \u001b[39m'\u001b[39;49m\u001b[39m\\\\\u001b[39;49;00m\u001b[39madni-images-Full-resized160x192\u001b[39;49m\u001b[39m'\u001b[39;49m))\n\u001b[0;32m      2\u001b[0m os\u001b[39m.\u001b[39mgetcwd()\n",
      "\u001b[1;31mFileNotFoundError\u001b[0m: [WinError 2] The system cannot find the file specified: 'd:\\\\Projects\\\\adni-images-Full-resized160x192'"
     ]
    }
   ],
   "source": [
    "os.chdir(Path(str(Path(os.getcwd()).parent.absolute().parent.absolute()) + '\\\\adni-images-Full-resized160x192'))\n",
    "os.getcwd()"
   ]
  },
  {
   "cell_type": "code",
   "execution_count": 26,
   "metadata": {},
   "outputs": [
    {
     "data": {
      "text/plain": [
       "'d:\\\\Projects\\\\ADNI-brain-MRI-alzheimer-classification-and-GAN-generation\\\\adni-images-Full-resized160x192'"
      ]
     },
     "execution_count": 26,
     "metadata": {},
     "output_type": "execute_result"
    }
   ],
   "source": [
    "os.getcwd()"
   ]
  },
  {
   "cell_type": "code",
   "execution_count": 27,
   "metadata": {},
   "outputs": [
    {
     "name": "stdout",
     "output_type": "stream",
     "text": [
      "66417 18024\n",
      "2076.0 564.0\n",
      "Epoch 1/100\n",
      "2076/2076 [==============================] - 141s 66ms/step - loss: 1.0175 - accuracy: 0.6924 - precision: 0.8030 - recall: 0.5809 - auc: 0.8842 - top 2 accuracy: 0.8838 - top 3 accuracy: 1.0000 - top 5 accuracy: 1.0000 - val_loss: 1.2654 - val_accuracy: 0.4288 - val_precision: 0.4465 - val_recall: 0.3604 - val_auc: 0.6256 - val_top 2 accuracy: 0.7821 - val_top 3 accuracy: 1.0000 - val_top 5 accuracy: 1.0000 - lr: 0.0010\n",
      "Epoch 2/100\n",
      "2076/2076 [==============================] - 143s 69ms/step - loss: 0.7781 - accuracy: 0.6453 - precision: 0.6972 - recall: 0.5540 - auc: 0.8288 - top 2 accuracy: 0.9010 - top 3 accuracy: 1.0000 - top 5 accuracy: 1.0000 - val_loss: 2.1074 - val_accuracy: 0.3337 - val_precision: 0.3325 - val_recall: 0.3122 - val_auc: 0.5158 - val_top 2 accuracy: 0.6839 - val_top 3 accuracy: 1.0000 - val_top 5 accuracy: 1.0000 - lr: 0.0010\n",
      "Epoch 3/100\n",
      "2076/2076 [==============================] - 141s 68ms/step - loss: 0.5302 - accuracy: 0.7774 - precision: 0.8024 - recall: 0.7465 - auc: 0.9229 - top 2 accuracy: 0.9552 - top 3 accuracy: 1.0000 - top 5 accuracy: 1.0000 - val_loss: 2.0311 - val_accuracy: 0.4047 - val_precision: 0.4083 - val_recall: 0.3899 - val_auc: 0.6037 - val_top 2 accuracy: 0.7838 - val_top 3 accuracy: 1.0000 - val_top 5 accuracy: 1.0000 - lr: 0.0010\n",
      "Epoch 4/100\n",
      "2076/2076 [==============================] - 140s 67ms/step - loss: 0.3401 - accuracy: 0.8647 - precision: 0.8760 - recall: 0.8528 - auc: 0.9678 - top 2 accuracy: 0.9804 - top 3 accuracy: 1.0000 - top 5 accuracy: 1.0000 - val_loss: 2.3844 - val_accuracy: 0.4183 - val_precision: 0.4204 - val_recall: 0.4069 - val_auc: 0.6088 - val_top 2 accuracy: 0.7857 - val_top 3 accuracy: 1.0000 - val_top 5 accuracy: 1.0000 - lr: 0.0010\n",
      "Epoch 5/100\n",
      "2076/2076 [==============================] - 138s 66ms/step - loss: 0.2307 - accuracy: 0.9109 - precision: 0.9167 - recall: 0.9049 - auc: 0.9847 - top 2 accuracy: 0.9889 - top 3 accuracy: 1.0000 - top 5 accuracy: 1.0000 - val_loss: 2.5969 - val_accuracy: 0.4120 - val_precision: 0.4140 - val_recall: 0.4002 - val_auc: 0.5956 - val_top 2 accuracy: 0.7573 - val_top 3 accuracy: 1.0000 - val_top 5 accuracy: 1.0000 - lr: 0.0010\n",
      "Epoch 6/100\n",
      "2076/2076 [==============================] - 140s 67ms/step - loss: 0.1648 - accuracy: 0.9379 - precision: 0.9409 - recall: 0.9345 - auc: 0.9918 - top 2 accuracy: 0.9937 - top 3 accuracy: 1.0000 - top 5 accuracy: 1.0000 - val_loss: 2.7584 - val_accuracy: 0.4202 - val_precision: 0.4214 - val_recall: 0.4123 - val_auc: 0.6091 - val_top 2 accuracy: 0.7854 - val_top 3 accuracy: 1.0000 - val_top 5 accuracy: 1.0000 - lr: 0.0010\n",
      "Epoch 7/100\n",
      "2076/2076 [==============================] - 139s 67ms/step - loss: 0.1272 - accuracy: 0.9523 - precision: 0.9544 - recall: 0.9501 - auc: 0.9949 - top 2 accuracy: 0.9959 - top 3 accuracy: 1.0000 - top 5 accuracy: 1.0000 - val_loss: 3.0972 - val_accuracy: 0.4265 - val_precision: 0.4270 - val_recall: 0.4199 - val_auc: 0.6095 - val_top 2 accuracy: 0.7850 - val_top 3 accuracy: 1.0000 - val_top 5 accuracy: 1.0000 - lr: 0.0010\n",
      "Epoch 8/100\n",
      "2076/2076 [==============================] - 136s 66ms/step - loss: 0.1012 - accuracy: 0.9631 - precision: 0.9645 - recall: 0.9621 - auc: 0.9966 - top 2 accuracy: 0.9971 - top 3 accuracy: 1.0000 - top 5 accuracy: 1.0000 - val_loss: 3.0993 - val_accuracy: 0.4269 - val_precision: 0.4289 - val_recall: 0.4218 - val_auc: 0.6093 - val_top 2 accuracy: 0.7818 - val_top 3 accuracy: 1.0000 - val_top 5 accuracy: 1.0000 - lr: 0.0010\n",
      "Epoch 9/100\n",
      "2076/2076 [==============================] - 138s 66ms/step - loss: 0.0841 - accuracy: 0.9694 - precision: 0.9705 - recall: 0.9684 - auc: 0.9975 - top 2 accuracy: 0.9980 - top 3 accuracy: 1.0000 - top 5 accuracy: 1.0000 - val_loss: 3.5842 - val_accuracy: 0.4121 - val_precision: 0.4135 - val_recall: 0.4085 - val_auc: 0.5997 - val_top 2 accuracy: 0.7776 - val_top 3 accuracy: 1.0000 - val_top 5 accuracy: 1.0000 - lr: 0.0010\n",
      "Epoch 10/100\n",
      "2076/2076 [==============================] - 138s 66ms/step - loss: 0.0740 - accuracy: 0.9730 - precision: 0.9740 - recall: 0.9723 - auc: 0.9979 - top 2 accuracy: 0.9981 - top 3 accuracy: 1.0000 - top 5 accuracy: 1.0000 - val_loss: 3.5196 - val_accuracy: 0.4002 - val_precision: 0.4009 - val_recall: 0.3955 - val_auc: 0.5843 - val_top 2 accuracy: 0.7670 - val_top 3 accuracy: 1.0000 - val_top 5 accuracy: 1.0000 - lr: 0.0010\n",
      "Epoch 11/100\n",
      "2076/2076 [==============================] - 136s 66ms/step - loss: 0.0662 - accuracy: 0.9755 - precision: 0.9764 - recall: 0.9749 - auc: 0.9984 - top 2 accuracy: 0.9984 - top 3 accuracy: 1.0000 - top 5 accuracy: 1.0000 - val_loss: 3.5055 - val_accuracy: 0.4214 - val_precision: 0.4226 - val_recall: 0.4175 - val_auc: 0.6007 - val_top 2 accuracy: 0.7844 - val_top 3 accuracy: 1.0000 - val_top 5 accuracy: 1.0000 - lr: 0.0010\n",
      "Epoch 12/100\n",
      "2076/2076 [==============================] - 136s 66ms/step - loss: 0.0588 - accuracy: 0.9791 - precision: 0.9796 - recall: 0.9787 - auc: 0.9986 - top 2 accuracy: 0.9990 - top 3 accuracy: 1.0000 - top 5 accuracy: 1.0000 - val_loss: 3.9333 - val_accuracy: 0.4203 - val_precision: 0.4216 - val_recall: 0.4178 - val_auc: 0.5985 - val_top 2 accuracy: 0.7791 - val_top 3 accuracy: 1.0000 - val_top 5 accuracy: 1.0000 - lr: 0.0010\n",
      "Epoch 13/100\n",
      "2076/2076 [==============================] - 136s 65ms/step - loss: 0.0512 - accuracy: 0.9819 - precision: 0.9824 - recall: 0.9815 - auc: 0.9988 - top 2 accuracy: 0.9987 - top 3 accuracy: 1.0000 - top 5 accuracy: 1.0000 - val_loss: 4.3670 - val_accuracy: 0.4026 - val_precision: 0.4035 - val_recall: 0.3989 - val_auc: 0.5770 - val_top 2 accuracy: 0.7643 - val_top 3 accuracy: 1.0000 - val_top 5 accuracy: 1.0000 - lr: 0.0010\n",
      "Epoch 14/100\n",
      "2076/2076 [==============================] - 137s 66ms/step - loss: 0.0460 - accuracy: 0.9833 - precision: 0.9837 - recall: 0.9831 - auc: 0.9991 - top 2 accuracy: 0.9990 - top 3 accuracy: 1.0000 - top 5 accuracy: 1.0000 - val_loss: 4.7022 - val_accuracy: 0.4377 - val_precision: 0.4384 - val_recall: 0.4351 - val_auc: 0.6081 - val_top 2 accuracy: 0.7754 - val_top 3 accuracy: 1.0000 - val_top 5 accuracy: 1.0000 - lr: 0.0010\n",
      "Epoch 15/100\n",
      "2076/2076 [==============================] - 136s 66ms/step - loss: 0.0445 - accuracy: 0.9844 - precision: 0.9848 - recall: 0.9840 - auc: 0.9990 - top 2 accuracy: 0.9991 - top 3 accuracy: 1.0000 - top 5 accuracy: 1.0000 - val_loss: 4.2102 - val_accuracy: 0.4130 - val_precision: 0.4146 - val_recall: 0.4099 - val_auc: 0.5881 - val_top 2 accuracy: 0.7697 - val_top 3 accuracy: 1.0000 - val_top 5 accuracy: 1.0000 - lr: 0.0010\n",
      "Epoch 16/100\n",
      "2076/2076 [==============================] - 136s 66ms/step - loss: 0.0399 - accuracy: 0.9859 - precision: 0.9863 - recall: 0.9856 - auc: 0.9992 - top 2 accuracy: 0.9993 - top 3 accuracy: 1.0000 - top 5 accuracy: 1.0000 - val_loss: 4.1906 - val_accuracy: 0.3967 - val_precision: 0.3978 - val_recall: 0.3932 - val_auc: 0.5714 - val_top 2 accuracy: 0.7518 - val_top 3 accuracy: 1.0000 - val_top 5 accuracy: 1.0000 - lr: 0.0010\n",
      "Epoch 17/100\n",
      "2076/2076 [==============================] - 136s 66ms/step - loss: 0.0362 - accuracy: 0.9869 - precision: 0.9872 - recall: 0.9866 - auc: 0.9994 - top 2 accuracy: 0.9993 - top 3 accuracy: 1.0000 - top 5 accuracy: 1.0000 - val_loss: 4.6830 - val_accuracy: 0.4141 - val_precision: 0.4148 - val_recall: 0.4116 - val_auc: 0.5906 - val_top 2 accuracy: 0.7866 - val_top 3 accuracy: 1.0000 - val_top 5 accuracy: 1.0000 - lr: 0.0010\n",
      "Epoch 18/100\n",
      "2076/2076 [==============================] - 136s 66ms/step - loss: 0.0339 - accuracy: 0.9879 - precision: 0.9881 - recall: 0.9877 - auc: 0.9994 - top 2 accuracy: 0.9995 - top 3 accuracy: 1.0000 - top 5 accuracy: 1.0000 - val_loss: 4.0761 - val_accuracy: 0.4320 - val_precision: 0.4332 - val_recall: 0.4293 - val_auc: 0.6063 - val_top 2 accuracy: 0.7864 - val_top 3 accuracy: 1.0000 - val_top 5 accuracy: 1.0000 - lr: 0.0010\n",
      "Epoch 19/100\n",
      "2076/2076 [==============================] - 139s 67ms/step - loss: 0.0317 - accuracy: 0.9890 - precision: 0.9892 - recall: 0.9888 - auc: 0.9995 - top 2 accuracy: 0.9993 - top 3 accuracy: 1.0000 - top 5 accuracy: 1.0000 - val_loss: 3.9621 - val_accuracy: 0.4094 - val_precision: 0.4106 - val_recall: 0.4057 - val_auc: 0.5889 - val_top 2 accuracy: 0.7801 - val_top 3 accuracy: 1.0000 - val_top 5 accuracy: 1.0000 - lr: 0.0010\n",
      "Epoch 20/100\n",
      "2076/2076 [==============================] - 141s 68ms/step - loss: 0.0292 - accuracy: 0.9897 - precision: 0.9898 - recall: 0.9895 - auc: 0.9995 - top 2 accuracy: 0.9994 - top 3 accuracy: 1.0000 - top 5 accuracy: 1.0000 - val_loss: 5.2629 - val_accuracy: 0.3926 - val_precision: 0.3927 - val_recall: 0.3904 - val_auc: 0.5675 - val_top 2 accuracy: 0.7773 - val_top 3 accuracy: 1.0000 - val_top 5 accuracy: 1.0000 - lr: 0.0010\n",
      "Epoch 21/100\n",
      "2076/2076 [==============================] - 140s 67ms/step - loss: 0.0296 - accuracy: 0.9898 - precision: 0.9900 - recall: 0.9896 - auc: 0.9995 - top 2 accuracy: 0.9996 - top 3 accuracy: 1.0000 - top 5 accuracy: 1.0000 - val_loss: 4.2679 - val_accuracy: 0.3935 - val_precision: 0.3945 - val_recall: 0.3902 - val_auc: 0.5677 - val_top 2 accuracy: 0.7484 - val_top 3 accuracy: 1.0000 - val_top 5 accuracy: 1.0000 - lr: 0.0010\n",
      "Epoch 22/100\n",
      "2076/2076 [==============================] - 141s 68ms/step - loss: 0.0268 - accuracy: 0.9905 - precision: 0.9908 - recall: 0.9903 - auc: 0.9996 - top 2 accuracy: 0.9995 - top 3 accuracy: 1.0000 - top 5 accuracy: 1.0000 - val_loss: 4.6680 - val_accuracy: 0.4157 - val_precision: 0.4161 - val_recall: 0.4128 - val_auc: 0.5915 - val_top 2 accuracy: 0.7811 - val_top 3 accuracy: 1.0000 - val_top 5 accuracy: 1.0000 - lr: 0.0010\n",
      "Epoch 23/100\n",
      "2076/2076 [==============================] - 143s 69ms/step - loss: 0.0247 - accuracy: 0.9914 - precision: 0.9915 - recall: 0.9912 - auc: 0.9996 - top 2 accuracy: 0.9996 - top 3 accuracy: 1.0000 - top 5 accuracy: 1.0000 - val_loss: 5.0467 - val_accuracy: 0.4024 - val_precision: 0.4026 - val_recall: 0.3997 - val_auc: 0.5723 - val_top 2 accuracy: 0.7488 - val_top 3 accuracy: 1.0000 - val_top 5 accuracy: 1.0000 - lr: 0.0010\n",
      "Epoch 24/100\n",
      "2076/2076 [==============================] - 142s 68ms/step - loss: 0.0236 - accuracy: 0.9915 - precision: 0.9917 - recall: 0.9914 - auc: 0.9996 - top 2 accuracy: 0.9996 - top 3 accuracy: 1.0000 - top 5 accuracy: 1.0000 - val_loss: 4.6569 - val_accuracy: 0.4095 - val_precision: 0.4098 - val_recall: 0.4060 - val_auc: 0.5821 - val_top 2 accuracy: 0.7585 - val_top 3 accuracy: 1.0000 - val_top 5 accuracy: 1.0000 - lr: 0.0010\n",
      "Epoch 25/100\n",
      "2076/2076 [==============================] - 141s 68ms/step - loss: 0.0219 - accuracy: 0.9924 - precision: 0.9926 - recall: 0.9923 - auc: 0.9997 - top 2 accuracy: 0.9996 - top 3 accuracy: 1.0000 - top 5 accuracy: 1.0000 - val_loss: 4.4317 - val_accuracy: 0.4319 - val_precision: 0.4318 - val_recall: 0.4285 - val_auc: 0.6048 - val_top 2 accuracy: 0.7873 - val_top 3 accuracy: 1.0000 - val_top 5 accuracy: 1.0000 - lr: 0.0010\n",
      "Epoch 26/100\n",
      "2076/2076 [==============================] - 139s 67ms/step - loss: 0.0232 - accuracy: 0.9918 - precision: 0.9920 - recall: 0.9917 - auc: 0.9996 - top 2 accuracy: 0.9997 - top 3 accuracy: 1.0000 - top 5 accuracy: 1.0000 - val_loss: 4.4327 - val_accuracy: 0.4073 - val_precision: 0.4081 - val_recall: 0.4041 - val_auc: 0.5785 - val_top 2 accuracy: 0.7532 - val_top 3 accuracy: 1.0000 - val_top 5 accuracy: 1.0000 - lr: 0.0010\n",
      "Epoch 27/100\n",
      "2076/2076 [==============================] - 138s 67ms/step - loss: 0.0215 - accuracy: 0.9927 - precision: 0.9928 - recall: 0.9927 - auc: 0.9996 - top 2 accuracy: 0.9998 - top 3 accuracy: 1.0000 - top 5 accuracy: 1.0000 - val_loss: 4.2236 - val_accuracy: 0.4034 - val_precision: 0.4042 - val_recall: 0.3997 - val_auc: 0.5787 - val_top 2 accuracy: 0.7369 - val_top 3 accuracy: 1.0000 - val_top 5 accuracy: 1.0000 - lr: 0.0010\n",
      "Epoch 28/100\n",
      "2076/2076 [==============================] - 140s 67ms/step - loss: 0.0205 - accuracy: 0.9931 - precision: 0.9932 - recall: 0.9929 - auc: 0.9997 - top 2 accuracy: 0.9997 - top 3 accuracy: 1.0000 - top 5 accuracy: 1.0000 - val_loss: 4.4429 - val_accuracy: 0.4349 - val_precision: 0.4358 - val_recall: 0.4328 - val_auc: 0.6107 - val_top 2 accuracy: 0.7963 - val_top 3 accuracy: 1.0000 - val_top 5 accuracy: 1.0000 - lr: 0.0010\n",
      "Epoch 29/100\n",
      "2076/2076 [==============================] - 139s 67ms/step - loss: 0.0184 - accuracy: 0.9937 - precision: 0.9938 - recall: 0.9936 - auc: 0.9997 - top 2 accuracy: 0.9998 - top 3 accuracy: 1.0000 - top 5 accuracy: 1.0000 - val_loss: 4.9881 - val_accuracy: 0.4036 - val_precision: 0.4041 - val_recall: 0.4014 - val_auc: 0.5754 - val_top 2 accuracy: 0.7703 - val_top 3 accuracy: 1.0000 - val_top 5 accuracy: 1.0000 - lr: 0.0010\n",
      "Epoch 30/100\n",
      "2076/2076 [==============================] - 140s 67ms/step - loss: 0.0194 - accuracy: 0.9934 - precision: 0.9935 - recall: 0.9933 - auc: 0.9997 - top 2 accuracy: 0.9998 - top 3 accuracy: 1.0000 - top 5 accuracy: 1.0000 - val_loss: 4.3572 - val_accuracy: 0.3991 - val_precision: 0.3995 - val_recall: 0.3954 - val_auc: 0.5745 - val_top 2 accuracy: 0.7562 - val_top 3 accuracy: 1.0000 - val_top 5 accuracy: 1.0000 - lr: 0.0010\n",
      "Epoch 31/100\n",
      "2076/2076 [==============================] - 141s 68ms/step - loss: 0.0171 - accuracy: 0.9940 - precision: 0.9942 - recall: 0.9940 - auc: 0.9997 - top 2 accuracy: 0.9997 - top 3 accuracy: 1.0000 - top 5 accuracy: 1.0000 - val_loss: 4.9191 - val_accuracy: 0.4125 - val_precision: 0.4128 - val_recall: 0.4098 - val_auc: 0.5824 - val_top 2 accuracy: 0.7580 - val_top 3 accuracy: 1.0000 - val_top 5 accuracy: 1.0000 - lr: 0.0010\n",
      "Epoch 32/100\n",
      "2076/2076 [==============================] - 168s 81ms/step - loss: 0.0181 - accuracy: 0.9936 - precision: 0.9937 - recall: 0.9935 - auc: 0.9997 - top 2 accuracy: 0.9998 - top 3 accuracy: 1.0000 - top 5 accuracy: 1.0000 - val_loss: 4.3266 - val_accuracy: 0.4557 - val_precision: 0.4563 - val_recall: 0.4531 - val_auc: 0.6286 - val_top 2 accuracy: 0.8025 - val_top 3 accuracy: 1.0000 - val_top 5 accuracy: 1.0000 - lr: 0.0010\n",
      "Epoch 33/100\n",
      "2076/2076 [==============================] - 174s 84ms/step - loss: 0.0159 - accuracy: 0.9945 - precision: 0.9947 - recall: 0.9944 - auc: 0.9997 - top 2 accuracy: 0.9998 - top 3 accuracy: 1.0000 - top 5 accuracy: 1.0000 - val_loss: 4.8235 - val_accuracy: 0.4375 - val_precision: 0.4386 - val_recall: 0.4351 - val_auc: 0.6053 - val_top 2 accuracy: 0.7937 - val_top 3 accuracy: 1.0000 - val_top 5 accuracy: 1.0000 - lr: 0.0010\n",
      "Epoch 34/100\n",
      "2076/2076 [==============================] - 175s 84ms/step - loss: 0.0143 - accuracy: 0.9950 - precision: 0.9951 - recall: 0.9949 - auc: 0.9998 - top 2 accuracy: 0.9998 - top 3 accuracy: 1.0000 - top 5 accuracy: 1.0000 - val_loss: 4.9299 - val_accuracy: 0.4019 - val_precision: 0.4021 - val_recall: 0.3992 - val_auc: 0.5759 - val_top 2 accuracy: 0.7645 - val_top 3 accuracy: 1.0000 - val_top 5 accuracy: 1.0000 - lr: 0.0010\n",
      "Epoch 35/100\n",
      "2076/2076 [==============================] - 152s 73ms/step - loss: 0.0161 - accuracy: 0.9943 - precision: 0.9944 - recall: 0.9942 - auc: 0.9997 - top 2 accuracy: 0.9998 - top 3 accuracy: 1.0000 - top 5 accuracy: 1.0000 - val_loss: 4.6953 - val_accuracy: 0.4234 - val_precision: 0.4242 - val_recall: 0.4212 - val_auc: 0.5951 - val_top 2 accuracy: 0.7729 - val_top 3 accuracy: 1.0000 - val_top 5 accuracy: 1.0000 - lr: 0.0010\n",
      "Epoch 36/100\n",
      "2076/2076 [==============================] - 139s 67ms/step - loss: 0.0145 - accuracy: 0.9950 - precision: 0.9951 - recall: 0.9949 - auc: 0.9998 - top 2 accuracy: 0.9998 - top 3 accuracy: 1.0000 - top 5 accuracy: 1.0000 - val_loss: 4.5403 - val_accuracy: 0.4217 - val_precision: 0.4231 - val_recall: 0.4200 - val_auc: 0.5975 - val_top 2 accuracy: 0.7801 - val_top 3 accuracy: 1.0000 - val_top 5 accuracy: 1.0000 - lr: 0.0010\n",
      "Epoch 37/100\n",
      "2076/2076 [==============================] - 143s 69ms/step - loss: 0.0141 - accuracy: 0.9950 - precision: 0.9951 - recall: 0.9949 - auc: 0.9998 - top 2 accuracy: 0.9998 - top 3 accuracy: 1.0000 - top 5 accuracy: 1.0000 - val_loss: 5.5598 - val_accuracy: 0.3852 - val_precision: 0.3859 - val_recall: 0.3834 - val_auc: 0.5576 - val_top 2 accuracy: 0.7483 - val_top 3 accuracy: 1.0000 - val_top 5 accuracy: 1.0000 - lr: 0.0010\n",
      "Epoch 38/100\n",
      "2076/2076 [==============================] - 184s 88ms/step - loss: 0.0133 - accuracy: 0.9952 - precision: 0.9953 - recall: 0.9951 - auc: 0.9999 - top 2 accuracy: 0.9999 - top 3 accuracy: 1.0000 - top 5 accuracy: 1.0000 - val_loss: 5.4382 - val_accuracy: 0.3863 - val_precision: 0.3862 - val_recall: 0.3836 - val_auc: 0.5570 - val_top 2 accuracy: 0.7488 - val_top 3 accuracy: 1.0000 - val_top 5 accuracy: 1.0000 - lr: 0.0010\n",
      "Epoch 39/100\n",
      "2076/2076 [==============================] - 190s 92ms/step - loss: 0.0151 - accuracy: 0.9949 - precision: 0.9949 - recall: 0.9948 - auc: 0.9997 - top 2 accuracy: 0.9998 - top 3 accuracy: 1.0000 - top 5 accuracy: 1.0000 - val_loss: 5.2874 - val_accuracy: 0.3843 - val_precision: 0.3845 - val_recall: 0.3820 - val_auc: 0.5561 - val_top 2 accuracy: 0.7474 - val_top 3 accuracy: 1.0000 - val_top 5 accuracy: 1.0000 - lr: 0.0010\n",
      "Epoch 40/100\n",
      "2076/2076 [==============================] - 191s 92ms/step - loss: 0.0125 - accuracy: 0.9958 - precision: 0.9958 - recall: 0.9957 - auc: 0.9998 - top 2 accuracy: 0.9998 - top 3 accuracy: 1.0000 - top 5 accuracy: 1.0000 - val_loss: 5.3509 - val_accuracy: 0.3955 - val_precision: 0.3957 - val_recall: 0.3935 - val_auc: 0.5711 - val_top 2 accuracy: 0.7722 - val_top 3 accuracy: 1.0000 - val_top 5 accuracy: 1.0000 - lr: 0.0010\n",
      "Epoch 41/100\n",
      "2076/2076 [==============================] - 139s 67ms/step - loss: 0.0138 - accuracy: 0.9957 - precision: 0.9958 - recall: 0.9957 - auc: 0.9998 - top 2 accuracy: 0.9998 - top 3 accuracy: 1.0000 - top 5 accuracy: 1.0000 - val_loss: 4.8957 - val_accuracy: 0.3987 - val_precision: 0.3993 - val_recall: 0.3955 - val_auc: 0.5703 - val_top 2 accuracy: 0.7503 - val_top 3 accuracy: 1.0000 - val_top 5 accuracy: 1.0000 - lr: 0.0010\n",
      "Epoch 42/100\n",
      "2076/2076 [==============================] - 141s 68ms/step - loss: 0.0125 - accuracy: 0.9957 - precision: 0.9958 - recall: 0.9956 - auc: 0.9998 - top 2 accuracy: 0.9998 - top 3 accuracy: 1.0000 - top 5 accuracy: 1.0000 - val_loss: 5.9156 - val_accuracy: 0.3843 - val_precision: 0.3843 - val_recall: 0.3825 - val_auc: 0.5592 - val_top 2 accuracy: 0.7518 - val_top 3 accuracy: 1.0000 - val_top 5 accuracy: 1.0000 - lr: 0.0010\n",
      "Epoch 43/100\n",
      "2076/2076 [==============================] - 141s 68ms/step - loss: 0.0109 - accuracy: 0.9962 - precision: 0.9963 - recall: 0.9961 - auc: 0.9998 - top 2 accuracy: 0.9998 - top 3 accuracy: 1.0000 - top 5 accuracy: 1.0000 - val_loss: 4.9424 - val_accuracy: 0.3994 - val_precision: 0.4001 - val_recall: 0.3974 - val_auc: 0.5756 - val_top 2 accuracy: 0.7694 - val_top 3 accuracy: 1.0000 - val_top 5 accuracy: 1.0000 - lr: 0.0010\n",
      "Epoch 44/100\n",
      "2076/2076 [==============================] - 143s 69ms/step - loss: 0.0127 - accuracy: 0.9954 - precision: 0.9955 - recall: 0.9954 - auc: 0.9999 - top 2 accuracy: 0.9999 - top 3 accuracy: 1.0000 - top 5 accuracy: 1.0000 - val_loss: 5.5286 - val_accuracy: 0.3962 - val_precision: 0.3971 - val_recall: 0.3945 - val_auc: 0.5693 - val_top 2 accuracy: 0.7684 - val_top 3 accuracy: 1.0000 - val_top 5 accuracy: 1.0000 - lr: 0.0010\n",
      "Epoch 45/100\n",
      "2076/2076 [==============================] - 142s 68ms/step - loss: 0.0118 - accuracy: 0.9960 - precision: 0.9960 - recall: 0.9960 - auc: 0.9998 - top 2 accuracy: 0.9998 - top 3 accuracy: 1.0000 - top 5 accuracy: 1.0000 - val_loss: 5.2927 - val_accuracy: 0.4201 - val_precision: 0.4201 - val_recall: 0.4177 - val_auc: 0.5890 - val_top 2 accuracy: 0.7755 - val_top 3 accuracy: 1.0000 - val_top 5 accuracy: 1.0000 - lr: 0.0010\n",
      "Epoch 46/100\n",
      "2076/2076 [==============================] - 143s 69ms/step - loss: 0.0108 - accuracy: 0.9962 - precision: 0.9963 - recall: 0.9962 - auc: 0.9999 - top 2 accuracy: 0.9999 - top 3 accuracy: 1.0000 - top 5 accuracy: 1.0000 - val_loss: 5.8359 - val_accuracy: 0.3960 - val_precision: 0.3964 - val_recall: 0.3943 - val_auc: 0.5675 - val_top 2 accuracy: 0.7600 - val_top 3 accuracy: 1.0000 - val_top 5 accuracy: 1.0000 - lr: 0.0010\n",
      "Epoch 47/100\n",
      " 391/2076 [====>.........................] - ETA: 1:43 - loss: 0.0083 - accuracy: 0.9969 - precision: 0.9969 - recall: 0.9969 - auc: 1.0000 - top 2 accuracy: 0.9999 - top 3 accuracy: 1.0000 - top 5 accuracy: 1.0000"
     ]
    },
    {
     "ename": "KeyboardInterrupt",
     "evalue": "",
     "output_type": "error",
     "traceback": [
      "\u001b[1;31m---------------------------------------------------------------------------\u001b[0m",
      "\u001b[1;31mKeyboardInterrupt\u001b[0m                         Traceback (most recent call last)",
      "Cell \u001b[1;32mIn[27], line 13\u001b[0m\n\u001b[0;32m      9\u001b[0m \u001b[39mprint\u001b[39m (train_steps, valid_steps)\n\u001b[0;32m     11\u001b[0m \u001b[39m#fit_generator\u001b[39;00m\n\u001b[1;32m---> 13\u001b[0m history_dcnn \u001b[39m=\u001b[39m ft_resnet\u001b[39m.\u001b[39;49mfit(train_data, \n\u001b[0;32m     14\u001b[0m                              steps_per_epoch\u001b[39m=\u001b[39;49mtrain_steps,\n\u001b[0;32m     15\u001b[0m                              epochs\u001b[39m=\u001b[39;49mepochs,\n\u001b[0;32m     16\u001b[0m                              workers \u001b[39m=\u001b[39;49m \u001b[39m4\u001b[39;49m,\n\u001b[0;32m     17\u001b[0m                              callbacks \u001b[39m=\u001b[39;49m [tb, model_chkp, lr_reducer, early_stopper],\n\u001b[0;32m     18\u001b[0m                              validation_data \u001b[39m=\u001b[39;49m validation_data, \n\u001b[0;32m     19\u001b[0m                              validation_steps \u001b[39m=\u001b[39;49m valid_steps)\n",
      "File \u001b[1;32mc:\\Users\\giorg\\miniconda3\\envs\\tensorflow-gpu-3.8\\lib\\site-packages\\keras\\utils\\traceback_utils.py:65\u001b[0m, in \u001b[0;36mfilter_traceback.<locals>.error_handler\u001b[1;34m(*args, **kwargs)\u001b[0m\n\u001b[0;32m     63\u001b[0m filtered_tb \u001b[39m=\u001b[39m \u001b[39mNone\u001b[39;00m\n\u001b[0;32m     64\u001b[0m \u001b[39mtry\u001b[39;00m:\n\u001b[1;32m---> 65\u001b[0m     \u001b[39mreturn\u001b[39;00m fn(\u001b[39m*\u001b[39;49margs, \u001b[39m*\u001b[39;49m\u001b[39m*\u001b[39;49mkwargs)\n\u001b[0;32m     66\u001b[0m \u001b[39mexcept\u001b[39;00m \u001b[39mException\u001b[39;00m \u001b[39mas\u001b[39;00m e:\n\u001b[0;32m     67\u001b[0m     filtered_tb \u001b[39m=\u001b[39m _process_traceback_frames(e\u001b[39m.\u001b[39m__traceback__)\n",
      "File \u001b[1;32mc:\\Users\\giorg\\miniconda3\\envs\\tensorflow-gpu-3.8\\lib\\site-packages\\keras\\engine\\training.py:1564\u001b[0m, in \u001b[0;36mModel.fit\u001b[1;34m(self, x, y, batch_size, epochs, verbose, callbacks, validation_split, validation_data, shuffle, class_weight, sample_weight, initial_epoch, steps_per_epoch, validation_steps, validation_batch_size, validation_freq, max_queue_size, workers, use_multiprocessing)\u001b[0m\n\u001b[0;32m   1556\u001b[0m \u001b[39mwith\u001b[39;00m tf\u001b[39m.\u001b[39mprofiler\u001b[39m.\u001b[39mexperimental\u001b[39m.\u001b[39mTrace(\n\u001b[0;32m   1557\u001b[0m     \u001b[39m\"\u001b[39m\u001b[39mtrain\u001b[39m\u001b[39m\"\u001b[39m,\n\u001b[0;32m   1558\u001b[0m     epoch_num\u001b[39m=\u001b[39mepoch,\n\u001b[1;32m   (...)\u001b[0m\n\u001b[0;32m   1561\u001b[0m     _r\u001b[39m=\u001b[39m\u001b[39m1\u001b[39m,\n\u001b[0;32m   1562\u001b[0m ):\n\u001b[0;32m   1563\u001b[0m     callbacks\u001b[39m.\u001b[39mon_train_batch_begin(step)\n\u001b[1;32m-> 1564\u001b[0m     tmp_logs \u001b[39m=\u001b[39m \u001b[39mself\u001b[39;49m\u001b[39m.\u001b[39;49mtrain_function(iterator)\n\u001b[0;32m   1565\u001b[0m     \u001b[39mif\u001b[39;00m data_handler\u001b[39m.\u001b[39mshould_sync:\n\u001b[0;32m   1566\u001b[0m         context\u001b[39m.\u001b[39masync_wait()\n",
      "File \u001b[1;32mc:\\Users\\giorg\\miniconda3\\envs\\tensorflow-gpu-3.8\\lib\\site-packages\\tensorflow\\python\\util\\traceback_utils.py:150\u001b[0m, in \u001b[0;36mfilter_traceback.<locals>.error_handler\u001b[1;34m(*args, **kwargs)\u001b[0m\n\u001b[0;32m    148\u001b[0m filtered_tb \u001b[39m=\u001b[39m \u001b[39mNone\u001b[39;00m\n\u001b[0;32m    149\u001b[0m \u001b[39mtry\u001b[39;00m:\n\u001b[1;32m--> 150\u001b[0m   \u001b[39mreturn\u001b[39;00m fn(\u001b[39m*\u001b[39;49margs, \u001b[39m*\u001b[39;49m\u001b[39m*\u001b[39;49mkwargs)\n\u001b[0;32m    151\u001b[0m \u001b[39mexcept\u001b[39;00m \u001b[39mException\u001b[39;00m \u001b[39mas\u001b[39;00m e:\n\u001b[0;32m    152\u001b[0m   filtered_tb \u001b[39m=\u001b[39m _process_traceback_frames(e\u001b[39m.\u001b[39m__traceback__)\n",
      "File \u001b[1;32mc:\\Users\\giorg\\miniconda3\\envs\\tensorflow-gpu-3.8\\lib\\site-packages\\tensorflow\\python\\eager\\def_function.py:915\u001b[0m, in \u001b[0;36mFunction.__call__\u001b[1;34m(self, *args, **kwds)\u001b[0m\n\u001b[0;32m    912\u001b[0m compiler \u001b[39m=\u001b[39m \u001b[39m\"\u001b[39m\u001b[39mxla\u001b[39m\u001b[39m\"\u001b[39m \u001b[39mif\u001b[39;00m \u001b[39mself\u001b[39m\u001b[39m.\u001b[39m_jit_compile \u001b[39melse\u001b[39;00m \u001b[39m\"\u001b[39m\u001b[39mnonXla\u001b[39m\u001b[39m\"\u001b[39m\n\u001b[0;32m    914\u001b[0m \u001b[39mwith\u001b[39;00m OptionalXlaContext(\u001b[39mself\u001b[39m\u001b[39m.\u001b[39m_jit_compile):\n\u001b[1;32m--> 915\u001b[0m   result \u001b[39m=\u001b[39m \u001b[39mself\u001b[39;49m\u001b[39m.\u001b[39;49m_call(\u001b[39m*\u001b[39;49margs, \u001b[39m*\u001b[39;49m\u001b[39m*\u001b[39;49mkwds)\n\u001b[0;32m    917\u001b[0m new_tracing_count \u001b[39m=\u001b[39m \u001b[39mself\u001b[39m\u001b[39m.\u001b[39mexperimental_get_tracing_count()\n\u001b[0;32m    918\u001b[0m without_tracing \u001b[39m=\u001b[39m (tracing_count \u001b[39m==\u001b[39m new_tracing_count)\n",
      "File \u001b[1;32mc:\\Users\\giorg\\miniconda3\\envs\\tensorflow-gpu-3.8\\lib\\site-packages\\tensorflow\\python\\eager\\def_function.py:947\u001b[0m, in \u001b[0;36mFunction._call\u001b[1;34m(self, *args, **kwds)\u001b[0m\n\u001b[0;32m    944\u001b[0m   \u001b[39mself\u001b[39m\u001b[39m.\u001b[39m_lock\u001b[39m.\u001b[39mrelease()\n\u001b[0;32m    945\u001b[0m   \u001b[39m# In this case we have created variables on the first call, so we run the\u001b[39;00m\n\u001b[0;32m    946\u001b[0m   \u001b[39m# defunned version which is guaranteed to never create variables.\u001b[39;00m\n\u001b[1;32m--> 947\u001b[0m   \u001b[39mreturn\u001b[39;00m \u001b[39mself\u001b[39;49m\u001b[39m.\u001b[39;49m_stateless_fn(\u001b[39m*\u001b[39;49margs, \u001b[39m*\u001b[39;49m\u001b[39m*\u001b[39;49mkwds)  \u001b[39m# pylint: disable=not-callable\u001b[39;00m\n\u001b[0;32m    948\u001b[0m \u001b[39melif\u001b[39;00m \u001b[39mself\u001b[39m\u001b[39m.\u001b[39m_stateful_fn \u001b[39mis\u001b[39;00m \u001b[39mnot\u001b[39;00m \u001b[39mNone\u001b[39;00m:\n\u001b[0;32m    949\u001b[0m   \u001b[39m# Release the lock early so that multiple threads can perform the call\u001b[39;00m\n\u001b[0;32m    950\u001b[0m   \u001b[39m# in parallel.\u001b[39;00m\n\u001b[0;32m    951\u001b[0m   \u001b[39mself\u001b[39m\u001b[39m.\u001b[39m_lock\u001b[39m.\u001b[39mrelease()\n",
      "File \u001b[1;32mc:\\Users\\giorg\\miniconda3\\envs\\tensorflow-gpu-3.8\\lib\\site-packages\\tensorflow\\python\\eager\\function.py:2496\u001b[0m, in \u001b[0;36mFunction.__call__\u001b[1;34m(self, *args, **kwargs)\u001b[0m\n\u001b[0;32m   2493\u001b[0m \u001b[39mwith\u001b[39;00m \u001b[39mself\u001b[39m\u001b[39m.\u001b[39m_lock:\n\u001b[0;32m   2494\u001b[0m   (graph_function,\n\u001b[0;32m   2495\u001b[0m    filtered_flat_args) \u001b[39m=\u001b[39m \u001b[39mself\u001b[39m\u001b[39m.\u001b[39m_maybe_define_function(args, kwargs)\n\u001b[1;32m-> 2496\u001b[0m \u001b[39mreturn\u001b[39;00m graph_function\u001b[39m.\u001b[39;49m_call_flat(\n\u001b[0;32m   2497\u001b[0m     filtered_flat_args, captured_inputs\u001b[39m=\u001b[39;49mgraph_function\u001b[39m.\u001b[39;49mcaptured_inputs)\n",
      "File \u001b[1;32mc:\\Users\\giorg\\miniconda3\\envs\\tensorflow-gpu-3.8\\lib\\site-packages\\tensorflow\\python\\eager\\function.py:1862\u001b[0m, in \u001b[0;36mConcreteFunction._call_flat\u001b[1;34m(self, args, captured_inputs, cancellation_manager)\u001b[0m\n\u001b[0;32m   1858\u001b[0m possible_gradient_type \u001b[39m=\u001b[39m gradients_util\u001b[39m.\u001b[39mPossibleTapeGradientTypes(args)\n\u001b[0;32m   1859\u001b[0m \u001b[39mif\u001b[39;00m (possible_gradient_type \u001b[39m==\u001b[39m gradients_util\u001b[39m.\u001b[39mPOSSIBLE_GRADIENT_TYPES_NONE\n\u001b[0;32m   1860\u001b[0m     \u001b[39mand\u001b[39;00m executing_eagerly):\n\u001b[0;32m   1861\u001b[0m   \u001b[39m# No tape is watching; skip to running the function.\u001b[39;00m\n\u001b[1;32m-> 1862\u001b[0m   \u001b[39mreturn\u001b[39;00m \u001b[39mself\u001b[39m\u001b[39m.\u001b[39m_build_call_outputs(\u001b[39mself\u001b[39;49m\u001b[39m.\u001b[39;49m_inference_function\u001b[39m.\u001b[39;49mcall(\n\u001b[0;32m   1863\u001b[0m       ctx, args, cancellation_manager\u001b[39m=\u001b[39;49mcancellation_manager))\n\u001b[0;32m   1864\u001b[0m forward_backward \u001b[39m=\u001b[39m \u001b[39mself\u001b[39m\u001b[39m.\u001b[39m_select_forward_and_backward_functions(\n\u001b[0;32m   1865\u001b[0m     args,\n\u001b[0;32m   1866\u001b[0m     possible_gradient_type,\n\u001b[0;32m   1867\u001b[0m     executing_eagerly)\n\u001b[0;32m   1868\u001b[0m forward_function, args_with_tangents \u001b[39m=\u001b[39m forward_backward\u001b[39m.\u001b[39mforward()\n",
      "File \u001b[1;32mc:\\Users\\giorg\\miniconda3\\envs\\tensorflow-gpu-3.8\\lib\\site-packages\\tensorflow\\python\\eager\\function.py:499\u001b[0m, in \u001b[0;36m_EagerDefinedFunction.call\u001b[1;34m(self, ctx, args, cancellation_manager)\u001b[0m\n\u001b[0;32m    497\u001b[0m \u001b[39mwith\u001b[39;00m _InterpolateFunctionError(\u001b[39mself\u001b[39m):\n\u001b[0;32m    498\u001b[0m   \u001b[39mif\u001b[39;00m cancellation_manager \u001b[39mis\u001b[39;00m \u001b[39mNone\u001b[39;00m:\n\u001b[1;32m--> 499\u001b[0m     outputs \u001b[39m=\u001b[39m execute\u001b[39m.\u001b[39;49mexecute(\n\u001b[0;32m    500\u001b[0m         \u001b[39mstr\u001b[39;49m(\u001b[39mself\u001b[39;49m\u001b[39m.\u001b[39;49msignature\u001b[39m.\u001b[39;49mname),\n\u001b[0;32m    501\u001b[0m         num_outputs\u001b[39m=\u001b[39;49m\u001b[39mself\u001b[39;49m\u001b[39m.\u001b[39;49m_num_outputs,\n\u001b[0;32m    502\u001b[0m         inputs\u001b[39m=\u001b[39;49margs,\n\u001b[0;32m    503\u001b[0m         attrs\u001b[39m=\u001b[39;49mattrs,\n\u001b[0;32m    504\u001b[0m         ctx\u001b[39m=\u001b[39;49mctx)\n\u001b[0;32m    505\u001b[0m   \u001b[39melse\u001b[39;00m:\n\u001b[0;32m    506\u001b[0m     outputs \u001b[39m=\u001b[39m execute\u001b[39m.\u001b[39mexecute_with_cancellation(\n\u001b[0;32m    507\u001b[0m         \u001b[39mstr\u001b[39m(\u001b[39mself\u001b[39m\u001b[39m.\u001b[39msignature\u001b[39m.\u001b[39mname),\n\u001b[0;32m    508\u001b[0m         num_outputs\u001b[39m=\u001b[39m\u001b[39mself\u001b[39m\u001b[39m.\u001b[39m_num_outputs,\n\u001b[1;32m   (...)\u001b[0m\n\u001b[0;32m    511\u001b[0m         ctx\u001b[39m=\u001b[39mctx,\n\u001b[0;32m    512\u001b[0m         cancellation_manager\u001b[39m=\u001b[39mcancellation_manager)\n",
      "File \u001b[1;32mc:\\Users\\giorg\\miniconda3\\envs\\tensorflow-gpu-3.8\\lib\\site-packages\\tensorflow\\python\\eager\\execute.py:54\u001b[0m, in \u001b[0;36mquick_execute\u001b[1;34m(op_name, num_outputs, inputs, attrs, ctx, name)\u001b[0m\n\u001b[0;32m     52\u001b[0m \u001b[39mtry\u001b[39;00m:\n\u001b[0;32m     53\u001b[0m   ctx\u001b[39m.\u001b[39mensure_initialized()\n\u001b[1;32m---> 54\u001b[0m   tensors \u001b[39m=\u001b[39m pywrap_tfe\u001b[39m.\u001b[39;49mTFE_Py_Execute(ctx\u001b[39m.\u001b[39;49m_handle, device_name, op_name,\n\u001b[0;32m     55\u001b[0m                                       inputs, attrs, num_outputs)\n\u001b[0;32m     56\u001b[0m \u001b[39mexcept\u001b[39;00m core\u001b[39m.\u001b[39m_NotOkStatusException \u001b[39mas\u001b[39;00m e:\n\u001b[0;32m     57\u001b[0m   \u001b[39mif\u001b[39;00m name \u001b[39mis\u001b[39;00m \u001b[39mnot\u001b[39;00m \u001b[39mNone\u001b[39;00m:\n",
      "\u001b[1;31mKeyboardInterrupt\u001b[0m: "
     ]
    }
   ],
   "source": [
    "version = \"v1\"\n",
    "epochs = 100\n",
    "\n",
    "print(train_tot, valid_tot)\n",
    "\n",
    "train_steps = np.ceil(train_tot/batch_size)\n",
    "valid_steps = np.ceil(valid_tot/batch_size)\n",
    "\n",
    "print (train_steps, valid_steps)\n",
    "\n",
    "#fit_generator\n",
    "\n",
    "history_dcnn = ft_resnet.fit(train_data, \n",
    "                             steps_per_epoch=train_steps,\n",
    "                             epochs=epochs,\n",
    "                             workers = 4,\n",
    "                             callbacks = [tb, model_chkp, lr_reducer, early_stopper],\n",
    "                             validation_data = validation_data, \n",
    "                             validation_steps = valid_steps)\n"
   ]
  },
  {
   "cell_type": "code",
   "execution_count": 28,
   "metadata": {},
   "outputs": [
    {
     "ename": "NameError",
     "evalue": "name 'history_dcnn' is not defined",
     "output_type": "error",
     "traceback": [
      "\u001b[1;31m---------------------------------------------------------------------------\u001b[0m",
      "\u001b[1;31mNameError\u001b[0m                                 Traceback (most recent call last)",
      "Cell \u001b[1;32mIn[28], line 6\u001b[0m\n\u001b[0;32m      3\u001b[0m continue_model_path \u001b[39m=\u001b[39m \u001b[39m'\u001b[39m\u001b[39m..\u001b[39m\u001b[39m\\\\\u001b[39;00m\u001b[39mmodels\u001b[39m\u001b[39m\\\\\u001b[39;00m\u001b[39mbest_model_rand_under\u001b[39m\u001b[39m\\\\\u001b[39;00m\u001b[39m'\u001b[39m \u001b[39m+\u001b[39m \u001b[39m'\u001b[39m\u001b[39m{}\u001b[39;00m\u001b[39m_\u001b[39m\u001b[39m{}\u001b[39;00m\u001b[39m_\u001b[39m\u001b[39m{}\u001b[39;00m\u001b[39m_eps.h5\u001b[39m\u001b[39m'\u001b[39m\u001b[39m.\u001b[39mformat(version, arch_name, epochs)\n\u001b[0;32m      4\u001b[0m ft_resnet\u001b[39m.\u001b[39msave(continue_model_path)\n\u001b[0;32m      5\u001b[0m np\u001b[39m.\u001b[39msave(\u001b[39mf\u001b[39m\u001b[39m'\u001b[39m\u001b[39m..\u001b[39m\u001b[39m\\\\\u001b[39;00m\u001b[39mmodels\u001b[39m\u001b[39m\\\\\u001b[39;00m\u001b[39mbest_model_rand_under\u001b[39m\u001b[39m\\\\\u001b[39;00m\u001b[39m{\u001b[39;00mversion\u001b[39m}\u001b[39;00m\u001b[39m_\u001b[39m\u001b[39m{\u001b[39;00march_name\u001b[39m}\u001b[39;00m\u001b[39m_\u001b[39m\u001b[39m{\u001b[39;00mepochs\u001b[39m}\u001b[39;00m\u001b[39m_eps.npy\u001b[39m\u001b[39m'\u001b[39m,\n\u001b[1;32m----> 6\u001b[0m         history_dcnn\u001b[39m.\u001b[39mhistory)\n",
      "\u001b[1;31mNameError\u001b[0m: name 'history_dcnn' is not defined"
     ]
    }
   ],
   "source": [
    "arch_name = 'bs_{}'.format(batch_size)\n",
    "\n",
    "continue_model_path = '..\\\\models\\\\best_model_rand_under\\\\' + '{}_{}_{}_eps.h5'.format(version, arch_name, epochs)\n",
    "ft_resnet.save(continue_model_path)\n",
    "np.save(f'..\\\\models\\\\best_model_rand_under\\\\{version}_{arch_name}_{epochs}_eps.npy',\n",
    "        history_dcnn.history)"
   ]
  },
  {
   "cell_type": "code",
   "execution_count": 29,
   "metadata": {},
   "outputs": [
    {
     "ename": "NameError",
     "evalue": "name 'history_dcnn' is not defined",
     "output_type": "error",
     "traceback": [
      "\u001b[1;31m---------------------------------------------------------------------------\u001b[0m",
      "\u001b[1;31mNameError\u001b[0m                                 Traceback (most recent call last)",
      "Cell \u001b[1;32mIn[29], line 5\u001b[0m\n\u001b[0;32m      1\u001b[0m \u001b[39m# Visualization of the learning curves\u001b[39;00m\n\u001b[0;32m      2\u001b[0m \n\u001b[0;32m      3\u001b[0m \u001b[39m# Loss\u001b[39;00m\n\u001b[0;32m      4\u001b[0m plt\u001b[39m.\u001b[39msubplot(\u001b[39m1\u001b[39m, \u001b[39m2\u001b[39m, \u001b[39m1\u001b[39m)\n\u001b[1;32m----> 5\u001b[0m plt\u001b[39m.\u001b[39mplot(history_dcnn\u001b[39m.\u001b[39mhistory[\u001b[39m'\u001b[39m\u001b[39mloss\u001b[39m\u001b[39m'\u001b[39m])\n\u001b[0;32m      6\u001b[0m plt\u001b[39m.\u001b[39mplot(history_dcnn\u001b[39m.\u001b[39mhistory[\u001b[39m'\u001b[39m\u001b[39mval_loss\u001b[39m\u001b[39m'\u001b[39m])\n\u001b[0;32m      7\u001b[0m plt\u001b[39m.\u001b[39mxlabel(\u001b[39m'\u001b[39m\u001b[39mEpoch\u001b[39m\u001b[39m'\u001b[39m)\n",
      "\u001b[1;31mNameError\u001b[0m: name 'history_dcnn' is not defined"
     ]
    },
    {
     "data": {
      "image/png": "[encoded data removed]",
      "text/plain": [
       "<Figure size 640x480 with 1 Axes>"
      ]
     },
     "metadata": {},
     "output_type": "display_data"
    }
   ],
   "source": [
    "# Visualization of the learning curves\n",
    "\n",
    "# Loss\n",
    "plt.subplot(1, 2, 1)\n",
    "plt.plot(history_dcnn.history['loss'])\n",
    "plt.plot(history_dcnn.history['val_loss'])\n",
    "plt.xlabel('Epoch')\n",
    "plt.ylabel('Loss')\n",
    "plt.legend(['train', 'validation'])\n",
    "\n",
    "# Accuracy\n",
    "plt.subplot(1, 2, 2)\n",
    "plt.plot(history_dcnn.history['accuracy'])\n",
    "plt.plot(history_dcnn.history['val_accuracy'])\n",
    "plt.xlabel('Epoch')\n",
    "plt.ylabel('Accuracy')\n",
    "plt.legend(['train', 'validation'])"
   ]
  },
  {
   "attachments": {},
   "cell_type": "markdown",
   "metadata": {},
   "source": [
    "# Load Model"
   ]
  },
  {
   "cell_type": "code",
   "execution_count": 8,
   "metadata": {},
   "outputs": [],
   "source": [
    "#os.chdir('C:/Users/marco/Desktop/Local_Documents/models/NoBalance')"
   ]
  },
  {
   "cell_type": "code",
   "execution_count": 16,
   "metadata": {},
   "outputs": [],
   "source": [
    "# Load model\n",
    "net_dcnn = keras.models.load_model(\"..\\\\models\\\\best_model_rand_under\\\\v1_bs_32_10_eps.h5\")"
   ]
  },
  {
   "cell_type": "code",
   "execution_count": 17,
   "metadata": {},
   "outputs": [],
   "source": [
    "# Load hystory and convert to dict\n",
    "history = np.load('..\\\\models\\\\best_model_rand_under\\\\v1_bs_32_10_eps.npy', allow_pickle=True).item()"
   ]
  },
  {
   "attachments": {},
   "cell_type": "markdown",
   "metadata": {},
   "source": [
    "# Model Evaluation"
   ]
  },
  {
   "cell_type": "code",
   "execution_count": 18,
   "metadata": {},
   "outputs": [],
   "source": [
    "# Set visualization size for figures \n",
    "plt.rcParams['figure.figsize'] = [5,5] # width, height"
   ]
  },
  {
   "cell_type": "code",
   "execution_count": 44,
   "metadata": {},
   "outputs": [],
   "source": [
    "CATEGORIES = \"ad\", \"mci\",\"nor\""
   ]
  },
  {
   "cell_type": "code",
   "execution_count": 28,
   "metadata": {},
   "outputs": [
    {
     "data": {
      "text/plain": [
       "dict_keys(['loss', 'accuracy', 'precision', 'recall', 'auc', 'top 2 accuracy', 'top 3 accuracy', 'top 5 accuracy', 'val_loss', 'val_accuracy', 'val_precision', 'val_recall', 'val_auc', 'val_top 2 accuracy', 'val_top 3 accuracy', 'val_top 5 accuracy', 'lr'])"
      ]
     },
     "execution_count": 28,
     "metadata": {},
     "output_type": "execute_result"
    }
   ],
   "source": [
    "history.keys()"
   ]
  },
  {
   "cell_type": "code",
   "execution_count": 29,
   "metadata": {},
   "outputs": [],
   "source": [
    "test_data = validation_data"
   ]
  },
  {
   "cell_type": "code",
   "execution_count": 41,
   "metadata": {},
   "outputs": [
    {
     "data": {
      "text/plain": [
       "[0.5128205418586731, 0.6809400916099548]"
      ]
     },
     "execution_count": 41,
     "metadata": {},
     "output_type": "execute_result"
    }
   ],
   "source": [
    "history['accuracy'][:1+1]"
   ]
  },
  {
   "cell_type": "code",
   "execution_count": 45,
   "metadata": {},
   "outputs": [],
   "source": [
    "%matplotlib inline\n",
    "\n",
    "def print_graph(item, index, history):\n",
    "    plt.figure()\n",
    "    train_values = history[item][:index+5]\n",
    "    plt.plot(train_values)\n",
    "    test_values = history['val_' + item][:index+5]\n",
    "    plt.plot(test_values)\n",
    "    plt.legend(['training','validation'])\n",
    "    plt.title('Training and validation '+ item)\n",
    "    plt.xlabel('epoch')\n",
    "    plt.show()\n",
    "    plot = '{}.png'.format(item)\n",
    "    plt.savefig(plot)"
   ]
  },
  {
   "cell_type": "code",
   "execution_count": 46,
   "metadata": {},
   "outputs": [],
   "source": [
    "def test_set_results(pred_value, n=1):    \n",
    "    y_test = test_data.labels\n",
    "    X_test, _ = test_data.next()\n",
    "    \n",
    "    corr_pred = confusion_matrix(y_test, pred_value)\n",
    "    fig=plt.figure(figsize=(10, 8))\n",
    "    ax = plt.axes()\n",
    "    \n",
    "    sns.heatmap(corr_pred,annot=True, fmt=\"d\",cmap=\"Purples\", xticklabels=CATEGORIES, yticklabels=CATEGORIES)\n",
    "    ax.set_title('Confusione Matrix')\n",
    "    plt.show()\n",
    "    \n",
    "    n_correct = int(corr_pred[0][0] + corr_pred[1][1] + corr_pred[2][2])\n",
    "    print('...'*15)\n",
    "\n",
    "    print('> Correct Predictions:', n_correct)\n",
    "    \n",
    "    n_wrongs = len(y_test) - n_correct\n",
    "    print('> Wrong Predictions:', n_wrongs)\n",
    "    print('...'*15)\n",
    "    \n",
    "    print(classification_report(test_data.labels, pred_value, target_names=CATEGORIES))"
   ]
  },
  {
   "cell_type": "code",
   "execution_count": 47,
   "metadata": {},
   "outputs": [],
   "source": [
    "def printResults(name, model):\n",
    "    predictions = model.predict(test_data, verbose=1)\n",
    "    preds = np.argmax(predictions, axis=1)\n",
    "    test_set_results(preds)"
   ]
  },
  {
   "cell_type": "code",
   "execution_count": 48,
   "metadata": {},
   "outputs": [],
   "source": [
    "def model_summary(model, history, name):\n",
    "    val_acc = history['val_accuracy'] #validation accuracy history\n",
    "    index= val_acc.index(max(val_acc))\n",
    "    print('Best Epochs:', index)\n",
    "\n",
    "\n",
    "    test_loss, test_accuracy, test_precision, test_recall, auc, _, _, _ = model.evaluate(test_data, verbose=1)\n",
    "\n",
    "    train_accuracy = history['accuracy'][index]\n",
    "    train_loss = history['loss'][index]\n",
    "\n",
    "    print_graph('loss', index, history)\n",
    "    print_graph('accuracy', index, history)\n",
    "\n",
    "    print('---'*15) \n",
    "    print(name)\n",
    "    print('> Accuracy on train:',round(train_accuracy, 2), \n",
    "            '\\tLoss on train:', round(train_loss,2))\n",
    "    \n",
    "\n",
    "    print('> Accuracy on test:',round(test_accuracy, 2),\n",
    "            '\\tLoss on test:',round(test_loss,2))\n",
    "\n",
    "    print('---'*15)\n",
    "    print('> predicting test')\n",
    "    print('---'*15)\n",
    "\n",
    "    printResults(name, model)"
   ]
  },
  {
   "cell_type": "code",
   "execution_count": 49,
   "metadata": {},
   "outputs": [
    {
     "name": "stdout",
     "output_type": "stream",
     "text": [
      "Best Epochs: 1\n",
      "564/564 [==============================] - 24s 42ms/step - loss: 3.5593 - accuracy: 0.4238 - precision: 0.4250 - recall: 0.4191 - auc: 0.5949 - top 2 accuracy: 0.7663 - top 3 accuracy: 1.0000 - top 5 accuracy: 1.0000\n"
     ]
    },
    {
     "data": {
      "image/png": "[encoded data removed]",
      "text/plain": [
       "<Figure size 500x500 with 1 Axes>"
      ]
     },
     "metadata": {},
     "output_type": "display_data"
    },
    {
     "data": {
      "text/plain": [
       "<Figure size 500x500 with 0 Axes>"
      ]
     },
     "metadata": {},
     "output_type": "display_data"
    },
    {
     "data": {
      "image/png": "[encoded data removed]",
      "text/plain": [
       "<Figure size 500x500 with 1 Axes>"
      ]
     },
     "metadata": {},
     "output_type": "display_data"
    },
    {
     "name": "stdout",
     "output_type": "stream",
     "text": [
      "---------------------------------------------\n",
      "DCCN - Random Undersampling\n",
      "> Accuracy on train: 0.68 \tLoss on train: 0.72\n",
      "> Accuracy on test: 0.42 \tLoss on test: 3.56\n",
      "---------------------------------------------\n",
      "> predicting test\n",
      "---------------------------------------------\n",
      "564/564 [==============================] - 24s 42ms/step\n"
     ]
    },
    {
     "data": {
      "text/plain": [
       "<Figure size 500x500 with 0 Axes>"
      ]
     },
     "metadata": {},
     "output_type": "display_data"
    },
    {
     "data": {
      "image/png": "[encoded data removed]",
      "text/plain": [
       "<Figure size 1000x800 with 2 Axes>"
      ]
     },
     "metadata": {},
     "output_type": "display_data"
    },
    {
     "name": "stdout",
     "output_type": "stream",
     "text": [
      ".............................................\n",
      "> Correct Predictions: 6250\n",
      "> Wrong Predictions: 11774\n",
      ".............................................\n",
      "              precision    recall  f1-score   support\n",
      "\n",
      "          ad       0.23      0.27      0.25      4011\n",
      "         mci       0.40      0.51      0.45      7276\n",
      "         nor       0.37      0.22      0.27      6737\n",
      "\n",
      "    accuracy                           0.35     18024\n",
      "   macro avg       0.33      0.33      0.32     18024\n",
      "weighted avg       0.35      0.35      0.34     18024\n",
      "\n"
     ]
    }
   ],
   "source": [
    "model_summary(net_dcnn, history, 'DCCN - Random Undersampling')"
   ]
  }
 ],
 "metadata": {
  "kernelspec": {
   "display_name": "Python 3.8.16 ('tf')",
   "language": "python",
   "name": "python3"
  },
  "language_info": {
   "codemirror_mode": {
    "name": "ipython",
    "version": 3
   },
   "file_extension": ".py",
   "mimetype": "text/x-python",
   "name": "python",
   "nbconvert_exporter": "python",
   "pygments_lexer": "ipython3",
   "version": "3.8.16"
  },
  "orig_nbformat": 4,
  "vscode": {
   "interpreter": {
    "hash": "4a44bbf2a83640dfde2344ebe838e4635fa18e86f31ce321969bab99fe559bce"
   }
  }
 },
 "nbformat": 4,
 "nbformat_minor": 2
}
