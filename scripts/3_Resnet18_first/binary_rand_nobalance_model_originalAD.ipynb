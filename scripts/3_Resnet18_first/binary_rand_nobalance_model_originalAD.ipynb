{
 "cells": [
  {
   "attachments": {},
   "cell_type": "markdown",
   "metadata": {},
   "source": [
    "**Importing libraries**"
   ]
  },
  {
   "cell_type": "code",
   "execution_count": 1,
   "metadata": {},
   "outputs": [],
   "source": [
    "# Keras e TF\n",
    "\n",
    "#import tensorflow\n",
    "from tensorflow import keras\n",
    "from keras.preprocessing.image import ImageDataGenerator\n",
    "from keras.layers import Conv2D, Conv1D, MaxPooling2D, Dense, Flatten, BatchNormalization, Activation, AveragePooling2D, Input, Flatten, Dropout\n",
    "from keras.callbacks import ModelCheckpoint\n",
    "\n",
    "# Sk-Learn\n",
    "from sklearn.metrics import classification_report, confusion_matrix\n",
    "from sklearn.model_selection import train_test_split\n",
    "from sklearn.metrics import classification_report,confusion_matrix, ConfusionMatrixDisplay, roc_curve, roc_auc_score, RocCurveDisplay, accuracy_score, classification_report, confusion_matrix\n",
    "\n",
    "# Base\n",
    "import os \n",
    "from pathlib import Path\n",
    "from matplotlib import pyplot as plt\n",
    "import seaborn as sns # \n",
    "import numpy as np #\n",
    "import pandas as pd # \n",
    "\n",
    "from keras.utils import load_img\n",
    "\n",
    "import pydot\n",
    "import pydotplus\n",
    "from pydotplus import graphviz\n",
    "\n",
    "from keras.callbacks import TensorBoard, ModelCheckpoint, ReduceLROnPlateau\n",
    "from tensorflow.keras import backend as K\n",
    "from custom_resnet import ResNet18\n",
    "\n",
    "\n",
    "from keras.models import Model\n",
    "from keras.optimizers import Adam"
   ]
  },
  {
   "cell_type": "code",
   "execution_count": 2,
   "metadata": {},
   "outputs": [
    {
     "data": {
      "text/plain": [
       "'2.10.0'"
      ]
     },
     "execution_count": 2,
     "metadata": {},
     "output_type": "execute_result"
    }
   ],
   "source": [
    "keras.__version__"
   ]
  },
  {
   "attachments": {},
   "cell_type": "markdown",
   "metadata": {},
   "source": [
    "**Setting path to the dataset**"
   ]
  },
  {
   "cell_type": "code",
   "execution_count": 3,
   "metadata": {},
   "outputs": [],
   "source": [
    "os.chdir(Path(str(Path(os.getcwd()).parent.absolute().parent.absolute()) +\n",
    "              '\\\\adni-images-Full-resized160x192-binary'))"
   ]
  },
  {
   "cell_type": "code",
   "execution_count": 4,
   "metadata": {},
   "outputs": [
    {
     "name": "stdout",
     "output_type": "stream",
     "text": [
      "d:\\Projects\\ADNI-brain-MRI-alzheimer-classification-and-GAN-generation\\adni-images-Full-resized160x192-binary\n"
     ]
    }
   ],
   "source": [
    "print(os.getcwd())"
   ]
  },
  {
   "attachments": {},
   "cell_type": "markdown",
   "metadata": {},
   "source": [
    "# Loading Dataset"
   ]
  },
  {
   "cell_type": "code",
   "execution_count": 4,
   "metadata": {},
   "outputs": [
    {
     "name": "stdout",
     "output_type": "stream",
     "text": [
      "61829\n",
      "Name:  d:\\Projects\\ADNI-brain-MRI-alzheimer-classification-and-GAN-generation\\adni-images-Full-resized160x192-binary\\no_balance_binary\\logs_no_balance_binary\\train/events.out.tfevents.1686073730.GIORGIO-LAPTOP.43900.0.v2\n",
      "Name:  d:\\Projects\\ADNI-brain-MRI-alzheimer-classification-and-GAN-generation\\adni-images-Full-resized160x192-binary\\train\\ad/ADNI_021_S_0753_MR_MPR__GradWarp__B1_Correction__N3__Scaled_Br_20071115091031185_S18712_I82162_101.png\n"
     ]
    }
   ],
   "source": [
    "data_dir = Path(os.getcwd())\n",
    "\n",
    "def data_mean_std():\n",
    "    names = []\n",
    "    for root, dirs, files in os.walk(data_dir):\n",
    "        if \"train\" in root:\n",
    "            for file in files:\n",
    "                names.append(root + '/' + file)\n",
    "    \n",
    "    print(len(names))\n",
    "                \n",
    "    array = []\n",
    "    for name in names:\n",
    "        try:\n",
    "            img = load_img(name, color_mode = 'grayscale', target_size = (160, 192))\n",
    "            img_array = np.asarray(img)\n",
    "            array.append(img_array)\n",
    "        except:\n",
    "            print(\"Name: \", name)\n",
    "            continue\n",
    "    \n",
    "    print(img_array.shape) # Correct amount of images\n",
    "\n",
    "    array = np.asarray(array)\n",
    "    print(array.shape)\n",
    "    print(array.mean().shape, array.std().shape)\n",
    "    return array.mean(), array.std()\n",
    "\"\"\" \n",
    "stats_file = open(stats_path, 'r')\n",
    "stats_lst = stats_file.read().split('\\n')\n",
    "mean = float(stats_lst[0])\n",
    "std = float(stats_lst[1])\"\"\"\n",
    "mean, std = data_mean_std()\n",
    "\n",
    "print(mean, std)\n"
   ]
  },
  {
   "attachments": {},
   "cell_type": "markdown",
   "metadata": {},
   "source": [
    "Use the pre-computed values (oversampling GAN):"
   ]
  },
  {
   "cell_type": "code",
   "execution_count": 5,
   "metadata": {},
   "outputs": [],
   "source": [
    "mean = 35.80925715423529\n",
    "std = 45.16736479384096"
   ]
  },
  {
   "cell_type": "code",
   "execution_count": 7,
   "metadata": {},
   "outputs": [],
   "source": [
    "def normalize(x):\n",
    "    return (x - mean) / std"
   ]
  },
  {
   "cell_type": "code",
   "execution_count": 8,
   "metadata": {},
   "outputs": [],
   "source": [
    "batch_size = 32 # Batch size\n",
    "\n",
    "train_path = './train'\n",
    "test_path = './test'\n",
    "valid_path = './valid'\n",
    "#rescale = 1./255.\n",
    "train_datagen = ImageDataGenerator(preprocessing_function = normalize)\n",
    "test_datagen = ImageDataGenerator(preprocessing_function = normalize)\n",
    "valid_datagen = ImageDataGenerator(preprocessing_function = normalize)"
   ]
  },
  {
   "cell_type": "code",
   "execution_count": 9,
   "metadata": {},
   "outputs": [
    {
     "name": "stdout",
     "output_type": "stream",
     "text": [
      "Found 61828 images belonging to 2 classes.\n"
     ]
    }
   ],
   "source": [
    "train_data = train_datagen.flow_from_directory(\n",
    "        train_path,\n",
    "        color_mode = 'grayscale',\n",
    "        target_size=(192, 160),  # Lo inserisco per precauzione\n",
    "        batch_size=batch_size,\n",
    "        seed=123,\n",
    "        shuffle=True,\n",
    "        class_mode= \"binary\")"
   ]
  },
  {
   "cell_type": "code",
   "execution_count": 10,
   "metadata": {},
   "outputs": [
    {
     "name": "stdout",
     "output_type": "stream",
     "text": [
      "Found 10748 images belonging to 2 classes.\n"
     ]
    }
   ],
   "source": [
    "validation_data = valid_datagen.flow_from_directory(\n",
    "        valid_path,\n",
    "        classes={'ad': 0, \n",
    "                'nor': 1},\n",
    "        color_mode='grayscale',\n",
    "        target_size=(192, 160),  # Lo inserisco per precauzione\n",
    "        batch_size=batch_size,\n",
    "        seed=123,\n",
    "        shuffle=True,\n",
    "        class_mode= \"binary\")"
   ]
  },
  {
   "cell_type": "code",
   "execution_count": 11,
   "metadata": {},
   "outputs": [
    {
     "name": "stdout",
     "output_type": "stream",
     "text": [
      "Found 4572 images belonging to 2 classes.\n"
     ]
    }
   ],
   "source": [
    "# Test set\n",
    "test_data = test_datagen.flow_from_directory(\n",
    "        test_path,\n",
    "        color_mode='grayscale',\n",
    "        target_size=(192, 160),  # Lo inserisco per precauzione\n",
    "        batch_size=batch_size,\n",
    "        shuffle=False,\n",
    "        class_mode= \"binary\")"
   ]
  },
  {
   "cell_type": "code",
   "execution_count": 12,
   "metadata": {},
   "outputs": [
    {
     "data": {
      "text/plain": [
       "{'ad': 0, 'nor': 1}"
      ]
     },
     "execution_count": 12,
     "metadata": {},
     "output_type": "execute_result"
    }
   ],
   "source": [
    "train_data.class_indices"
   ]
  },
  {
   "cell_type": "code",
   "execution_count": 13,
   "metadata": {},
   "outputs": [
    {
     "data": {
      "text/plain": [
       "{'ad': 0, 'nor': 1}"
      ]
     },
     "execution_count": 13,
     "metadata": {},
     "output_type": "execute_result"
    }
   ],
   "source": [
    "validation_data.class_indices"
   ]
  },
  {
   "cell_type": "code",
   "execution_count": 14,
   "metadata": {},
   "outputs": [
    {
     "data": {
      "text/plain": [
       "{'ad': 0, 'nor': 1}"
      ]
     },
     "execution_count": 14,
     "metadata": {},
     "output_type": "execute_result"
    }
   ],
   "source": [
    "test_data.class_indices"
   ]
  },
  {
   "cell_type": "code",
   "execution_count": 15,
   "metadata": {},
   "outputs": [
    {
     "name": "stdout",
     "output_type": "stream",
     "text": [
      "0.3580740117746005 0.6419259882253995\n"
     ]
    }
   ],
   "source": [
    "train_ad = len(os.listdir(os.getcwd() + '\\\\train\\\\ad'))\n",
    "train_nor = len(os.listdir(os.getcwd() + '\\\\train\\\\nor'))\n",
    "train_tot = train_ad + train_nor\n",
    "print(train_ad/train_tot, train_nor/train_tot)"
   ]
  },
  {
   "cell_type": "code",
   "execution_count": 16,
   "metadata": {},
   "outputs": [
    {
     "name": "stdout",
     "output_type": "stream",
     "text": [
      "0.5201224846894138 0.4798775153105862\n"
     ]
    }
   ],
   "source": [
    "test_ad = len(os.listdir(os.getcwd() + '\\\\test\\\\ad'))\n",
    "test_nor = len(os.listdir(os.getcwd() + '\\\\test\\\\nor'))\n",
    "test_tot = test_ad + test_nor\n",
    "print(test_ad/test_tot, test_nor/test_tot)"
   ]
  },
  {
   "cell_type": "code",
   "execution_count": 17,
   "metadata": {},
   "outputs": [
    {
     "name": "stdout",
     "output_type": "stream",
     "text": [
      "0.3731857089691105 0.6268142910308895\n"
     ]
    }
   ],
   "source": [
    "valid_ad = len(os.listdir(os.getcwd() + '\\\\valid\\\\ad'))\n",
    "valid_nor = len(os.listdir(os.getcwd() + '\\\\valid\\\\nor'))\n",
    "valid_tot = valid_ad + valid_nor\n",
    "print(valid_ad/valid_tot, valid_nor/valid_tot)"
   ]
  },
  {
   "attachments": {},
   "cell_type": "markdown",
   "metadata": {},
   "source": [
    "# Model Definition"
   ]
  },
  {
   "attachments": {},
   "cell_type": "markdown",
   "metadata": {},
   "source": [
    "Changing the folder to data path to save weights into"
   ]
  },
  {
   "cell_type": "code",
   "execution_count": 18,
   "metadata": {},
   "outputs": [],
   "source": [
    "os.chdir(Path(str(Path(os.getcwd()).parent.absolute()) + '\\\\scripts\\\\3_Resnet18_first'))"
   ]
  },
  {
   "cell_type": "code",
   "execution_count": 19,
   "metadata": {},
   "outputs": [
    {
     "data": {
      "text/plain": [
       "'d:\\\\Projects\\\\ADNI-brain-MRI-alzheimer-classification-and-GAN-generation\\\\scripts\\\\3_Resnet18_first'"
      ]
     },
     "execution_count": 19,
     "metadata": {},
     "output_type": "execute_result"
    }
   ],
   "source": [
    "os.getcwd()"
   ]
  },
  {
   "cell_type": "code",
   "execution_count": 20,
   "metadata": {},
   "outputs": [],
   "source": [
    "METRICS = [ \n",
    "      keras.metrics.TruePositives(name='tp'),\n",
    "      keras.metrics.FalsePositives(name='fp'),\n",
    "      keras.metrics.TrueNegatives(name='tn'),\n",
    "      keras.metrics.FalseNegatives(name='fn'),\n",
    "      keras.metrics.BinaryAccuracy(name='accuracy'),\n",
    "      keras.metrics.Precision(name='precision'),\n",
    "      keras.metrics.Recall(name='recall'),\n",
    "      keras.metrics.AUC(name='auc')\n",
    "]"
   ]
  },
  {
   "cell_type": "code",
   "execution_count": 21,
   "metadata": {},
   "outputs": [],
   "source": [
    "early_stopper = keras.callbacks.EarlyStopping(monitor='val_loss', patience=100)"
   ]
  },
  {
   "cell_type": "code",
   "execution_count": 22,
   "metadata": {},
   "outputs": [
    {
     "name": "stdout",
     "output_type": "stream",
     "text": [
      "<class 'keras.engine.keras_tensor.KerasTensor'>\n",
      "model loaded\n",
      "Model: \"model\"\n",
      "__________________________________________________________________________________________________\n",
      " Layer (type)                   Output Shape         Param #     Connected to                     \n",
      "==================================================================================================\n",
      " input_1 (InputLayer)           [(None, 192, 160, 1  0           []                               \n",
      "                                )]                                                                \n",
      "                                                                                                  \n",
      " conv1_pad (ZeroPadding2D)      (None, 198, 166, 1)  0           ['input_1[0][0]']                \n",
      "                                                                                                  \n",
      " conv1 (Conv2D)                 (None, 96, 80, 64)   3200        ['conv1_pad[0][0]']              \n",
      "                                                                                                  \n",
      " bn_conv1 (BatchNormalization)  (None, 96, 80, 64)   256         ['conv1[0][0]']                  \n",
      "                                                                                                  \n",
      " leaky_re_lu (LeakyReLU)        (None, 96, 80, 64)   0           ['bn_conv1[0][0]']               \n",
      "                                                                                                  \n",
      " max_pooling2d (MaxPooling2D)   (None, 47, 39, 64)   0           ['leaky_re_lu[0][0]']            \n",
      "                                                                                                  \n",
      " res2a_branch2a (Conv2D)        (None, 47, 39, 64)   36928       ['max_pooling2d[0][0]']          \n",
      "                                                                                                  \n",
      " bn2a_branch2a (BatchNormalizat  (None, 47, 39, 64)  256         ['res2a_branch2a[0][0]']         \n",
      " ion)                                                                                             \n",
      "                                                                                                  \n",
      " leaky_re_lu_1 (LeakyReLU)      (None, 47, 39, 64)   0           ['bn2a_branch2a[0][0]']          \n",
      "                                                                                                  \n",
      " res2a_branch2b (Conv2D)        (None, 47, 39, 64)   36928       ['leaky_re_lu_1[0][0]']          \n",
      "                                                                                                  \n",
      " res2a_branch1 (Conv2D)         (None, 47, 39, 64)   4160        ['max_pooling2d[0][0]']          \n",
      "                                                                                                  \n",
      " bn2a_branch2b (BatchNormalizat  (None, 47, 39, 64)  256         ['res2a_branch2b[0][0]']         \n",
      " ion)                                                                                             \n",
      "                                                                                                  \n",
      " bn2a_branch1 (BatchNormalizati  (None, 47, 39, 64)  256         ['res2a_branch1[0][0]']          \n",
      " on)                                                                                              \n",
      "                                                                                                  \n",
      " add (Add)                      (None, 47, 39, 64)   0           ['bn2a_branch2b[0][0]',          \n",
      "                                                                  'bn2a_branch1[0][0]']           \n",
      "                                                                                                  \n",
      " leaky_re_lu_2 (LeakyReLU)      (None, 47, 39, 64)   0           ['add[0][0]']                    \n",
      "                                                                                                  \n",
      " res2b_branch2a (Conv2D)        (None, 47, 39, 64)   36928       ['leaky_re_lu_2[0][0]']          \n",
      "                                                                                                  \n",
      " bn2b_branch2a (BatchNormalizat  (None, 47, 39, 64)  256         ['res2b_branch2a[0][0]']         \n",
      " ion)                                                                                             \n",
      "                                                                                                  \n",
      " leaky_re_lu_3 (LeakyReLU)      (None, 47, 39, 64)   0           ['bn2b_branch2a[0][0]']          \n",
      "                                                                                                  \n",
      " res2b_branch2b (Conv2D)        (None, 47, 39, 64)   36928       ['leaky_re_lu_3[0][0]']          \n",
      "                                                                                                  \n",
      " bn2b_branch2b (BatchNormalizat  (None, 47, 39, 64)  256         ['res2b_branch2b[0][0]']         \n",
      " ion)                                                                                             \n",
      "                                                                                                  \n",
      " add_1 (Add)                    (None, 47, 39, 64)   0           ['bn2b_branch2b[0][0]',          \n",
      "                                                                  'leaky_re_lu_2[0][0]']          \n",
      "                                                                                                  \n",
      " leaky_re_lu_4 (LeakyReLU)      (None, 47, 39, 64)   0           ['add_1[0][0]']                  \n",
      "                                                                                                  \n",
      " res3a_branch2a (Conv2D)        (None, 24, 20, 128)  73856       ['leaky_re_lu_4[0][0]']          \n",
      "                                                                                                  \n",
      " bn3a_branch2a (BatchNormalizat  (None, 24, 20, 128)  512        ['res3a_branch2a[0][0]']         \n",
      " ion)                                                                                             \n",
      "                                                                                                  \n",
      " leaky_re_lu_5 (LeakyReLU)      (None, 24, 20, 128)  0           ['bn3a_branch2a[0][0]']          \n",
      "                                                                                                  \n",
      " res3a_branch2b (Conv2D)        (None, 24, 20, 128)  147584      ['leaky_re_lu_5[0][0]']          \n",
      "                                                                                                  \n",
      " res3a_branch1 (Conv2D)         (None, 24, 20, 128)  8320        ['leaky_re_lu_4[0][0]']          \n",
      "                                                                                                  \n",
      " bn3a_branch2b (BatchNormalizat  (None, 24, 20, 128)  512        ['res3a_branch2b[0][0]']         \n",
      " ion)                                                                                             \n",
      "                                                                                                  \n",
      " bn3a_branch1 (BatchNormalizati  (None, 24, 20, 128)  512        ['res3a_branch1[0][0]']          \n",
      " on)                                                                                              \n",
      "                                                                                                  \n",
      " add_2 (Add)                    (None, 24, 20, 128)  0           ['bn3a_branch2b[0][0]',          \n",
      "                                                                  'bn3a_branch1[0][0]']           \n",
      "                                                                                                  \n",
      " leaky_re_lu_6 (LeakyReLU)      (None, 24, 20, 128)  0           ['add_2[0][0]']                  \n",
      "                                                                                                  \n",
      " res3b_branch2a (Conv2D)        (None, 24, 20, 128)  147584      ['leaky_re_lu_6[0][0]']          \n",
      "                                                                                                  \n",
      " bn3b_branch2a (BatchNormalizat  (None, 24, 20, 128)  512        ['res3b_branch2a[0][0]']         \n",
      " ion)                                                                                             \n",
      "                                                                                                  \n",
      " leaky_re_lu_7 (LeakyReLU)      (None, 24, 20, 128)  0           ['bn3b_branch2a[0][0]']          \n",
      "                                                                                                  \n",
      " res3b_branch2b (Conv2D)        (None, 24, 20, 128)  147584      ['leaky_re_lu_7[0][0]']          \n",
      "                                                                                                  \n",
      " bn3b_branch2b (BatchNormalizat  (None, 24, 20, 128)  512        ['res3b_branch2b[0][0]']         \n",
      " ion)                                                                                             \n",
      "                                                                                                  \n",
      " add_3 (Add)                    (None, 24, 20, 128)  0           ['bn3b_branch2b[0][0]',          \n",
      "                                                                  'leaky_re_lu_6[0][0]']          \n",
      "                                                                                                  \n",
      " leaky_re_lu_8 (LeakyReLU)      (None, 24, 20, 128)  0           ['add_3[0][0]']                  \n",
      "                                                                                                  \n",
      " res4a_branch2a (Conv2D)        (None, 12, 10, 256)  295168      ['leaky_re_lu_8[0][0]']          \n",
      "                                                                                                  \n",
      " bn4a_branch2a (BatchNormalizat  (None, 12, 10, 256)  1024       ['res4a_branch2a[0][0]']         \n",
      " ion)                                                                                             \n",
      "                                                                                                  \n",
      " leaky_re_lu_9 (LeakyReLU)      (None, 12, 10, 256)  0           ['bn4a_branch2a[0][0]']          \n",
      "                                                                                                  \n",
      " res4a_branch2b (Conv2D)        (None, 12, 10, 256)  590080      ['leaky_re_lu_9[0][0]']          \n",
      "                                                                                                  \n",
      " res4a_branch1 (Conv2D)         (None, 12, 10, 256)  33024       ['leaky_re_lu_8[0][0]']          \n",
      "                                                                                                  \n",
      " bn4a_branch2b (BatchNormalizat  (None, 12, 10, 256)  1024       ['res4a_branch2b[0][0]']         \n",
      " ion)                                                                                             \n",
      "                                                                                                  \n",
      " bn4a_branch1 (BatchNormalizati  (None, 12, 10, 256)  1024       ['res4a_branch1[0][0]']          \n",
      " on)                                                                                              \n",
      "                                                                                                  \n",
      " add_4 (Add)                    (None, 12, 10, 256)  0           ['bn4a_branch2b[0][0]',          \n",
      "                                                                  'bn4a_branch1[0][0]']           \n",
      "                                                                                                  \n",
      " leaky_re_lu_10 (LeakyReLU)     (None, 12, 10, 256)  0           ['add_4[0][0]']                  \n",
      "                                                                                                  \n",
      " res4b_branch2a (Conv2D)        (None, 12, 10, 256)  590080      ['leaky_re_lu_10[0][0]']         \n",
      "                                                                                                  \n",
      " bn4b_branch2a (BatchNormalizat  (None, 12, 10, 256)  1024       ['res4b_branch2a[0][0]']         \n",
      " ion)                                                                                             \n",
      "                                                                                                  \n",
      " leaky_re_lu_11 (LeakyReLU)     (None, 12, 10, 256)  0           ['bn4b_branch2a[0][0]']          \n",
      "                                                                                                  \n",
      " res4b_branch2b (Conv2D)        (None, 12, 10, 256)  590080      ['leaky_re_lu_11[0][0]']         \n",
      "                                                                                                  \n",
      " bn4b_branch2b (BatchNormalizat  (None, 12, 10, 256)  1024       ['res4b_branch2b[0][0]']         \n",
      " ion)                                                                                             \n",
      "                                                                                                  \n",
      " add_5 (Add)                    (None, 12, 10, 256)  0           ['bn4b_branch2b[0][0]',          \n",
      "                                                                  'leaky_re_lu_10[0][0]']         \n",
      "                                                                                                  \n",
      " leaky_re_lu_12 (LeakyReLU)     (None, 12, 10, 256)  0           ['add_5[0][0]']                  \n",
      "                                                                                                  \n",
      " res5a_branch2a (Conv2D)        (None, 6, 5, 512)    1180160     ['leaky_re_lu_12[0][0]']         \n",
      "                                                                                                  \n",
      " bn5a_branch2a (BatchNormalizat  (None, 6, 5, 512)   2048        ['res5a_branch2a[0][0]']         \n",
      " ion)                                                                                             \n",
      "                                                                                                  \n",
      " leaky_re_lu_13 (LeakyReLU)     (None, 6, 5, 512)    0           ['bn5a_branch2a[0][0]']          \n",
      "                                                                                                  \n",
      " res5a_branch2b (Conv2D)        (None, 6, 5, 512)    2359808     ['leaky_re_lu_13[0][0]']         \n",
      "                                                                                                  \n",
      " res5a_branch1 (Conv2D)         (None, 6, 5, 512)    131584      ['leaky_re_lu_12[0][0]']         \n",
      "                                                                                                  \n",
      " bn5a_branch2b (BatchNormalizat  (None, 6, 5, 512)   2048        ['res5a_branch2b[0][0]']         \n",
      " ion)                                                                                             \n",
      "                                                                                                  \n",
      " bn5a_branch1 (BatchNormalizati  (None, 6, 5, 512)   2048        ['res5a_branch1[0][0]']          \n",
      " on)                                                                                              \n",
      "                                                                                                  \n",
      " add_6 (Add)                    (None, 6, 5, 512)    0           ['bn5a_branch2b[0][0]',          \n",
      "                                                                  'bn5a_branch1[0][0]']           \n",
      "                                                                                                  \n",
      " leaky_re_lu_14 (LeakyReLU)     (None, 6, 5, 512)    0           ['add_6[0][0]']                  \n",
      "                                                                                                  \n",
      " res5b_branch2a (Conv2D)        (None, 6, 5, 512)    2359808     ['leaky_re_lu_14[0][0]']         \n",
      "                                                                                                  \n",
      " bn5b_branch2a (BatchNormalizat  (None, 6, 5, 512)   2048        ['res5b_branch2a[0][0]']         \n",
      " ion)                                                                                             \n",
      "                                                                                                  \n",
      " leaky_re_lu_15 (LeakyReLU)     (None, 6, 5, 512)    0           ['bn5b_branch2a[0][0]']          \n",
      "                                                                                                  \n",
      " res5b_branch2b (Conv2D)        (None, 6, 5, 512)    2359808     ['leaky_re_lu_15[0][0]']         \n",
      "                                                                                                  \n",
      " bn5b_branch2b (BatchNormalizat  (None, 6, 5, 512)   2048        ['res5b_branch2b[0][0]']         \n",
      " ion)                                                                                             \n",
      "                                                                                                  \n",
      " add_7 (Add)                    (None, 6, 5, 512)    0           ['bn5b_branch2b[0][0]',          \n",
      "                                                                  'leaky_re_lu_14[0][0]']         \n",
      "                                                                                                  \n",
      " leaky_re_lu_16 (LeakyReLU)     (None, 6, 5, 512)    0           ['add_7[0][0]']                  \n",
      "                                                                                                  \n",
      " avg_pool (AveragePooling2D)    (None, 1, 1, 512)    0           ['leaky_re_lu_16[0][0]']         \n",
      "                                                                                                  \n",
      " flatten (Flatten)              (None, 512)          0           ['avg_pool[0][0]']               \n",
      "                                                                                                  \n",
      " dense (Dense)                  (None, 1)            513         ['flatten[0][0]']                \n",
      "                                                                                                  \n",
      "==================================================================================================\n",
      "Total params: 11,189,569\n",
      "Trainable params: 11,179,841\n",
      "Non-trainable params: 9,728\n",
      "__________________________________________________________________________________________________\n"
     ]
    }
   ],
   "source": [
    "version = \"v1\"\n",
    "epochs = 100\n",
    "arch_name = 'bs_{}'.format(batch_size)\n",
    "\n",
    "tb = TensorBoard(log_dir =os.getcwd() + '\\\\binary_no_balance\\\\logs_binary_no_balance', write_graph = True)\n",
    "\n",
    "lr_reducer = ReduceLROnPlateau(monitor='loss', factor=np.sqrt(0.1), patience=10, cooldown=0, min_lr=1e-5)\n",
    "\n",
    "model_chkp = ModelCheckpoint(filepath='D:\\\\Projects\\\\ADNI-brain-MRI-alzheimer-classification-and-GAN-generation\\\\models\\\\best_model_binary_no_balance\\\\{}_{}_{}_eps_best.hdf5'.format(version, arch_name, epochs),\n",
    "                            # monitor='val_quadratic_kappa_score',\n",
    "                            monitor='val_accuracy',\n",
    "                            save_best_only=True, save_weights_only=True, mode='max')\n",
    "\n",
    "#resnet = ResNet18()\n",
    "#resnet = ResNet18(classes=3, input_shape=(160, 192))\n",
    "resnet = ResNet18(classes=2)\n",
    "\n",
    "\n",
    "#model = keras.applications.resnet50.ResNet50(include_top=True, weights='imagenet', input_tensor=None, input_shape=None, pooling=None, classes=1000)\n",
    "#model.summary()\n",
    "\n",
    "#resnet.layers.pop()\n",
    "#for layer in resnet.layers:\n",
    "#    layer.trainable = False\n",
    "\n",
    "x = resnet.layers[-1].output\n",
    "\n",
    "# x = Dropout(0.25)(x)\n",
    "\n",
    "x = Dense(1, activation = 'sigmoid')(x)\n",
    "\n",
    "\n",
    "ft_resnet = Model(resnet.input, x)\n",
    "optimizer = Adam(learning_rate = 0.001)\n",
    "ft_resnet.compile(optimizer = optimizer, loss = 'BinaryCrossentropy', metrics = METRICS)\n",
    "\n",
    "print(\"model loaded\")\n",
    "\n",
    "ft_resnet.summary()"
   ]
  },
  {
   "attachments": {},
   "cell_type": "markdown",
   "metadata": {},
   "source": [
    "Changing back the folder to data path"
   ]
  },
  {
   "cell_type": "code",
   "execution_count": 23,
   "metadata": {},
   "outputs": [
    {
     "data": {
      "text/plain": [
       "'d:\\\\Projects\\\\ADNI-brain-MRI-alzheimer-classification-and-GAN-generation\\\\adni-images-Full-resized160x192-binary'"
      ]
     },
     "execution_count": 23,
     "metadata": {},
     "output_type": "execute_result"
    }
   ],
   "source": [
    "os.chdir(Path(str(Path(os.getcwd()).parent.absolute().parent.absolute()) + '\\\\adni-images-Full-resized160x192-binary'))\n",
    "os.getcwd()"
   ]
  },
  {
   "cell_type": "code",
   "execution_count": 24,
   "metadata": {},
   "outputs": [
    {
     "name": "stdout",
     "output_type": "stream",
     "text": [
      "61828 10748\n",
      "1933.0 336.0\n",
      "Epoch 1/100\n",
      "1933/1933 [==============================] - 121s 60ms/step - loss: 0.5156 - tp: 34132.0000 - fp: 10210.0000 - tn: 11929.0000 - fn: 5557.0000 - accuracy: 0.7450 - precision: 0.7697 - recall: 0.8600 - auc: 0.7982 - val_loss: 0.9711 - val_tp: 3539.0000 - val_fp: 1301.0000 - val_tn: 2710.0000 - val_fn: 3198.0000 - val_accuracy: 0.5814 - val_precision: 0.7312 - val_recall: 0.5253 - val_auc: 0.6577 - lr: 0.0010\n",
      "Epoch 2/100\n",
      "1933/1933 [==============================] - 131s 68ms/step - loss: 0.2917 - tp: 36454.0000 - fp: 4556.0000 - tn: 17583.0000 - fn: 3235.0000 - accuracy: 0.8740 - precision: 0.8889 - recall: 0.9185 - auc: 0.9415 - val_loss: 1.0059 - val_tp: 5766.0000 - val_fp: 2245.0000 - val_tn: 1766.0000 - val_fn: 971.0000 - val_accuracy: 0.7008 - val_precision: 0.7198 - val_recall: 0.8559 - val_auc: 0.7373 - lr: 0.0010\n",
      "Epoch 3/100\n",
      "1933/1933 [==============================] - 126s 65ms/step - loss: 0.1664 - tp: 37835.0000 - fp: 2307.0000 - tn: 19832.0000 - fn: 1854.0000 - accuracy: 0.9327 - precision: 0.9425 - recall: 0.9533 - auc: 0.9808 - val_loss: 1.2224 - val_tp: 5055.0000 - val_fp: 2007.0000 - val_tn: 2004.0000 - val_fn: 1682.0000 - val_accuracy: 0.6568 - val_precision: 0.7158 - val_recall: 0.7503 - val_auc: 0.6795 - lr: 0.0010\n",
      "Epoch 4/100\n",
      "1933/1933 [==============================] - 128s 66ms/step - loss: 0.1078 - tp: 38480.0000 - fp: 1410.0000 - tn: 20729.0000 - fn: 1209.0000 - accuracy: 0.9576 - precision: 0.9647 - recall: 0.9695 - auc: 0.9917 - val_loss: 1.2847 - val_tp: 5509.0000 - val_fp: 2058.0000 - val_tn: 1953.0000 - val_fn: 1228.0000 - val_accuracy: 0.6943 - val_precision: 0.7280 - val_recall: 0.8177 - val_auc: 0.7183 - lr: 0.0010\n",
      "Epoch 5/100\n",
      "1933/1933 [==============================] - 130s 67ms/step - loss: 0.0737 - tp: 38874.0000 - fp: 946.0000 - tn: 21193.0000 - fn: 815.0000 - accuracy: 0.9715 - precision: 0.9762 - recall: 0.9795 - auc: 0.9958 - val_loss: 1.7166 - val_tp: 4525.0000 - val_fp: 1364.0000 - val_tn: 2647.0000 - val_fn: 2212.0000 - val_accuracy: 0.6673 - val_precision: 0.7684 - val_recall: 0.6717 - val_auc: 0.7166 - lr: 0.0010\n",
      "Epoch 6/100\n",
      "1933/1933 [==============================] - 126s 65ms/step - loss: 0.0587 - tp: 39040.0000 - fp: 713.0000 - tn: 21426.0000 - fn: 649.0000 - accuracy: 0.9780 - precision: 0.9821 - recall: 0.9836 - auc: 0.9972 - val_loss: 1.5782 - val_tp: 5108.0000 - val_fp: 2006.0000 - val_tn: 2005.0000 - val_fn: 1629.0000 - val_accuracy: 0.6618 - val_precision: 0.7180 - val_recall: 0.7582 - val_auc: 0.6770 - lr: 0.0010\n",
      "Epoch 7/100\n",
      "1933/1933 [==============================] - 130s 67ms/step - loss: 0.0472 - tp: 39175.0000 - fp: 585.0000 - tn: 21554.0000 - fn: 514.0000 - accuracy: 0.9822 - precision: 0.9853 - recall: 0.9870 - auc: 0.9982 - val_loss: 1.8966 - val_tp: 4823.0000 - val_fp: 1769.0000 - val_tn: 2242.0000 - val_fn: 1914.0000 - val_accuracy: 0.6573 - val_precision: 0.7316 - val_recall: 0.7159 - val_auc: 0.6812 - lr: 0.0010\n",
      "Epoch 8/100\n",
      "1933/1933 [==============================] - 123s 64ms/step - loss: 0.0373 - tp: 39280.0000 - fp: 430.0000 - tn: 21709.0000 - fn: 409.0000 - accuracy: 0.9864 - precision: 0.9892 - recall: 0.9897 - auc: 0.9987 - val_loss: 2.0949 - val_tp: 3454.0000 - val_fp: 1449.0000 - val_tn: 2562.0000 - val_fn: 3283.0000 - val_accuracy: 0.5597 - val_precision: 0.7045 - val_recall: 0.5127 - val_auc: 0.6258 - lr: 0.0010\n",
      "Epoch 9/100\n",
      "1933/1933 [==============================] - 163s 84ms/step - loss: 0.0342 - tp: 39307.0000 - fp: 409.0000 - tn: 21730.0000 - fn: 382.0000 - accuracy: 0.9872 - precision: 0.9897 - recall: 0.9904 - auc: 0.9989 - val_loss: 1.7735 - val_tp: 5790.0000 - val_fp: 2090.0000 - val_tn: 1921.0000 - val_fn: 947.0000 - val_accuracy: 0.7174 - val_precision: 0.7348 - val_recall: 0.8594 - val_auc: 0.7183 - lr: 0.0010\n",
      "Epoch 10/100\n",
      "1933/1933 [==============================] - 195s 101ms/step - loss: 0.0293 - tp: 39371.0000 - fp: 335.0000 - tn: 21804.0000 - fn: 318.0000 - accuracy: 0.9894 - precision: 0.9916 - recall: 0.9920 - auc: 0.9991 - val_loss: 1.7972 - val_tp: 5587.0000 - val_fp: 2153.0000 - val_tn: 1858.0000 - val_fn: 1150.0000 - val_accuracy: 0.6927 - val_precision: 0.7218 - val_recall: 0.8293 - val_auc: 0.6964 - lr: 0.0010\n",
      "Epoch 11/100\n",
      "1933/1933 [==============================] - 190s 98ms/step - loss: 0.0247 - tp: 39406.0000 - fp: 296.0000 - tn: 21843.0000 - fn: 283.0000 - accuracy: 0.9906 - precision: 0.9925 - recall: 0.9929 - auc: 0.9993 - val_loss: 2.0955 - val_tp: 5231.0000 - val_fp: 1952.0000 - val_tn: 2059.0000 - val_fn: 1506.0000 - val_accuracy: 0.6783 - val_precision: 0.7282 - val_recall: 0.7765 - val_auc: 0.6865 - lr: 0.0010\n",
      "Epoch 12/100\n",
      "1933/1933 [==============================] - 186s 96ms/step - loss: 0.0238 - tp: 39428.0000 - fp: 263.0000 - tn: 21876.0000 - fn: 261.0000 - accuracy: 0.9915 - precision: 0.9934 - recall: 0.9934 - auc: 0.9993 - val_loss: 1.9886 - val_tp: 4055.0000 - val_fp: 1250.0000 - val_tn: 2761.0000 - val_fn: 2682.0000 - val_accuracy: 0.6342 - val_precision: 0.7644 - val_recall: 0.6019 - val_auc: 0.6963 - lr: 0.0010\n",
      "Epoch 13/100\n",
      "1933/1933 [==============================] - 185s 96ms/step - loss: 0.0205 - tp: 39449.0000 - fp: 228.0000 - tn: 21911.0000 - fn: 240.0000 - accuracy: 0.9924 - precision: 0.9943 - recall: 0.9940 - auc: 0.9995 - val_loss: 2.0692 - val_tp: 5379.0000 - val_fp: 2175.0000 - val_tn: 1836.0000 - val_fn: 1358.0000 - val_accuracy: 0.6713 - val_precision: 0.7121 - val_recall: 0.7984 - val_auc: 0.6754 - lr: 0.0010\n",
      "Epoch 14/100\n",
      "1933/1933 [==============================] - 190s 98ms/step - loss: 0.0186 - tp: 39496.0000 - fp: 210.0000 - tn: 21929.0000 - fn: 193.0000 - accuracy: 0.9935 - precision: 0.9947 - recall: 0.9951 - auc: 0.9995 - val_loss: 2.5618 - val_tp: 3898.0000 - val_fp: 1542.0000 - val_tn: 2469.0000 - val_fn: 2839.0000 - val_accuracy: 0.5924 - val_precision: 0.7165 - val_recall: 0.5786 - val_auc: 0.6366 - lr: 0.0010\n",
      "Epoch 15/100\n",
      "1933/1933 [==============================] - 189s 98ms/step - loss: 0.0162 - tp: 39513.0000 - fp: 175.0000 - tn: 21964.0000 - fn: 176.0000 - accuracy: 0.9943 - precision: 0.9956 - recall: 0.9956 - auc: 0.9997 - val_loss: 2.2955 - val_tp: 4235.0000 - val_fp: 1615.0000 - val_tn: 2396.0000 - val_fn: 2502.0000 - val_accuracy: 0.6170 - val_precision: 0.7239 - val_recall: 0.6286 - val_auc: 0.6533 - lr: 0.0010\n",
      "Epoch 16/100\n",
      "1933/1933 [==============================] - 185s 96ms/step - loss: 0.0160 - tp: 39504.0000 - fp: 176.0000 - tn: 21963.0000 - fn: 185.0000 - accuracy: 0.9942 - precision: 0.9956 - recall: 0.9953 - auc: 0.9995 - val_loss: 2.5921 - val_tp: 3958.0000 - val_fp: 1421.0000 - val_tn: 2590.0000 - val_fn: 2779.0000 - val_accuracy: 0.6092 - val_precision: 0.7358 - val_recall: 0.5875 - val_auc: 0.6532 - lr: 0.0010\n",
      "Epoch 17/100\n",
      "1933/1933 [==============================] - 190s 98ms/step - loss: 0.0148 - tp: 39517.0000 - fp: 164.0000 - tn: 21975.0000 - fn: 172.0000 - accuracy: 0.9946 - precision: 0.9959 - recall: 0.9957 - auc: 0.9997 - val_loss: 2.3221 - val_tp: 4234.0000 - val_fp: 1639.0000 - val_tn: 2372.0000 - val_fn: 2503.0000 - val_accuracy: 0.6146 - val_precision: 0.7209 - val_recall: 0.6285 - val_auc: 0.6413 - lr: 0.0010\n",
      "Epoch 18/100\n",
      "1933/1933 [==============================] - 191s 99ms/step - loss: 0.0124 - tp: 39549.0000 - fp: 146.0000 - tn: 21993.0000 - fn: 140.0000 - accuracy: 0.9954 - precision: 0.9963 - recall: 0.9965 - auc: 0.9998 - val_loss: 2.4445 - val_tp: 5347.0000 - val_fp: 2174.0000 - val_tn: 1837.0000 - val_fn: 1390.0000 - val_accuracy: 0.6684 - val_precision: 0.7109 - val_recall: 0.7937 - val_auc: 0.6631 - lr: 0.0010\n",
      "Epoch 19/100\n",
      "1933/1933 [==============================] - 198s 102ms/step - loss: 0.0136 - tp: 39533.0000 - fp: 150.0000 - tn: 21989.0000 - fn: 156.0000 - accuracy: 0.9951 - precision: 0.9962 - recall: 0.9961 - auc: 0.9997 - val_loss: 2.2824 - val_tp: 4803.0000 - val_fp: 1590.0000 - val_tn: 2421.0000 - val_fn: 1934.0000 - val_accuracy: 0.6721 - val_precision: 0.7513 - val_recall: 0.7129 - val_auc: 0.6914 - lr: 0.0010\n",
      "Epoch 20/100\n",
      "1933/1933 [==============================] - 195s 101ms/step - loss: 0.0133 - tp: 39548.0000 - fp: 131.0000 - tn: 22008.0000 - fn: 141.0000 - accuracy: 0.9956 - precision: 0.9967 - recall: 0.9964 - auc: 0.9996 - val_loss: 2.4249 - val_tp: 4474.0000 - val_fp: 1687.0000 - val_tn: 2324.0000 - val_fn: 2263.0000 - val_accuracy: 0.6325 - val_precision: 0.7262 - val_recall: 0.6641 - val_auc: 0.6496 - lr: 0.0010\n",
      "Epoch 21/100\n",
      "1933/1933 [==============================] - 184s 95ms/step - loss: 0.0106 - tp: 39581.0000 - fp: 117.0000 - tn: 22022.0000 - fn: 108.0000 - accuracy: 0.9964 - precision: 0.9971 - recall: 0.9973 - auc: 0.9999 - val_loss: 2.2741 - val_tp: 4471.0000 - val_fp: 1645.0000 - val_tn: 2366.0000 - val_fn: 2266.0000 - val_accuracy: 0.6361 - val_precision: 0.7310 - val_recall: 0.6636 - val_auc: 0.6621 - lr: 0.0010\n",
      "Epoch 22/100\n",
      "1933/1933 [==============================] - 163s 85ms/step - loss: 0.0096 - tp: 39572.0000 - fp: 96.0000 - tn: 22043.0000 - fn: 117.0000 - accuracy: 0.9966 - precision: 0.9976 - recall: 0.9971 - auc: 0.9998 - val_loss: 2.6005 - val_tp: 4655.0000 - val_fp: 1940.0000 - val_tn: 2071.0000 - val_fn: 2082.0000 - val_accuracy: 0.6258 - val_precision: 0.7058 - val_recall: 0.6910 - val_auc: 0.6330 - lr: 0.0010\n",
      "Epoch 23/100\n",
      "1933/1933 [==============================] - 141s 73ms/step - loss: 0.0093 - tp: 39585.0000 - fp: 100.0000 - tn: 22039.0000 - fn: 104.0000 - accuracy: 0.9967 - precision: 0.9975 - recall: 0.9974 - auc: 0.9998 - val_loss: 2.9912 - val_tp: 4345.0000 - val_fp: 1763.0000 - val_tn: 2248.0000 - val_fn: 2392.0000 - val_accuracy: 0.6134 - val_precision: 0.7114 - val_recall: 0.6449 - val_auc: 0.6284 - lr: 0.0010\n",
      "Epoch 24/100\n",
      "1933/1933 [==============================] - 131s 68ms/step - loss: 0.0112 - tp: 39572.0000 - fp: 125.0000 - tn: 22014.0000 - fn: 117.0000 - accuracy: 0.9961 - precision: 0.9969 - recall: 0.9971 - auc: 0.9997 - val_loss: 2.7086 - val_tp: 4741.0000 - val_fp: 1704.0000 - val_tn: 2307.0000 - val_fn: 1996.0000 - val_accuracy: 0.6557 - val_precision: 0.7356 - val_recall: 0.7037 - val_auc: 0.6716 - lr: 0.0010\n",
      "Epoch 25/100\n",
      "1933/1933 [==============================] - 131s 68ms/step - loss: 0.0066 - tp: 39614.0000 - fp: 74.0000 - tn: 22065.0000 - fn: 75.0000 - accuracy: 0.9976 - precision: 0.9981 - recall: 0.9981 - auc: 0.9999 - val_loss: 3.3714 - val_tp: 3396.0000 - val_fp: 1203.0000 - val_tn: 2808.0000 - val_fn: 3341.0000 - val_accuracy: 0.5772 - val_precision: 0.7384 - val_recall: 0.5041 - val_auc: 0.6371 - lr: 0.0010\n",
      "Epoch 26/100\n",
      "1933/1933 [==============================] - 131s 68ms/step - loss: 0.0094 - tp: 39588.0000 - fp: 100.0000 - tn: 22039.0000 - fn: 101.0000 - accuracy: 0.9967 - precision: 0.9975 - recall: 0.9975 - auc: 0.9998 - val_loss: 2.5460 - val_tp: 4594.0000 - val_fp: 1703.0000 - val_tn: 2308.0000 - val_fn: 2143.0000 - val_accuracy: 0.6422 - val_precision: 0.7296 - val_recall: 0.6819 - val_auc: 0.6625 - lr: 0.0010\n",
      "Epoch 27/100\n",
      "1933/1933 [==============================] - 132s 68ms/step - loss: 0.0091 - tp: 39601.0000 - fp: 94.0000 - tn: 22045.0000 - fn: 88.0000 - accuracy: 0.9971 - precision: 0.9976 - recall: 0.9978 - auc: 0.9998 - val_loss: 2.4861 - val_tp: 4844.0000 - val_fp: 1961.0000 - val_tn: 2050.0000 - val_fn: 1893.0000 - val_accuracy: 0.6414 - val_precision: 0.7118 - val_recall: 0.7190 - val_auc: 0.6470 - lr: 0.0010\n",
      "Epoch 28/100\n",
      "1933/1933 [==============================] - 131s 68ms/step - loss: 0.0067 - tp: 39624.0000 - fp: 65.0000 - tn: 22074.0000 - fn: 65.0000 - accuracy: 0.9979 - precision: 0.9984 - recall: 0.9984 - auc: 0.9998 - val_loss: 2.7031 - val_tp: 4401.0000 - val_fp: 1670.0000 - val_tn: 2341.0000 - val_fn: 2336.0000 - val_accuracy: 0.6273 - val_precision: 0.7249 - val_recall: 0.6533 - val_auc: 0.6509 - lr: 0.0010\n",
      "Epoch 29/100\n",
      "1933/1933 [==============================] - 148s 77ms/step - loss: 0.0076 - tp: 39611.0000 - fp: 79.0000 - tn: 22060.0000 - fn: 78.0000 - accuracy: 0.9975 - precision: 0.9980 - recall: 0.9980 - auc: 0.9998 - val_loss: 2.7844 - val_tp: 4330.0000 - val_fp: 1543.0000 - val_tn: 2468.0000 - val_fn: 2407.0000 - val_accuracy: 0.6325 - val_precision: 0.7373 - val_recall: 0.6427 - val_auc: 0.6625 - lr: 0.0010\n",
      "Epoch 30/100\n",
      "1933/1933 [==============================] - 148s 77ms/step - loss: 0.0065 - tp: 39627.0000 - fp: 61.0000 - tn: 22078.0000 - fn: 62.0000 - accuracy: 0.9980 - precision: 0.9985 - recall: 0.9984 - auc: 0.9998 - val_loss: 3.1949 - val_tp: 3639.0000 - val_fp: 1402.0000 - val_tn: 2609.0000 - val_fn: 3098.0000 - val_accuracy: 0.5813 - val_precision: 0.7219 - val_recall: 0.5402 - val_auc: 0.6291 - lr: 0.0010\n",
      "Epoch 31/100\n",
      "1933/1933 [==============================] - 147s 76ms/step - loss: 0.0080 - tp: 39609.0000 - fp: 81.0000 - tn: 22058.0000 - fn: 80.0000 - accuracy: 0.9974 - precision: 0.9980 - recall: 0.9980 - auc: 0.9999 - val_loss: 3.8579 - val_tp: 2754.0000 - val_fp: 1112.0000 - val_tn: 2899.0000 - val_fn: 3983.0000 - val_accuracy: 0.5260 - val_precision: 0.7124 - val_recall: 0.4088 - val_auc: 0.5989 - lr: 0.0010\n",
      "Epoch 32/100\n",
      "1933/1933 [==============================] - 149s 77ms/step - loss: 0.0048 - tp: 39643.0000 - fp: 45.0000 - tn: 22094.0000 - fn: 46.0000 - accuracy: 0.9985 - precision: 0.9989 - recall: 0.9988 - auc: 0.9999 - val_loss: 2.8688 - val_tp: 5243.0000 - val_fp: 2028.0000 - val_tn: 1983.0000 - val_fn: 1494.0000 - val_accuracy: 0.6723 - val_precision: 0.7211 - val_recall: 0.7782 - val_auc: 0.6645 - lr: 0.0010\n",
      "Epoch 33/100\n",
      "1933/1933 [==============================] - 137s 71ms/step - loss: 0.0075 - tp: 39614.0000 - fp: 77.0000 - tn: 22062.0000 - fn: 75.0000 - accuracy: 0.9975 - precision: 0.9981 - recall: 0.9981 - auc: 0.9998 - val_loss: 2.5730 - val_tp: 4917.0000 - val_fp: 1896.0000 - val_tn: 2115.0000 - val_fn: 1820.0000 - val_accuracy: 0.6543 - val_precision: 0.7217 - val_recall: 0.7299 - val_auc: 0.6486 - lr: 0.0010\n",
      "Epoch 34/100\n",
      "1933/1933 [==============================] - 143s 74ms/step - loss: 0.0078 - tp: 39600.0000 - fp: 80.0000 - tn: 22059.0000 - fn: 89.0000 - accuracy: 0.9973 - precision: 0.9980 - recall: 0.9978 - auc: 0.9998 - val_loss: 2.0042 - val_tp: 4759.0000 - val_fp: 1985.0000 - val_tn: 2026.0000 - val_fn: 1978.0000 - val_accuracy: 0.6313 - val_precision: 0.7057 - val_recall: 0.7064 - val_auc: 0.6460 - lr: 0.0010\n",
      "Epoch 35/100\n",
      "1933/1933 [==============================] - 142s 73ms/step - loss: 0.0045 - tp: 39648.0000 - fp: 48.0000 - tn: 22091.0000 - fn: 41.0000 - accuracy: 0.9986 - precision: 0.9988 - recall: 0.9990 - auc: 0.9999 - val_loss: 3.1583 - val_tp: 3456.0000 - val_fp: 1389.0000 - val_tn: 2622.0000 - val_fn: 3281.0000 - val_accuracy: 0.5655 - val_precision: 0.7133 - val_recall: 0.5130 - val_auc: 0.6158 - lr: 0.0010\n",
      "Epoch 36/100\n",
      "1933/1933 [==============================] - 132s 68ms/step - loss: 0.0056 - tp: 39631.0000 - fp: 71.0000 - tn: 22068.0000 - fn: 58.0000 - accuracy: 0.9979 - precision: 0.9982 - recall: 0.9985 - auc: 0.9999 - val_loss: 2.8106 - val_tp: 4783.0000 - val_fp: 1772.0000 - val_tn: 2239.0000 - val_fn: 1954.0000 - val_accuracy: 0.6533 - val_precision: 0.7297 - val_recall: 0.7100 - val_auc: 0.6623 - lr: 0.0010\n",
      "Epoch 37/100\n",
      "1933/1933 [==============================] - 131s 68ms/step - loss: 0.0056 - tp: 39623.0000 - fp: 58.0000 - tn: 22081.0000 - fn: 66.0000 - accuracy: 0.9980 - precision: 0.9985 - recall: 0.9983 - auc: 0.9999 - val_loss: 2.6264 - val_tp: 4321.0000 - val_fp: 1583.0000 - val_tn: 2428.0000 - val_fn: 2416.0000 - val_accuracy: 0.6279 - val_precision: 0.7319 - val_recall: 0.6414 - val_auc: 0.6503 - lr: 0.0010\n",
      "Epoch 38/100\n",
      "1933/1933 [==============================] - 132s 68ms/step - loss: 0.0045 - tp: 39641.0000 - fp: 47.0000 - tn: 22092.0000 - fn: 48.0000 - accuracy: 0.9985 - precision: 0.9988 - recall: 0.9988 - auc: 0.9999 - val_loss: 3.4704 - val_tp: 3977.0000 - val_fp: 1514.0000 - val_tn: 2497.0000 - val_fn: 2760.0000 - val_accuracy: 0.6023 - val_precision: 0.7243 - val_recall: 0.5903 - val_auc: 0.6314 - lr: 0.0010\n",
      "Epoch 39/100\n",
      "1933/1933 [==============================] - 132s 68ms/step - loss: 0.0066 - tp: 39629.0000 - fp: 62.0000 - tn: 22077.0000 - fn: 60.0000 - accuracy: 0.9980 - precision: 0.9984 - recall: 0.9985 - auc: 0.9998 - val_loss: 2.9367 - val_tp: 4156.0000 - val_fp: 1606.0000 - val_tn: 2405.0000 - val_fn: 2581.0000 - val_accuracy: 0.6104 - val_precision: 0.7213 - val_recall: 0.6169 - val_auc: 0.6379 - lr: 0.0010\n",
      "Epoch 40/100\n",
      "1933/1933 [==============================] - 142s 73ms/step - loss: 0.0048 - tp: 39638.0000 - fp: 46.0000 - tn: 22093.0000 - fn: 51.0000 - accuracy: 0.9984 - precision: 0.9988 - recall: 0.9987 - auc: 0.9999 - val_loss: 2.8844 - val_tp: 4519.0000 - val_fp: 1637.0000 - val_tn: 2374.0000 - val_fn: 2218.0000 - val_accuracy: 0.6413 - val_precision: 0.7341 - val_recall: 0.6708 - val_auc: 0.6628 - lr: 0.0010\n",
      "Epoch 41/100\n",
      "1933/1933 [==============================] - 148s 77ms/step - loss: 0.0048 - tp: 39642.0000 - fp: 43.0000 - tn: 22096.0000 - fn: 47.0000 - accuracy: 0.9985 - precision: 0.9989 - recall: 0.9988 - auc: 0.9999 - val_loss: 2.9900 - val_tp: 3949.0000 - val_fp: 1554.0000 - val_tn: 2457.0000 - val_fn: 2788.0000 - val_accuracy: 0.5960 - val_precision: 0.7176 - val_recall: 0.5862 - val_auc: 0.6326 - lr: 0.0010\n",
      "Epoch 42/100\n",
      "1933/1933 [==============================] - 149s 77ms/step - loss: 0.0042 - tp: 39644.0000 - fp: 42.0000 - tn: 22097.0000 - fn: 45.0000 - accuracy: 0.9986 - precision: 0.9989 - recall: 0.9989 - auc: 0.9999 - val_loss: 3.2403 - val_tp: 5083.0000 - val_fp: 2198.0000 - val_tn: 1813.0000 - val_fn: 1654.0000 - val_accuracy: 0.6416 - val_precision: 0.6981 - val_recall: 0.7545 - val_auc: 0.6303 - lr: 0.0010\n",
      "Epoch 43/100\n",
      "1933/1933 [==============================] - 148s 77ms/step - loss: 0.0065 - tp: 39623.0000 - fp: 69.0000 - tn: 22070.0000 - fn: 66.0000 - accuracy: 0.9978 - precision: 0.9983 - recall: 0.9983 - auc: 0.9998 - val_loss: 3.0744 - val_tp: 4116.0000 - val_fp: 1651.0000 - val_tn: 2360.0000 - val_fn: 2621.0000 - val_accuracy: 0.6025 - val_precision: 0.7137 - val_recall: 0.6110 - val_auc: 0.6273 - lr: 0.0010\n",
      "Epoch 44/100\n",
      "1933/1933 [==============================] - 142s 74ms/step - loss: 0.0032 - tp: 39657.0000 - fp: 30.0000 - tn: 22109.0000 - fn: 32.0000 - accuracy: 0.9990 - precision: 0.9992 - recall: 0.9992 - auc: 0.9999 - val_loss: 2.4713 - val_tp: 4978.0000 - val_fp: 1902.0000 - val_tn: 2109.0000 - val_fn: 1759.0000 - val_accuracy: 0.6594 - val_precision: 0.7235 - val_recall: 0.7389 - val_auc: 0.6726 - lr: 0.0010\n",
      "Epoch 45/100\n",
      "1933/1933 [==============================] - 139s 72ms/step - loss: 0.0049 - tp: 39647.0000 - fp: 49.0000 - tn: 22090.0000 - fn: 42.0000 - accuracy: 0.9985 - precision: 0.9988 - recall: 0.9989 - auc: 0.9998 - val_loss: 2.7881 - val_tp: 4504.0000 - val_fp: 1878.0000 - val_tn: 2133.0000 - val_fn: 2233.0000 - val_accuracy: 0.6175 - val_precision: 0.7057 - val_recall: 0.6685 - val_auc: 0.6274 - lr: 0.0010\n",
      "Epoch 46/100\n",
      "1933/1933 [==============================] - 147s 76ms/step - loss: 0.0037 - tp: 39655.0000 - fp: 33.0000 - tn: 22106.0000 - fn: 34.0000 - accuracy: 0.9989 - precision: 0.9992 - recall: 0.9991 - auc: 0.9999 - val_loss: 3.1477 - val_tp: 3685.0000 - val_fp: 1368.0000 - val_tn: 2643.0000 - val_fn: 3052.0000 - val_accuracy: 0.5888 - val_precision: 0.7293 - val_recall: 0.5470 - val_auc: 0.6340 - lr: 0.0010\n",
      "Epoch 47/100\n",
      "1933/1933 [==============================] - 132s 68ms/step - loss: 0.0046 - tp: 39640.0000 - fp: 51.0000 - tn: 22088.0000 - fn: 49.0000 - accuracy: 0.9984 - precision: 0.9987 - recall: 0.9988 - auc: 0.9999 - val_loss: 3.0235 - val_tp: 4835.0000 - val_fp: 1813.0000 - val_tn: 2198.0000 - val_fn: 1902.0000 - val_accuracy: 0.6544 - val_precision: 0.7273 - val_recall: 0.7177 - val_auc: 0.6615 - lr: 0.0010\n",
      "Epoch 48/100\n",
      "1933/1933 [==============================] - 132s 68ms/step - loss: 0.0021 - tp: 39666.0000 - fp: 21.0000 - tn: 22118.0000 - fn: 23.0000 - accuracy: 0.9993 - precision: 0.9995 - recall: 0.9994 - auc: 1.0000 - val_loss: 3.4900 - val_tp: 4681.0000 - val_fp: 1845.0000 - val_tn: 2166.0000 - val_fn: 2056.0000 - val_accuracy: 0.6370 - val_precision: 0.7173 - val_recall: 0.6948 - val_auc: 0.6389 - lr: 0.0010\n",
      "Epoch 49/100\n",
      "1933/1933 [==============================] - 132s 68ms/step - loss: 0.0063 - tp: 39630.0000 - fp: 57.0000 - tn: 22082.0000 - fn: 59.0000 - accuracy: 0.9981 - precision: 0.9986 - recall: 0.9985 - auc: 0.9998 - val_loss: 3.4515 - val_tp: 5227.0000 - val_fp: 2252.0000 - val_tn: 1759.0000 - val_fn: 1510.0000 - val_accuracy: 0.6500 - val_precision: 0.6989 - val_recall: 0.7759 - val_auc: 0.6226 - lr: 0.0010\n",
      "Epoch 50/100\n",
      "1933/1933 [==============================] - 132s 68ms/step - loss: 0.0034 - tp: 39650.0000 - fp: 39.0000 - tn: 22100.0000 - fn: 39.0000 - accuracy: 0.9987 - precision: 0.9990 - recall: 0.9990 - auc: 0.9999 - val_loss: 2.9637 - val_tp: 4696.0000 - val_fp: 1746.0000 - val_tn: 2265.0000 - val_fn: 2041.0000 - val_accuracy: 0.6477 - val_precision: 0.7290 - val_recall: 0.6970 - val_auc: 0.6622 - lr: 0.0010\n",
      "Epoch 51/100\n",
      "1933/1933 [==============================] - 139s 72ms/step - loss: 0.0043 - tp: 39647.0000 - fp: 42.0000 - tn: 22097.0000 - fn: 42.0000 - accuracy: 0.9986 - precision: 0.9989 - recall: 0.9989 - auc: 0.9999 - val_loss: 3.1423 - val_tp: 4966.0000 - val_fp: 2058.0000 - val_tn: 1953.0000 - val_fn: 1771.0000 - val_accuracy: 0.6437 - val_precision: 0.7070 - val_recall: 0.7371 - val_auc: 0.6354 - lr: 0.0010\n",
      "Epoch 52/100\n",
      "1933/1933 [==============================] - 150s 77ms/step - loss: 0.0047 - tp: 39636.0000 - fp: 54.0000 - tn: 22085.0000 - fn: 53.0000 - accuracy: 0.9983 - precision: 0.9986 - recall: 0.9987 - auc: 0.9999 - val_loss: 2.7810 - val_tp: 4167.0000 - val_fp: 1522.0000 - val_tn: 2489.0000 - val_fn: 2570.0000 - val_accuracy: 0.6193 - val_precision: 0.7325 - val_recall: 0.6185 - val_auc: 0.6561 - lr: 0.0010\n",
      "Epoch 53/100\n",
      "1933/1933 [==============================] - 149s 77ms/step - loss: 0.0026 - tp: 39660.0000 - fp: 27.0000 - tn: 22112.0000 - fn: 29.0000 - accuracy: 0.9991 - precision: 0.9993 - recall: 0.9993 - auc: 0.9999 - val_loss: 3.2109 - val_tp: 4250.0000 - val_fp: 1554.0000 - val_tn: 2457.0000 - val_fn: 2487.0000 - val_accuracy: 0.6240 - val_precision: 0.7323 - val_recall: 0.6308 - val_auc: 0.6484 - lr: 0.0010\n",
      "Epoch 54/100\n",
      "1933/1933 [==============================] - 150s 78ms/step - loss: 0.0041 - tp: 39648.0000 - fp: 48.0000 - tn: 22091.0000 - fn: 41.0000 - accuracy: 0.9986 - precision: 0.9988 - recall: 0.9990 - auc: 0.9999 - val_loss: 3.4123 - val_tp: 4159.0000 - val_fp: 1676.0000 - val_tn: 2335.0000 - val_fn: 2578.0000 - val_accuracy: 0.6042 - val_precision: 0.7128 - val_recall: 0.6173 - val_auc: 0.6261 - lr: 0.0010\n",
      "Epoch 55/100\n",
      "1933/1933 [==============================] - 146s 75ms/step - loss: 0.0028 - tp: 39662.0000 - fp: 26.0000 - tn: 22113.0000 - fn: 27.0000 - accuracy: 0.9991 - precision: 0.9993 - recall: 0.9993 - auc: 0.9999 - val_loss: 3.0562 - val_tp: 4635.0000 - val_fp: 1723.0000 - val_tn: 2288.0000 - val_fn: 2102.0000 - val_accuracy: 0.6441 - val_precision: 0.7290 - val_recall: 0.6880 - val_auc: 0.6475 - lr: 0.0010\n",
      "Epoch 56/100\n",
      "1933/1933 [==============================] - 138s 71ms/step - loss: 0.0034 - tp: 39655.0000 - fp: 33.0000 - tn: 22106.0000 - fn: 34.0000 - accuracy: 0.9989 - precision: 0.9992 - recall: 0.9991 - auc: 0.9999 - val_loss: 3.4186 - val_tp: 4532.0000 - val_fp: 1751.0000 - val_tn: 2260.0000 - val_fn: 2205.0000 - val_accuracy: 0.6319 - val_precision: 0.7213 - val_recall: 0.6727 - val_auc: 0.6402 - lr: 0.0010\n",
      "Epoch 57/100\n",
      "1933/1933 [==============================] - 149s 77ms/step - loss: 0.0031 - tp: 39664.0000 - fp: 27.0000 - tn: 22112.0000 - fn: 25.0000 - accuracy: 0.9992 - precision: 0.9993 - recall: 0.9994 - auc: 0.9999 - val_loss: 3.4938 - val_tp: 4442.0000 - val_fp: 1703.0000 - val_tn: 2308.0000 - val_fn: 2295.0000 - val_accuracy: 0.6280 - val_precision: 0.7229 - val_recall: 0.6593 - val_auc: 0.6403 - lr: 0.0010\n",
      "Epoch 58/100\n",
      "1933/1933 [==============================] - 133s 69ms/step - loss: 0.0045 - tp: 39638.0000 - fp: 47.0000 - tn: 22092.0000 - fn: 51.0000 - accuracy: 0.9984 - precision: 0.9988 - recall: 0.9987 - auc: 0.9999 - val_loss: 3.2954 - val_tp: 4502.0000 - val_fp: 1863.0000 - val_tn: 2148.0000 - val_fn: 2235.0000 - val_accuracy: 0.6187 - val_precision: 0.7073 - val_recall: 0.6682 - val_auc: 0.6249 - lr: 0.0010\n",
      "Epoch 59/100\n",
      "1933/1933 [==============================] - 133s 69ms/step - loss: 2.8524e-04 - tp: 39687.0000 - fp: 0.0000e+00 - tn: 22139.0000 - fn: 2.0000 - accuracy: 1.0000 - precision: 1.0000 - recall: 0.9999 - auc: 1.0000 - val_loss: 3.4841 - val_tp: 4387.0000 - val_fp: 1784.0000 - val_tn: 2227.0000 - val_fn: 2350.0000 - val_accuracy: 0.6154 - val_precision: 0.7109 - val_recall: 0.6512 - val_auc: 0.6258 - lr: 3.1623e-04\n",
      "Epoch 60/100\n",
      "1933/1933 [==============================] - 133s 69ms/step - loss: 2.5459e-04 - tp: 39684.0000 - fp: 1.0000 - tn: 22138.0000 - fn: 5.0000 - accuracy: 0.9999 - precision: 1.0000 - recall: 0.9999 - auc: 1.0000 - val_loss: 3.5000 - val_tp: 4421.0000 - val_fp: 1754.0000 - val_tn: 2257.0000 - val_fn: 2316.0000 - val_accuracy: 0.6213 - val_precision: 0.7160 - val_recall: 0.6562 - val_auc: 0.6329 - lr: 3.1623e-04\n",
      "Epoch 61/100\n",
      "1933/1933 [==============================] - 132s 68ms/step - loss: 9.3887e-05 - tp: 39689.0000 - fp: 1.0000 - tn: 22138.0000 - fn: 0.0000e+00 - accuracy: 1.0000 - precision: 1.0000 - recall: 1.0000 - auc: 1.0000 - val_loss: 3.4921 - val_tp: 4616.0000 - val_fp: 1753.0000 - val_tn: 2258.0000 - val_fn: 2121.0000 - val_accuracy: 0.6396 - val_precision: 0.7248 - val_recall: 0.6852 - val_auc: 0.6452 - lr: 3.1623e-04\n",
      "Epoch 62/100\n",
      "1933/1933 [==============================] - 139s 72ms/step - loss: 2.3322e-05 - tp: 39689.0000 - fp: 0.0000e+00 - tn: 22139.0000 - fn: 0.0000e+00 - accuracy: 1.0000 - precision: 1.0000 - recall: 1.0000 - auc: 1.0000 - val_loss: 3.7022 - val_tp: 4628.0000 - val_fp: 1784.0000 - val_tn: 2227.0000 - val_fn: 2109.0000 - val_accuracy: 0.6378 - val_precision: 0.7218 - val_recall: 0.6870 - val_auc: 0.6393 - lr: 3.1623e-04\n",
      "Epoch 63/100\n",
      "1933/1933 [==============================] - 150s 78ms/step - loss: 8.1353e-06 - tp: 39689.0000 - fp: 0.0000e+00 - tn: 22139.0000 - fn: 0.0000e+00 - accuracy: 1.0000 - precision: 1.0000 - recall: 1.0000 - auc: 1.0000 - val_loss: 3.8742 - val_tp: 4573.0000 - val_fp: 1739.0000 - val_tn: 2272.0000 - val_fn: 2164.0000 - val_accuracy: 0.6369 - val_precision: 0.7245 - val_recall: 0.6788 - val_auc: 0.6416 - lr: 3.1623e-04\n",
      "Epoch 64/100\n",
      "1933/1933 [==============================] - 150s 78ms/step - loss: 3.1129e-06 - tp: 39689.0000 - fp: 0.0000e+00 - tn: 22139.0000 - fn: 0.0000e+00 - accuracy: 1.0000 - precision: 1.0000 - recall: 1.0000 - auc: 1.0000 - val_loss: 4.0575 - val_tp: 4580.0000 - val_fp: 1751.0000 - val_tn: 2260.0000 - val_fn: 2157.0000 - val_accuracy: 0.6364 - val_precision: 0.7234 - val_recall: 0.6798 - val_auc: 0.6410 - lr: 3.1623e-04\n",
      "Epoch 65/100\n",
      "1933/1933 [==============================] - 152s 79ms/step - loss: 1.9794e-06 - tp: 39689.0000 - fp: 0.0000e+00 - tn: 22139.0000 - fn: 0.0000e+00 - accuracy: 1.0000 - precision: 1.0000 - recall: 1.0000 - auc: 1.0000 - val_loss: 4.3722 - val_tp: 4600.0000 - val_fp: 1735.0000 - val_tn: 2276.0000 - val_fn: 2137.0000 - val_accuracy: 0.6397 - val_precision: 0.7261 - val_recall: 0.6828 - val_auc: 0.6426 - lr: 3.1623e-04\n",
      "Epoch 66/100\n",
      "1933/1933 [==============================] - 145s 75ms/step - loss: 7.2066e-04 - tp: 39680.0000 - fp: 8.0000 - tn: 22131.0000 - fn: 9.0000 - accuracy: 0.9997 - precision: 0.9998 - recall: 0.9998 - auc: 1.0000 - val_loss: 4.0281 - val_tp: 4376.0000 - val_fp: 1684.0000 - val_tn: 2327.0000 - val_fn: 2361.0000 - val_accuracy: 0.6237 - val_precision: 0.7221 - val_recall: 0.6495 - val_auc: 0.6349 - lr: 3.1623e-04\n",
      "Epoch 67/100\n",
      "1933/1933 [==============================] - 140s 72ms/step - loss: 1.7406e-05 - tp: 39689.0000 - fp: 0.0000e+00 - tn: 22139.0000 - fn: 0.0000e+00 - accuracy: 1.0000 - precision: 1.0000 - recall: 1.0000 - auc: 1.0000 - val_loss: 4.0258 - val_tp: 4461.0000 - val_fp: 1694.0000 - val_tn: 2317.0000 - val_fn: 2276.0000 - val_accuracy: 0.6306 - val_precision: 0.7248 - val_recall: 0.6622 - val_auc: 0.6390 - lr: 3.1623e-04\n",
      "Epoch 68/100\n",
      "1933/1933 [==============================] - 149s 77ms/step - loss: 7.7054e-06 - tp: 39689.0000 - fp: 0.0000e+00 - tn: 22139.0000 - fn: 0.0000e+00 - accuracy: 1.0000 - precision: 1.0000 - recall: 1.0000 - auc: 1.0000 - val_loss: 4.1502 - val_tp: 4565.0000 - val_fp: 1773.0000 - val_tn: 2238.0000 - val_fn: 2172.0000 - val_accuracy: 0.6330 - val_precision: 0.7203 - val_recall: 0.6776 - val_auc: 0.6367 - lr: 3.1623e-04\n",
      "Epoch 69/100\n",
      "1933/1933 [==============================] - 132s 68ms/step - loss: 7.0476e-06 - tp: 39689.0000 - fp: 0.0000e+00 - tn: 22139.0000 - fn: 0.0000e+00 - accuracy: 1.0000 - precision: 1.0000 - recall: 1.0000 - auc: 1.0000 - val_loss: 4.3005 - val_tp: 4568.0000 - val_fp: 1748.0000 - val_tn: 2263.0000 - val_fn: 2169.0000 - val_accuracy: 0.6356 - val_precision: 0.7232 - val_recall: 0.6780 - val_auc: 0.6399 - lr: 3.1623e-04\n",
      "Epoch 70/100\n",
      "1933/1933 [==============================] - 132s 68ms/step - loss: 2.4168e-06 - tp: 39689.0000 - fp: 0.0000e+00 - tn: 22139.0000 - fn: 0.0000e+00 - accuracy: 1.0000 - precision: 1.0000 - recall: 1.0000 - auc: 1.0000 - val_loss: 4.4820 - val_tp: 4542.0000 - val_fp: 1752.0000 - val_tn: 2259.0000 - val_fn: 2195.0000 - val_accuracy: 0.6328 - val_precision: 0.7216 - val_recall: 0.6742 - val_auc: 0.6387 - lr: 3.1623e-04\n",
      "Epoch 71/100\n",
      "1933/1933 [==============================] - 132s 68ms/step - loss: 4.7147e-04 - tp: 39686.0000 - fp: 4.0000 - tn: 22135.0000 - fn: 3.0000 - accuracy: 0.9999 - precision: 0.9999 - recall: 0.9999 - auc: 1.0000 - val_loss: 4.1543 - val_tp: 4516.0000 - val_fp: 1788.0000 - val_tn: 2223.0000 - val_fn: 2221.0000 - val_accuracy: 0.6270 - val_precision: 0.7164 - val_recall: 0.6703 - val_auc: 0.6320 - lr: 3.1623e-04\n",
      "Epoch 72/100\n",
      "1933/1933 [==============================] - 132s 68ms/step - loss: 7.8052e-05 - tp: 39689.0000 - fp: 1.0000 - tn: 22138.0000 - fn: 0.0000e+00 - accuracy: 1.0000 - precision: 1.0000 - recall: 1.0000 - auc: 1.0000 - val_loss: 4.3854 - val_tp: 4363.0000 - val_fp: 1724.0000 - val_tn: 2287.0000 - val_fn: 2374.0000 - val_accuracy: 0.6187 - val_precision: 0.7168 - val_recall: 0.6476 - val_auc: 0.6267 - lr: 1.0000e-04\n",
      "Epoch 73/100\n",
      "1933/1933 [==============================] - 141s 73ms/step - loss: 1.9812e-05 - tp: 39689.0000 - fp: 0.0000e+00 - tn: 22139.0000 - fn: 0.0000e+00 - accuracy: 1.0000 - precision: 1.0000 - recall: 1.0000 - auc: 1.0000 - val_loss: 4.3412 - val_tp: 4514.0000 - val_fp: 1788.0000 - val_tn: 2223.0000 - val_fn: 2223.0000 - val_accuracy: 0.6268 - val_precision: 0.7163 - val_recall: 0.6700 - val_auc: 0.6297 - lr: 1.0000e-04\n",
      "Epoch 74/100\n",
      "1933/1933 [==============================] - 151s 78ms/step - loss: 8.4903e-06 - tp: 39689.0000 - fp: 0.0000e+00 - tn: 22139.0000 - fn: 0.0000e+00 - accuracy: 1.0000 - precision: 1.0000 - recall: 1.0000 - auc: 1.0000 - val_loss: 4.3881 - val_tp: 4445.0000 - val_fp: 1706.0000 - val_tn: 2305.0000 - val_fn: 2292.0000 - val_accuracy: 0.6280 - val_precision: 0.7226 - val_recall: 0.6598 - val_auc: 0.6348 - lr: 1.0000e-04\n",
      "Epoch 75/100\n",
      "1933/1933 [==============================] - 151s 78ms/step - loss: 8.2076e-06 - tp: 39689.0000 - fp: 0.0000e+00 - tn: 22139.0000 - fn: 0.0000e+00 - accuracy: 1.0000 - precision: 1.0000 - recall: 1.0000 - auc: 1.0000 - val_loss: 4.4309 - val_tp: 4459.0000 - val_fp: 1746.0000 - val_tn: 2265.0000 - val_fn: 2278.0000 - val_accuracy: 0.6256 - val_precision: 0.7186 - val_recall: 0.6619 - val_auc: 0.6304 - lr: 1.0000e-04\n",
      "Epoch 76/100\n",
      "1933/1933 [==============================] - 151s 78ms/step - loss: 2.8031e-06 - tp: 39689.0000 - fp: 0.0000e+00 - tn: 22139.0000 - fn: 0.0000e+00 - accuracy: 1.0000 - precision: 1.0000 - recall: 1.0000 - auc: 1.0000 - val_loss: 4.4696 - val_tp: 4443.0000 - val_fp: 1709.0000 - val_tn: 2302.0000 - val_fn: 2294.0000 - val_accuracy: 0.6276 - val_precision: 0.7222 - val_recall: 0.6595 - val_auc: 0.6356 - lr: 1.0000e-04\n",
      "Epoch 77/100\n",
      "1933/1933 [==============================] - 144s 74ms/step - loss: 1.5609e-06 - tp: 39689.0000 - fp: 0.0000e+00 - tn: 22139.0000 - fn: 0.0000e+00 - accuracy: 1.0000 - precision: 1.0000 - recall: 1.0000 - auc: 1.0000 - val_loss: 4.4547 - val_tp: 4532.0000 - val_fp: 1748.0000 - val_tn: 2263.0000 - val_fn: 2205.0000 - val_accuracy: 0.6322 - val_precision: 0.7217 - val_recall: 0.6727 - val_auc: 0.6361 - lr: 1.0000e-04\n",
      "Epoch 78/100\n",
      "1933/1933 [==============================] - 142s 73ms/step - loss: 8.4557e-07 - tp: 39689.0000 - fp: 0.0000e+00 - tn: 22139.0000 - fn: 0.0000e+00 - accuracy: 1.0000 - precision: 1.0000 - recall: 1.0000 - auc: 1.0000 - val_loss: 4.6354 - val_tp: 4320.0000 - val_fp: 1655.0000 - val_tn: 2356.0000 - val_fn: 2417.0000 - val_accuracy: 0.6211 - val_precision: 0.7230 - val_recall: 0.6412 - val_auc: 0.6326 - lr: 1.0000e-04\n",
      "Epoch 79/100\n",
      "1933/1933 [==============================] - 145s 75ms/step - loss: 5.2066e-07 - tp: 39689.0000 - fp: 0.0000e+00 - tn: 22139.0000 - fn: 0.0000e+00 - accuracy: 1.0000 - precision: 1.0000 - recall: 1.0000 - auc: 1.0000 - val_loss: 4.6575 - val_tp: 4443.0000 - val_fp: 1707.0000 - val_tn: 2304.0000 - val_fn: 2294.0000 - val_accuracy: 0.6277 - val_precision: 0.7224 - val_recall: 0.6595 - val_auc: 0.6348 - lr: 1.0000e-04\n",
      "Epoch 80/100\n",
      "1933/1933 [==============================] - 132s 68ms/step - loss: 2.5845e-05 - tp: 39689.0000 - fp: 1.0000 - tn: 22138.0000 - fn: 0.0000e+00 - accuracy: 1.0000 - precision: 1.0000 - recall: 1.0000 - auc: 1.0000 - val_loss: 4.9786 - val_tp: 4043.0000 - val_fp: 1549.0000 - val_tn: 2462.0000 - val_fn: 2694.0000 - val_accuracy: 0.6052 - val_precision: 0.7230 - val_recall: 0.6001 - val_auc: 0.6250 - lr: 1.0000e-04\n",
      "Epoch 81/100\n",
      "1933/1933 [==============================] - 132s 68ms/step - loss: 4.0750e-06 - tp: 39689.0000 - fp: 0.0000e+00 - tn: 22139.0000 - fn: 0.0000e+00 - accuracy: 1.0000 - precision: 1.0000 - recall: 1.0000 - auc: 1.0000 - val_loss: 4.8603 - val_tp: 4457.0000 - val_fp: 1757.0000 - val_tn: 2254.0000 - val_fn: 2280.0000 - val_accuracy: 0.6244 - val_precision: 0.7173 - val_recall: 0.6616 - val_auc: 0.6283 - lr: 1.0000e-04\n",
      "Epoch 82/100\n",
      "1933/1933 [==============================] - 133s 69ms/step - loss: 5.7013e-07 - tp: 39689.0000 - fp: 0.0000e+00 - tn: 22139.0000 - fn: 0.0000e+00 - accuracy: 1.0000 - precision: 1.0000 - recall: 1.0000 - auc: 1.0000 - val_loss: 4.8495 - val_tp: 4439.0000 - val_fp: 1747.0000 - val_tn: 2264.0000 - val_fn: 2298.0000 - val_accuracy: 0.6237 - val_precision: 0.7176 - val_recall: 0.6589 - val_auc: 0.6280 - lr: 3.1623e-05\n",
      "Epoch 83/100\n",
      "1933/1933 [==============================] - 132s 68ms/step - loss: 5.2111e-07 - tp: 39689.0000 - fp: 0.0000e+00 - tn: 22139.0000 - fn: 0.0000e+00 - accuracy: 1.0000 - precision: 1.0000 - recall: 1.0000 - auc: 1.0000 - val_loss: 4.8259 - val_tp: 4481.0000 - val_fp: 1763.0000 - val_tn: 2248.0000 - val_fn: 2256.0000 - val_accuracy: 0.6261 - val_precision: 0.7176 - val_recall: 0.6651 - val_auc: 0.6304 - lr: 3.1623e-05\n",
      "Epoch 84/100\n",
      "1933/1933 [==============================] - 146s 75ms/step - loss: 2.9702e-06 - tp: 39689.0000 - fp: 0.0000e+00 - tn: 22139.0000 - fn: 0.0000e+00 - accuracy: 1.0000 - precision: 1.0000 - recall: 1.0000 - auc: 1.0000 - val_loss: 4.8379 - val_tp: 4386.0000 - val_fp: 1705.0000 - val_tn: 2306.0000 - val_fn: 2351.0000 - val_accuracy: 0.6226 - val_precision: 0.7201 - val_recall: 0.6510 - val_auc: 0.6306 - lr: 3.1623e-05\n",
      "Epoch 85/100\n",
      "1933/1933 [==============================] - 151s 78ms/step - loss: 2.3982e-07 - tp: 39689.0000 - fp: 0.0000e+00 - tn: 22139.0000 - fn: 0.0000e+00 - accuracy: 1.0000 - precision: 1.0000 - recall: 1.0000 - auc: 1.0000 - val_loss: 4.8246 - val_tp: 4396.0000 - val_fp: 1706.0000 - val_tn: 2305.0000 - val_fn: 2341.0000 - val_accuracy: 0.6235 - val_precision: 0.7204 - val_recall: 0.6525 - val_auc: 0.6310 - lr: 3.1623e-05\n",
      "Epoch 86/100\n",
      "1933/1933 [==============================] - 152s 79ms/step - loss: 2.6936e-07 - tp: 39689.0000 - fp: 0.0000e+00 - tn: 22139.0000 - fn: 0.0000e+00 - accuracy: 1.0000 - precision: 1.0000 - recall: 1.0000 - auc: 1.0000 - val_loss: 4.8058 - val_tp: 4441.0000 - val_fp: 1718.0000 - val_tn: 2293.0000 - val_fn: 2296.0000 - val_accuracy: 0.6265 - val_precision: 0.7211 - val_recall: 0.6592 - val_auc: 0.6325 - lr: 3.1623e-05\n",
      "Epoch 87/100\n",
      "1933/1933 [==============================] - 152s 79ms/step - loss: 2.8334e-07 - tp: 39689.0000 - fp: 0.0000e+00 - tn: 22139.0000 - fn: 0.0000e+00 - accuracy: 1.0000 - precision: 1.0000 - recall: 1.0000 - auc: 1.0000 - val_loss: 4.8347 - val_tp: 4509.0000 - val_fp: 1753.0000 - val_tn: 2258.0000 - val_fn: 2228.0000 - val_accuracy: 0.6296 - val_precision: 0.7201 - val_recall: 0.6693 - val_auc: 0.6350 - lr: 3.1623e-05\n",
      "Epoch 88/100\n",
      "1933/1933 [==============================] - 140s 72ms/step - loss: 3.4770e-07 - tp: 39689.0000 - fp: 0.0000e+00 - tn: 22139.0000 - fn: 0.0000e+00 - accuracy: 1.0000 - precision: 1.0000 - recall: 1.0000 - auc: 1.0000 - val_loss: 4.8290 - val_tp: 4402.0000 - val_fp: 1685.0000 - val_tn: 2326.0000 - val_fn: 2335.0000 - val_accuracy: 0.6260 - val_precision: 0.7232 - val_recall: 0.6534 - val_auc: 0.6343 - lr: 3.1623e-05\n",
      "Epoch 89/100\n",
      "1933/1933 [==============================] - 147s 76ms/step - loss: 2.1310e-07 - tp: 39689.0000 - fp: 0.0000e+00 - tn: 22139.0000 - fn: 0.0000e+00 - accuracy: 1.0000 - precision: 1.0000 - recall: 1.0000 - auc: 1.0000 - val_loss: 4.8731 - val_tp: 4377.0000 - val_fp: 1678.0000 - val_tn: 2333.0000 - val_fn: 2360.0000 - val_accuracy: 0.6243 - val_precision: 0.7229 - val_recall: 0.6497 - val_auc: 0.6325 - lr: 3.1623e-05\n",
      "Epoch 90/100\n",
      "1933/1933 [==============================] - 142s 73ms/step - loss: 1.6870e-07 - tp: 39689.0000 - fp: 0.0000e+00 - tn: 22139.0000 - fn: 0.0000e+00 - accuracy: 1.0000 - precision: 1.0000 - recall: 1.0000 - auc: 1.0000 - val_loss: 4.8932 - val_tp: 4381.0000 - val_fp: 1686.0000 - val_tn: 2325.0000 - val_fn: 2356.0000 - val_accuracy: 0.6239 - val_precision: 0.7221 - val_recall: 0.6503 - val_auc: 0.6329 - lr: 3.1623e-05\n",
      "Epoch 91/100\n",
      "1933/1933 [==============================] - 132s 68ms/step - loss: 1.6542e-07 - tp: 39689.0000 - fp: 0.0000e+00 - tn: 22139.0000 - fn: 0.0000e+00 - accuracy: 1.0000 - precision: 1.0000 - recall: 1.0000 - auc: 1.0000 - val_loss: 4.9191 - val_tp: 4456.0000 - val_fp: 1712.0000 - val_tn: 2299.0000 - val_fn: 2281.0000 - val_accuracy: 0.6285 - val_precision: 0.7224 - val_recall: 0.6614 - val_auc: 0.6352 - lr: 3.1623e-05\n",
      "Epoch 92/100\n",
      "1933/1933 [==============================] - 132s 68ms/step - loss: 1.1848e-07 - tp: 39689.0000 - fp: 0.0000e+00 - tn: 22139.0000 - fn: 0.0000e+00 - accuracy: 1.0000 - precision: 1.0000 - recall: 1.0000 - auc: 1.0000 - val_loss: 4.9325 - val_tp: 4437.0000 - val_fp: 1702.0000 - val_tn: 2309.0000 - val_fn: 2300.0000 - val_accuracy: 0.6277 - val_precision: 0.7228 - val_recall: 0.6586 - val_auc: 0.6351 - lr: 1.0000e-05\n",
      "Epoch 93/100\n",
      "1933/1933 [==============================] - 132s 68ms/step - loss: 1.0804e-07 - tp: 39689.0000 - fp: 0.0000e+00 - tn: 22139.0000 - fn: 0.0000e+00 - accuracy: 1.0000 - precision: 1.0000 - recall: 1.0000 - auc: 1.0000 - val_loss: 4.9496 - val_tp: 4441.0000 - val_fp: 1699.0000 - val_tn: 2312.0000 - val_fn: 2296.0000 - val_accuracy: 0.6283 - val_precision: 0.7233 - val_recall: 0.6592 - val_auc: 0.6357 - lr: 1.0000e-05\n",
      "Epoch 94/100\n",
      "1933/1933 [==============================] - 132s 68ms/step - loss: 9.8483e-08 - tp: 39689.0000 - fp: 0.0000e+00 - tn: 22139.0000 - fn: 0.0000e+00 - accuracy: 1.0000 - precision: 1.0000 - recall: 1.0000 - auc: 1.0000 - val_loss: 4.9889 - val_tp: 4420.0000 - val_fp: 1693.0000 - val_tn: 2318.0000 - val_fn: 2317.0000 - val_accuracy: 0.6269 - val_precision: 0.7230 - val_recall: 0.6561 - val_auc: 0.6350 - lr: 1.0000e-05\n",
      "Epoch 95/100\n",
      "1933/1933 [==============================] - 151s 78ms/step - loss: 1.1286e-07 - tp: 39689.0000 - fp: 0.0000e+00 - tn: 22139.0000 - fn: 0.0000e+00 - accuracy: 1.0000 - precision: 1.0000 - recall: 1.0000 - auc: 1.0000 - val_loss: 4.9716 - val_tp: 4437.0000 - val_fp: 1702.0000 - val_tn: 2309.0000 - val_fn: 2300.0000 - val_accuracy: 0.6277 - val_precision: 0.7228 - val_recall: 0.6586 - val_auc: 0.6352 - lr: 1.0000e-05\n",
      "Epoch 96/100\n",
      "1933/1933 [==============================] - 152s 78ms/step - loss: 9.9180e-08 - tp: 39689.0000 - fp: 0.0000e+00 - tn: 22139.0000 - fn: 0.0000e+00 - accuracy: 1.0000 - precision: 1.0000 - recall: 1.0000 - auc: 1.0000 - val_loss: 4.9783 - val_tp: 4439.0000 - val_fp: 1704.0000 - val_tn: 2307.0000 - val_fn: 2298.0000 - val_accuracy: 0.6277 - val_precision: 0.7226 - val_recall: 0.6589 - val_auc: 0.6356 - lr: 1.0000e-05\n",
      "Epoch 97/100\n",
      "1933/1933 [==============================] - 154s 80ms/step - loss: 9.7236e-08 - tp: 39689.0000 - fp: 0.0000e+00 - tn: 22139.0000 - fn: 0.0000e+00 - accuracy: 1.0000 - precision: 1.0000 - recall: 1.0000 - auc: 1.0000 - val_loss: 4.9876 - val_tp: 4396.0000 - val_fp: 1685.0000 - val_tn: 2326.0000 - val_fn: 2341.0000 - val_accuracy: 0.6254 - val_precision: 0.7229 - val_recall: 0.6525 - val_auc: 0.6338 - lr: 1.0000e-05\n",
      "Epoch 98/100\n",
      "1933/1933 [==============================] - 154s 79ms/step - loss: 1.1943e-07 - tp: 39689.0000 - fp: 0.0000e+00 - tn: 22139.0000 - fn: 0.0000e+00 - accuracy: 1.0000 - precision: 1.0000 - recall: 1.0000 - auc: 1.0000 - val_loss: 5.0035 - val_tp: 4515.0000 - val_fp: 1736.0000 - val_tn: 2275.0000 - val_fn: 2222.0000 - val_accuracy: 0.6317 - val_precision: 0.7223 - val_recall: 0.6702 - val_auc: 0.6365 - lr: 1.0000e-05\n",
      "Epoch 99/100\n",
      "1933/1933 [==============================] - 135s 70ms/step - loss: 1.0862e-07 - tp: 39689.0000 - fp: 0.0000e+00 - tn: 22139.0000 - fn: 0.0000e+00 - accuracy: 1.0000 - precision: 1.0000 - recall: 1.0000 - auc: 1.0000 - val_loss: 5.0342 - val_tp: 4478.0000 - val_fp: 1720.0000 - val_tn: 2291.0000 - val_fn: 2259.0000 - val_accuracy: 0.6298 - val_precision: 0.7225 - val_recall: 0.6647 - val_auc: 0.6350 - lr: 1.0000e-05\n",
      "Epoch 100/100\n",
      "1933/1933 [==============================] - 153s 79ms/step - loss: 1.2152e-07 - tp: 39689.0000 - fp: 0.0000e+00 - tn: 22139.0000 - fn: 0.0000e+00 - accuracy: 1.0000 - precision: 1.0000 - recall: 1.0000 - auc: 1.0000 - val_loss: 5.0274 - val_tp: 4463.0000 - val_fp: 1714.0000 - val_tn: 2297.0000 - val_fn: 2274.0000 - val_accuracy: 0.6290 - val_precision: 0.7225 - val_recall: 0.6625 - val_auc: 0.6348 - lr: 1.0000e-05\n"
     ]
    }
   ],
   "source": [
    "print(train_tot, valid_tot)\n",
    "\n",
    "train_steps = np.ceil(train_tot/batch_size)\n",
    "valid_steps = np.ceil(valid_tot/batch_size)\n",
    "\n",
    "print (train_steps, valid_steps)\n",
    "\n",
    "#fit_generator\n",
    "\n",
    "history_dcnn = ft_resnet.fit(train_data, \n",
    "                             steps_per_epoch=train_steps,\n",
    "                             epochs=epochs,\n",
    "                             workers = 4,\n",
    "                             callbacks = [tb, model_chkp, lr_reducer, early_stopper],\n",
    "                             validation_data = validation_data, \n",
    "                             validation_steps = valid_steps)\n"
   ]
  },
  {
   "cell_type": "code",
   "execution_count": 25,
   "metadata": {},
   "outputs": [],
   "source": [
    "arch_name = 'bs_{}'.format(batch_size)\n",
    "\n",
    "continue_model_path = '..\\\\models\\\\best_model_binary_no_balance\\\\' + '{}_{}_{}_eps.h5'.format(version, arch_name, epochs)\n",
    "ft_resnet.save(continue_model_path)\n",
    "np.save(f'..\\\\models\\\\best_model_binary_no_balance\\\\{version}_{arch_name}_{epochs}_eps.npy',\n",
    "        history_dcnn.history)"
   ]
  },
  {
   "cell_type": "code",
   "execution_count": 24,
   "metadata": {},
   "outputs": [],
   "source": [
    "import pickle \n",
    "ft_resnet.save_weights('..\\\\models\\\\best_model_binary_no_balance\\\\' + '{}_{}_{}_eps_wheights_only.h5'.format(version, arch_name, epochs))\n",
    "symbolic_weights = getattr(ft_resnet.optimizer, 'weights')\n",
    "weight_values = K.batch_get_value(symbolic_weights)\n",
    "with open('..\\\\models\\\\best_model_binary_no_balance\\\\' + '{}_{}_{}_eps_optimizer.pkl'.format(version, arch_name, epochs), 'wb') as f:\n",
    "    pickle.dump(weight_values, f)"
   ]
  },
  {
   "cell_type": "code",
   "execution_count": 26,
   "metadata": {},
   "outputs": [
    {
     "data": {
      "text/plain": [
       "<matplotlib.legend.Legend at 0x29376063ac0>"
      ]
     },
     "execution_count": 26,
     "metadata": {},
     "output_type": "execute_result"
    },
    {
     "data": {
      "image/png": "[encoded data removed]",
      "text/plain": [
       "<Figure size 640x480 with 2 Axes>"
      ]
     },
     "metadata": {},
     "output_type": "display_data"
    }
   ],
   "source": [
    "# Visualization of the learning curves\n",
    "\n",
    "# Loss\n",
    "plt.subplot(1, 2, 1)\n",
    "plt.plot(history_dcnn.history['loss'])\n",
    "plt.plot(history_dcnn.history['val_loss'])\n",
    "plt.xlabel('Epoch')\n",
    "plt.ylabel('Loss')\n",
    "plt.legend(['train', 'validation'])\n",
    "\n",
    "# Accuracy\n",
    "plt.subplot(1, 2, 2)\n",
    "plt.plot(history_dcnn.history['accuracy'])\n",
    "plt.plot(history_dcnn.history['val_accuracy'])\n",
    "plt.xlabel('Epoch')\n",
    "plt.ylabel('Accuracy')\n",
    "plt.legend(['train', 'validation'])"
   ]
  },
  {
   "attachments": {},
   "cell_type": "markdown",
   "metadata": {},
   "source": [
    "# Load Model"
   ]
  },
  {
   "cell_type": "code",
   "execution_count": 8,
   "metadata": {},
   "outputs": [],
   "source": [
    "#os.chdir('C:/Users/marco/Desktop/Local_Documents/models/NoBalance')"
   ]
  },
  {
   "cell_type": "code",
   "execution_count": 30,
   "metadata": {},
   "outputs": [],
   "source": [
    "# Load model\n",
    "net_dcnn = keras.models.load_model(\"..\\\\models\\\\best_model_binary_no_balance\\\\v1_bs_32_100_eps.h5\")\n",
    "net_dcnn.load_weights(\"..\\\\models\\\\best_model_binary_no_balance\\\\v1_bs_32_100_eps_best.hdf5\")"
   ]
  },
  {
   "cell_type": "code",
   "execution_count": 26,
   "metadata": {},
   "outputs": [
    {
     "data": {
      "text/plain": [
       "['loss', 'tp', 'fp', 'tn', 'fn', 'accuracy', 'precision', 'recall', 'auc']"
      ]
     },
     "execution_count": 26,
     "metadata": {},
     "output_type": "execute_result"
    }
   ],
   "source": [
    "net_dcnn.metrics_names"
   ]
  },
  {
   "cell_type": "code",
   "execution_count": 32,
   "metadata": {},
   "outputs": [],
   "source": [
    "# Load hystory and convert to dict\n",
    "history = np.load('..\\\\models\\\\best_model_binary_no_balance\\\\v1_bs_32_100_eps.npy', allow_pickle=True).item()"
   ]
  },
  {
   "attachments": {},
   "cell_type": "markdown",
   "metadata": {},
   "source": [
    "# Model Evaluation"
   ]
  },
  {
   "cell_type": "code",
   "execution_count": 33,
   "metadata": {},
   "outputs": [],
   "source": [
    "# Set visualization size for figures \n",
    "plt.rcParams['figure.figsize'] = [5,5] # width, height"
   ]
  },
  {
   "cell_type": "code",
   "execution_count": 34,
   "metadata": {},
   "outputs": [],
   "source": [
    "CATEGORIES = \"ad\", \"nor\""
   ]
  },
  {
   "cell_type": "code",
   "execution_count": 35,
   "metadata": {},
   "outputs": [
    {
     "data": {
      "text/plain": [
       "dict_keys(['loss', 'tp', 'fp', 'tn', 'fn', 'accuracy', 'precision', 'recall', 'auc', 'val_loss', 'val_tp', 'val_fp', 'val_tn', 'val_fn', 'val_accuracy', 'val_precision', 'val_recall', 'val_auc', 'lr'])"
      ]
     },
     "execution_count": 35,
     "metadata": {},
     "output_type": "execute_result"
    }
   ],
   "source": [
    "history.keys()"
   ]
  },
  {
   "cell_type": "code",
   "execution_count": 36,
   "metadata": {},
   "outputs": [
    {
     "name": "stdout",
     "output_type": "stream",
     "text": [
      "Found 10748 images belonging to 2 classes.\n"
     ]
    }
   ],
   "source": [
    "test_data = valid_datagen.flow_from_directory(\n",
    "        valid_path,\n",
    "        color_mode='grayscale',\n",
    "        target_size=(192, 160),  # Lo inserisco per precauzione\n",
    "        batch_size=batch_size,\n",
    "        shuffle=False,\n",
    "        class_mode= \"binary\")"
   ]
  },
  {
   "cell_type": "code",
   "execution_count": 37,
   "metadata": {},
   "outputs": [
    {
     "data": {
      "text/plain": [
       "[0.7449861168861389, 0.8739891052246094]"
      ]
     },
     "execution_count": 37,
     "metadata": {},
     "output_type": "execute_result"
    }
   ],
   "source": [
    "history['accuracy'][:1+1]"
   ]
  },
  {
   "cell_type": "code",
   "execution_count": 38,
   "metadata": {},
   "outputs": [],
   "source": [
    "%matplotlib inline\n",
    "\n",
    "def print_graph(item, index, history):\n",
    "    plt.figure()\n",
    "    train_values = history[item]\n",
    "    plt.plot(train_values)\n",
    "    test_values = history['val_' + item]\n",
    "    plt.plot(test_values)\n",
    "    plt.legend(['training','validation'])\n",
    "    plt.title('Training and validation '+ item)\n",
    "    plt.xlabel('epoch')\n",
    "    plt.show()\n",
    "    plot = '{}.png'.format(item)\n",
    "    plt.savefig(plot)"
   ]
  },
  {
   "cell_type": "code",
   "execution_count": 39,
   "metadata": {},
   "outputs": [],
   "source": [
    "def test_set_results(pred_value, n=1):    \n",
    "    y_test = test_data.labels\n",
    "    X_test, _ = test_data.next()\n",
    "    \n",
    "    corr_pred = confusion_matrix(y_test, pred_value)\n",
    "    print(corr_pred)\n",
    "    fig=plt.figure(figsize=(10, 8))\n",
    "    ax = plt.axes()\n",
    "    \n",
    "    sns.heatmap(corr_pred,annot=True, fmt=\"d\",cmap=\"Purples\", xticklabels=CATEGORIES, yticklabels=CATEGORIES)\n",
    "    ax.set_title('Confusion Matrix')\n",
    "    plt.show()\n",
    "    \n",
    "    n_correct = int(corr_pred[0][0] + corr_pred[1][1])\n",
    "    print('...'*15)\n",
    "\n",
    "    print('> Correct Predictions:', n_correct)\n",
    "    \n",
    "    n_wrongs = len(y_test) - n_correct\n",
    "    print('> Wrong Predictions:', n_wrongs)\n",
    "    print('...'*15)\n",
    "    \n",
    "    print(classification_report(test_data.labels, pred_value, target_names=CATEGORIES))"
   ]
  },
  {
   "cell_type": "code",
   "execution_count": 40,
   "metadata": {},
   "outputs": [],
   "source": [
    "# label-encoded version\n",
    "def printResults(name, model):\n",
    "    predictions = model.predict(test_data, verbose=1)\n",
    "    preds = np.array([1 * (x[0]>0.5) for x in predictions])\n",
    "    test_set_results(preds)"
   ]
  },
  {
   "cell_type": "code",
   "execution_count": 41,
   "metadata": {},
   "outputs": [],
   "source": [
    "def model_summary(model, history, name):\n",
    "    val_acc = history['val_accuracy'] #validation accuracy history\n",
    "    index= val_acc.index(max(val_acc))\n",
    "    print('Best Epochs:', index)\n",
    "\n",
    "\n",
    "    test_loss, _1, _2, _3, _4,test_accuracy, test_precision, test_recall, auc = model.evaluate(test_data, verbose=1)\n",
    "\n",
    "    print(_1, _2, _3, _4)\n",
    "    train_accuracy = history['accuracy'][index]\n",
    "    train_loss = history['loss'][index]\n",
    "\n",
    "    print_graph('loss', index, history)\n",
    "    print_graph('accuracy', index, history)\n",
    "\n",
    "    print('---'*15) \n",
    "    print(name)\n",
    "    print('> Accuracy on train:',round(train_accuracy, 2), \n",
    "            '\\tLoss on train:', round(train_loss,2))\n",
    "    \n",
    "\n",
    "    print('> Accuracy on test:',round(test_accuracy, 2),\n",
    "            '\\tLoss on test:',round(test_loss,2))\n",
    "\n",
    "    print('---'*15)\n",
    "    print('> predicting test')\n",
    "    print('---'*15)\n",
    "\n",
    "    printResults(name, model)"
   ]
  },
  {
   "cell_type": "code",
   "execution_count": 42,
   "metadata": {},
   "outputs": [
    {
     "name": "stdout",
     "output_type": "stream",
     "text": [
      "Best Epochs: 8\n",
      "336/336 [==============================] - 41s 120ms/step - loss: 1.7735 - tp: 5790.0000 - fp: 2090.0000 - tn: 1921.0000 - fn: 947.0000 - accuracy: 0.7174 - precision: 0.7348 - recall: 0.8594 - auc: 0.7183\n",
      "5790.0 2090.0 1921.0 947.0\n"
     ]
    },
    {
     "data": {
      "image/png": "[encoded data removed]",
      "text/plain": [
       "<Figure size 500x500 with 1 Axes>"
      ]
     },
     "metadata": {},
     "output_type": "display_data"
    },
    {
     "data": {
      "text/plain": [
       "<Figure size 500x500 with 0 Axes>"
      ]
     },
     "metadata": {},
     "output_type": "display_data"
    },
    {
     "data": {
      "image/png": "[encoded data removed]",
      "text/plain": [
       "<Figure size 500x500 with 1 Axes>"
      ]
     },
     "metadata": {},
     "output_type": "display_data"
    },
    {
     "name": "stdout",
     "output_type": "stream",
     "text": [
      "---------------------------------------------\n",
      "DCCN - Random Undersampling\n",
      "> Accuracy on train: 0.99 \tLoss on train: 0.03\n",
      "> Accuracy on test: 0.72 \tLoss on test: 1.77\n",
      "---------------------------------------------\n",
      "> predicting test\n",
      "---------------------------------------------\n",
      "336/336 [==============================] - 9s 26ms/step\n",
      "[[1921 2090]\n",
      " [ 947 5790]]\n"
     ]
    },
    {
     "data": {
      "text/plain": [
       "<Figure size 500x500 with 0 Axes>"
      ]
     },
     "metadata": {},
     "output_type": "display_data"
    },
    {
     "data": {
      "image/png": "[encoded data removed]",
      "text/plain": [
       "<Figure size 1000x800 with 2 Axes>"
      ]
     },
     "metadata": {},
     "output_type": "display_data"
    },
    {
     "name": "stdout",
     "output_type": "stream",
     "text": [
      ".............................................\n",
      "> Correct Predictions: 7711\n",
      "> Wrong Predictions: 3037\n",
      ".............................................\n",
      "              precision    recall  f1-score   support\n",
      "\n",
      "          ad       0.67      0.48      0.56      4011\n",
      "         nor       0.73      0.86      0.79      6737\n",
      "\n",
      "    accuracy                           0.72     10748\n",
      "   macro avg       0.70      0.67      0.68     10748\n",
      "weighted avg       0.71      0.72      0.71     10748\n",
      "\n"
     ]
    }
   ],
   "source": [
    "model_summary(net_dcnn, history, 'DCCN - Random Undersampling')"
   ]
  }
 ],
 "metadata": {
  "kernelspec": {
   "display_name": "Python 3.8.16 ('tf')",
   "language": "python",
   "name": "python3"
  },
  "language_info": {
   "codemirror_mode": {
    "name": "ipython",
    "version": 3
   },
   "file_extension": ".py",
   "mimetype": "text/x-python",
   "name": "python",
   "nbconvert_exporter": "python",
   "pygments_lexer": "ipython3",
   "version": "3.8.16"
  },
  "orig_nbformat": 4,
  "vscode": {
   "interpreter": {
    "hash": "4a44bbf2a83640dfde2344ebe838e4635fa18e86f31ce321969bab99fe559bce"
   }
  }
 },
 "nbformat": 4,
 "nbformat_minor": 2
}
