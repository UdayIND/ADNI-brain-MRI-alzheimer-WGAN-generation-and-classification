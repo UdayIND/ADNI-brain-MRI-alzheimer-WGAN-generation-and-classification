{
 "cells": [
  {
   "attachments": {},
   "cell_type": "markdown",
   "metadata": {},
   "source": [
    "**Importing libraries**"
   ]
  },
  {
   "cell_type": "code",
   "execution_count": 1,
   "metadata": {},
   "outputs": [],
   "source": [
    "# Keras e TF\n",
    "\n",
    "#import tensorflow\n",
    "from tensorflow import keras\n",
    "from keras.preprocessing.image import ImageDataGenerator\n",
    "from keras.layers import Conv2D, Conv1D, MaxPooling2D, Dense, Flatten, BatchNormalization, Activation, AveragePooling2D, Input, Flatten, Dropout\n",
    "from keras.callbacks import ModelCheckpoint\n",
    "\n",
    "# Sk-Learn\n",
    "from sklearn.metrics import classification_report, confusion_matrix\n",
    "from sklearn.model_selection import train_test_split\n",
    "from sklearn.metrics import classification_report,confusion_matrix, ConfusionMatrixDisplay, roc_curve, roc_auc_score, RocCurveDisplay, accuracy_score, classification_report, confusion_matrix\n",
    "\n",
    "# Base\n",
    "import os \n",
    "from pathlib import Path\n",
    "from matplotlib import pyplot as plt\n",
    "import seaborn as sns # \n",
    "import numpy as np #\n",
    "import pandas as pd # \n",
    "\n",
    "from keras.utils import load_img\n",
    "\n",
    "import pydot\n",
    "import pydotplus\n",
    "from pydotplus import graphviz\n",
    "\n",
    "from keras.callbacks import TensorBoard, ModelCheckpoint, ReduceLROnPlateau\n",
    "from tensorflow.keras import backend as K\n",
    "from custom_resnet import ResNet18\n",
    "\n",
    "\n",
    "from keras.models import Model\n",
    "from keras.optimizers import Adam"
   ]
  },
  {
   "cell_type": "code",
   "execution_count": 2,
   "metadata": {},
   "outputs": [
    {
     "data": {
      "text/plain": [
       "'2.10.0'"
      ]
     },
     "execution_count": 2,
     "metadata": {},
     "output_type": "execute_result"
    }
   ],
   "source": [
    "keras.__version__"
   ]
  },
  {
   "attachments": {},
   "cell_type": "markdown",
   "metadata": {},
   "source": [
    "**Setting path to the dataset**"
   ]
  },
  {
   "cell_type": "code",
   "execution_count": 3,
   "metadata": {},
   "outputs": [],
   "source": [
    "os.chdir(Path(str(Path(os.getcwd()).parent.absolute().parent.absolute()) +\n",
    "              '\\\\adni-images-Full-resized160x192-binary'))"
   ]
  },
  {
   "cell_type": "code",
   "execution_count": 4,
   "metadata": {},
   "outputs": [
    {
     "name": "stdout",
     "output_type": "stream",
     "text": [
      "d:\\Projects\\ADNI-brain-MRI-alzheimer-classification-and-GAN-generation\\adni-images-Full-resized160x192-binary\n"
     ]
    }
   ],
   "source": [
    "print(os.getcwd())"
   ]
  },
  {
   "attachments": {},
   "cell_type": "markdown",
   "metadata": {},
   "source": [
    "# Loading Dataset"
   ]
  },
  {
   "cell_type": "code",
   "execution_count": 4,
   "metadata": {},
   "outputs": [
    {
     "name": "stdout",
     "output_type": "stream",
     "text": [
      "61829\n",
      "Name:  d:\\Projects\\ADNI-brain-MRI-alzheimer-classification-and-GAN-generation\\adni-images-Full-resized160x192-binary\\no_balance_binary\\logs_no_balance_binary\\train/events.out.tfevents.1686073730.GIORGIO-LAPTOP.43900.0.v2\n",
      "Name:  d:\\Projects\\ADNI-brain-MRI-alzheimer-classification-and-GAN-generation\\adni-images-Full-resized160x192-binary\\train\\ad/ADNI_021_S_0753_MR_MPR__GradWarp__B1_Correction__N3__Scaled_Br_20071115091031185_S18712_I82162_101.png\n"
     ]
    }
   ],
   "source": [
    "data_dir = Path(os.getcwd())\n",
    "\n",
    "def data_mean_std():\n",
    "    names = []\n",
    "    for root, dirs, files in os.walk(data_dir):\n",
    "        if \"train\" in root:\n",
    "            for file in files:\n",
    "                names.append(root + '/' + file)\n",
    "    \n",
    "    print(len(names))\n",
    "                \n",
    "    array = []\n",
    "    for name in names:\n",
    "        try:\n",
    "            img = load_img(name, color_mode = 'grayscale', target_size = (160, 192))\n",
    "            img_array = np.asarray(img)\n",
    "            array.append(img_array)\n",
    "        except:\n",
    "            print(\"Name: \", name)\n",
    "            continue\n",
    "    \n",
    "    print(img_array.shape) # Correct amount of images\n",
    "\n",
    "    array = np.asarray(array)\n",
    "    print(array.shape)\n",
    "    print(array.mean().shape, array.std().shape)\n",
    "    return array.mean(), array.std()\n",
    "\"\"\" \n",
    "stats_file = open(stats_path, 'r')\n",
    "stats_lst = stats_file.read().split('\\n')\n",
    "mean = float(stats_lst[0])\n",
    "std = float(stats_lst[1])\"\"\"\n",
    "mean, std = data_mean_std()\n",
    "\n",
    "print(mean, std)\n"
   ]
  },
  {
   "attachments": {},
   "cell_type": "markdown",
   "metadata": {},
   "source": [
    "Use the pre-computed values (oversampling GAN):"
   ]
  },
  {
   "cell_type": "code",
   "execution_count": 5,
   "metadata": {},
   "outputs": [],
   "source": [
    "mean = 35.80925715423529\n",
    "std = 45.16736479384096"
   ]
  },
  {
   "cell_type": "code",
   "execution_count": 6,
   "metadata": {},
   "outputs": [],
   "source": [
    "def normalize(x):\n",
    "    return (x - mean) / std"
   ]
  },
  {
   "cell_type": "code",
   "execution_count": 7,
   "metadata": {},
   "outputs": [],
   "source": [
    "batch_size = 32 # Batch size\n",
    "\n",
    "train_path = './train_rand_sub_under'\n",
    "test_path = './test'\n",
    "valid_path = './valid'\n",
    "#rescale = 1./255.\n",
    "train_datagen = ImageDataGenerator(preprocessing_function = normalize)\n",
    "test_datagen = ImageDataGenerator(preprocessing_function = normalize)\n",
    "valid_datagen = ImageDataGenerator(preprocessing_function = normalize)"
   ]
  },
  {
   "cell_type": "code",
   "execution_count": 8,
   "metadata": {},
   "outputs": [
    {
     "name": "stdout",
     "output_type": "stream",
     "text": [
      "Found 53930 images belonging to 2 classes.\n"
     ]
    }
   ],
   "source": [
    "train_data = train_datagen.flow_from_directory(\n",
    "        train_path,\n",
    "        color_mode = 'grayscale',\n",
    "        target_size=(192, 160),  # Lo inserisco per precauzione\n",
    "        batch_size=batch_size,\n",
    "        seed=123,\n",
    "        shuffle=True,\n",
    "        class_mode= \"categorical\")"
   ]
  },
  {
   "cell_type": "code",
   "execution_count": 9,
   "metadata": {},
   "outputs": [
    {
     "name": "stdout",
     "output_type": "stream",
     "text": [
      "Found 10748 images belonging to 2 classes.\n"
     ]
    }
   ],
   "source": [
    "validation_data = valid_datagen.flow_from_directory(\n",
    "        valid_path,\n",
    "        color_mode='grayscale',\n",
    "        target_size=(192, 160),  # Lo inserisco per precauzione\n",
    "        batch_size=batch_size,\n",
    "        seed=123,\n",
    "        shuffle=True,\n",
    "        class_mode= \"categorical\")"
   ]
  },
  {
   "cell_type": "code",
   "execution_count": 10,
   "metadata": {},
   "outputs": [
    {
     "name": "stdout",
     "output_type": "stream",
     "text": [
      "Found 4572 images belonging to 2 classes.\n"
     ]
    }
   ],
   "source": [
    "# Test set\n",
    "test_data = test_datagen.flow_from_directory(\n",
    "        test_path,\n",
    "        color_mode='grayscale',\n",
    "        target_size=(192, 160),  # Lo inserisco per precauzione\n",
    "        batch_size=batch_size,\n",
    "        shuffle=False,\n",
    "        class_mode= \"categorical\")"
   ]
  },
  {
   "cell_type": "code",
   "execution_count": 10,
   "metadata": {},
   "outputs": [
    {
     "data": {
      "text/plain": [
       "{'ad': 0, 'nor': 1}"
      ]
     },
     "execution_count": 10,
     "metadata": {},
     "output_type": "execute_result"
    }
   ],
   "source": [
    "train_data.class_indices"
   ]
  },
  {
   "cell_type": "code",
   "execution_count": 12,
   "metadata": {},
   "outputs": [
    {
     "data": {
      "text/plain": [
       "{'ad': 0, 'nor': 1}"
      ]
     },
     "execution_count": 12,
     "metadata": {},
     "output_type": "execute_result"
    }
   ],
   "source": [
    "validation_data.class_indices"
   ]
  },
  {
   "cell_type": "code",
   "execution_count": 14,
   "metadata": {},
   "outputs": [
    {
     "data": {
      "text/plain": [
       "{'ad': 0, 'nor': 1}"
      ]
     },
     "execution_count": 14,
     "metadata": {},
     "output_type": "execute_result"
    }
   ],
   "source": [
    "test_data.class_indices"
   ]
  },
  {
   "cell_type": "code",
   "execution_count": 11,
   "metadata": {},
   "outputs": [
    {
     "name": "stdout",
     "output_type": "stream",
     "text": [
      "0.4105136287780456 0.5894863712219544\n"
     ]
    }
   ],
   "source": [
    "train_ad = len(os.listdir(os.getcwd() + '\\\\train_rand_sub_under\\\\ad'))\n",
    "train_nor = len(os.listdir(os.getcwd() + '\\\\train_rand_sub_under\\\\nor'))\n",
    "train_tot = train_ad + train_nor\n",
    "print(train_ad/train_tot, train_nor/train_tot)"
   ]
  },
  {
   "cell_type": "code",
   "execution_count": 12,
   "metadata": {},
   "outputs": [
    {
     "name": "stdout",
     "output_type": "stream",
     "text": [
      "0.5201224846894138 0.4798775153105862\n"
     ]
    }
   ],
   "source": [
    "test_ad = len(os.listdir(os.getcwd() + '\\\\test\\\\ad'))\n",
    "test_nor = len(os.listdir(os.getcwd() + '\\\\test\\\\nor'))\n",
    "test_tot = test_ad + test_nor\n",
    "print(test_ad/test_tot, test_nor/test_tot)"
   ]
  },
  {
   "cell_type": "code",
   "execution_count": 13,
   "metadata": {},
   "outputs": [
    {
     "name": "stdout",
     "output_type": "stream",
     "text": [
      "0.3731857089691105 0.6268142910308895\n"
     ]
    }
   ],
   "source": [
    "valid_ad = len(os.listdir(os.getcwd() + '\\\\valid\\\\ad'))\n",
    "valid_nor = len(os.listdir(os.getcwd() + '\\\\valid\\\\nor'))\n",
    "valid_tot = valid_ad + valid_nor\n",
    "print(valid_ad/valid_tot, valid_nor/valid_tot)"
   ]
  },
  {
   "attachments": {},
   "cell_type": "markdown",
   "metadata": {},
   "source": [
    "# Model Definition"
   ]
  },
  {
   "attachments": {},
   "cell_type": "markdown",
   "metadata": {},
   "source": [
    "Changing the folder to data path to save weights into"
   ]
  },
  {
   "cell_type": "code",
   "execution_count": 14,
   "metadata": {},
   "outputs": [],
   "source": [
    "os.chdir(Path(str(Path(os.getcwd()).parent.absolute()) + '\\\\scripts\\\\3_Resnet18_first'))"
   ]
  },
  {
   "cell_type": "code",
   "execution_count": 15,
   "metadata": {},
   "outputs": [
    {
     "data": {
      "text/plain": [
       "'d:\\\\Projects\\\\ADNI-brain-MRI-alzheimer-classification-and-GAN-generation\\\\scripts\\\\3_Resnet18_first'"
      ]
     },
     "execution_count": 15,
     "metadata": {},
     "output_type": "execute_result"
    }
   ],
   "source": [
    "os.getcwd()"
   ]
  },
  {
   "cell_type": "code",
   "execution_count": 16,
   "metadata": {},
   "outputs": [],
   "source": [
    "METRICS = [ \n",
    "      keras.metrics.TruePositives(name='tp'),\n",
    "      keras.metrics.FalsePositives(name='fp'),\n",
    "      keras.metrics.TrueNegatives(name='tn'),\n",
    "      keras.metrics.FalseNegatives(name='fn'),\n",
    "      keras.metrics.CategoricalAccuracy(name='accuracy'),\n",
    "      keras.metrics.Precision(name='precision'),\n",
    "      keras.metrics.Recall(name='recall'),\n",
    "      keras.metrics.AUC(name='auc')\n",
    "]"
   ]
  },
  {
   "cell_type": "code",
   "execution_count": 17,
   "metadata": {},
   "outputs": [],
   "source": [
    "early_stopper = keras.callbacks.EarlyStopping(monitor='val_loss', patience=100)"
   ]
  },
  {
   "cell_type": "code",
   "execution_count": 18,
   "metadata": {},
   "outputs": [
    {
     "name": "stdout",
     "output_type": "stream",
     "text": [
      "<class 'keras.engine.keras_tensor.KerasTensor'>\n",
      "model loaded\n",
      "Model: \"model\"\n",
      "__________________________________________________________________________________________________\n",
      " Layer (type)                   Output Shape         Param #     Connected to                     \n",
      "==================================================================================================\n",
      " input_1 (InputLayer)           [(None, 192, 160, 1  0           []                               \n",
      "                                )]                                                                \n",
      "                                                                                                  \n",
      " conv1_pad (ZeroPadding2D)      (None, 198, 166, 1)  0           ['input_1[0][0]']                \n",
      "                                                                                                  \n",
      " conv1 (Conv2D)                 (None, 96, 80, 64)   3200        ['conv1_pad[0][0]']              \n",
      "                                                                                                  \n",
      " bn_conv1 (BatchNormalization)  (None, 96, 80, 64)   256         ['conv1[0][0]']                  \n",
      "                                                                                                  \n",
      " leaky_re_lu (LeakyReLU)        (None, 96, 80, 64)   0           ['bn_conv1[0][0]']               \n",
      "                                                                                                  \n",
      " max_pooling2d (MaxPooling2D)   (None, 47, 39, 64)   0           ['leaky_re_lu[0][0]']            \n",
      "                                                                                                  \n",
      " res2a_branch2a (Conv2D)        (None, 47, 39, 64)   36928       ['max_pooling2d[0][0]']          \n",
      "                                                                                                  \n",
      " bn2a_branch2a (BatchNormalizat  (None, 47, 39, 64)  256         ['res2a_branch2a[0][0]']         \n",
      " ion)                                                                                             \n",
      "                                                                                                  \n",
      " leaky_re_lu_1 (LeakyReLU)      (None, 47, 39, 64)   0           ['bn2a_branch2a[0][0]']          \n",
      "                                                                                                  \n",
      " res2a_branch2b (Conv2D)        (None, 47, 39, 64)   36928       ['leaky_re_lu_1[0][0]']          \n",
      "                                                                                                  \n",
      " res2a_branch1 (Conv2D)         (None, 47, 39, 64)   4160        ['max_pooling2d[0][0]']          \n",
      "                                                                                                  \n",
      " bn2a_branch2b (BatchNormalizat  (None, 47, 39, 64)  256         ['res2a_branch2b[0][0]']         \n",
      " ion)                                                                                             \n",
      "                                                                                                  \n",
      " bn2a_branch1 (BatchNormalizati  (None, 47, 39, 64)  256         ['res2a_branch1[0][0]']          \n",
      " on)                                                                                              \n",
      "                                                                                                  \n",
      " add (Add)                      (None, 47, 39, 64)   0           ['bn2a_branch2b[0][0]',          \n",
      "                                                                  'bn2a_branch1[0][0]']           \n",
      "                                                                                                  \n",
      " leaky_re_lu_2 (LeakyReLU)      (None, 47, 39, 64)   0           ['add[0][0]']                    \n",
      "                                                                                                  \n",
      " res2b_branch2a (Conv2D)        (None, 47, 39, 64)   36928       ['leaky_re_lu_2[0][0]']          \n",
      "                                                                                                  \n",
      " bn2b_branch2a (BatchNormalizat  (None, 47, 39, 64)  256         ['res2b_branch2a[0][0]']         \n",
      " ion)                                                                                             \n",
      "                                                                                                  \n",
      " leaky_re_lu_3 (LeakyReLU)      (None, 47, 39, 64)   0           ['bn2b_branch2a[0][0]']          \n",
      "                                                                                                  \n",
      " res2b_branch2b (Conv2D)        (None, 47, 39, 64)   36928       ['leaky_re_lu_3[0][0]']          \n",
      "                                                                                                  \n",
      " bn2b_branch2b (BatchNormalizat  (None, 47, 39, 64)  256         ['res2b_branch2b[0][0]']         \n",
      " ion)                                                                                             \n",
      "                                                                                                  \n",
      " add_1 (Add)                    (None, 47, 39, 64)   0           ['bn2b_branch2b[0][0]',          \n",
      "                                                                  'leaky_re_lu_2[0][0]']          \n",
      "                                                                                                  \n",
      " leaky_re_lu_4 (LeakyReLU)      (None, 47, 39, 64)   0           ['add_1[0][0]']                  \n",
      "                                                                                                  \n",
      " res3a_branch2a (Conv2D)        (None, 24, 20, 128)  73856       ['leaky_re_lu_4[0][0]']          \n",
      "                                                                                                  \n",
      " bn3a_branch2a (BatchNormalizat  (None, 24, 20, 128)  512        ['res3a_branch2a[0][0]']         \n",
      " ion)                                                                                             \n",
      "                                                                                                  \n",
      " leaky_re_lu_5 (LeakyReLU)      (None, 24, 20, 128)  0           ['bn3a_branch2a[0][0]']          \n",
      "                                                                                                  \n",
      " res3a_branch2b (Conv2D)        (None, 24, 20, 128)  147584      ['leaky_re_lu_5[0][0]']          \n",
      "                                                                                                  \n",
      " res3a_branch1 (Conv2D)         (None, 24, 20, 128)  8320        ['leaky_re_lu_4[0][0]']          \n",
      "                                                                                                  \n",
      " bn3a_branch2b (BatchNormalizat  (None, 24, 20, 128)  512        ['res3a_branch2b[0][0]']         \n",
      " ion)                                                                                             \n",
      "                                                                                                  \n",
      " bn3a_branch1 (BatchNormalizati  (None, 24, 20, 128)  512        ['res3a_branch1[0][0]']          \n",
      " on)                                                                                              \n",
      "                                                                                                  \n",
      " add_2 (Add)                    (None, 24, 20, 128)  0           ['bn3a_branch2b[0][0]',          \n",
      "                                                                  'bn3a_branch1[0][0]']           \n",
      "                                                                                                  \n",
      " leaky_re_lu_6 (LeakyReLU)      (None, 24, 20, 128)  0           ['add_2[0][0]']                  \n",
      "                                                                                                  \n",
      " res3b_branch2a (Conv2D)        (None, 24, 20, 128)  147584      ['leaky_re_lu_6[0][0]']          \n",
      "                                                                                                  \n",
      " bn3b_branch2a (BatchNormalizat  (None, 24, 20, 128)  512        ['res3b_branch2a[0][0]']         \n",
      " ion)                                                                                             \n",
      "                                                                                                  \n",
      " leaky_re_lu_7 (LeakyReLU)      (None, 24, 20, 128)  0           ['bn3b_branch2a[0][0]']          \n",
      "                                                                                                  \n",
      " res3b_branch2b (Conv2D)        (None, 24, 20, 128)  147584      ['leaky_re_lu_7[0][0]']          \n",
      "                                                                                                  \n",
      " bn3b_branch2b (BatchNormalizat  (None, 24, 20, 128)  512        ['res3b_branch2b[0][0]']         \n",
      " ion)                                                                                             \n",
      "                                                                                                  \n",
      " add_3 (Add)                    (None, 24, 20, 128)  0           ['bn3b_branch2b[0][0]',          \n",
      "                                                                  'leaky_re_lu_6[0][0]']          \n",
      "                                                                                                  \n",
      " leaky_re_lu_8 (LeakyReLU)      (None, 24, 20, 128)  0           ['add_3[0][0]']                  \n",
      "                                                                                                  \n",
      " res4a_branch2a (Conv2D)        (None, 12, 10, 256)  295168      ['leaky_re_lu_8[0][0]']          \n",
      "                                                                                                  \n",
      " bn4a_branch2a (BatchNormalizat  (None, 12, 10, 256)  1024       ['res4a_branch2a[0][0]']         \n",
      " ion)                                                                                             \n",
      "                                                                                                  \n",
      " leaky_re_lu_9 (LeakyReLU)      (None, 12, 10, 256)  0           ['bn4a_branch2a[0][0]']          \n",
      "                                                                                                  \n",
      " res4a_branch2b (Conv2D)        (None, 12, 10, 256)  590080      ['leaky_re_lu_9[0][0]']          \n",
      "                                                                                                  \n",
      " res4a_branch1 (Conv2D)         (None, 12, 10, 256)  33024       ['leaky_re_lu_8[0][0]']          \n",
      "                                                                                                  \n",
      " bn4a_branch2b (BatchNormalizat  (None, 12, 10, 256)  1024       ['res4a_branch2b[0][0]']         \n",
      " ion)                                                                                             \n",
      "                                                                                                  \n",
      " bn4a_branch1 (BatchNormalizati  (None, 12, 10, 256)  1024       ['res4a_branch1[0][0]']          \n",
      " on)                                                                                              \n",
      "                                                                                                  \n",
      " add_4 (Add)                    (None, 12, 10, 256)  0           ['bn4a_branch2b[0][0]',          \n",
      "                                                                  'bn4a_branch1[0][0]']           \n",
      "                                                                                                  \n",
      " leaky_re_lu_10 (LeakyReLU)     (None, 12, 10, 256)  0           ['add_4[0][0]']                  \n",
      "                                                                                                  \n",
      " res4b_branch2a (Conv2D)        (None, 12, 10, 256)  590080      ['leaky_re_lu_10[0][0]']         \n",
      "                                                                                                  \n",
      " bn4b_branch2a (BatchNormalizat  (None, 12, 10, 256)  1024       ['res4b_branch2a[0][0]']         \n",
      " ion)                                                                                             \n",
      "                                                                                                  \n",
      " leaky_re_lu_11 (LeakyReLU)     (None, 12, 10, 256)  0           ['bn4b_branch2a[0][0]']          \n",
      "                                                                                                  \n",
      " res4b_branch2b (Conv2D)        (None, 12, 10, 256)  590080      ['leaky_re_lu_11[0][0]']         \n",
      "                                                                                                  \n",
      " bn4b_branch2b (BatchNormalizat  (None, 12, 10, 256)  1024       ['res4b_branch2b[0][0]']         \n",
      " ion)                                                                                             \n",
      "                                                                                                  \n",
      " add_5 (Add)                    (None, 12, 10, 256)  0           ['bn4b_branch2b[0][0]',          \n",
      "                                                                  'leaky_re_lu_10[0][0]']         \n",
      "                                                                                                  \n",
      " leaky_re_lu_12 (LeakyReLU)     (None, 12, 10, 256)  0           ['add_5[0][0]']                  \n",
      "                                                                                                  \n",
      " res5a_branch2a (Conv2D)        (None, 6, 5, 512)    1180160     ['leaky_re_lu_12[0][0]']         \n",
      "                                                                                                  \n",
      " bn5a_branch2a (BatchNormalizat  (None, 6, 5, 512)   2048        ['res5a_branch2a[0][0]']         \n",
      " ion)                                                                                             \n",
      "                                                                                                  \n",
      " leaky_re_lu_13 (LeakyReLU)     (None, 6, 5, 512)    0           ['bn5a_branch2a[0][0]']          \n",
      "                                                                                                  \n",
      " res5a_branch2b (Conv2D)        (None, 6, 5, 512)    2359808     ['leaky_re_lu_13[0][0]']         \n",
      "                                                                                                  \n",
      " res5a_branch1 (Conv2D)         (None, 6, 5, 512)    131584      ['leaky_re_lu_12[0][0]']         \n",
      "                                                                                                  \n",
      " bn5a_branch2b (BatchNormalizat  (None, 6, 5, 512)   2048        ['res5a_branch2b[0][0]']         \n",
      " ion)                                                                                             \n",
      "                                                                                                  \n",
      " bn5a_branch1 (BatchNormalizati  (None, 6, 5, 512)   2048        ['res5a_branch1[0][0]']          \n",
      " on)                                                                                              \n",
      "                                                                                                  \n",
      " add_6 (Add)                    (None, 6, 5, 512)    0           ['bn5a_branch2b[0][0]',          \n",
      "                                                                  'bn5a_branch1[0][0]']           \n",
      "                                                                                                  \n",
      " leaky_re_lu_14 (LeakyReLU)     (None, 6, 5, 512)    0           ['add_6[0][0]']                  \n",
      "                                                                                                  \n",
      " res5b_branch2a (Conv2D)        (None, 6, 5, 512)    2359808     ['leaky_re_lu_14[0][0]']         \n",
      "                                                                                                  \n",
      " bn5b_branch2a (BatchNormalizat  (None, 6, 5, 512)   2048        ['res5b_branch2a[0][0]']         \n",
      " ion)                                                                                             \n",
      "                                                                                                  \n",
      " leaky_re_lu_15 (LeakyReLU)     (None, 6, 5, 512)    0           ['bn5b_branch2a[0][0]']          \n",
      "                                                                                                  \n",
      " res5b_branch2b (Conv2D)        (None, 6, 5, 512)    2359808     ['leaky_re_lu_15[0][0]']         \n",
      "                                                                                                  \n",
      " bn5b_branch2b (BatchNormalizat  (None, 6, 5, 512)   2048        ['res5b_branch2b[0][0]']         \n",
      " ion)                                                                                             \n",
      "                                                                                                  \n",
      " add_7 (Add)                    (None, 6, 5, 512)    0           ['bn5b_branch2b[0][0]',          \n",
      "                                                                  'leaky_re_lu_14[0][0]']         \n",
      "                                                                                                  \n",
      " leaky_re_lu_16 (LeakyReLU)     (None, 6, 5, 512)    0           ['add_7[0][0]']                  \n",
      "                                                                                                  \n",
      " avg_pool (AveragePooling2D)    (None, 1, 1, 512)    0           ['leaky_re_lu_16[0][0]']         \n",
      "                                                                                                  \n",
      " flatten (Flatten)              (None, 512)          0           ['avg_pool[0][0]']               \n",
      "                                                                                                  \n",
      " dense (Dense)                  (None, 2)            1026        ['flatten[0][0]']                \n",
      "                                                                                                  \n",
      "==================================================================================================\n",
      "Total params: 11,190,082\n",
      "Trainable params: 11,180,354\n",
      "Non-trainable params: 9,728\n",
      "__________________________________________________________________________________________________\n"
     ]
    }
   ],
   "source": [
    "tb = TensorBoard(log_dir =os.getcwd() + '\\\\no_balance_binary\\\\logs_no_balance_binary', write_graph = True)\n",
    "\n",
    "lr_reducer = ReduceLROnPlateau(monitor='loss', factor=np.sqrt(0.1), patience=10, cooldown=0, min_lr=1e-5)\n",
    "\n",
    "model_chkp = ModelCheckpoint(filepath=os.getcwd() + '\\\\no_balance_binary\\\\best_model_no_balance_binary',\n",
    "                            # monitor='val_quadratic_kappa_score',\n",
    "                            monitor='val_accuracy',\n",
    "                            save_best_only=True, save_weights_only=True, mode='max')\n",
    "\n",
    "#resnet = ResNet18()\n",
    "#resnet = ResNet18(classes=3, input_shape=(160, 192))\n",
    "resnet = ResNet18(classes=2)\n",
    "\n",
    "\n",
    "#model = keras.applications.resnet50.ResNet50(include_top=True, weights='imagenet', input_tensor=None, input_shape=None, pooling=None, classes=1000)\n",
    "#model.summary()\n",
    "\n",
    "#resnet.layers.pop()\n",
    "#for layer in resnet.layers:\n",
    "#    layer.trainable = False\n",
    "\n",
    "x = resnet.layers[-1].output\n",
    "\n",
    "# x = Dropout(0.25)(x)\n",
    "\n",
    "x = Dense(2, activation = 'softmax')(x)\n",
    "\n",
    "\n",
    "ft_resnet = Model(resnet.input, x)\n",
    "optimizer = Adam(learning_rate = 0.001)\n",
    "ft_resnet.compile(optimizer = optimizer, loss = 'categorical_crossentropy', metrics = METRICS)\n",
    "\n",
    "print(\"model loaded\")\n",
    "\n",
    "ft_resnet.summary()"
   ]
  },
  {
   "attachments": {},
   "cell_type": "markdown",
   "metadata": {},
   "source": [
    "Changing back the folder to data path"
   ]
  },
  {
   "cell_type": "code",
   "execution_count": 19,
   "metadata": {},
   "outputs": [
    {
     "data": {
      "text/plain": [
       "'d:\\\\Projects\\\\ADNI-brain-MRI-alzheimer-classification-and-GAN-generation\\\\adni-images-Full-resized160x192-binary'"
      ]
     },
     "execution_count": 19,
     "metadata": {},
     "output_type": "execute_result"
    }
   ],
   "source": [
    "os.chdir(Path(str(Path(os.getcwd()).parent.absolute().parent.absolute()) + '\\\\adni-images-Full-resized160x192-binary'))\n",
    "os.getcwd()"
   ]
  },
  {
   "cell_type": "code",
   "execution_count": 20,
   "metadata": {},
   "outputs": [
    {
     "name": "stdout",
     "output_type": "stream",
     "text": [
      "53930 10748\n",
      "1686.0 336.0\n",
      "Epoch 1/20\n",
      "1686/1686 [==============================] - 104s 58ms/step - loss: 0.5246 - tp: 39653.0000 - fp: 14277.0000 - tn: 39653.0000 - fn: 14277.0000 - accuracy: 0.7353 - precision: 0.7353 - recall: 0.7353 - auc: 0.8184 - val_loss: 1.1215 - val_tp: 5727.0000 - val_fp: 5021.0000 - val_tn: 5727.0000 - val_fn: 5021.0000 - val_accuracy: 0.5328 - val_precision: 0.5328 - val_recall: 0.5328 - val_auc: 0.5803 - lr: 0.0010\n",
      "Epoch 2/20\n",
      "1686/1686 [==============================] - 97s 57ms/step - loss: 0.2767 - tp: 47455.0000 - fp: 6475.0000 - tn: 47455.0000 - fn: 6475.0000 - accuracy: 0.8799 - precision: 0.8799 - recall: 0.8799 - auc: 0.9532 - val_loss: 2.2793 - val_tp: 5046.0000 - val_fp: 5702.0000 - val_tn: 5046.0000 - val_fn: 5702.0000 - val_accuracy: 0.4695 - val_precision: 0.4695 - val_recall: 0.4695 - val_auc: 0.4988 - lr: 0.0010\n",
      "Epoch 3/20\n",
      "1686/1686 [==============================] - 98s 58ms/step - loss: 0.1549 - tp: 50630.0000 - fp: 3300.0000 - tn: 50630.0000 - fn: 3300.0000 - accuracy: 0.9388 - precision: 0.9388 - recall: 0.9388 - auc: 0.9851 - val_loss: 1.3028 - val_tp: 6951.0000 - val_fp: 3797.0000 - val_tn: 6951.0000 - val_fn: 3797.0000 - val_accuracy: 0.6467 - val_precision: 0.6467 - val_recall: 0.6467 - val_auc: 0.6979 - lr: 0.0010\n",
      "Epoch 4/20\n",
      "1686/1686 [==============================] - 97s 58ms/step - loss: 0.0978 - tp: 51852.0000 - fp: 2078.0000 - tn: 51852.0000 - fn: 2078.0000 - accuracy: 0.9615 - precision: 0.9615 - recall: 0.9615 - auc: 0.9938 - val_loss: 1.8165 - val_tp: 6379.0000 - val_fp: 4369.0000 - val_tn: 6379.0000 - val_fn: 4369.0000 - val_accuracy: 0.5935 - val_precision: 0.5935 - val_recall: 0.5935 - val_auc: 0.6332 - lr: 0.0010\n",
      "Epoch 5/20\n",
      "1686/1686 [==============================] - 97s 58ms/step - loss: 0.0700 - tp: 52499.0000 - fp: 1431.0000 - tn: 52499.0000 - fn: 1431.0000 - accuracy: 0.9735 - precision: 0.9735 - recall: 0.9735 - auc: 0.9966 - val_loss: 2.6344 - val_tp: 6004.0000 - val_fp: 4744.0000 - val_tn: 6004.0000 - val_fn: 4744.0000 - val_accuracy: 0.5586 - val_precision: 0.5586 - val_recall: 0.5586 - val_auc: 0.5862 - lr: 0.0010\n",
      "Epoch 6/20\n",
      "1686/1686 [==============================] - 98s 58ms/step - loss: 0.0551 - tp: 52820.0000 - fp: 1110.0000 - tn: 52820.0000 - fn: 1110.0000 - accuracy: 0.9794 - precision: 0.9794 - recall: 0.9794 - auc: 0.9977 - val_loss: 4.4328 - val_tp: 4709.0000 - val_fp: 6039.0000 - val_tn: 4709.0000 - val_fn: 6039.0000 - val_accuracy: 0.4381 - val_precision: 0.4381 - val_recall: 0.4381 - val_auc: 0.4487 - lr: 0.0010\n",
      "Epoch 7/20\n",
      "1686/1686 [==============================] - 98s 58ms/step - loss: 0.0437 - tp: 53064.0000 - fp: 866.0000 - tn: 53064.0000 - fn: 866.0000 - accuracy: 0.9839 - precision: 0.9839 - recall: 0.9839 - auc: 0.9984 - val_loss: 1.9803 - val_tp: 6806.0000 - val_fp: 3942.0000 - val_tn: 6806.0000 - val_fn: 3942.0000 - val_accuracy: 0.6332 - val_precision: 0.6332 - val_recall: 0.6332 - val_auc: 0.6750 - lr: 0.0010\n",
      "Epoch 8/20\n",
      "1686/1686 [==============================] - 98s 58ms/step - loss: 0.0369 - tp: 53187.0000 - fp: 743.0000 - tn: 53187.0000 - fn: 743.0000 - accuracy: 0.9862 - precision: 0.9862 - recall: 0.9862 - auc: 0.9988 - val_loss: 3.8854 - val_tp: 5488.0000 - val_fp: 5260.0000 - val_tn: 5488.0000 - val_fn: 5260.0000 - val_accuracy: 0.5106 - val_precision: 0.5106 - val_recall: 0.5106 - val_auc: 0.5241 - lr: 0.0010\n",
      "Epoch 9/20\n",
      "1686/1686 [==============================] - 98s 58ms/step - loss: 0.0307 - tp: 53352.0000 - fp: 578.0000 - tn: 53352.0000 - fn: 578.0000 - accuracy: 0.9893 - precision: 0.9893 - recall: 0.9893 - auc: 0.9990 - val_loss: 2.1146 - val_tp: 6647.0000 - val_fp: 4101.0000 - val_tn: 6647.0000 - val_fn: 4101.0000 - val_accuracy: 0.6184 - val_precision: 0.6184 - val_recall: 0.6184 - val_auc: 0.6604 - lr: 0.0010\n",
      "Epoch 10/20\n",
      "1686/1686 [==============================] - 101s 60ms/step - loss: 0.0280 - tp: 53391.0000 - fp: 539.0000 - tn: 53391.0000 - fn: 539.0000 - accuracy: 0.9900 - precision: 0.9900 - recall: 0.9900 - auc: 0.9992 - val_loss: 2.9741 - val_tp: 5930.0000 - val_fp: 4818.0000 - val_tn: 5930.0000 - val_fn: 4818.0000 - val_accuracy: 0.5517 - val_precision: 0.5517 - val_recall: 0.5517 - val_auc: 0.5792 - lr: 0.0010\n",
      "Epoch 11/20\n",
      "1686/1686 [==============================] - 100s 59ms/step - loss: 0.0231 - tp: 53479.0000 - fp: 451.0000 - tn: 53479.0000 - fn: 451.0000 - accuracy: 0.9916 - precision: 0.9916 - recall: 0.9916 - auc: 0.9995 - val_loss: 2.2482 - val_tp: 7113.0000 - val_fp: 3635.0000 - val_tn: 7113.0000 - val_fn: 3635.0000 - val_accuracy: 0.6618 - val_precision: 0.6618 - val_recall: 0.6618 - val_auc: 0.7062 - lr: 0.0010\n",
      "Epoch 12/20\n",
      "1686/1686 [==============================] - 101s 60ms/step - loss: 0.0215 - tp: 53499.0000 - fp: 431.0000 - tn: 53499.0000 - fn: 431.0000 - accuracy: 0.9920 - precision: 0.9920 - recall: 0.9920 - auc: 0.9996 - val_loss: 2.0383 - val_tp: 7111.0000 - val_fp: 3637.0000 - val_tn: 7111.0000 - val_fn: 3637.0000 - val_accuracy: 0.6616 - val_precision: 0.6616 - val_recall: 0.6616 - val_auc: 0.7139 - lr: 0.0010\n",
      "Epoch 13/20\n",
      "1686/1686 [==============================] - 102s 60ms/step - loss: 0.0188 - tp: 53574.0000 - fp: 356.0000 - tn: 53574.0000 - fn: 356.0000 - accuracy: 0.9934 - precision: 0.9934 - recall: 0.9934 - auc: 0.9996 - val_loss: 2.4439 - val_tp: 6545.0000 - val_fp: 4203.0000 - val_tn: 6545.0000 - val_fn: 4203.0000 - val_accuracy: 0.6090 - val_precision: 0.6090 - val_recall: 0.6090 - val_auc: 0.6477 - lr: 0.0010\n",
      "Epoch 14/20\n",
      "1686/1686 [==============================] - 101s 60ms/step - loss: 0.0163 - tp: 53635.0000 - fp: 295.0000 - tn: 53635.0000 - fn: 295.0000 - accuracy: 0.9945 - precision: 0.9945 - recall: 0.9945 - auc: 0.9996 - val_loss: 3.0485 - val_tp: 6673.0000 - val_fp: 4075.0000 - val_tn: 6673.0000 - val_fn: 4075.0000 - val_accuracy: 0.6209 - val_precision: 0.6209 - val_recall: 0.6209 - val_auc: 0.6492 - lr: 0.0010\n",
      "Epoch 15/20\n",
      "1686/1686 [==============================] - 102s 60ms/step - loss: 0.0171 - tp: 53604.0000 - fp: 326.0000 - tn: 53604.0000 - fn: 326.0000 - accuracy: 0.9940 - precision: 0.9940 - recall: 0.9940 - auc: 0.9996 - val_loss: 2.3561 - val_tp: 6277.0000 - val_fp: 4471.0000 - val_tn: 6277.0000 - val_fn: 4471.0000 - val_accuracy: 0.5840 - val_precision: 0.5840 - val_recall: 0.5840 - val_auc: 0.6188 - lr: 0.0010\n",
      "Epoch 16/20\n",
      "1686/1686 [==============================] - 101s 60ms/step - loss: 0.0140 - tp: 53680.0000 - fp: 250.0000 - tn: 53680.0000 - fn: 250.0000 - accuracy: 0.9954 - precision: 0.9954 - recall: 0.9954 - auc: 0.9997 - val_loss: 2.9257 - val_tp: 6548.0000 - val_fp: 4200.0000 - val_tn: 6548.0000 - val_fn: 4200.0000 - val_accuracy: 0.6092 - val_precision: 0.6092 - val_recall: 0.6092 - val_auc: 0.6331 - lr: 0.0010\n",
      "Epoch 17/20\n",
      "1686/1686 [==============================] - 101s 60ms/step - loss: 0.0116 - tp: 53729.0000 - fp: 201.0000 - tn: 53729.0000 - fn: 201.0000 - accuracy: 0.9963 - precision: 0.9963 - recall: 0.9963 - auc: 0.9997 - val_loss: 3.5073 - val_tp: 6092.0000 - val_fp: 4656.0000 - val_tn: 6092.0000 - val_fn: 4656.0000 - val_accuracy: 0.5668 - val_precision: 0.5668 - val_recall: 0.5668 - val_auc: 0.5874 - lr: 0.0010\n",
      "Epoch 18/20\n",
      "1686/1686 [==============================] - 102s 60ms/step - loss: 0.0138 - tp: 53672.0000 - fp: 258.0000 - tn: 53672.0000 - fn: 258.0000 - accuracy: 0.9952 - precision: 0.9952 - recall: 0.9952 - auc: 0.9997 - val_loss: 2.7891 - val_tp: 7057.0000 - val_fp: 3691.0000 - val_tn: 7057.0000 - val_fn: 3691.0000 - val_accuracy: 0.6566 - val_precision: 0.6566 - val_recall: 0.6566 - val_auc: 0.6938 - lr: 0.0010\n",
      "Epoch 19/20\n",
      "1686/1686 [==============================] - 102s 61ms/step - loss: 0.0125 - tp: 53698.0000 - fp: 232.0000 - tn: 53698.0000 - fn: 232.0000 - accuracy: 0.9957 - precision: 0.9957 - recall: 0.9957 - auc: 0.9997 - val_loss: 2.7136 - val_tp: 6412.0000 - val_fp: 4336.0000 - val_tn: 6412.0000 - val_fn: 4336.0000 - val_accuracy: 0.5966 - val_precision: 0.5966 - val_recall: 0.5966 - val_auc: 0.6328 - lr: 0.0010\n",
      "Epoch 20/20\n",
      "1686/1686 [==============================] - 101s 60ms/step - loss: 0.0132 - tp: 53701.0000 - fp: 229.0000 - tn: 53701.0000 - fn: 229.0000 - accuracy: 0.9958 - precision: 0.9958 - recall: 0.9958 - auc: 0.9996 - val_loss: 2.5113 - val_tp: 6935.0000 - val_fp: 3813.0000 - val_tn: 6935.0000 - val_fn: 3813.0000 - val_accuracy: 0.6452 - val_precision: 0.6452 - val_recall: 0.6452 - val_auc: 0.6840 - lr: 0.0010\n"
     ]
    }
   ],
   "source": [
    "version = \"v1\"\n",
    "epochs = 20\n",
    "\n",
    "print(train_tot, valid_tot)\n",
    "\n",
    "train_steps = np.ceil(train_tot/batch_size)\n",
    "valid_steps = np.ceil(valid_tot/batch_size)\n",
    "\n",
    "print (train_steps, valid_steps)\n",
    "\n",
    "#fit_generator\n",
    "\n",
    "history_dcnn = ft_resnet.fit(train_data, \n",
    "                             steps_per_epoch=train_steps,\n",
    "                             epochs=epochs,\n",
    "                             workers = 4,\n",
    "                             callbacks = [tb, model_chkp, lr_reducer, early_stopper],\n",
    "                             validation_data = validation_data, \n",
    "                             validation_steps = valid_steps)\n"
   ]
  },
  {
   "cell_type": "code",
   "execution_count": 21,
   "metadata": {},
   "outputs": [],
   "source": [
    "arch_name = 'bs_{}'.format(batch_size)\n",
    "\n",
    "continue_model_path = '..\\\\models\\\\best_model_no_balance_binary\\\\' + '{}_{}_{}_eps.h5'.format(version, arch_name, epochs)\n",
    "ft_resnet.save(continue_model_path)\n",
    "np.save(f'..\\\\models\\\\best_model_no_balance_binary\\\\{version}_{arch_name}_{epochs}_eps.npy',\n",
    "        history_dcnn.history)"
   ]
  },
  {
   "cell_type": "code",
   "execution_count": 22,
   "metadata": {},
   "outputs": [],
   "source": [
    "import pickle \n",
    "ft_resnet.save_weights('..\\\\models\\\\best_model_no_balance_binary\\\\' + '{}_{}_{}_eps_wheights_only.h5'.format(version, arch_name, epochs))\n",
    "symbolic_weights = getattr(ft_resnet.optimizer, 'weights')\n",
    "weight_values = K.batch_get_value(symbolic_weights)\n",
    "with open('..\\\\models\\\\best_model_no_balance_binary\\\\' + '{}_{}_{}_eps_optimizer.pkl'.format(version, arch_name, epochs), 'wb') as f:\n",
    "    pickle.dump(weight_values, f)"
   ]
  },
  {
   "cell_type": "code",
   "execution_count": 23,
   "metadata": {},
   "outputs": [
    {
     "data": {
      "text/plain": [
       "<matplotlib.legend.Legend at 0x1cef6be1be0>"
      ]
     },
     "execution_count": 23,
     "metadata": {},
     "output_type": "execute_result"
    },
    {
     "data": {
      "image/png": "[encoded data removed]",
      "text/plain": [
       "<Figure size 640x480 with 2 Axes>"
      ]
     },
     "metadata": {},
     "output_type": "display_data"
    }
   ],
   "source": [
    "# Visualization of the learning curves\n",
    "\n",
    "# Loss\n",
    "plt.subplot(1, 2, 1)\n",
    "plt.plot(history_dcnn.history['loss'])\n",
    "plt.plot(history_dcnn.history['val_loss'])\n",
    "plt.xlabel('Epoch')\n",
    "plt.ylabel('Loss')\n",
    "plt.legend(['train', 'validation'])\n",
    "\n",
    "# Accuracy\n",
    "plt.subplot(1, 2, 2)\n",
    "plt.plot(history_dcnn.history['accuracy'])\n",
    "plt.plot(history_dcnn.history['val_accuracy'])\n",
    "plt.xlabel('Epoch')\n",
    "plt.ylabel('Accuracy')\n",
    "plt.legend(['train', 'validation'])"
   ]
  },
  {
   "attachments": {},
   "cell_type": "markdown",
   "metadata": {},
   "source": [
    "# Continue training"
   ]
  },
  {
   "cell_type": "code",
   "execution_count": 24,
   "metadata": {},
   "outputs": [],
   "source": [
    "os.chdir(Path(str(Path(os.getcwd()).parent.absolute()) + '\\\\scripts\\\\3_Resnet18_first'))"
   ]
  },
  {
   "cell_type": "code",
   "execution_count": 25,
   "metadata": {},
   "outputs": [
    {
     "data": {
      "text/plain": [
       "'d:\\\\Projects\\\\ADNI-brain-MRI-alzheimer-classification-and-GAN-generation\\\\scripts\\\\3_Resnet18_first'"
      ]
     },
     "execution_count": 25,
     "metadata": {},
     "output_type": "execute_result"
    }
   ],
   "source": [
    "os.getcwd()"
   ]
  },
  {
   "cell_type": "code",
   "execution_count": 26,
   "metadata": {},
   "outputs": [],
   "source": [
    "METRICS = [ \n",
    "      keras.metrics.CategoricalAccuracy(name='accuracy'),\n",
    "      keras.metrics.Precision(name='precision'),\n",
    "      keras.metrics.Recall(name='recall'),\n",
    "      keras.metrics.AUC(name='auc'),\n",
    "      keras.metrics.TopKCategoricalAccuracy(name='top 2 accuracy', k=2),\n",
    "      keras.metrics.TopKCategoricalAccuracy(name='top 3 accuracy', k=3),\n",
    "      keras.metrics.TopKCategoricalAccuracy(name='top 5 accuracy', k=5)\n",
    "]"
   ]
  },
  {
   "cell_type": "code",
   "execution_count": 27,
   "metadata": {},
   "outputs": [],
   "source": [
    "early_stopper = keras.callbacks.EarlyStopping(monitor='val_loss', patience=100)"
   ]
  },
  {
   "cell_type": "code",
   "execution_count": 31,
   "metadata": {},
   "outputs": [
    {
     "name": "stdout",
     "output_type": "stream",
     "text": [
      "<class 'keras.engine.keras_tensor.KerasTensor'>\n",
      "model loaded\n",
      "Model: \"model_2\"\n",
      "__________________________________________________________________________________________________\n",
      " Layer (type)                   Output Shape         Param #     Connected to                     \n",
      "==================================================================================================\n",
      " input_3 (InputLayer)           [(None, 192, 160, 1  0           []                               \n",
      "                                )]                                                                \n",
      "                                                                                                  \n",
      " conv1_pad (ZeroPadding2D)      (None, 198, 166, 1)  0           ['input_3[0][0]']                \n",
      "                                                                                                  \n",
      " conv1 (Conv2D)                 (None, 96, 80, 64)   3200        ['conv1_pad[0][0]']              \n",
      "                                                                                                  \n",
      " bn_conv1 (BatchNormalization)  (None, 96, 80, 64)   256         ['conv1[0][0]']                  \n",
      "                                                                                                  \n",
      " leaky_re_lu_34 (LeakyReLU)     (None, 96, 80, 64)   0           ['bn_conv1[0][0]']               \n",
      "                                                                                                  \n",
      " max_pooling2d_2 (MaxPooling2D)  (None, 47, 39, 64)  0           ['leaky_re_lu_34[0][0]']         \n",
      "                                                                                                  \n",
      " res2a_branch2a (Conv2D)        (None, 47, 39, 64)   36928       ['max_pooling2d_2[0][0]']        \n",
      "                                                                                                  \n",
      " bn2a_branch2a (BatchNormalizat  (None, 47, 39, 64)  256         ['res2a_branch2a[0][0]']         \n",
      " ion)                                                                                             \n",
      "                                                                                                  \n",
      " leaky_re_lu_35 (LeakyReLU)     (None, 47, 39, 64)   0           ['bn2a_branch2a[0][0]']          \n",
      "                                                                                                  \n",
      " res2a_branch2b (Conv2D)        (None, 47, 39, 64)   36928       ['leaky_re_lu_35[0][0]']         \n",
      "                                                                                                  \n",
      " res2a_branch1 (Conv2D)         (None, 47, 39, 64)   4160        ['max_pooling2d_2[0][0]']        \n",
      "                                                                                                  \n",
      " bn2a_branch2b (BatchNormalizat  (None, 47, 39, 64)  256         ['res2a_branch2b[0][0]']         \n",
      " ion)                                                                                             \n",
      "                                                                                                  \n",
      " bn2a_branch1 (BatchNormalizati  (None, 47, 39, 64)  256         ['res2a_branch1[0][0]']          \n",
      " on)                                                                                              \n",
      "                                                                                                  \n",
      " add_16 (Add)                   (None, 47, 39, 64)   0           ['bn2a_branch2b[0][0]',          \n",
      "                                                                  'bn2a_branch1[0][0]']           \n",
      "                                                                                                  \n",
      " leaky_re_lu_36 (LeakyReLU)     (None, 47, 39, 64)   0           ['add_16[0][0]']                 \n",
      "                                                                                                  \n",
      " res2b_branch2a (Conv2D)        (None, 47, 39, 64)   36928       ['leaky_re_lu_36[0][0]']         \n",
      "                                                                                                  \n",
      " bn2b_branch2a (BatchNormalizat  (None, 47, 39, 64)  256         ['res2b_branch2a[0][0]']         \n",
      " ion)                                                                                             \n",
      "                                                                                                  \n",
      " leaky_re_lu_37 (LeakyReLU)     (None, 47, 39, 64)   0           ['bn2b_branch2a[0][0]']          \n",
      "                                                                                                  \n",
      " res2b_branch2b (Conv2D)        (None, 47, 39, 64)   36928       ['leaky_re_lu_37[0][0]']         \n",
      "                                                                                                  \n",
      " bn2b_branch2b (BatchNormalizat  (None, 47, 39, 64)  256         ['res2b_branch2b[0][0]']         \n",
      " ion)                                                                                             \n",
      "                                                                                                  \n",
      " add_17 (Add)                   (None, 47, 39, 64)   0           ['bn2b_branch2b[0][0]',          \n",
      "                                                                  'leaky_re_lu_36[0][0]']         \n",
      "                                                                                                  \n",
      " leaky_re_lu_38 (LeakyReLU)     (None, 47, 39, 64)   0           ['add_17[0][0]']                 \n",
      "                                                                                                  \n",
      " res3a_branch2a (Conv2D)        (None, 24, 20, 128)  73856       ['leaky_re_lu_38[0][0]']         \n",
      "                                                                                                  \n",
      " bn3a_branch2a (BatchNormalizat  (None, 24, 20, 128)  512        ['res3a_branch2a[0][0]']         \n",
      " ion)                                                                                             \n",
      "                                                                                                  \n",
      " leaky_re_lu_39 (LeakyReLU)     (None, 24, 20, 128)  0           ['bn3a_branch2a[0][0]']          \n",
      "                                                                                                  \n",
      " res3a_branch2b (Conv2D)        (None, 24, 20, 128)  147584      ['leaky_re_lu_39[0][0]']         \n",
      "                                                                                                  \n",
      " res3a_branch1 (Conv2D)         (None, 24, 20, 128)  8320        ['leaky_re_lu_38[0][0]']         \n",
      "                                                                                                  \n",
      " bn3a_branch2b (BatchNormalizat  (None, 24, 20, 128)  512        ['res3a_branch2b[0][0]']         \n",
      " ion)                                                                                             \n",
      "                                                                                                  \n",
      " bn3a_branch1 (BatchNormalizati  (None, 24, 20, 128)  512        ['res3a_branch1[0][0]']          \n",
      " on)                                                                                              \n",
      "                                                                                                  \n",
      " add_18 (Add)                   (None, 24, 20, 128)  0           ['bn3a_branch2b[0][0]',          \n",
      "                                                                  'bn3a_branch1[0][0]']           \n",
      "                                                                                                  \n",
      " leaky_re_lu_40 (LeakyReLU)     (None, 24, 20, 128)  0           ['add_18[0][0]']                 \n",
      "                                                                                                  \n",
      " res3b_branch2a (Conv2D)        (None, 24, 20, 128)  147584      ['leaky_re_lu_40[0][0]']         \n",
      "                                                                                                  \n",
      " bn3b_branch2a (BatchNormalizat  (None, 24, 20, 128)  512        ['res3b_branch2a[0][0]']         \n",
      " ion)                                                                                             \n",
      "                                                                                                  \n",
      " leaky_re_lu_41 (LeakyReLU)     (None, 24, 20, 128)  0           ['bn3b_branch2a[0][0]']          \n",
      "                                                                                                  \n",
      " res3b_branch2b (Conv2D)        (None, 24, 20, 128)  147584      ['leaky_re_lu_41[0][0]']         \n",
      "                                                                                                  \n",
      " bn3b_branch2b (BatchNormalizat  (None, 24, 20, 128)  512        ['res3b_branch2b[0][0]']         \n",
      " ion)                                                                                             \n",
      "                                                                                                  \n",
      " add_19 (Add)                   (None, 24, 20, 128)  0           ['bn3b_branch2b[0][0]',          \n",
      "                                                                  'leaky_re_lu_40[0][0]']         \n",
      "                                                                                                  \n",
      " leaky_re_lu_42 (LeakyReLU)     (None, 24, 20, 128)  0           ['add_19[0][0]']                 \n",
      "                                                                                                  \n",
      " res4a_branch2a (Conv2D)        (None, 12, 10, 256)  295168      ['leaky_re_lu_42[0][0]']         \n",
      "                                                                                                  \n",
      " bn4a_branch2a (BatchNormalizat  (None, 12, 10, 256)  1024       ['res4a_branch2a[0][0]']         \n",
      " ion)                                                                                             \n",
      "                                                                                                  \n",
      " leaky_re_lu_43 (LeakyReLU)     (None, 12, 10, 256)  0           ['bn4a_branch2a[0][0]']          \n",
      "                                                                                                  \n",
      " res4a_branch2b (Conv2D)        (None, 12, 10, 256)  590080      ['leaky_re_lu_43[0][0]']         \n",
      "                                                                                                  \n",
      " res4a_branch1 (Conv2D)         (None, 12, 10, 256)  33024       ['leaky_re_lu_42[0][0]']         \n",
      "                                                                                                  \n",
      " bn4a_branch2b (BatchNormalizat  (None, 12, 10, 256)  1024       ['res4a_branch2b[0][0]']         \n",
      " ion)                                                                                             \n",
      "                                                                                                  \n",
      " bn4a_branch1 (BatchNormalizati  (None, 12, 10, 256)  1024       ['res4a_branch1[0][0]']          \n",
      " on)                                                                                              \n",
      "                                                                                                  \n",
      " add_20 (Add)                   (None, 12, 10, 256)  0           ['bn4a_branch2b[0][0]',          \n",
      "                                                                  'bn4a_branch1[0][0]']           \n",
      "                                                                                                  \n",
      " leaky_re_lu_44 (LeakyReLU)     (None, 12, 10, 256)  0           ['add_20[0][0]']                 \n",
      "                                                                                                  \n",
      " res4b_branch2a (Conv2D)        (None, 12, 10, 256)  590080      ['leaky_re_lu_44[0][0]']         \n",
      "                                                                                                  \n",
      " bn4b_branch2a (BatchNormalizat  (None, 12, 10, 256)  1024       ['res4b_branch2a[0][0]']         \n",
      " ion)                                                                                             \n",
      "                                                                                                  \n",
      " leaky_re_lu_45 (LeakyReLU)     (None, 12, 10, 256)  0           ['bn4b_branch2a[0][0]']          \n",
      "                                                                                                  \n",
      " res4b_branch2b (Conv2D)        (None, 12, 10, 256)  590080      ['leaky_re_lu_45[0][0]']         \n",
      "                                                                                                  \n",
      " bn4b_branch2b (BatchNormalizat  (None, 12, 10, 256)  1024       ['res4b_branch2b[0][0]']         \n",
      " ion)                                                                                             \n",
      "                                                                                                  \n",
      " add_21 (Add)                   (None, 12, 10, 256)  0           ['bn4b_branch2b[0][0]',          \n",
      "                                                                  'leaky_re_lu_44[0][0]']         \n",
      "                                                                                                  \n",
      " leaky_re_lu_46 (LeakyReLU)     (None, 12, 10, 256)  0           ['add_21[0][0]']                 \n",
      "                                                                                                  \n",
      " res5a_branch2a (Conv2D)        (None, 6, 5, 512)    1180160     ['leaky_re_lu_46[0][0]']         \n",
      "                                                                                                  \n",
      " bn5a_branch2a (BatchNormalizat  (None, 6, 5, 512)   2048        ['res5a_branch2a[0][0]']         \n",
      " ion)                                                                                             \n",
      "                                                                                                  \n",
      " leaky_re_lu_47 (LeakyReLU)     (None, 6, 5, 512)    0           ['bn5a_branch2a[0][0]']          \n",
      "                                                                                                  \n",
      " res5a_branch2b (Conv2D)        (None, 6, 5, 512)    2359808     ['leaky_re_lu_47[0][0]']         \n",
      "                                                                                                  \n",
      " res5a_branch1 (Conv2D)         (None, 6, 5, 512)    131584      ['leaky_re_lu_46[0][0]']         \n",
      "                                                                                                  \n",
      " bn5a_branch2b (BatchNormalizat  (None, 6, 5, 512)   2048        ['res5a_branch2b[0][0]']         \n",
      " ion)                                                                                             \n",
      "                                                                                                  \n",
      " bn5a_branch1 (BatchNormalizati  (None, 6, 5, 512)   2048        ['res5a_branch1[0][0]']          \n",
      " on)                                                                                              \n",
      "                                                                                                  \n",
      " add_22 (Add)                   (None, 6, 5, 512)    0           ['bn5a_branch2b[0][0]',          \n",
      "                                                                  'bn5a_branch1[0][0]']           \n",
      "                                                                                                  \n",
      " leaky_re_lu_48 (LeakyReLU)     (None, 6, 5, 512)    0           ['add_22[0][0]']                 \n",
      "                                                                                                  \n",
      " res5b_branch2a (Conv2D)        (None, 6, 5, 512)    2359808     ['leaky_re_lu_48[0][0]']         \n",
      "                                                                                                  \n",
      " bn5b_branch2a (BatchNormalizat  (None, 6, 5, 512)   2048        ['res5b_branch2a[0][0]']         \n",
      " ion)                                                                                             \n",
      "                                                                                                  \n",
      " leaky_re_lu_49 (LeakyReLU)     (None, 6, 5, 512)    0           ['bn5b_branch2a[0][0]']          \n",
      "                                                                                                  \n",
      " res5b_branch2b (Conv2D)        (None, 6, 5, 512)    2359808     ['leaky_re_lu_49[0][0]']         \n",
      "                                                                                                  \n",
      " bn5b_branch2b (BatchNormalizat  (None, 6, 5, 512)   2048        ['res5b_branch2b[0][0]']         \n",
      " ion)                                                                                             \n",
      "                                                                                                  \n",
      " add_23 (Add)                   (None, 6, 5, 512)    0           ['bn5b_branch2b[0][0]',          \n",
      "                                                                  'leaky_re_lu_48[0][0]']         \n",
      "                                                                                                  \n",
      " leaky_re_lu_50 (LeakyReLU)     (None, 6, 5, 512)    0           ['add_23[0][0]']                 \n",
      "                                                                                                  \n",
      " avg_pool (AveragePooling2D)    (None, 1, 1, 512)    0           ['leaky_re_lu_50[0][0]']         \n",
      "                                                                                                  \n",
      " flatten_2 (Flatten)            (None, 512)          0           ['avg_pool[0][0]']               \n",
      "                                                                                                  \n",
      " dropout_2 (Dropout)            (None, 512)          0           ['flatten_2[0][0]']              \n",
      "                                                                                                  \n",
      " dense_2 (Dense)                (None, 3)            1539        ['dropout_2[0][0]']              \n",
      "                                                                                                  \n",
      "==================================================================================================\n",
      "Total params: 11,190,595\n",
      "Trainable params: 11,180,867\n",
      "Non-trainable params: 9,728\n",
      "__________________________________________________________________________________________________\n"
     ]
    }
   ],
   "source": [
    "tb = TensorBoard(log_dir =os.getcwd() + '\\\\gan_over\\\\logs_gan_over', write_graph = True)\n",
    "\n",
    "lr_reducer = ReduceLROnPlateau(monitor='loss', factor=np.sqrt(0.1), patience=10, cooldown=0, min_lr=1e-5)\n",
    "\n",
    "model_chkp = ModelCheckpoint(filepath=os.getcwd() + '\\\\gan_over\\\\best_model_gan_over',\n",
    "                            # monitor='val_quadratic_kappa_score',\n",
    "                            monitor='val_accuracy',\n",
    "                            save_best_only=True, save_weights_only=True, mode='max')\n",
    "\n",
    "#resnet = ResNet18()\n",
    "#resnet = ResNet18(classes=3, input_shape=(160, 192))\n",
    "resnet = ResNet18(classes=3)\n",
    "\n",
    "\n",
    "#model = keras.applications.resnet50.ResNet50(include_top=True, weights='imagenet', input_tensor=None, input_shape=None, pooling=None, classes=1000)\n",
    "#model.summary()\n",
    "\n",
    "#resnet.layers.pop()\n",
    "#for layer in resnet.layers:\n",
    "#    layer.trainable = False\n",
    "\n",
    "x = resnet.layers[-1].output\n",
    "\n",
    "x = Dropout(0.25)(x)\n",
    "\n",
    "x = Dense(3, activation = 'softmax')(x)\n",
    "\n",
    "\n",
    "ft_resnet = Model(resnet.input, x)\n",
    "ft_resnet.compile(optimizer = Adam(learning_rate = 0.001), loss = 'categorical_crossentropy', metrics = METRICS)\n",
    "\n",
    "print(\"model loaded\")\n",
    "\n",
    "ft_resnet.summary()"
   ]
  },
  {
   "attachments": {},
   "cell_type": "markdown",
   "metadata": {},
   "source": [
    "Changing back the folder to data path"
   ]
  },
  {
   "cell_type": "code",
   "execution_count": 32,
   "metadata": {},
   "outputs": [
    {
     "data": {
      "text/plain": [
       "'d:\\\\Projects\\\\ADNI-brain-MRI-alzheimer-classification-and-GAN-generation\\\\adni-images-Full-resized160x192'"
      ]
     },
     "execution_count": 32,
     "metadata": {},
     "output_type": "execute_result"
    }
   ],
   "source": [
    "os.chdir(Path(str(Path(os.getcwd()).parent.absolute().parent.absolute()) + '\\\\adni-images-Full-resized160x192'))\n",
    "os.getcwd()"
   ]
  },
  {
   "cell_type": "code",
   "execution_count": 33,
   "metadata": {},
   "outputs": [
    {
     "name": "stdout",
     "output_type": "stream",
     "text": [
      "218575 18024\n",
      "6831.0 564.0\n"
     ]
    }
   ],
   "source": [
    "print(train_tot, valid_tot)\n",
    "\n",
    "train_steps = np.ceil(train_tot/batch_size)\n",
    "valid_steps = np.ceil(valid_tot/batch_size)\n",
    "\n",
    "print (train_steps, valid_steps)"
   ]
  },
  {
   "cell_type": "code",
   "execution_count": 39,
   "metadata": {},
   "outputs": [
    {
     "ename": "AttributeError",
     "evalue": "'Functional' object has no attribute 'optimizier'",
     "output_type": "error",
     "traceback": [
      "\u001b[1;31m---------------------------------------------------------------------------\u001b[0m",
      "\u001b[1;31mAttributeError\u001b[0m                            Traceback (most recent call last)",
      "Cell \u001b[1;32mIn[39], line 5\u001b[0m\n\u001b[0;32m      2\u001b[0m \u001b[39mimport\u001b[39;00m \u001b[39mtensorflow\u001b[39;00m\n\u001b[0;32m      4\u001b[0m ft_resnet \u001b[39m=\u001b[39m tensorflow\u001b[39m.\u001b[39mkeras\u001b[39m.\u001b[39mmodels\u001b[39m.\u001b[39mload_model(\u001b[39m'\u001b[39m\u001b[39m..\u001b[39m\u001b[39m\\\\\u001b[39;00m\u001b[39mmodels\u001b[39m\u001b[39m\\\\\u001b[39;00m\u001b[39mbest_model_gan_over\u001b[39m\u001b[39m\\\\\u001b[39;00m\u001b[39m'\u001b[39m \u001b[39m+\u001b[39m \u001b[39m'\u001b[39m\u001b[39m{}\u001b[39;00m\u001b[39m_\u001b[39m\u001b[39m{}\u001b[39;00m\u001b[39m_\u001b[39m\u001b[39m{}\u001b[39;00m\u001b[39m_eps.h5\u001b[39m\u001b[39m'\u001b[39m\u001b[39m.\u001b[39mformat(version, arch_name, epochs))\n\u001b[1;32m----> 5\u001b[0m old_weights \u001b[39m=\u001b[39m ft_resnet\u001b[39m.\u001b[39;49moptimizier\u001b[39m.\u001b[39mget_weights()\n\u001b[0;32m      7\u001b[0m ft_resnet\u001b[39m.\u001b[39m_make_train_function()\n\u001b[0;32m      8\u001b[0m \u001b[39mwith\u001b[39;00m \u001b[39mopen\u001b[39m(\u001b[39m'\u001b[39m\u001b[39m..\u001b[39m\u001b[39m\\\\\u001b[39;00m\u001b[39mmodels\u001b[39m\u001b[39m\\\\\u001b[39;00m\u001b[39mbest_model_gan_over\u001b[39m\u001b[39m\\\\\u001b[39;00m\u001b[39m'\u001b[39m \u001b[39m+\u001b[39m \u001b[39m'\u001b[39m\u001b[39m{}\u001b[39;00m\u001b[39m_\u001b[39m\u001b[39m{}\u001b[39;00m\u001b[39m_\u001b[39m\u001b[39m{}\u001b[39;00m\u001b[39m_eps_optimizer.pkl\u001b[39m\u001b[39m'\u001b[39m\u001b[39m.\u001b[39mformat(version, arch_name, epochs), \u001b[39m'\u001b[39m\u001b[39mrb\u001b[39m\u001b[39m'\u001b[39m) \u001b[39mas\u001b[39;00m f:\n",
      "\u001b[1;31mAttributeError\u001b[0m: 'Functional' object has no attribute 'optimizier'"
     ]
    }
   ],
   "source": [
    "import pickle \n",
    "import tensorflow\n",
    "\n",
    "ft_resnet = tensorflow.keras.models.load_model('..\\\\models\\\\best_model_gan_over\\\\' + '{}_{}_{}_eps.h5'.format(version, arch_name, epochs))\n",
    "old_weights = ft_resnet.optimizier.get_weights()\n",
    "\n",
    "ft_resnet._make_train_function()\n",
    "with open('..\\\\models\\\\best_model_gan_over\\\\' + '{}_{}_{}_eps_optimizer.pkl'.format(version, arch_name, epochs), 'rb') as f:\n",
    "    weight_values = pickle.load(f)\n",
    "ft_resnet.optimizer.set_weights(weight_values)"
   ]
  },
  {
   "cell_type": "code",
   "execution_count": 38,
   "metadata": {},
   "outputs": [
    {
     "ename": "AttributeError",
     "evalue": "'Functional' object has no attribute 'load_model'",
     "output_type": "error",
     "traceback": [
      "\u001b[1;31m---------------------------------------------------------------------------\u001b[0m",
      "\u001b[1;31mAttributeError\u001b[0m                            Traceback (most recent call last)",
      "Cell \u001b[1;32mIn[38], line 3\u001b[0m\n\u001b[0;32m      1\u001b[0m \u001b[39mimport\u001b[39;00m \u001b[39mpickle\u001b[39;00m \n\u001b[1;32m----> 3\u001b[0m ft_resnet\u001b[39m.\u001b[39;49mload_model(\u001b[39m'\u001b[39m\u001b[39m..\u001b[39m\u001b[39m\\\\\u001b[39;00m\u001b[39mmodels\u001b[39m\u001b[39m\\\\\u001b[39;00m\u001b[39mbest_model_gan_over\u001b[39m\u001b[39m\\\\\u001b[39;00m\u001b[39m'\u001b[39m \u001b[39m+\u001b[39m \u001b[39m'\u001b[39m\u001b[39m{}\u001b[39;00m\u001b[39m_\u001b[39m\u001b[39m{}\u001b[39;00m\u001b[39m_\u001b[39m\u001b[39m{}\u001b[39;00m\u001b[39m_eps.h5\u001b[39m\u001b[39m'\u001b[39m\u001b[39m.\u001b[39mformat(version, arch_name, epochs))\n\u001b[0;32m      4\u001b[0m ft_resnet\u001b[39m.\u001b[39mmake_train_function()\n\u001b[0;32m      5\u001b[0m \u001b[39mwith\u001b[39;00m \u001b[39mopen\u001b[39m(\u001b[39m'\u001b[39m\u001b[39m..\u001b[39m\u001b[39m\\\\\u001b[39;00m\u001b[39mmodels\u001b[39m\u001b[39m\\\\\u001b[39;00m\u001b[39mbest_model_gan_over\u001b[39m\u001b[39m\\\\\u001b[39;00m\u001b[39m'\u001b[39m \u001b[39m+\u001b[39m \u001b[39m'\u001b[39m\u001b[39m{}\u001b[39;00m\u001b[39m_\u001b[39m\u001b[39m{}\u001b[39;00m\u001b[39m_\u001b[39m\u001b[39m{}\u001b[39;00m\u001b[39m_eps_optimizer.pkl\u001b[39m\u001b[39m'\u001b[39m\u001b[39m.\u001b[39mformat(version, arch_name, epochs), \u001b[39m'\u001b[39m\u001b[39mrb\u001b[39m\u001b[39m'\u001b[39m) \u001b[39mas\u001b[39;00m f:\n",
      "\u001b[1;31mAttributeError\u001b[0m: 'Functional' object has no attribute 'load_model'"
     ]
    }
   ],
   "source": [
    "import pickle \n",
    "\n",
    "ft_resnet.load_weights('..\\\\models\\\\best_model_gan_over\\\\' + '{}_{}_{}_eps.h5'.format(version, arch_name, epochs))\n",
    "ft_resnet.make_train_function()\n",
    "with open('..\\\\models\\\\best_model_gan_over\\\\' + '{}_{}_{}_eps_optimizer.pkl'.format(version, arch_name, epochs), 'rb') as f:\n",
    "    weight_values = pickle.load(f)\n",
    "ft_resnet.optimizer.set_weights(weight_values)\n",
    "\n",
    "#fit_generator\n"
   ]
  },
  {
   "cell_type": "code",
   "execution_count": null,
   "metadata": {},
   "outputs": [],
   "source": [
    "version = \"v2\"\n",
    "epochs = 30"
   ]
  },
  {
   "cell_type": "code",
   "execution_count": null,
   "metadata": {},
   "outputs": [],
   "source": [
    "history_dcnn = ft_resnet.fit(train_data, \n",
    "                             steps_per_epoch=train_steps,\n",
    "                             epochs=epochs,\n",
    "                             workers = 4,\n",
    "                             callbacks = [tb, model_chkp, lr_reducer, early_stopper],\n",
    "                             validation_data = validation_data, \n",
    "                             validation_steps = valid_steps)\n"
   ]
  },
  {
   "cell_type": "code",
   "execution_count": null,
   "metadata": {},
   "outputs": [],
   "source": [
    "arch_name = 'bs_{}'.format(batch_size)\n",
    "\n",
    "continue_model_path = '..\\\\models\\\\best_model_gan_over\\\\' + '{}_{}_{}_eps.h5'.format(version, arch_name, epochs)\n",
    "ft_resnet.save(continue_model_path)\n",
    "np.save(f'..\\\\models\\\\best_model_gan_over\\\\{version}_{arch_name}_{epochs}_eps.npy',\n",
    "        history_dcnn.history)"
   ]
  },
  {
   "cell_type": "code",
   "execution_count": null,
   "metadata": {},
   "outputs": [],
   "source": [
    "import pickle \n",
    "ft_resnet.save_weights('..\\\\models\\\\best_model_gan_over\\\\' + '{}_{}_{}_eps_wheights_only.h5'.format(version, arch_name, epochs))\n",
    "symbolic_weights = getattr(ft_resnet.optimizer, 'weights')\n",
    "weight_values = K.batch_get_value(symbolic_weights)\n",
    "with open('..\\\\models\\\\best_model_gan_over\\\\' + '{}_{}_{}_eps_optimizer.pkl'.format(version, arch_name, epochs), 'wb') as f:\n",
    "    pickle.dump(weight_values, f)"
   ]
  },
  {
   "attachments": {},
   "cell_type": "markdown",
   "metadata": {},
   "source": [
    "# Load Model"
   ]
  },
  {
   "cell_type": "code",
   "execution_count": 8,
   "metadata": {},
   "outputs": [],
   "source": [
    "#os.chdir('C:/Users/marco/Desktop/Local_Documents/models/NoBalance')"
   ]
  },
  {
   "cell_type": "code",
   "execution_count": 24,
   "metadata": {},
   "outputs": [],
   "source": [
    "# Load model\n",
    "net_dcnn = keras.models.load_model(\"..\\\\models\\\\best_model_no_balance_binary\\\\v1_bs_32_20_eps.h5\")"
   ]
  },
  {
   "cell_type": "code",
   "execution_count": 25,
   "metadata": {},
   "outputs": [
    {
     "data": {
      "text/plain": [
       "['loss', 'tp', 'fp', 'tn', 'fn', 'accuracy', 'precision', 'recall', 'auc']"
      ]
     },
     "execution_count": 25,
     "metadata": {},
     "output_type": "execute_result"
    }
   ],
   "source": [
    "net_dcnn.metrics_names"
   ]
  },
  {
   "cell_type": "code",
   "execution_count": 26,
   "metadata": {},
   "outputs": [],
   "source": [
    "# Load hystory and convert to dict\n",
    "history = np.load('..\\\\models\\\\best_model_no_balance_binary\\\\v1_bs_32_20_eps.npy', allow_pickle=True).item()"
   ]
  },
  {
   "attachments": {},
   "cell_type": "markdown",
   "metadata": {},
   "source": [
    "# Model Evaluation"
   ]
  },
  {
   "cell_type": "code",
   "execution_count": 27,
   "metadata": {},
   "outputs": [],
   "source": [
    "# Set visualization size for figures \n",
    "plt.rcParams['figure.figsize'] = [5,5] # width, height"
   ]
  },
  {
   "cell_type": "code",
   "execution_count": 28,
   "metadata": {},
   "outputs": [],
   "source": [
    "CATEGORIES = \"ad\", \"nor\""
   ]
  },
  {
   "cell_type": "code",
   "execution_count": 29,
   "metadata": {},
   "outputs": [
    {
     "data": {
      "text/plain": [
       "dict_keys(['loss', 'tp', 'fp', 'tn', 'fn', 'accuracy', 'precision', 'recall', 'auc', 'val_loss', 'val_tp', 'val_fp', 'val_tn', 'val_fn', 'val_accuracy', 'val_precision', 'val_recall', 'val_auc', 'lr'])"
      ]
     },
     "execution_count": 29,
     "metadata": {},
     "output_type": "execute_result"
    }
   ],
   "source": [
    "history.keys()"
   ]
  },
  {
   "cell_type": "code",
   "execution_count": null,
   "metadata": {},
   "outputs": [],
   "source": []
  },
  {
   "cell_type": "code",
   "execution_count": 30,
   "metadata": {},
   "outputs": [],
   "source": [
    "test_data = validation_data"
   ]
  },
  {
   "cell_type": "code",
   "execution_count": 31,
   "metadata": {},
   "outputs": [
    {
     "data": {
      "text/plain": [
       "[0.7352679371833801, 0.879936933517456]"
      ]
     },
     "execution_count": 31,
     "metadata": {},
     "output_type": "execute_result"
    }
   ],
   "source": [
    "history['accuracy'][:1+1]"
   ]
  },
  {
   "cell_type": "code",
   "execution_count": 32,
   "metadata": {},
   "outputs": [],
   "source": [
    "%matplotlib inline\n",
    "\n",
    "def print_graph(item, index, history):\n",
    "    plt.figure()\n",
    "    train_values = history[item][:index+5]\n",
    "    plt.plot(train_values)\n",
    "    test_values = history['val_' + item][:index+5]\n",
    "    plt.plot(test_values)\n",
    "    plt.legend(['training','validation'])\n",
    "    plt.title('Training and validation '+ item)\n",
    "    plt.xlabel('epoch')\n",
    "    plt.show()\n",
    "    plot = '{}.png'.format(item)\n",
    "    plt.savefig(plot)"
   ]
  },
  {
   "cell_type": "code",
   "execution_count": 33,
   "metadata": {},
   "outputs": [],
   "source": [
    "def test_set_results(pred_value, n=1):    \n",
    "    y_test = test_data.labels\n",
    "    X_test, _ = test_data.next()\n",
    "    \n",
    "    corr_pred = confusion_matrix(y_test, pred_value)\n",
    "    fig=plt.figure(figsize=(10, 8))\n",
    "    ax = plt.axes()\n",
    "    \n",
    "    sns.heatmap(corr_pred,annot=True, fmt=\"d\",cmap=\"Purples\", xticklabels=CATEGORIES, yticklabels=CATEGORIES)\n",
    "    ax.set_title('Confusione Matrix')\n",
    "    plt.show()\n",
    "    \n",
    "    n_correct = int(corr_pred[0][0] + corr_pred[1][1])\n",
    "    print('...'*15)\n",
    "\n",
    "    print('> Correct Predictions:', n_correct)\n",
    "    \n",
    "    n_wrongs = len(y_test) - n_correct\n",
    "    print('> Wrong Predictions:', n_wrongs)\n",
    "    print('...'*15)\n",
    "    \n",
    "    print(classification_report(test_data.labels, pred_value, target_names=CATEGORIES))"
   ]
  },
  {
   "cell_type": "code",
   "execution_count": 34,
   "metadata": {},
   "outputs": [],
   "source": [
    "def printResults(name, model):\n",
    "    predictions = model.predict(test_data, verbose=1)\n",
    "    preds = np.argmax(predictions, axis=1)\n",
    "    test_set_results(preds)"
   ]
  },
  {
   "cell_type": "code",
   "execution_count": 37,
   "metadata": {},
   "outputs": [],
   "source": [
    "def model_summary(model, history, name):\n",
    "    val_acc = history['val_accuracy'] #validation accuracy history\n",
    "    index= val_acc.index(max(val_acc))\n",
    "    print('Best Epochs:', index)\n",
    "\n",
    "\n",
    "    test_loss, _, _, _, _,test_accuracy, test_precision, test_recall, auc = model.evaluate(test_data, verbose=1)\n",
    "\n",
    "    train_accuracy = history['accuracy'][index]\n",
    "    train_loss = history['loss'][index]\n",
    "\n",
    "    print_graph('loss', index, history)\n",
    "    print_graph('accuracy', index, history)\n",
    "\n",
    "    print('---'*15) \n",
    "    print(name)\n",
    "    print('> Accuracy on train:',round(train_accuracy, 2), \n",
    "            '\\tLoss on train:', round(train_loss,2))\n",
    "    \n",
    "\n",
    "    print('> Accuracy on test:',round(test_accuracy, 2),\n",
    "            '\\tLoss on test:',round(test_loss,2))\n",
    "\n",
    "    print('---'*15)\n",
    "    print('> predicting test')\n",
    "    print('---'*15)\n",
    "\n",
    "    printResults(name, model)"
   ]
  },
  {
   "cell_type": "code",
   "execution_count": 38,
   "metadata": {},
   "outputs": [
    {
     "name": "stdout",
     "output_type": "stream",
     "text": [
      "Best Epochs: 10\n",
      "336/336 [==============================] - 9s 26ms/step - loss: 2.5113 - tp: 6935.0000 - fp: 3813.0000 - tn: 6935.0000 - fn: 3813.0000 - accuracy: 0.6452 - precision: 0.6452 - recall: 0.6452 - auc: 0.6840\n"
     ]
    },
    {
     "data": {
      "image/png": "[encoded data removed]",
      "text/plain": [
       "<Figure size 500x500 with 1 Axes>"
      ]
     },
     "metadata": {},
     "output_type": "display_data"
    },
    {
     "data": {
      "text/plain": [
       "<Figure size 500x500 with 0 Axes>"
      ]
     },
     "metadata": {},
     "output_type": "display_data"
    },
    {
     "data": {
      "image/png": "[encoded data removed]",
      "text/plain": [
       "<Figure size 500x500 with 1 Axes>"
      ]
     },
     "metadata": {},
     "output_type": "display_data"
    },
    {
     "name": "stdout",
     "output_type": "stream",
     "text": [
      "---------------------------------------------\n",
      "DCCN - Random Undersampling\n",
      "> Accuracy on train: 0.99 \tLoss on train: 0.02\n",
      "> Accuracy on test: 0.65 \tLoss on test: 2.51\n",
      "---------------------------------------------\n",
      "> predicting test\n",
      "---------------------------------------------\n",
      "336/336 [==============================] - 8s 24ms/step\n"
     ]
    },
    {
     "data": {
      "text/plain": [
       "<Figure size 500x500 with 0 Axes>"
      ]
     },
     "metadata": {},
     "output_type": "display_data"
    },
    {
     "data": {
      "image/png": "[encoded data removed]",
      "text/plain": [
       "<Figure size 1000x800 with 2 Axes>"
      ]
     },
     "metadata": {},
     "output_type": "display_data"
    },
    {
     "name": "stdout",
     "output_type": "stream",
     "text": [
      ".............................................\n",
      "> Correct Predictions: 5781\n",
      "> Wrong Predictions: 4967\n",
      ".............................................\n",
      "              precision    recall  f1-score   support\n",
      "\n",
      "          ad       0.38      0.39      0.39      4011\n",
      "         nor       0.63      0.63      0.63      6737\n",
      "\n",
      "    accuracy                           0.54     10748\n",
      "   macro avg       0.51      0.51      0.51     10748\n",
      "weighted avg       0.54      0.54      0.54     10748\n",
      "\n"
     ]
    }
   ],
   "source": [
    "model_summary(net_dcnn, history, 'DCCN - Random Undersampling')"
   ]
  }
 ],
 "metadata": {
  "kernelspec": {
   "display_name": "Python 3.8.16 ('tf')",
   "language": "python",
   "name": "python3"
  },
  "language_info": {
   "codemirror_mode": {
    "name": "ipython",
    "version": 3
   },
   "file_extension": ".py",
   "mimetype": "text/x-python",
   "name": "python",
   "nbconvert_exporter": "python",
   "pygments_lexer": "ipython3",
   "version": "3.8.16"
  },
  "orig_nbformat": 4,
  "vscode": {
   "interpreter": {
    "hash": "4a44bbf2a83640dfde2344ebe838e4635fa18e86f31ce321969bab99fe559bce"
   }
  }
 },
 "nbformat": 4,
 "nbformat_minor": 2
}
